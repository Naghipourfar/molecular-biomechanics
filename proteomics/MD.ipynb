{
 "cells": [
  {
   "cell_type": "markdown",
   "id": "0a9c357f-e3b9-46df-92cc-e6fdd0b6d4a6",
   "metadata": {},
   "source": [
    "# Molecular Dynamics\n",
    "### University of California, Berkeley - Spring 2022"
   ]
  },
  {
   "cell_type": "markdown",
   "id": "e0946b16-2cc3-4a95-802a-814a0d89ae9c",
   "metadata": {},
   "source": [
    "The goal of today’s lecture is to present Molecular Dynamics (MD) simulations of macromolecules and how to run them using Python programmming language. In this lecture, `openmm` package is used for molecular dynamics visualizations. \n",
    "\n",
    "The following concepts are covered in this notebooks:\n",
    "\n",
    "* __Newton's Laws of Motion__\n",
    "* __Simulation of dynamics of particles__\n",
    "* __Proteins and levels of their structure__\n",
    "* __Molecular Mechanics__\n",
    "* __MD simulations of proteins__"
   ]
  },
  {
   "cell_type": "code",
   "execution_count": 1,
   "id": "4576ebfa-8282-4bec-b010-fc0e68aa903d",
   "metadata": {},
   "outputs": [
    {
     "name": "stdout",
     "output_type": "stream",
     "text": [
      "Requirement already satisfied: numpy in /home/mohsen/miniconda3/envs/venv/lib/python3.7/site-packages (1.19.0)\n",
      "Collecting numpy\n",
      "  Using cached numpy-1.21.5-cp37-cp37m-manylinux_2_12_x86_64.manylinux2010_x86_64.whl (15.7 MB)\n",
      "Installing collected packages: numpy\n",
      "  Attempting uninstall: numpy\n",
      "    Found existing installation: numpy 1.19.0\n",
      "    Uninstalling numpy-1.19.0:\n",
      "      Successfully uninstalled numpy-1.19.0\n",
      "\u001b[31mERROR: pip's dependency resolver does not currently take into account all the packages that are installed. This behaviour is the source of the following dependency conflicts.\n",
      "tensorflow-cpu 2.5.0 requires numpy~=1.19.2, but you have numpy 1.21.5 which is incompatible.\n",
      "tensorflow-cpu 2.5.0 requires typing-extensions~=3.7.4, but you have typing-extensions 3.10.0.2 which is incompatible.\n",
      "scvi-tools 0.14.3 requires importlib-metadata<2.0,>=1.0; python_version < \"3.8\", but you have importlib-metadata 4.8.1 which is incompatible.\n",
      "numba 0.54.0 requires numpy<1.21,>=1.17, but you have numpy 1.21.5 which is incompatible.\u001b[0m\n",
      "Successfully installed numpy-1.21.5\n"
     ]
    }
   ],
   "source": [
    "!pip install MDAnalysis\n",
    "!pip install numpy==1.20.1"
   ]
  },
  {
   "cell_type": "code",
   "execution_count": 1,
   "id": "f23da57d-5e94-4220-9a6d-f76d89a604fd",
   "metadata": {},
   "outputs": [],
   "source": [
    "import os\n",
    "os.chdir('/home/mohsen/projects/molecular-biomechanics/proteomics/')\n",
    "from md1 import simulate_apple_fall, simulate_three_particles\n",
    "from IPython.display import Video"
   ]
  },
  {
   "cell_type": "markdown",
   "id": "38974c71-e6ab-4f95-8be1-1e931e9232ed",
   "metadata": {
    "tags": []
   },
   "source": [
    "## Newton's Laws of Motion"
   ]
  },
  {
   "cell_type": "markdown",
   "id": "26c00c46-6179-4e1d-a97d-a01cca77a79d",
   "metadata": {},
   "source": [
    "Newton's 2nd law connects the kinematics (movements) of a body with its mechanics (total force acting on it) and defines the dynamic evolution of its position: \n",
    "\n",
    "$$m\\frac{d^2r(t)}{dt^2} = F = - \\nabla{U(r)},$$\n",
    "\n",
    "where $m$ is the mass, $r$ is the position, $F$ is the force and $U(r)$ is the potential energy, which depends only on the position of the body. \n",
    "If one knows the forces acting upon the body, one can find the position of the body at any moment $r(t)$, i.e. predict its dynamics. This can be done by solving Newton's equation of motion. It is a second order ODE that can be solved analytically for a few simple cases: constant force, harmonic oscillator, periodic force, drag force, etc.\n",
    "However, a more general approach is to use computers in order to solve the ODE numerically."
   ]
  },
  {
   "cell_type": "markdown",
   "id": "671ab2e6-04fa-4df0-b187-5428d5b9f35e",
   "metadata": {},
   "source": [
    "---\n",
    "## Simulation of Dynamics of Particles"
   ]
  },
  {
   "cell_type": "markdown",
   "id": "432837ae-b45b-47e6-838b-4be10625cc77",
   "metadata": {},
   "source": [
    "There are [many methods](https://en.wikipedia.org/wiki/Numerical_methods_for_ordinary_differential_equations#Methods) for solving ODEs. The second order ODE is transformed to the system of two first order ODEs as follows:\n",
    "\n",
    "$$\\frac{dr(t)}{dt} = v(t)$$\n",
    "\n",
    "$$m\\frac{dv(t)}{dt} = F(t)$$\n",
    "\n",
    "We use a finite difference approximation that comes to a simple forward Euler Algorithm: \n",
    "\n",
    "$$ v_{n+1} = v_n + \\frac{F_n}{m} dt$$\n",
    "\n",
    "$$ r_{n+1} = r_n + v_{n+1} dt$$\n",
    "\n",
    "Here we discretize time t with time step $dt$, so $t_{n+1} = t_n + dt$, and $r_{n} = r(t_n)$, $v_{n} = v(t_n)$, where $n$ is the timestep number. Using this method, computing dynamics is straightforward."
   ]
  },
  {
   "cell_type": "markdown",
   "id": "9d254c3b-0dd4-4c22-8e33-d646bee0d6e5",
   "metadata": {},
   "source": [
    "---\n",
    "### Example 3.1. Simulation of a projectile on Earth."
   ]
  },
  {
   "cell_type": "markdown",
   "id": "c07d8ab1-d79b-40c5-be72-893044418368",
   "metadata": {},
   "source": [
    "We want to know the dynamics of a green apple ($m = 0.3$ kg) tossed horizontally at 10 cm/s speed from the top of the Toronto CN Tower (553 m) for the first 10 seconds."
   ]
  },
  {
   "cell_type": "markdown",
   "id": "745740a0-c41a-4902-8352-30a9a1e4a12c",
   "metadata": {},
   "source": [
    "![](./media/apple_fall.jpeg)"
   ]
  },
  {
   "cell_type": "code",
   "execution_count": 2,
   "id": "54d6db48-ac1b-4469-8239-f556b946727b",
   "metadata": {},
   "outputs": [],
   "source": [
    "simulate_apple_fall(\n",
    "    total_time=10, \n",
    "    mass=0.3, \n",
    "    initial_velocity=-0.1, \n",
    "    height=553, \n",
    "    timestep=0.05,\n",
    ")"
   ]
  },
  {
   "cell_type": "code",
   "execution_count": 3,
   "id": "f00c7bb2-ff7f-4f05-92e6-7e1d61c5616e",
   "metadata": {},
   "outputs": [
    {
     "data": {
      "text/html": [
       "<video src=\"./media/apple_fall.mp4\" controls  >\n",
       "      Your browser does not support the <code>video</code> element.\n",
       "    </video>"
      ],
      "text/plain": [
       "<IPython.core.display.Video object>"
      ]
     },
     "execution_count": 3,
     "metadata": {},
     "output_type": "execute_result"
    }
   ],
   "source": [
    "Video('./media/apple_fall.mp4')"
   ]
  },
  {
   "cell_type": "markdown",
   "id": "65e280d0-4871-4dbd-8bd0-007ec439e1f9",
   "metadata": {},
   "source": [
    "When a closed system of particles are interacting through pairwise potentials, the force on each particle $i$ depends on its position with respect to every other particle $j$:\n",
    "\n",
    "$$m_i\\frac{d^2r_i(t)}{dt^2} = \\sum_jF_{ij}(t) = -\\sum_j\\nabla_i{U(|r_{ij}(t)|)}$$\n",
    "\n",
    "where $r_{ij} = \\sqrt{(x_i - x_j)^2 + (y_i - y_j)^2 + (z_i - z_j)^2}$ is the distance between particle $i$ and $j$, and $i,j \\in (1,N)$."
   ]
  },
  {
   "cell_type": "markdown",
   "id": "a92a30ab-4f29-432c-a867-8f43cd05f34b",
   "metadata": {},
   "source": [
    "---\n",
    "### Example 3.2. Simulation of 3-body problem with Hooke's law:\n",
    "\n",
    "We want to know the dynamics of 3 particles $m = 1$ kg connected to each other with invisible springs with $K_s = 5$ N/m, and $r_0 = 1$ m initially located at (0, 2), (2, 0) and (-1, 0) on the 2D plane for the first 10 seconds of their motion.\n",
    "\n",
    "**Hint:**\n",
    "The pairwise potential is (Hooke's Law): $$U(r_{ij}) = \\frac{K_s}{2}(r_{ij} - r_0)^2$$\n",
    "\n",
    "The negative gradient of the potential is a force from $j$-th upon $i$-th: \n",
    "\n",
    "$$\\mathbf{F_{ij}} = - \\nabla_i{U(r_{ij})} = - K_s (r_{ij} - r_0) \\nabla_i r_{ij} = - K_s (r_{ij} - r_0) \\frac{\\mathbf{r_{ij}}}{|r_{ij}|}$$\n"
   ]
  },
  {
   "cell_type": "code",
   "execution_count": 4,
   "id": "fc42900a-47f1-4c12-9d2d-26d5e9c66be5",
   "metadata": {},
   "outputs": [],
   "source": [
    "simulate_three_particles(\n",
    "    total_time=26, mass=1.0, ks=5, r0=1.0, timestep=0.05\n",
    ")"
   ]
  },
  {
   "cell_type": "code",
   "execution_count": 5,
   "id": "25128f64-f2da-4c86-9007-c84d897e34a8",
   "metadata": {},
   "outputs": [
    {
     "data": {
      "text/html": [
       "<video src=\"./media/3particles.mp4\" controls  >\n",
       "      Your browser does not support the <code>video</code> element.\n",
       "    </video>"
      ],
      "text/plain": [
       "<IPython.core.display.Video object>"
      ]
     },
     "execution_count": 5,
     "metadata": {},
     "output_type": "execute_result"
    }
   ],
   "source": [
    "Video('./media/3particles.mp4')"
   ]
  },
  {
   "cell_type": "markdown",
   "id": "59e9d8dd-7fd8-4e67-b426-3e66119188dc",
   "metadata": {},
   "source": [
    "---\n",
    "## Proteins, structure and functions "
   ]
  },
  {
   "cell_type": "markdown",
   "id": "79a02f58-9c68-47d5-9641-b99a58aaf87e",
   "metadata": {},
   "source": [
    "<img src=\"./media/protein_structure.png\" width=\"400\" align=\"right\">\n",
    "\n",
    "While we now have a basic knowledge of the purpose and methodology of simulations, we still need to understand what proteins are and why they are important.\n",
    "\n",
    "[Protein structure](https://en.wikipedia.org/wiki/Protein_structure) is the three-dimensional arrangement of atoms in a protein, which is a chain of amino acids. Proteins are polymers – specifically polypeptides – formed from sequences of 20 types of amino acids, the monomers of the polymer. A single amino acid monomer may also be called a residue, indicating a repeating unit of a polymer. To be able to perform their biological function, proteins fold into one or more specific spatial conformations driven by a number of non-covalent interactions such as:\n",
    "\n",
    "- hydrogen bonding \n",
    "- ionic interactions \n",
    "- Van der Waals forces\n",
    "- hydrophobic packing \n",
    "\n",
    "To understand the functions of proteins at a molecular level, it is often necessary to determine their three-dimensional structure using techniques such as X-ray crystallography, NMR spectroscopy, and others.\n",
    "\n",
    "### 4.1 Levels of structure:\n",
    "\n",
    "**Primary structure** of a protein refers to the sequence of amino acids in the polypeptide chain.\n",
    "\n",
    "**Secondary structure** refers to highly regular local sub-structures of the actual polypeptide backbone chain. There are two main types of secondary structure: the α-helix and the β-strand or β-sheets.\n",
    "\n",
    "**Tertiary structure** refers to the three-dimensional structure of monomeric and multimeric protein molecules. The α-helixes and β-sheets are folded into a compact globular structure. \n",
    "\n",
    "**Quaternary structure** is the three-dimensional structure consisting of two or more individual polypeptide chains (subunits) that operate as a single functional unit (multimer).\n",
    "\n",
    "\n",
    "### 4.2 Functions:\n",
    "\n",
    "- *Antibodies* - bind to specific foreign particles, ex: IgG \n",
    "- *Enzymes* - speed up chemical reactions, ex: Lysozyme\n",
    "- *Messengers* - transmit signals, ex: Growth hormone \n",
    "- *Structural components* - support for cells, ex: Tubulin\n",
    "- *Transport/storage* - bind and carry small molecules, ex: Hemoglobin\n",
    "\n",
    "\n",
    "**Lysozyme** is a protein-enzyme (found in tears, saliva, mucus and egg white) that is a part of the innate immune system with antimicrobial activity characterized by the ability to damage the cell wall of bacteria. Bacteria have polysaccharides (sugars) in their cell wall, that bind to the groove, and lysozyme cuts the bond and destroys bacteria.  \n",
    "\n",
    "<!-- |  ![](pics/LysozymeSequence.png) | ![Protein Structure](pics/LysozymeStructure.gif) | ![Protein Strucure with Sugar](pics/LysozymeRock.gif) |\n",
    "|:-:|:-:|:-:|\n",
    "|  Sequence | Structure | Function  |\n",
    "\n",
    "Figure credit: [C.Ing](https://github.com/cing/HackingStructBiolTalk) and [wikipedia](https://en.wikipedia.org/wiki/Protein_structure) -->"
   ]
  },
  {
   "cell_type": "markdown",
   "id": "4781846c-0880-403c-a904-3ba92813c883",
   "metadata": {},
   "source": [
    "---\n",
    "## Molecular Mechanics"
   ]
  },
  {
   "cell_type": "markdown",
   "id": "86a1a433-a5e6-4707-927d-67606bc2a717",
   "metadata": {},
   "source": [
    "Since we now know what proteins are and why these molecular machines are important, we consider the method to model them. The basic idea is to create the same kind of approach as we used in the 3-body simulation. Now, our system consists of thousands particles (atoms of the protein plus atoms of surrounding water) and they all are connected via a complex potential energy function.\n",
    "\n",
    "An all-atom potential energy function $V$ is usually given by the sum of the bonded terms ($V_b$) and non-bonded terms ($V_{nb}$), i.e.\n",
    "\n",
    "$$V = V_{b} + V_{nb},$$\n",
    "\n",
    "where the bonded potential includes the harmonic (covalent) bond part, the harmonic angle and\n",
    "the two types of torsion (dihedral) angles: proper and improper. As it can be seen, these functions are mostly harmonic potentials \n",
    "\n",
    "$$V_{b} = \\sum_{bonds}\\frac{1}{2}K_b(b-b_0)^2 + \\sum_{angles}K_{\\theta}(\\theta-\\theta_0)^2 + \\sum_{dihedrals}K_{\\phi}(1-cos(n\\phi - \\phi_0)) + \\sum_{impropers}K_{\\psi}(\\psi-\\psi_0)^2$$\n",
    "\n",
    "For example, $b$ and $\\theta$ represent the distance between two atoms and the angle between two\n",
    "adjacent bonds; $\\phi$ and $\\psi$ are dihedral (torsion) angles. These can be evaluated for all the\n",
    "atoms from their current positions. Also, $K_b$, $K_\\theta$, $K_\\phi$, and $K_\\psi$ are the spring constants, associated\n",
    "with bond vibrations, bending of bond angles, and conformational fluctuations in dihedral and\n",
    "improper angles around some equilibrium values $b_0$, $\\theta_0$, $\\phi_0$, and $\\psi_0$, respectively. \n",
    "\n",
    "The non-bonded part of the potential energy function is represented by the electrostatic and van der Waals potentials, i.e.\n",
    "\n",
    "$$V_{nb} = \\sum_{i,j}\\left(\\frac{q_{i}q_{j}}{4\\pi\\varepsilon_{0}\\varepsilon r_{ij}} + \\varepsilon_{ij}\\left[\\left(\\frac{\\sigma^{min}_{ij}}{r_{ij}}\\right)^{12}-2\\left(\\frac{\\sigma^{min}_{ij}}{r_{ij}}\\right)^{6}\\right]\\right)$$\n",
    "\n",
    "where $r_{ij}$ is the distance between two interacting atoms, $q_i$ and $q_j$ are their electric charges; $\\varepsilon$ and\n",
    "$\\varepsilon_0$ are electric and dielectric constant; $\\varepsilon_{ij} = \\sqrt{\\varepsilon_i\\varepsilon_j}$ and\n",
    "$\\sigma_{ij} = \\frac{\\sigma_i + \\sigma_j}{2}$ are van der Waals parameters for atoms $i$ and $j$.\n",
    "\n",
    "**Importantly, each force field has its own set of parameters, which are different for different types of atoms.**\n",
    "\n",
    "![](media/ff.png)\n"
   ]
  },
  {
   "cell_type": "markdown",
   "id": "fe26ca3e-91ec-4720-bbad-82bb8847b9b2",
   "metadata": {},
   "source": [
    "---\n",
    "## Molecular dynamics of proteins <a id='l_md'></a>"
   ]
  },
  {
   "cell_type": "markdown",
   "id": "0deda886-2eb2-46e2-8818-82d565b6b9c2",
   "metadata": {},
   "source": [
    "[**Molecular dynamics (MD)**](https://en.wikipedia.org/wiki/Molecular_dynamics) is a computer simulation method for studying the physical movements of atoms and molecules, i.e. their dynamical evolution. \n",
    "\n",
    "In the most common version, the trajectories of atoms and molecules are determined by numerically solving Newton's equations of motion for a system of interacting particles, where forces between the particles and their potential energies are often calculated using  molecular mechanics force fields. \n",
    "\n",
    "\n",
    "\n",
    "Now with all that intellectual equipment, we can start running legit Molecular Dynamics simulations. All we need is an initial structure of the protein and software that computes its dynamics efficiently."
   ]
  },
  {
   "cell_type": "markdown",
   "id": "60acfed2-c55c-47bf-9ddf-8a10202ab16f",
   "metadata": {},
   "source": [
    "### Procedure\n",
    "\n",
    "1. Load initial coordinates of protein atoms (from *.pdb file)\n",
    "2. Choose force field parameters (in potential function V from section 5).\n",
    "3. Choose parameters of the experiment: temperature, pressure, box size, solvation, boundary conditions\n",
    "4. Choose integrator, i.e. algorithm for solving equation of motion\n",
    "5. Run simulation, save coordinates time to time (to *.dcd file).\n",
    "6. Visualize the trajectory\n",
    "7. Perform the analysis"
   ]
  },
  {
   "cell_type": "markdown",
   "id": "534ef0ae-9d2e-4875-9fba-36e0edb61571",
   "metadata": {},
   "source": [
    "__NOTE__: It is better for students to gain a little understanding of how the following packages are working under the hood before continuing the notebook.\n",
    "\n",
    "* __NGLViewer__: NGL Viewer is a collection of tools for web-based molecular graphics. WebGL is employed to display molecules like proteins and DNA/RNA with a variety of representations.\n",
    "\n",
    "* __MDAnalysis__: MDAnalysis is an object-oriented Python library to analyze trajectories from molecular dynamics (MD) simulations in many popular formats. It can write most of these formats, too, together with atom selections suitable for visualization or native analysis tools.\n",
    "\n",
    "* __Openmm__: Openmm consists of two parts: One is a set of libraries that lets programmers easily add molecular simulation features to their programs and the other parts is an “application layer” that exposes those features to end users who just want to run simulations"
   ]
  },
  {
   "cell_type": "code",
   "execution_count": 1,
   "id": "eff1778a-6fe7-4775-a055-74f209cb1dc0",
   "metadata": {},
   "outputs": [],
   "source": [
    "pdb_file = 'data/villin_water.pdb'\n",
    "# pdb_file = 'data/polyALA.pdb'\n",
    "# pdb_file = 'data/polyGLY.pdb'\n",
    "# pdb_file = 'data/polyGV.pdb'"
   ]
  },
  {
   "cell_type": "code",
   "execution_count": 2,
   "id": "1accded8-1c2c-4b81-b2da-b391de980c49",
   "metadata": {},
   "outputs": [
    {
     "name": "stdout",
     "output_type": "stream",
     "text": [
      "REMARK    GENERATED BY TRJCONV\n",
      "\n",
      "HEADER    Villin N68H in explicit water\n",
      "\n",
      "REMARK    THIS IS A SIMULATION BOX\n",
      "\n",
      "CRYST1   49.163   45.981   38.869  90.00  90.00  90.00 P 1           1\n",
      "\n",
      "MODEL        0\n",
      "\n",
      "ATOM      1  N   LEU     1      25.160  14.160  19.440  1.00  0.00\n",
      "\n",
      "ATOM      2  H1  LEU     1      24.350  13.730  19.870  1.00  0.00\n",
      "\n",
      "ATOM      3  H2  LEU     1      25.980  13.680  19.760  1.00  0.00\n",
      "\n",
      "ATOM      4  H3  LEU     1      25.180  15.100  19.810  1.00  0.00\n",
      "\n",
      "ATOM      5  CA  LEU     1      25.090  13.920  17.980  1.00  0.00\n",
      "\n"
     ]
    }
   ],
   "source": [
    "file0 = open(pdb_file, 'r')\n",
    "counter = 0\n",
    "for line in file0:\n",
    "    if counter < 10:\n",
    "        print(line)\n",
    "    counter += 1"
   ]
  },
  {
   "cell_type": "code",
   "execution_count": 3,
   "id": "1bacaddb-8fde-4b39-aa71-b640cb8faed7",
   "metadata": {},
   "outputs": [
    {
     "data": {
      "application/vnd.jupyter.widget-view+json": {
       "model_id": "5f40e1e7d412461d9db8002af0baacee",
       "version_major": 2,
       "version_minor": 0
      },
      "text/plain": []
     },
     "metadata": {},
     "output_type": "display_data"
    },
    {
     "data": {
      "application/vnd.jupyter.widget-view+json": {
       "model_id": "4fe6e2fd2f6f4e0f80e6635c7944c134",
       "version_major": 2,
       "version_minor": 0
      },
      "text/plain": [
       "NGLWidget(max_frame=97)"
      ]
     },
     "metadata": {},
     "output_type": "display_data"
    },
    {
     "data": {
      "application/vnd.jupyter.widget-view+json": {
       "model_id": "0b59a3863cd04e69ae1d0c679e4aee70",
       "version_major": 2,
       "version_minor": 0
      },
      "text/plain": [
       "Tab(children=(Box(children=(Box(children=(Box(children=(Label(value='step'), IntSlider(value=1, min=-100)), la…"
      ]
     },
     "metadata": {},
     "output_type": "display_data"
    }
   ],
   "source": [
    "from simtk.openmm.app import *\n",
    "from simtk.openmm import *\n",
    "from simtk.unit import *\n",
    "import MDAnalysis as md\n",
    "from MDAnalysis.tests import datafiles\n",
    "import nglview as ng\n",
    "from sys import stdout\n",
    "\n",
    "u = md.Universe(datafiles.PSF, datafiles.DCD)\n",
    "view = ng.show_mdanalysis(u, gui=True)\n",
    "view"
   ]
  },
  {
   "cell_type": "markdown",
   "id": "a247b003-b13c-4851-a048-9986efc46aef",
   "metadata": {},
   "source": [
    "---\n",
    "### Example: MD simulation of protein folding into alpha-helix "
   ]
  },
  {
   "cell_type": "markdown",
   "id": "3b2c594d-2658-474c-b971-01860944c403",
   "metadata": {},
   "source": [
    "Run a simulation of fully extended polyalanine __polyALA.pdb__ for 400 picoseconds in a vacuo environment with T=300 K and see if it can fold to any secondary structure:"
   ]
  },
  {
   "cell_type": "code",
   "execution_count": 4,
   "id": "50568979-2b15-43f8-8766-67205fc88f32",
   "metadata": {},
   "outputs": [
    {
     "name": "stdout",
     "output_type": "stream",
     "text": [
      "#\"Progress (%)\",\"Step\",\"Potential Energy (kJ/mole)\",\"Temperature (K)\"\n",
      "2.5%,5000,3847.12109375,315.1517511165649\n",
      "5.0%,10000,3740.6162109375,300.58879436313765\n",
      "7.5%,15000,3794.0537109375,311.5277662342746\n",
      "10.0%,20000,3729.672607421875,292.88731978880094\n",
      "12.5%,25000,3612.86865234375,281.3961589261558\n",
      "15.0%,30000,3486.34619140625,298.47856564514217\n",
      "17.5%,35000,3688.20654296875,309.6782234944197\n",
      "20.0%,40000,3528.6259765625,308.61472175192654\n",
      "22.5%,45000,3574.208984375,296.8010564401425\n",
      "25.0%,50000,3481.7001953125,306.66133380254354\n",
      "27.5%,55000,3398.141845703125,323.8089034907175\n",
      "30.0%,60000,3265.810302734375,333.19311578318934\n",
      "32.5%,65000,3273.83349609375,301.3764156249995\n",
      "35.0%,70000,3364.294921875,279.71210329474013\n",
      "37.5%,75000,3190.5625,311.1142990392236\n",
      "40.0%,80000,3144.5390625,314.06608860163533\n",
      "42.5%,85000,3105.8115234375,281.58918281867346\n",
      "45.0%,90000,3076.249755859375,278.50276564487075\n",
      "47.5%,95000,3036.387939453125,284.38257619463764\n",
      "50.0%,100000,3091.335693359375,287.25985960707766\n",
      "52.5%,105000,3177.9912109375,289.90337577216434\n",
      "55.0%,110000,3110.504638671875,320.21823268769174\n",
      "57.5%,115000,3041.32177734375,314.1577939707649\n",
      "60.0%,120000,3041.70556640625,306.61338560564985\n",
      "62.5%,125000,3041.50927734375,316.07645996126104\n",
      "65.0%,130000,3054.387939453125,301.5422302156152\n",
      "67.5%,135000,3003.59375,307.88692636113257\n",
      "70.0%,140000,3012.28466796875,296.1431033728624\n",
      "72.5%,145000,3085.417724609375,316.45303542981344\n",
      "75.0%,150000,2987.1494140625,285.63660951381854\n",
      "77.5%,155000,3188.008544921875,299.0379300531857\n",
      "80.0%,160000,3000.144287109375,321.130051337776\n",
      "82.5%,165000,3016.5625,310.1129647932772\n",
      "85.0%,170000,2916.630859375,310.8875746647335\n",
      "87.5%,175000,3184.779052734375,273.28334334672167\n",
      "90.0%,180000,3044.9697265625,308.6247004373695\n",
      "92.5%,185000,3087.069091796875,314.4174356435789\n",
      "95.0%,190000,2978.5302734375,315.87533807058844\n",
      "97.5%,195000,3073.93701171875,303.4537070132966\n",
      "100.0%,200000,3085.861572265625,292.33700696663607\n"
     ]
    }
   ],
   "source": [
    "### 1.loading initial coordinates\n",
    "pdb_file = \"data/polyGV.pdb\"\n",
    "pdb = PDBFile(pdb_file) \n",
    "\n",
    "### 2.choosing a forcefield parameters\n",
    "ff = ForceField('amber10.xml')  \n",
    "system = ff.createSystem(pdb.topology, nonbondedMethod=CutoffNonPeriodic)\n",
    "\n",
    "### 3. Choose parameters of the experiment: temperature, pressure, box size, solvation, boundary conditions, etc\n",
    "temperature = 300*kelvin\n",
    "frictionCoeff = 1/picosecond\n",
    "time_step = 0.002*picoseconds\n",
    "total_steps = 400*picoseconds / time_step\n",
    "\n",
    "### 4. Choose an algorithm (integrator)\n",
    "integrator = LangevinIntegrator(temperature, frictionCoeff, time_step)\n",
    "\n",
    "### 5. Run simulation, saving coordinates time to time:\n",
    "\n",
    "### 5a. Create a simulation object\n",
    "simulation = Simulation(pdb.topology, system, integrator)\n",
    "simulation.context.setPositions(pdb.positions)\n",
    "\n",
    "### 5b. Minimize energy\n",
    "simulation.minimizeEnergy()\n",
    "\n",
    "### 5c. Save coordinates to dcd file and energies to a standard output console:\n",
    "simulation.reporters.append(DCDReporter('data/polyALA_traj.dcd', 1000))\n",
    "simulation.reporters.append(StateDataReporter(stdout, 5000, step=True, potentialEnergy=True,\\\n",
    "                                              temperature=True, progress=True, totalSteps = total_steps))\n",
    "\n",
    "### 5d. Run!\n",
    "simulation.step(total_steps)"
   ]
  },
  {
   "cell_type": "code",
   "execution_count": 6,
   "id": "94ed0df2-48a8-40bb-80db-e7c8cf5d4f8f",
   "metadata": {},
   "outputs": [
    {
     "data": {
      "application/vnd.jupyter.widget-view+json": {
       "model_id": "19096d22a36748f784980941fe5ac3b9",
       "version_major": 2,
       "version_minor": 0
      },
      "text/plain": [
       "NGLWidget(max_frame=199)"
      ]
     },
     "metadata": {},
     "output_type": "display_data"
    },
    {
     "data": {
      "application/vnd.jupyter.widget-view+json": {
       "model_id": "4ffb17a8a33a4857b7bd6148154a6f19",
       "version_major": 2,
       "version_minor": 0
      },
      "text/plain": [
       "Tab(children=(Box(children=(Box(children=(Box(children=(Label(value='step'), IntSlider(value=1, min=-100)), la…"
      ]
     },
     "metadata": {},
     "output_type": "display_data"
    }
   ],
   "source": [
    "### 6. Visualization\n",
    "sys = md.Universe(pdb_file, 'data/polyALA_traj.dcd')\n",
    "ng.show_mdanalysis(sys, gui=True)"
   ]
  },
  {
   "cell_type": "markdown",
   "id": "1663f7b4-fcf2-41db-982e-b9f0461cc42d",
   "metadata": {},
   "source": [
    "## Congrats!\n",
    "\n",
    "The notebook is available at https://github.com/Naghipourfar/molecular-biomechanics/"
   ]
  }
 ],
 "metadata": {
  "kernelspec": {
   "display_name": "Python 3 (ipykernel)",
   "language": "python",
   "name": "python3"
  },
  "language_info": {
   "codemirror_mode": {
    "name": "ipython",
    "version": 3
   },
   "file_extension": ".py",
   "mimetype": "text/x-python",
   "name": "python",
   "nbconvert_exporter": "python",
   "pygments_lexer": "ipython3",
   "version": "3.7.11"
  }
 },
 "nbformat": 4,
 "nbformat_minor": 5
}
