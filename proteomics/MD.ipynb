{
 "cells": [
  {
   "cell_type": "markdown",
   "id": "0a9c357f-e3b9-46df-92cc-e6fdd0b6d4a6",
   "metadata": {},
   "source": [
    "# Molecular Dynamics\n",
    "### University of California, Berkeley - Spring 2022"
   ]
  },
  {
   "cell_type": "markdown",
   "id": "e0946b16-2cc3-4a95-802a-814a0d89ae9c",
   "metadata": {},
   "source": [
    "The goal of today’s lecture is to present Molecular Dynamics (MD) simulations of macromolecules and how to run them using Python programmming language. In this lecture, `openmm` package is used for molecular dynamics visualizations. \n",
    "\n",
    "The following concepts are covered in this notebooks:\n",
    "\n",
    "* __Newton's Laws of Motion__\n",
    "* __Simulation of dynamics of particles__\n",
    "* __Proteins and levels of their structure__\n",
    "* __Molecular Mechanics__\n",
    "* __MD simulations of proteins__\n",
    "* __Normal Mode Analysis with ProDy__\n"
   ]
  },
  {
   "cell_type": "code",
   "execution_count": 1,
   "id": "4576ebfa-8282-4bec-b010-fc0e68aa903d",
   "metadata": {},
   "outputs": [
    {
     "name": "stdout",
     "output_type": "stream",
     "text": [
      "Requirement already satisfied: numpy in /home/mohsen/miniconda3/envs/venv/lib/python3.7/site-packages (1.19.0)\n",
      "Collecting numpy\n",
      "  Using cached numpy-1.21.5-cp37-cp37m-manylinux_2_12_x86_64.manylinux2010_x86_64.whl (15.7 MB)\n",
      "Installing collected packages: numpy\n",
      "  Attempting uninstall: numpy\n",
      "    Found existing installation: numpy 1.19.0\n",
      "    Uninstalling numpy-1.19.0:\n",
      "      Successfully uninstalled numpy-1.19.0\n",
      "\u001b[31mERROR: pip's dependency resolver does not currently take into account all the packages that are installed. This behaviour is the source of the following dependency conflicts.\n",
      "tensorflow-cpu 2.5.0 requires numpy~=1.19.2, but you have numpy 1.21.5 which is incompatible.\n",
      "tensorflow-cpu 2.5.0 requires typing-extensions~=3.7.4, but you have typing-extensions 3.10.0.2 which is incompatible.\n",
      "scvi-tools 0.14.3 requires importlib-metadata<2.0,>=1.0; python_version < \"3.8\", but you have importlib-metadata 4.8.1 which is incompatible.\n",
      "numba 0.54.0 requires numpy<1.21,>=1.17, but you have numpy 1.21.5 which is incompatible.\u001b[0m\n",
      "Successfully installed numpy-1.21.5\n"
     ]
    }
   ],
   "source": [
    "!pip install numpy --upgrade"
   ]
  },
  {
   "cell_type": "code",
   "execution_count": 2,
   "id": "f23da57d-5e94-4220-9a6d-f76d89a604fd",
   "metadata": {},
   "outputs": [],
   "source": [
    "import os\n",
    "os.chdir('/home/mohsen/projects/molecular-biomechanics/proteomics/')\n",
    "from md1 import simulate_apple_fall, simulate_three_particles\n",
    "from IPython.display import Video"
   ]
  },
  {
   "cell_type": "markdown",
   "id": "38974c71-e6ab-4f95-8be1-1e931e9232ed",
   "metadata": {
    "tags": []
   },
   "source": [
    "## Newton's Laws of Motion"
   ]
  },
  {
   "cell_type": "markdown",
   "id": "26c00c46-6179-4e1d-a97d-a01cca77a79d",
   "metadata": {},
   "source": [
    "Newton's 2nd law connects the kinematics (movements) of a body with its mechanics (total force acting on it) and defines the dynamic evolution of its position: \n",
    "\n",
    "$$m\\frac{d^2r(t)}{dt^2} = F = - \\nabla{U(r)},$$\n",
    "\n",
    "where $m$ is the mass, $r$ is the position, $F$ is the force and $U(r)$ is the potential energy, which depends only on the position of the body. \n",
    "If one knows the forces acting upon the body, one can find the position of the body at any moment $r(t)$, i.e. predict its dynamics. This can be done by solving Newton's equation of motion. It is a second order ODE that can be solved analytically for a few simple cases: constant force, harmonic oscillator, periodic force, drag force, etc.\n",
    "However, a more general approach is to use computers in order to solve the ODE numerically."
   ]
  },
  {
   "cell_type": "markdown",
   "id": "671ab2e6-04fa-4df0-b187-5428d5b9f35e",
   "metadata": {},
   "source": [
    "---\n",
    "## Simulation of Dynamics of Particles"
   ]
  },
  {
   "cell_type": "markdown",
   "id": "432837ae-b45b-47e6-838b-4be10625cc77",
   "metadata": {},
   "source": [
    "There are [many methods](https://en.wikipedia.org/wiki/Numerical_methods_for_ordinary_differential_equations#Methods) for solving ODEs. The second order ODE is transformed to the system of two first order ODEs as follows:\n",
    "\n",
    "$$\\frac{dr(t)}{dt} = v(t)$$\n",
    "\n",
    "$$m\\frac{dv(t)}{dt} = F(t)$$\n",
    "\n",
    "We use a finite difference approximation that comes to a simple forward Euler Algorithm: \n",
    "\n",
    "$$ v_{n+1} = v_n + \\frac{F_n}{m} dt$$\n",
    "\n",
    "$$ r_{n+1} = r_n + v_{n+1} dt$$\n",
    "\n",
    "Here we discretize time t with time step $dt$, so $t_{n+1} = t_n + dt$, and $r_{n} = r(t_n)$, $v_{n} = v(t_n)$, where $n$ is the timestep number. Using this method, computing dynamics is straightforward."
   ]
  },
  {
   "cell_type": "markdown",
   "id": "9d254c3b-0dd4-4c22-8e33-d646bee0d6e5",
   "metadata": {},
   "source": [
    "---\n",
    "### Example 3.1. Simulation of a projectile on Earth."
   ]
  },
  {
   "cell_type": "markdown",
   "id": "c07d8ab1-d79b-40c5-be72-893044418368",
   "metadata": {},
   "source": [
    "We want to know the dynamics of a green apple ($m = 0.3$ kg) tossed horizontally at 10 cm/s speed from the top of the Toronto CN Tower (553 m) for the first 10 seconds."
   ]
  },
  {
   "cell_type": "markdown",
   "id": "745740a0-c41a-4902-8352-30a9a1e4a12c",
   "metadata": {},
   "source": [
    "![](./media/apple_fall.jpeg)"
   ]
  },
  {
   "cell_type": "code",
   "execution_count": 2,
   "id": "54d6db48-ac1b-4469-8239-f556b946727b",
   "metadata": {},
   "outputs": [],
   "source": [
    "simulate_apple_fall(\n",
    "    total_time=10, \n",
    "    mass=0.3, \n",
    "    initial_velocity=-0.1, \n",
    "    height=553, \n",
    "    timestep=0.05,\n",
    ")"
   ]
  },
  {
   "cell_type": "code",
   "execution_count": 3,
   "id": "f00c7bb2-ff7f-4f05-92e6-7e1d61c5616e",
   "metadata": {},
   "outputs": [
    {
     "data": {
      "text/html": [
       "<video src=\"apple_fall.mp4\" controls  >\n",
       "      Your browser does not support the <code>video</code> element.\n",
       "    </video>"
      ],
      "text/plain": [
       "<IPython.core.display.Video object>"
      ]
     },
     "execution_count": 3,
     "metadata": {},
     "output_type": "execute_result"
    }
   ],
   "source": [
    "Video('./media/apple_fall.mp4')"
   ]
  },
  {
   "cell_type": "markdown",
   "id": "65e280d0-4871-4dbd-8bd0-007ec439e1f9",
   "metadata": {},
   "source": [
    "When a closed system of particles are interacting through pairwise potentials, the force on each particle $i$ depends on its position with respect to every other particle $j$:\n",
    "\n",
    "$$m_i\\frac{d^2r_i(t)}{dt^2} = \\sum_jF_{ij}(t) = -\\sum_j\\nabla_i{U(|r_{ij}(t)|)}$$\n",
    "\n",
    "where $r_{ij} = \\sqrt{(x_i - x_j)^2 + (y_i - y_j)^2 + (z_i - z_j)^2}$ is the distance between particle $i$ and $j$, and $i,j \\in (1,N)$."
   ]
  },
  {
   "cell_type": "markdown",
   "id": "a92a30ab-4f29-432c-a867-8f43cd05f34b",
   "metadata": {},
   "source": [
    "---\n",
    "### Example 3.2. Simulation of 3-body problem with Hooke's law:\n",
    "\n",
    "We want to know the dynamics of 3 particles $m = 1$ kg connected to each other with invisible springs with $K_s = 5$ N/m, and $r_0 = 1$ m initially located at (0, 2), (2, 0) and (-1, 0) on the 2D plane for the first 10 seconds of their motion.\n",
    "\n",
    "**Hint:**\n",
    "The pairwise potential is (Hooke's Law): $$U(r_{ij}) = \\frac{K_s}{2}(r_{ij} - r_0)^2$$\n",
    "\n",
    "The negative gradient of the potential is a force from $j$-th upon $i$-th: \n",
    "\n",
    "$$\\mathbf{F_{ij}} = - \\nabla_i{U(r_{ij})} = - K_s (r_{ij} - r_0) \\nabla_i r_{ij} = - K_s (r_{ij} - r_0) \\frac{\\mathbf{r_{ij}}}{|r_{ij}|}$$\n"
   ]
  },
  {
   "cell_type": "code",
   "execution_count": 4,
   "id": "fc42900a-47f1-4c12-9d2d-26d5e9c66be5",
   "metadata": {},
   "outputs": [],
   "source": [
    "simulate_three_particles(\n",
    "    total_time=26, mass=1.0, ks=5, r0=1.0, timestep=0.05\n",
    ")"
   ]
  },
  {
   "cell_type": "code",
   "execution_count": 5,
   "id": "25128f64-f2da-4c86-9007-c84d897e34a8",
   "metadata": {},
   "outputs": [
    {
     "data": {
      "text/html": [
       "<video src=\"3particles.mp4\" controls  >\n",
       "      Your browser does not support the <code>video</code> element.\n",
       "    </video>"
      ],
      "text/plain": [
       "<IPython.core.display.Video object>"
      ]
     },
     "execution_count": 5,
     "metadata": {},
     "output_type": "execute_result"
    }
   ],
   "source": [
    "Video('./media/3particles.mp4')"
   ]
  },
  {
   "cell_type": "markdown",
   "id": "59e9d8dd-7fd8-4e67-b426-3e66119188dc",
   "metadata": {},
   "source": [
    "---\n",
    "## Proteins, structure and functions "
   ]
  },
  {
   "cell_type": "markdown",
   "id": "79a02f58-9c68-47d5-9641-b99a58aaf87e",
   "metadata": {},
   "source": [
    "<img src=\"./media/protein_structure.png\" width=\"400\" align=\"right\">\n",
    "\n",
    "While we now have a basic knowledge of the purpose and methodology of simulations, we still need to understand what proteins are and why they are important.\n",
    "\n",
    "[Protein structure](https://en.wikipedia.org/wiki/Protein_structure) is the three-dimensional arrangement of atoms in a protein, which is a chain of amino acids. Proteins are polymers – specifically polypeptides – formed from sequences of 20 types of amino acids, the monomers of the polymer. A single amino acid monomer may also be called a residue, indicating a repeating unit of a polymer. To be able to perform their biological function, proteins fold into one or more specific spatial conformations driven by a number of non-covalent interactions such as:\n",
    "\n",
    "- hydrogen bonding \n",
    "- ionic interactions \n",
    "- Van der Waals forces\n",
    "- hydrophobic packing \n",
    "\n",
    "To understand the functions of proteins at a molecular level, it is often necessary to determine their three-dimensional structure using techniques such as X-ray crystallography, NMR spectroscopy, and others.\n",
    "\n",
    "### 4.1 Levels of structure:\n",
    "\n",
    "**Primary structure** of a protein refers to the sequence of amino acids in the polypeptide chain.\n",
    "\n",
    "**Secondary structure** refers to highly regular local sub-structures of the actual polypeptide backbone chain. There are two main types of secondary structure: the α-helix and the β-strand or β-sheets.\n",
    "\n",
    "**Tertiary structure** refers to the three-dimensional structure of monomeric and multimeric protein molecules. The α-helixes and β-sheets are folded into a compact globular structure. \n",
    "\n",
    "**Quaternary structure** is the three-dimensional structure consisting of two or more individual polypeptide chains (subunits) that operate as a single functional unit (multimer).\n",
    "\n",
    "\n",
    "### 4.2 Functions:\n",
    "\n",
    "- *Antibodies* - bind to specific foreign particles, ex: IgG \n",
    "- *Enzymes* - speed up chemical reactions, ex: Lysozyme\n",
    "- *Messengers* - transmit signals, ex: Growth hormone \n",
    "- *Structural components* - support for cells, ex: Tubulin\n",
    "- *Transport/storage* - bind and carry small molecules, ex: Hemoglobin\n",
    "\n",
    "\n",
    "**Lysozyme** is a protein-enzyme (found in tears, saliva, mucus and egg white) that is a part of the innate immune system with antimicrobial activity characterized by the ability to damage the cell wall of bacteria. Bacteria have polysaccharides (sugars) in their cell wall, that bind to the groove, and lysozyme cuts the bond and destroys bacteria.  \n",
    "\n",
    "<!-- |  ![](pics/LysozymeSequence.png) | ![Protein Structure](pics/LysozymeStructure.gif) | ![Protein Strucure with Sugar](pics/LysozymeRock.gif) |\n",
    "|:-:|:-:|:-:|\n",
    "|  Sequence | Structure | Function  |\n",
    "\n",
    "Figure credit: [C.Ing](https://github.com/cing/HackingStructBiolTalk) and [wikipedia](https://en.wikipedia.org/wiki/Protein_structure) -->"
   ]
  },
  {
   "cell_type": "markdown",
   "id": "4781846c-0880-403c-a904-3ba92813c883",
   "metadata": {},
   "source": [
    "---\n",
    "## Molecular Mechanics"
   ]
  },
  {
   "cell_type": "markdown",
   "id": "86a1a433-a5e6-4707-927d-67606bc2a717",
   "metadata": {},
   "source": [
    "Since we now know what proteins are and why these molecular machines are important, we consider the method to model them. The basic idea is to create the same kind of approach as we used in the 3-body simulation. Now, our system consists of thousands particles (atoms of the protein plus atoms of surrounding water) and they all are connected via a complex potential energy function.\n",
    "\n",
    "An all-atom potential energy function $V$ is usually given by the sum of the bonded terms ($V_b$) and non-bonded terms ($V_{nb}$), i.e.\n",
    "\n",
    "$$V = V_{b} + V_{nb},$$\n",
    "\n",
    "where the bonded potential includes the harmonic (covalent) bond part, the harmonic angle and\n",
    "the two types of torsion (dihedral) angles: proper and improper. As it can be seen, these functions are mostly harmonic potentials \n",
    "\n",
    "$$V_{b} = \\sum_{bonds}\\frac{1}{2}K_b(b-b_0)^2 + \\sum_{angles}K_{\\theta}(\\theta-\\theta_0)^2 + \\sum_{dihedrals}K_{\\phi}(1-cos(n\\phi - \\phi_0)) + \\sum_{impropers}K_{\\psi}(\\psi-\\psi_0)^2$$\n",
    "\n",
    "For example, $b$ and $\\theta$ represent the distance between two atoms and the angle between two\n",
    "adjacent bonds; $\\phi$ and $\\psi$ are dihedral (torsion) angles. These can be evaluated for all the\n",
    "atoms from their current positions. Also, $K_b$, $K_\\theta$, $K_\\phi$, and $K_\\psi$ are the spring constants, associated\n",
    "with bond vibrations, bending of bond angles, and conformational fluctuations in dihedral and\n",
    "improper angles around some equilibrium values $b_0$, $\\theta_0$, $\\phi_0$, and $\\psi_0$, respectively. \n",
    "\n",
    "The non-bonded part of the potential energy function is represented by the electrostatic and van der Waals potentials, i.e.\n",
    "\n",
    "$$V_{nb} = \\sum_{i,j}\\left(\\frac{q_{i}q_{j}}{4\\pi\\varepsilon_{0}\\varepsilon r_{ij}} + \\varepsilon_{ij}\\left[\\left(\\frac{\\sigma^{min}_{ij}}{r_{ij}}\\right)^{12}-2\\left(\\frac{\\sigma^{min}_{ij}}{r_{ij}}\\right)^{6}\\right]\\right)$$\n",
    "\n",
    "where $r_{ij}$ is the distance between two interacting atoms, $q_i$ and $q_j$ are their electric charges; $\\varepsilon$ and\n",
    "$\\varepsilon_0$ are electric and dielectric constant; $\\varepsilon_{ij} = \\sqrt{\\varepsilon_i\\varepsilon_j}$ and\n",
    "$\\sigma_{ij} = \\frac{\\sigma_i + \\sigma_j}{2}$ are van der Waals parameters for atoms $i$ and $j$.\n",
    "\n",
    "**Importantly, each force field has its own set of parameters, which are different for different types of atoms.**\n",
    "\n",
    "![](media/ff.png)\n"
   ]
  },
  {
   "cell_type": "markdown",
   "id": "fe26ca3e-91ec-4720-bbad-82bb8847b9b2",
   "metadata": {},
   "source": [
    "---\n",
    "## Molecular dynamics of proteins <a id='l_md'></a>"
   ]
  },
  {
   "cell_type": "markdown",
   "id": "0deda886-2eb2-46e2-8818-82d565b6b9c2",
   "metadata": {},
   "source": [
    "[**Molecular dynamics (MD)**](https://en.wikipedia.org/wiki/Molecular_dynamics) is a computer simulation method for studying the physical movements of atoms and molecules, i.e. their dynamical evolution. \n",
    "\n",
    "In the most common version, the trajectories of atoms and molecules are determined by numerically solving Newton's equations of motion for a system of interacting particles, where forces between the particles and their potential energies are often calculated using  molecular mechanics force fields. \n",
    "\n",
    "\n",
    "\n",
    "Now with all that intellectual equipment, we can start running legit Molecular Dynamics simulations. All we need is an initial structure of the protein and software that computes its dynamics efficiently."
   ]
  },
  {
   "cell_type": "markdown",
   "id": "60acfed2-c55c-47bf-9ddf-8a10202ab16f",
   "metadata": {},
   "source": [
    "### Procedure\n",
    "\n",
    "1. Load initial coordinates of protein atoms (from *.pdb file)\n",
    "2. Choose force field parameters (in potential function V from section 5).\n",
    "3. Choose parameters of the experiment: temperature, pressure, box size, solvation, boundary conditions\n",
    "4. Choose integrator, i.e. algorithm for solving equation of motion\n",
    "5. Run simulation, save coordinates time to time (to *.dcd file).\n",
    "6. Visualize the trajectory\n",
    "7. Perform the analysis"
   ]
  },
  {
   "cell_type": "markdown",
   "id": "534ef0ae-9d2e-4875-9fba-36e0edb61571",
   "metadata": {},
   "source": [
    "__NOTE__: It is better for students to gain a little understanding of how the following packages are working under the hood before continuing the notebook.\n",
    "\n",
    "* __NGLViewer__: NGL Viewer is a collection of tools for web-based molecular graphics. WebGL is employed to display molecules like proteins and DNA/RNA with a variety of representations.\n",
    "\n",
    "* __MDAnalysis__: MDAnalysis is an object-oriented Python library to analyze trajectories from molecular dynamics (MD) simulations in many popular formats. It can write most of these formats, too, together with atom selections suitable for visualization or native analysis tools.\n",
    "\n",
    "* __Openmm__: Openmm consists of two parts: One is a set of libraries that lets programmers easily add molecular simulation features to their programs and the other parts is an “application layer” that exposes those features to end users who just want to run simulations"
   ]
  },
  {
   "cell_type": "code",
   "execution_count": 3,
   "id": "eff1778a-6fe7-4775-a055-74f209cb1dc0",
   "metadata": {},
   "outputs": [],
   "source": [
    "pdb_file = 'data/villin_water.pdb'\n",
    "# pdb_file = 'data/polyALA.pdb'\n",
    "# pdb_file = 'data/polyGLY.pdb'\n",
    "# pdb_file = 'data/polyGV.pdb'"
   ]
  },
  {
   "cell_type": "code",
   "execution_count": 4,
   "id": "1accded8-1c2c-4b81-b2da-b391de980c49",
   "metadata": {},
   "outputs": [
    {
     "name": "stdout",
     "output_type": "stream",
     "text": [
      "REMARK    GENERATED BY TRJCONV\n",
      "\n",
      "HEADER    Villin N68H in explicit water\n",
      "\n",
      "REMARK    THIS IS A SIMULATION BOX\n",
      "\n",
      "CRYST1   49.163   45.981   38.869  90.00  90.00  90.00 P 1           1\n",
      "\n",
      "MODEL        0\n",
      "\n",
      "ATOM      1  N   LEU     1      25.160  14.160  19.440  1.00  0.00\n",
      "\n",
      "ATOM      2  H1  LEU     1      24.350  13.730  19.870  1.00  0.00\n",
      "\n",
      "ATOM      3  H2  LEU     1      25.980  13.680  19.760  1.00  0.00\n",
      "\n",
      "ATOM      4  H3  LEU     1      25.180  15.100  19.810  1.00  0.00\n",
      "\n",
      "ATOM      5  CA  LEU     1      25.090  13.920  17.980  1.00  0.00\n",
      "\n"
     ]
    }
   ],
   "source": [
    "file0 = open(pdb_file, 'r')\n",
    "counter = 0\n",
    "for line in file0:\n",
    "    if counter < 10:\n",
    "        print(line)\n",
    "    counter += 1"
   ]
  },
  {
   "cell_type": "code",
   "execution_count": 5,
   "id": "1bacaddb-8fde-4b39-aa71-b640cb8faed7",
   "metadata": {},
   "outputs": [
    {
     "data": {
      "application/vnd.jupyter.widget-view+json": {
       "model_id": "d3b4bdba455f4d378daee6c973a708c9",
       "version_major": 2,
       "version_minor": 0
      },
      "text/plain": []
     },
     "metadata": {},
     "output_type": "display_data"
    },
    {
     "data": {
      "application/vnd.jupyter.widget-view+json": {
       "model_id": "7d2584140c9f4b4eb63a0b0f4c3bc85e",
       "version_major": 2,
       "version_minor": 0
      },
      "text/plain": [
       "NGLWidget(max_frame=97)"
      ]
     },
     "metadata": {},
     "output_type": "display_data"
    },
    {
     "data": {
      "application/vnd.jupyter.widget-view+json": {
       "model_id": "f5f54d35b4814d0b98e381543c7dda17",
       "version_major": 2,
       "version_minor": 0
      },
      "text/plain": [
       "Tab(children=(Box(children=(Box(children=(Box(children=(Label(value='step'), IntSlider(value=1, min=-100)), la…"
      ]
     },
     "metadata": {},
     "output_type": "display_data"
    }
   ],
   "source": [
    "from simtk.openmm.app import *\n",
    "from simtk.openmm import *\n",
    "from simtk.unit import *\n",
    "import MDAnalysis as md\n",
    "from MDAnalysis.tests import datafiles\n",
    "import nglview as ng\n",
    "from sys import stdout\n",
    "\n",
    "u = md.Universe(datafiles.PSF, datafiles.DCD)\n",
    "view = ng.show_mdanalysis(u, gui=True)\n",
    "view"
   ]
  },
  {
   "cell_type": "markdown",
   "id": "a247b003-b13c-4851-a048-9986efc46aef",
   "metadata": {},
   "source": [
    "---\n",
    "### Example: MD simulation of protein folding into alpha-helix "
   ]
  },
  {
   "cell_type": "markdown",
   "id": "3b2c594d-2658-474c-b971-01860944c403",
   "metadata": {},
   "source": [
    "Run a simulation of fully extended polyalanine __polyALA.pdb__ for 400 picoseconds in a vacuo environment with T=300 K and see if it can fold to any secondary structure:"
   ]
  },
  {
   "cell_type": "code",
   "execution_count": 6,
   "id": "50568979-2b15-43f8-8766-67205fc88f32",
   "metadata": {},
   "outputs": [
    {
     "name": "stdout",
     "output_type": "stream",
     "text": [
      "#\"Progress (%)\",\"Step\",\"Potential Energy (kJ/mole)\",\"Temperature (K)\"\n",
      "2.5%,5000,3876.571533203125,304.28672581007845\n",
      "5.0%,10000,3729.46630859375,292.3798016646088\n",
      "7.5%,15000,3786.146240234375,292.0574921399869\n",
      "10.0%,20000,3685.5322265625,304.682162004977\n",
      "12.5%,25000,3726.85791015625,295.5986890371652\n",
      "15.0%,30000,3599.71435546875,305.7709539552684\n",
      "17.5%,35000,3557.91015625,272.95099562053093\n",
      "20.0%,40000,3505.79296875,299.0994735978005\n",
      "22.5%,45000,3512.466796875,297.5766468598965\n",
      "25.0%,50000,3579.800048828125,307.2676715516219\n",
      "27.5%,55000,3312.2177734375,320.0279313461482\n",
      "30.0%,60000,3446.26171875,283.91535040734703\n",
      "32.5%,65000,3343.086181640625,289.3558079571391\n",
      "35.0%,70000,3370.997802734375,291.9968637794384\n",
      "37.5%,75000,3421.008544921875,303.6467241083674\n",
      "40.0%,80000,3419.22900390625,300.12584428748863\n",
      "42.5%,85000,3504.77783203125,319.47432688660336\n",
      "45.0%,90000,3341.38232421875,297.0140781407973\n",
      "47.5%,95000,3333.06591796875,277.48041923212844\n",
      "50.0%,100000,3440.62744140625,305.49865649214746\n",
      "52.5%,105000,3296.8115234375,318.3196098034468\n",
      "55.0%,110000,3119.590576171875,307.18626891596847\n",
      "57.5%,115000,3117.251708984375,313.04605705413417\n",
      "60.0%,120000,2931.7421875,291.315056307434\n",
      "62.5%,125000,3095.575439453125,289.39997936845134\n",
      "65.0%,130000,3078.31103515625,302.18711673097124\n",
      "67.5%,135000,3066.025146484375,296.61790879940077\n",
      "70.0%,140000,2966.791748046875,293.8056446288374\n",
      "72.5%,145000,3002.650634765625,310.2677018551742\n",
      "75.0%,150000,3188.341064453125,309.1631179304977\n",
      "77.5%,155000,3131.619384765625,290.63654276494555\n",
      "80.0%,160000,3088.965576171875,318.7234449043367\n",
      "82.5%,165000,3014.79296875,284.7454395663291\n",
      "85.0%,170000,3005.1474609375,298.664390506257\n",
      "87.5%,175000,3001.512451171875,308.490215057648\n",
      "90.0%,180000,3041.76416015625,312.1077338451091\n",
      "92.5%,185000,3150.3046875,313.2100595178244\n",
      "95.0%,190000,3001.916015625,287.20726490198746\n",
      "97.5%,195000,3060.377685546875,317.0286937471821\n",
      "100.0%,200000,2944.56640625,298.39822459382145\n"
     ]
    }
   ],
   "source": [
    "### 1.loading initial coordinates\n",
    "pdb_file = \"data/polyGV.pdb\"\n",
    "pdb = PDBFile(pdb_file) \n",
    "\n",
    "### 2.choosing a forcefield parameters\n",
    "ff = ForceField('amber10.xml')  \n",
    "system = ff.createSystem(pdb.topology, nonbondedMethod=CutoffNonPeriodic)\n",
    "\n",
    "### 3. Choose parameters of the experiment: temperature, pressure, box size, solvation, boundary conditions, etc\n",
    "temperature = 300*kelvin\n",
    "frictionCoeff = 1/picosecond\n",
    "time_step = 0.002*picoseconds\n",
    "total_steps = 400*picoseconds / time_step\n",
    "\n",
    "### 4. Choose an algorithm (integrator)\n",
    "integrator = LangevinIntegrator(temperature, frictionCoeff, time_step)\n",
    "\n",
    "### 5. Run simulation, saving coordinates time to time:\n",
    "\n",
    "### 5a. Create a simulation object\n",
    "simulation = Simulation(pdb.topology, system, integrator)\n",
    "simulation.context.setPositions(pdb.positions)\n",
    "\n",
    "### 5b. Minimize energy\n",
    "simulation.minimizeEnergy()\n",
    "\n",
    "### 5c. Save coordinates to dcd file and energies to a standard output console:\n",
    "simulation.reporters.append(DCDReporter('data/polyALA_traj.dcd', 1000))\n",
    "simulation.reporters.append(StateDataReporter(stdout, 5000, step=True, potentialEnergy=True,\\\n",
    "                                              temperature=True, progress=True, totalSteps = total_steps))\n",
    "\n",
    "### 5d. Run!\n",
    "simulation.step(total_steps)"
   ]
  },
  {
   "cell_type": "code",
   "execution_count": 7,
   "id": "94ed0df2-48a8-40bb-80db-e7c8cf5d4f8f",
   "metadata": {},
   "outputs": [
    {
     "data": {
      "application/vnd.jupyter.widget-view+json": {
       "model_id": "c454bf52fb044e8abb385a9d30cd3bfd",
       "version_major": 2,
       "version_minor": 0
      },
      "text/plain": [
       "NGLWidget(max_frame=199)"
      ]
     },
     "metadata": {},
     "output_type": "display_data"
    }
   ],
   "source": [
    "### 6. Visualization\n",
    "sys = md.Universe(pdb_file, 'data/polyALA_traj.dcd')\n",
    "ng.show_mdanalysis(sys, gui=False)"
   ]
  },
  {
   "cell_type": "markdown",
   "id": "6010a52a-1c33-4507-9cee-43c2618b7e60",
   "metadata": {},
   "source": [
    "## [ProDy](http://prody.csb.pitt.edu/)"
   ]
  },
  {
   "cell_type": "markdown",
   "id": "bbc43824-0b6b-4860-b7b4-006f502fb19a",
   "metadata": {},
   "source": [
    "### Introduction"
   ]
  },
  {
   "cell_type": "markdown",
   "id": "2e13f7be-02c7-4c02-b968-69b7eece7dfb",
   "metadata": {
    "tags": []
   },
   "source": [
    "ProDy is a free and open-source Python package for protein structural dynamics analysis. It is designed as a flexible and responsive API suitable for interactive usage and application development.\n",
    "\n",
    "### Structure analysis\n",
    "ProDy has fast and flexible PDB and DCD file parsers, and powerful and customizable atom selections for contact identification, structure comparisons, and rapid implementation of new methods.\n",
    "\n",
    "### Dynamics analysis\n",
    "In this lecture, we are going to use ProDy for Normal Mode Analysis (NMA) which can be performed using \n",
    "\n",
    "* Anisotropic network model (ANM)\n",
    "* Gaussian network model (GNM)\n",
    "* ANM/GNM with distance and property dependent force constants\n",
    "\n",
    "Here, we will use Ubiquitin to perform Gaussian network model a.k.a. GNM.\n",
    "\n",
    "It's worth mentioning that dynamics from experimental datasets, theoretical models and simulations can be visualized using [NMWiz](http://prody.csb.pitt.edu/nmwiz/). Normal Mode Wizard (NMWiz) is a VMD plugin designed for visual comparative analysis of normal mode data, i.e. modes may come from principal component, essential dynamics, normal mode analysis or may be any vector describing a molecular motion.\n",
    "\n",
    "\n",
    "### Installation\n",
    "You can install `ProDy` package using the following command in your terminal:\n",
    "\n",
    "```bash\n",
    "pip install prody\n",
    "```\n",
    "\n",
    "### Getting Started\n",
    "Ok great! Now let's start using `ProDy` :)\n",
    "To start using ProDy and turn this notebook's interactive mode on, Please run the following cell. This will import everything from ProDy package and enables the interactive mode."
   ]
  },
  {
   "cell_type": "code",
   "execution_count": 1,
   "id": "82d6fad3-77ac-4687-ba8c-54e7a4be71c8",
   "metadata": {},
   "outputs": [
    {
     "data": {
      "text/plain": [
       "<matplotlib.pyplot._IonContext at 0x7fed307350d0>"
      ]
     },
     "execution_count": 1,
     "metadata": {},
     "output_type": "execute_result"
    }
   ],
   "source": [
    "from prody import *\n",
    "from pylab import *\n",
    "\n",
    "ion() # turns interactive mode on"
   ]
  },
  {
   "cell_type": "markdown",
   "id": "68c0e2c3-3c8f-4118-a3f4-53c144d3a1e1",
   "metadata": {},
   "source": [
    "### Gaussian Network Model (GNM) Analysis with ProDy"
   ]
  },
  {
   "cell_type": "markdown",
   "id": "19a7caf5-7e27-40fb-aea7-7b5a96129344",
   "metadata": {},
   "source": [
    "This example shows how to perform GNM calculations using an X-ray structure of `ubiquitin`. `Ubiquitin` is a small, 76-amino acid, regulatory protein that was discovered in 1975. It's present in all eukaryotic cells, directing the movement of important proteins in the cell, participating in both the synthesis of new proteins and the destruction of defective proteins.\n",
    "\n",
    "A GNM instance that stores the Kirchhoff matrix and normal mode data describing the intrinsic dynamics of the protein structure will be obtained. GNM instances and individual normal modes (Mode) can be used as input to functions in ```prody.dynamics``` module.\n",
    "\n",
    "We'll go through the analysis step by step. "
   ]
  },
  {
   "cell_type": "markdown",
   "id": "b6725171-3c49-4a22-8fa7-ab8ad16224a7",
   "metadata": {},
   "source": [
    "### 1. Parsing PDB file\n",
    "Ok, let's parse the protein's PDB structure file with `ProDy`. This can be done using `parsePDB()` function from `ProDy`. The function will accept an identifier as the PDB ID. If the PDB file with the given ID exists in the local directory, it will load the file locally. Otherwise, the PDB file will be downloaded automatically.\n",
    "\n",
    "![Ubiquitin 3D structure](./media/Ubiquitin.png)\n",
    "\n",
    "Reference: https://proteopedia.org/wiki/index.php/Image:Lysubq.png"
   ]
  },
  {
   "cell_type": "code",
   "execution_count": 2,
   "id": "83b77b94-24cb-40fe-b394-e2b9e0702ef6",
   "metadata": {},
   "outputs": [
    {
     "name": "stderr",
     "output_type": "stream",
     "text": [
      "@> PDB file is found in working directory (1aar.pdb.gz).\n",
      "@> 1218 atoms and 1 coordinate set(s) were parsed in 0.03s.\n"
     ]
    }
   ],
   "source": [
    "ubiquitin = parsePDB('1aar')"
   ]
  },
  {
   "cell_type": "code",
   "execution_count": 3,
   "id": "6e37656a-8321-4bf5-822a-589f51767f34",
   "metadata": {},
   "outputs": [
    {
     "data": {
      "text/plain": [
       "<AtomGroup: 1aar (1218 atoms)>"
      ]
     },
     "execution_count": 3,
     "metadata": {},
     "output_type": "execute_result"
    }
   ],
   "source": [
    "ubiquitin"
   ]
  },
  {
   "cell_type": "markdown",
   "id": "268585cd-8fd3-47ce-a891-61bafdee95e0",
   "metadata": {},
   "source": [
    "This file contains 2 chains, and a flexible C-terminal (residues 71-76). We only want to use Cα atoms of first 70 residues from chain A, so we select them:"
   ]
  },
  {
   "cell_type": "code",
   "execution_count": 4,
   "id": "8003e2b3-8262-47a3-8b69-ddf36ba9c0ae",
   "metadata": {},
   "outputs": [],
   "source": [
    "c_alphas = ubiquitin.select('calpha and chain A and resnum < 71')"
   ]
  },
  {
   "cell_type": "code",
   "execution_count": 5,
   "id": "1706e7c9-b90b-477c-9275-3553a89754f9",
   "metadata": {},
   "outputs": [
    {
     "data": {
      "text/plain": [
       "<Selection: 'calpha and chai...and resnum < 71' from 1aar (70 atoms)>"
      ]
     },
     "execution_count": 5,
     "metadata": {},
     "output_type": "execute_result"
    }
   ],
   "source": [
    "c_alphas"
   ]
  },
  {
   "cell_type": "markdown",
   "id": "2ec5fced-87c0-4d0b-ab59-576959eac2b0",
   "metadata": {},
   "source": [
    "A comprehensive documentation of atom selection is provided by `ProDy` in this [link](http://prody.csb.pitt.edu/manual/reference/atomic/select.html#selections). You can learn more about the selection in the mentioned webpage. \n",
    "\n",
    "As an example which can be useful to know here, __Cα__ is the central point in the backbone of every amino acid. The alpha carbon (α-carbon or Cα) is what connects the amino group to the acid carboxyl group, giving amino acids their name. The alpha carbon also serves as the point of attachment for the sidechains of 19 out of 20 amino acids used in protein building.\n",
    "\n",
    "![](./media/calpha.png)\n",
    "\n",
    "Figure Reference: https://static.wikia.nocookie.net/foldit/images/e/ea/Backbone_overview_group.stickpolarh.png/revision/latest?cb=20180103000343"
   ]
  },
  {
   "cell_type": "markdown",
   "id": "4282e38b-cd25-40ed-99c4-8473518b0fd7",
   "metadata": {},
   "source": [
    "### Build Kirchhoff Matrix\n",
    "First, Let's create a `GNM` object. "
   ]
  },
  {
   "cell_type": "code",
   "execution_count": 6,
   "id": "5c0cbc97-6b28-4b2d-8ec8-d67c59fdf8fb",
   "metadata": {},
   "outputs": [],
   "source": [
    "gnm = GNM(name='Ubiquitin')"
   ]
  },
  {
   "cell_type": "code",
   "execution_count": 7,
   "id": "dc7ab4d5-cf93-4bb8-86b1-3cb0bb16f7dd",
   "metadata": {},
   "outputs": [
    {
     "data": {
      "text/plain": [
       "<GNM: Ubiquitin (0 modes; 0 nodes)>"
      ]
     },
     "execution_count": 7,
     "metadata": {},
     "output_type": "execute_result"
    }
   ],
   "source": [
    "gnm"
   ]
  },
  {
   "cell_type": "markdown",
   "id": "0418cd1f-0ab6-49cc-8822-21a949603f61",
   "metadata": {},
   "source": [
    "We can build Kirchhoff matrix using selected atoms and `gnm.buildKirchhoff()` method. The method accepts the coordinates as the first arguments. It also accepts two additonal parameters named `cutoff` as the cutoff distance for pairwise interactions and `gamma` as spring constant. You can leave the parameters with their default values and move on. "
   ]
  },
  {
   "cell_type": "code",
   "execution_count": 8,
   "id": "19fb0275-46d2-4c7a-9206-e7371fa2969e",
   "metadata": {},
   "outputs": [
    {
     "name": "stderr",
     "output_type": "stream",
     "text": [
      "@> Kirchhoff was built in 0.01s.\n"
     ]
    }
   ],
   "source": [
    "gnm.buildKirchhoff(coords=c_alphas, cutoff=10.0, gamma=1.0)"
   ]
  },
  {
   "cell_type": "markdown",
   "id": "f9c14865-0a26-4499-a1c6-87faa9f8abde",
   "metadata": {},
   "source": [
    "Now the Kirchhoff matrix is built, we can get a copy of it using `gnm.getKirchhoff()` method."
   ]
  },
  {
   "cell_type": "code",
   "execution_count": 9,
   "id": "6c862765-8f67-4e14-b6e1-d50570e4fea1",
   "metadata": {},
   "outputs": [],
   "source": [
    "k_matrix = gnm.getKirchhoff()"
   ]
  },
  {
   "cell_type": "code",
   "execution_count": 10,
   "id": "45b23139-03ee-4bbf-8f4a-a90f1ef3a90d",
   "metadata": {},
   "outputs": [
    {
     "data": {
      "text/plain": [
       "array([[11., -1., -1., ...,  0.,  0.,  0.],\n",
       "       [-1., 15., -1., ...,  0.,  0.,  0.],\n",
       "       [-1., -1., 20., ...,  0.,  0.,  0.],\n",
       "       ...,\n",
       "       [ 0.,  0.,  0., ..., 20., -1., -1.],\n",
       "       [ 0.,  0.,  0., ..., -1., 21., -1.],\n",
       "       [ 0.,  0.,  0., ..., -1., -1., 12.]])"
      ]
     },
     "execution_count": 10,
     "metadata": {},
     "output_type": "execute_result"
    }
   ],
   "source": [
    "k_matrix"
   ]
  },
  {
   "cell_type": "markdown",
   "id": "7b222441-c6a1-4c70-b01f-0b83a2eabaa8",
   "metadata": {},
   "source": [
    "__NOTE__: If you have already calculated the Kirchhoff matrix and want to set it manually, you can use `gnm.setKirchhoff()` method."
   ]
  },
  {
   "cell_type": "markdown",
   "id": "b1bb4f1f-5122-4bb4-9a28-c56c19346c47",
   "metadata": {},
   "source": [
    "### It's time to calculate the normal modes! :)\n",
    "Now that we have the Kirchhoff matrix, Calculating the normal modes can be done simply by using `gnm.calcModes()` method.\n",
    "\n",
    "Note that by default 20 non-zero (or non-trivial) modes and 1 trivial mode are calculated. Trivial modes are not retained. To calculate different numbers of non-zero modes or to keep zero modes, you can modify `n_modes` and `zeros` parameters of the function e.g. try `gnm.calcModes(50, zeros=True)`. You can set `Turbo` parameter tu `True` if you want to calculate the modes faster. It's also set by default to `True`."
   ]
  },
  {
   "cell_type": "code",
   "execution_count": 11,
   "id": "8d960010-2989-4b01-a5ce-d0de4fe195de",
   "metadata": {},
   "outputs": [
    {
     "name": "stderr",
     "output_type": "stream",
     "text": [
      "@> 20 modes were calculated in 0.00s.\n"
     ]
    }
   ],
   "source": [
    "gnm.calcModes(n_modes=20, zeros=False, turbo=True)"
   ]
  },
  {
   "cell_type": "markdown",
   "id": "b8ebb0e2-d5cd-47cd-a36c-6f0b9c3c09d2",
   "metadata": {},
   "source": [
    "Ok. The modes are ready. You can get the results the following functions: \n",
    "\n",
    "* `gnm.getEigvals()`: Get Eigenvalues\n",
    "* `gnm.getEigvecs()`: Get Eigenvectors\n",
    "* `gnm.getCovariance()`: Get Covariance matrix. Note that covariance matrices are calculated using the available modes in the model, which is the slowest 20 modes in this case. If the user calculates `M` modes, these `M` modes will be used in calculating the covariance matrix."
   ]
  },
  {
   "cell_type": "code",
   "execution_count": 12,
   "id": "5b7dc61d-692a-4bc2-91c2-a560c7c78c26",
   "metadata": {},
   "outputs": [
    {
     "data": {
      "text/plain": [
       "array([ 2.50159996,  2.81198884,  4.36615755,  5.04996398,  7.18368407,\n",
       "        7.64988589,  7.87722993,  9.08034538,  9.71281297, 10.13238988,\n",
       "       10.50197833, 10.64403971, 10.88838721, 11.15731079, 11.2850227 ,\n",
       "       11.63219978, 11.7801197 , 11.93585376, 12.00584891, 12.2183852 ])"
      ]
     },
     "execution_count": 12,
     "metadata": {},
     "output_type": "execute_result"
    }
   ],
   "source": [
    "gnm.getEigvals()"
   ]
  },
  {
   "cell_type": "code",
   "execution_count": 13,
   "id": "c2783837-e2f3-4d25-b51d-6c71eedfcc89",
   "metadata": {},
   "outputs": [
    {
     "data": {
      "text/plain": [
       "(20,)"
      ]
     },
     "execution_count": 13,
     "metadata": {},
     "output_type": "execute_result"
    }
   ],
   "source": [
    "gnm.getEigvals().shape"
   ]
  },
  {
   "cell_type": "code",
   "execution_count": 14,
   "id": "37a1a5be-c0e4-4744-b28a-bb6bceeccf72",
   "metadata": {},
   "outputs": [
    {
     "data": {
      "text/plain": [
       "array([[-6.38051740e-02, -1.30544492e-01, -2.45334248e-01, ...,\n",
       "        -2.56196713e-01,  5.37771418e-01, -1.08369816e-04],\n",
       "       [-7.25770215e-02, -8.45109261e-02, -1.90052460e-01, ...,\n",
       "         6.24201652e-03, -6.93922518e-02,  3.22234776e-02],\n",
       "       [-7.58827175e-02, -4.30040725e-02, -1.34783179e-01, ...,\n",
       "         1.66397155e-02, -4.70341843e-02,  1.77800008e-02],\n",
       "       ...,\n",
       "       [-9.21438212e-02,  6.36544251e-02,  1.04633107e-01, ...,\n",
       "         3.21057282e-02, -4.19619569e-02,  6.20810516e-03],\n",
       "       [-7.00439044e-02,  9.90390676e-02,  5.42931923e-02, ...,\n",
       "         3.08618840e-02,  2.37876216e-02, -1.36026733e-02],\n",
       "       [-8.08918894e-02,  1.34634053e-01,  1.24148042e-01, ...,\n",
       "         1.25198059e-02, -3.99479375e-02, -1.84106396e-02]])"
      ]
     },
     "execution_count": 14,
     "metadata": {},
     "output_type": "execute_result"
    }
   ],
   "source": [
    "gnm.getEigvecs()"
   ]
  },
  {
   "cell_type": "code",
   "execution_count": 15,
   "id": "e2f33a05-7ee1-4fba-b4f7-b62ab41b9e0a",
   "metadata": {},
   "outputs": [
    {
     "data": {
      "text/plain": [
       "(70, 20)"
      ]
     },
     "execution_count": 15,
     "metadata": {},
     "output_type": "execute_result"
    }
   ],
   "source": [
    "gnm.getEigvecs().shape"
   ]
  },
  {
   "cell_type": "code",
   "execution_count": 16,
   "id": "5fa6a1d3-cdfb-4ea8-b8a4-c1a0eaa49b45",
   "metadata": {},
   "outputs": [
    {
     "data": {
      "text/plain": [
       "array([[ 0.08038538,  0.0214721 ,  0.01154276, ..., -0.00810262,\n",
       "        -0.0068922 , -0.00519627],\n",
       "       [ 0.0214721 ,  0.01841361,  0.01294682, ..., -0.00164253,\n",
       "        -0.0030955 , -0.00590236],\n",
       "       [ 0.01154276,  0.01294682,  0.01015144, ...,  0.00079905,\n",
       "        -0.00034443, -0.00350823],\n",
       "       ...,\n",
       "       [-0.00810262, -0.00164253,  0.00079905, ...,  0.01120008,\n",
       "         0.00810447,  0.01423867],\n",
       "       [-0.0068922 , -0.0030955 , -0.00034443, ...,  0.00810447,\n",
       "         0.00920142,  0.01602405],\n",
       "       [-0.00519627, -0.00590236, -0.00350823, ...,  0.01423867,\n",
       "         0.01602405,  0.05269755]])"
      ]
     },
     "execution_count": 16,
     "metadata": {},
     "output_type": "execute_result"
    }
   ],
   "source": [
    "gnm.getCovariance()"
   ]
  },
  {
   "cell_type": "code",
   "execution_count": 17,
   "id": "fe8fb870-bf02-4490-80a4-8e644621263c",
   "metadata": {},
   "outputs": [
    {
     "data": {
      "text/plain": [
       "(70, 70)"
      ]
     },
     "execution_count": 17,
     "metadata": {},
     "output_type": "execute_result"
    }
   ],
   "source": [
    "gnm.getCovariance().shape"
   ]
  },
  {
   "cell_type": "markdown",
   "id": "d332c0fd-d259-4f68-92be-8bee0b3df9c9",
   "metadata": {},
   "source": [
    "In order to access to each single mode, you can index `gnm` object. Normal mode indices start from 0, so slowest mode has index 0."
   ]
  },
  {
   "cell_type": "code",
   "execution_count": 18,
   "id": "2a40e83a-73c2-4469-a291-735ee65e4fc3",
   "metadata": {},
   "outputs": [],
   "source": [
    "slowest_mode = gnm[0]"
   ]
  },
  {
   "cell_type": "code",
   "execution_count": 19,
   "id": "dd11d8e8-a23e-4ece-9664-60646ed96728",
   "metadata": {},
   "outputs": [
    {
     "data": {
      "text/plain": [
       "2.501599959963146"
      ]
     },
     "execution_count": 19,
     "metadata": {},
     "output_type": "execute_result"
    }
   ],
   "source": [
    "slowest_mode.getEigval()"
   ]
  },
  {
   "cell_type": "code",
   "execution_count": 20,
   "id": "f01e72a1-b245-498d-96ea-94b9609e3b9d",
   "metadata": {},
   "outputs": [
    {
     "data": {
      "text/plain": [
       "array([-0.06380517, -0.07257702, -0.07588272, -0.11243047, -0.09221726,\n",
       "       -0.14296277, -0.16396628, -0.2053729 , -0.24020989, -0.3134546 ,\n",
       "       -0.19166723, -0.15241052, -0.0657869 , -0.07000933, -0.0253338 ,\n",
       "       -0.03129034,  0.0007266 , -0.0058239 , -0.01543903,  0.02655975,\n",
       "        0.04238382,  0.05465168,  0.06268858,  0.08997896,  0.08987359,\n",
       "        0.06877047,  0.13222327,  0.1748625 ,  0.14497343,  0.12132971,\n",
       "        0.19509205,  0.21771503,  0.15807374,  0.21746306,  0.24530097,\n",
       "        0.21361762,  0.22544686,  0.1707908 ,  0.1998145 ,  0.15089032,\n",
       "        0.10228462,  0.04310205, -0.028911  , -0.06447926, -0.0721635 ,\n",
       "       -0.08602533, -0.09012947, -0.07761776, -0.05653068, -0.01097932,\n",
       "        0.0162001 ,  0.06091741,  0.05773185,  0.04274781,  0.02903195,\n",
       "        0.01313377,  0.00376044,  0.01133737, -0.01299074, -0.03725209,\n",
       "       -0.05023782, -0.05862394, -0.07037726, -0.0936061 , -0.09401438,\n",
       "       -0.09896954, -0.09684669, -0.09214382, -0.0700439 , -0.08089189])"
      ]
     },
     "execution_count": 20,
     "metadata": {},
     "output_type": "execute_result"
    }
   ],
   "source": [
    "slowest_mode.getEigvec()"
   ]
  },
  {
   "cell_type": "markdown",
   "id": "25896b50-6766-48a8-8346-3b1ad06106e3",
   "metadata": {},
   "source": [
    "### Hinge sites\n",
    "Hinge sites identified from all calculated modes. You can identify them using the global `calcHinges()` function. This function accepts `gnm` object as the first argument."
   ]
  },
  {
   "cell_type": "code",
   "execution_count": 21,
   "id": "535a21ec-4ba2-4d17-a21f-3fc726d028d4",
   "metadata": {},
   "outputs": [],
   "source": [
    "hinges = calcHinges(modes=gnm)"
   ]
  },
  {
   "cell_type": "code",
   "execution_count": 22,
   "id": "c5bed235-88da-42c1-a0fa-992d0da6c412",
   "metadata": {},
   "outputs": [
    {
     "data": {
      "text/plain": [
       "64"
      ]
     },
     "execution_count": 22,
     "metadata": {},
     "output_type": "execute_result"
    }
   ],
   "source": [
    "len(hinges)"
   ]
  },
  {
   "cell_type": "code",
   "execution_count": 23,
   "id": "30ef7cca-1a82-4352-9041-a48e29358e9e",
   "metadata": {},
   "outputs": [
    {
     "data": {
      "text/plain": [
       "[0, 1, 2, 3, 4, 5, 6, 7, 8, 9, 11, 12, 13, 14, 16, 17, 18, 19, 20, 21]"
      ]
     },
     "execution_count": 23,
     "metadata": {},
     "output_type": "execute_result"
    }
   ],
   "source": [
    "hinges[:20]"
   ]
  },
  {
   "cell_type": "markdown",
   "id": "a39c01cf-1ea6-43be-80fd-2ee17165bfd5",
   "metadata": {
    "tags": []
   },
   "source": [
    "### Short question! Calculate the hinges of the slowest mode"
   ]
  },
  {
   "cell_type": "code",
   "execution_count": 24,
   "id": "d579c324-3449-4fb2-a421-484d8f3f4906",
   "metadata": {},
   "outputs": [],
   "source": [
    "### YOUR CODE GOES HERE"
   ]
  },
  {
   "cell_type": "markdown",
   "id": "4d980929-2a0c-4e1a-bec3-a61b4a2a707e",
   "metadata": {},
   "source": [
    "These numbers correspond to node indices in the `gnm` object, which does not know anything about the original atoms. In order to get the residue numbers corresponding to these hinges, we can index the resum array with the hinges list as follows:"
   ]
  },
  {
   "cell_type": "code",
   "execution_count": 25,
   "id": "d90ccc12-86a9-4d02-8529-08a56317ed80",
   "metadata": {},
   "outputs": [],
   "source": [
    "# 1. get a copy of residue numbers\n",
    "resnums = c_alphas.getResnums() "
   ]
  },
  {
   "cell_type": "code",
   "execution_count": 26,
   "id": "f83c794f-d6c1-49ba-b138-7bbd5a30d101",
   "metadata": {},
   "outputs": [],
   "source": [
    "# 2. calculate hinge site of the mode of interest (here we used the 2nd mode)\n",
    "mode2_hinges = calcHinges(gnm[1])"
   ]
  },
  {
   "cell_type": "code",
   "execution_count": 27,
   "id": "53851d40-7900-46cb-bbdd-85c7a616cdee",
   "metadata": {},
   "outputs": [
    {
     "data": {
      "text/plain": [
       "array([ 4, 15, 26, 44, 47, 48, 49, 66])"
      ]
     },
     "execution_count": 27,
     "metadata": {},
     "output_type": "execute_result"
    }
   ],
   "source": [
    "# 3. get residue numbers corresponding these hinges\n",
    "resnums[mode2_hinges]"
   ]
  },
  {
   "cell_type": "markdown",
   "id": "f8e6cfdd-9836-4529-a267-33f1e8ad48f1",
   "metadata": {},
   "source": [
    "### Visualization!\n",
    "All of the `ProDy` visualization functions are prefixed with __`show...()`__. Let’s use some of them to plot data:"
   ]
  },
  {
   "cell_type": "markdown",
   "id": "8a4fd929-43b2-4b17-b8e2-445b7cc60ad9",
   "metadata": {},
   "source": [
    "#### Contact Map"
   ]
  },
  {
   "cell_type": "code",
   "execution_count": 28,
   "id": "d5a88854-3dee-483d-b0cc-7b84d036f343",
   "metadata": {},
   "outputs": [
    {
     "data": {
      "text/plain": [
       "(<matplotlib.image.AxesImage at 0x7fec8342d4d0>,\n",
       " [],\n",
       " <matplotlib.colorbar.Colorbar at 0x7fec7ed595d0>,\n",
       " [])"
      ]
     },
     "execution_count": 28,
     "metadata": {},
     "output_type": "execute_result"
    },
    {
     "data": {
      "image/png": "[encoded data removed]",
      "text/plain": [
       "<Figure size 432x288 with 2 Axes>"
      ]
     },
     "metadata": {
      "needs_background": "light"
     },
     "output_type": "display_data"
    }
   ],
   "source": [
    "showContactMap(gnm)"
   ]
  },
  {
   "cell_type": "markdown",
   "id": "ba5c429c-b93e-476b-aa83-04f47450e2ad",
   "metadata": {},
   "source": [
    "#### Cross Correlations"
   ]
  },
  {
   "cell_type": "code",
   "execution_count": 29,
   "id": "c9885faa-f061-42e5-aeba-3703ceb55cd8",
   "metadata": {},
   "outputs": [
    {
     "data": {
      "text/plain": [
       "(<matplotlib.image.AxesImage at 0x7fec7eaf9f90>,\n",
       " [],\n",
       " <matplotlib.colorbar.Colorbar at 0x7fec7eb24710>,\n",
       " [])"
      ]
     },
     "execution_count": 29,
     "metadata": {},
     "output_type": "execute_result"
    },
    {
     "data": {
      "image/png": "[encoded data removed]",
      "text/plain": [
       "<Figure size 432x288 with 2 Axes>"
      ]
     },
     "metadata": {
      "needs_background": "light"
     },
     "output_type": "display_data"
    }
   ],
   "source": [
    "showCrossCorr(gnm)"
   ]
  },
  {
   "cell_type": "markdown",
   "id": "672589ce-33ca-44ca-ad2f-58eb2633df21",
   "metadata": {},
   "source": [
    "#### Slow mode shape\n",
    "By default, hinge sites will be shown in `mode shape plot` indicated by __red__ stars, and it can be turned off by setting `hinges=False`. The option `zero=True` is to turn on the reference line of zero."
   ]
  },
  {
   "cell_type": "code",
   "execution_count": 30,
   "id": "d8f0548b-e9ce-41c8-b373-73e458752ea6",
   "metadata": {},
   "outputs": [
    {
     "data": {
      "image/png": "[encoded data removed]",
      "text/plain": [
       "<Figure size 432x288 with 1 Axes>"
      ]
     },
     "metadata": {
      "needs_background": "light"
     },
     "output_type": "display_data"
    }
   ],
   "source": [
    "showMode(slowest_mode, hinges=True, zero=True)\n",
    "grid()"
   ]
  },
  {
   "cell_type": "markdown",
   "id": "e751ffb9-5997-4d9c-8b9a-339516fb8b9d",
   "metadata": {},
   "source": [
    "#### Square fluctuations"
   ]
  },
  {
   "cell_type": "code",
   "execution_count": 31,
   "id": "6c7e258a-bf83-4d25-90f4-12c3415b8fb0",
   "metadata": {},
   "outputs": [
    {
     "data": {
      "text/plain": [
       "[([<matplotlib.lines.Line2D at 0x7fec7d049c50>], [], [], [])]"
      ]
     },
     "execution_count": 31,
     "metadata": {},
     "output_type": "execute_result"
    },
    {
     "data": {
      "image/png": "[encoded data removed]",
      "text/plain": [
       "<Figure size 432x288 with 1 Axes>"
      ]
     },
     "metadata": {
      "needs_background": "light"
     },
     "output_type": "display_data"
    }
   ],
   "source": [
    "showSqFlucts(slowest_mode, hinges=True)"
   ]
  },
  {
   "cell_type": "markdown",
   "id": "37decf66-b36b-47d7-9966-a229eec44c46",
   "metadata": {},
   "source": [
    "#### Protein structure bipartition\n",
    "Given a GNM mode, protein structure can be partitioned into two parts that move with respect to each other. The function `showProtein()` can take a __GNM mode__ as input and visualize the bipartition."
   ]
  },
  {
   "cell_type": "code",
   "execution_count": 35,
   "id": "5b4c9f32-060f-4170-bf8c-1847da80e98b",
   "metadata": {},
   "outputs": [
    {
     "name": "stderr",
     "output_type": "stream",
     "text": [
      "/home/mohsen/miniconda3/envs/venv/lib/python3.7/site-packages/prody/proteins/functions.py:265: MatplotlibDeprecationWarning: Axes3D(fig) adding itself to the figure is deprecated since 3.4. Pass the keyword argument auto_add_to_figure=False and use fig.add_axes(ax) to suppress this warning. The default value of auto_add_to_figure will change to False in mpl3.5 and True values will no longer work in 3.6.  This is consistent with other Axes classes.\n",
      "  show = Axes3D(cf)\n"
     ]
    },
    {
     "data": {
      "text/plain": [
       "<Axes3D:xlabel='x', ylabel='y'>"
      ]
     },
     "execution_count": 35,
     "metadata": {},
     "output_type": "execute_result"
    },
    {
     "data": {
      "image/png": "[encoded data removed]",
      "text/plain": [
       "<Figure size 432x288 with 1 Axes>"
      ]
     },
     "metadata": {
      "needs_background": "light"
     },
     "output_type": "display_data"
    }
   ],
   "source": [
    "showProtein(c_alphas, mode=gnm[0])"
   ]
  },
  {
   "cell_type": "markdown",
   "id": "1663f7b4-fcf2-41db-982e-b9f0461cc42d",
   "metadata": {},
   "source": [
    "## Congrats!\n",
    "\n",
    "The notebook is available at https://github.com/Naghipourfar/molecular-biomechanics/"
   ]
  }
 ],
 "metadata": {
  "kernelspec": {
   "display_name": "Python 3 (ipykernel)",
   "language": "python",
   "name": "python3"
  },
  "language_info": {
   "codemirror_mode": {
    "name": "ipython",
    "version": 3
   },
   "file_extension": ".py",
   "mimetype": "text/x-python",
   "name": "python",
   "nbconvert_exporter": "python",
   "pygments_lexer": "ipython3",
   "version": "3.7.11"
  }
 },
 "nbformat": 4,
 "nbformat_minor": 5
}
