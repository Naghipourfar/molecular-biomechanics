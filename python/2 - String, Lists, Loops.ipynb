{
 "cells": [
  {
   "cell_type": "markdown",
   "id": "70b8de06",
   "metadata": {},
   "source": [
    "# Lecture 2 - Strings, Lists, and Loops\n",
    "### University of California, Berkeley - Spring 2022"
   ]
  },
  {
   "cell_type": "code",
   "execution_count": 1,
   "id": "fbff0191",
   "metadata": {
    "collapsed": false,
    "jupyter": {
     "outputs_hidden": false
    }
   },
   "outputs": [],
   "source": [
    "from IPython.display import HTML, Image"
   ]
  },
  {
   "cell_type": "markdown",
   "id": "eaa0641c",
   "metadata": {},
   "source": [
    "## What we have learned? \n",
    "\n",
    "- Python\n",
    "- The IPython notebook\n",
    "- Variables (`int`, `float`, `bool`)\n",
    "- Operators (`+`, `-`, `*`, ..., `==`, `<`, ..., `and`, `or`, ...)\n",
    "- Conditional statements (`if`, `elif`, `else`)\n",
    "- While loops"
   ]
  },
  {
   "cell_type": "markdown",
   "id": "806ced68",
   "metadata": {},
   "source": [
    "## Strings\n",
    "\n",
    "Strings are ordered collections of _characters_. \n",
    "\n",
    "### Ordered\n",
    "_Ordered collections_ means that elements are numbered with _indexes_: 0, 1, 2, 3, 4...  \n",
    "Note that the first index is 0, __not__ 1!"
   ]
  },
  {
   "cell_type": "markdown",
   "id": "f7b89b22",
   "metadata": {},
   "source": [
    "### Characters\n",
    "\n",
    "Characters are textual symbols, like letters (`ABCDE...`), numerals (`12345`), punctuation marks (`,.?:&`), and even things like newline (`\\n`) and whitespace (` `)."
   ]
  },
  {
   "cell_type": "markdown",
   "id": "b8aa5ae9",
   "metadata": {},
   "source": [
    "![keyboard](imgs/keyboard.jpeg)"
   ]
  },
  {
   "cell_type": "markdown",
   "id": "e021b6bd",
   "metadata": {},
   "source": [
    "### Back to strings\n",
    "\n",
    "Most commonly, strings are used to work with _text_. \n",
    "\n",
    "We can _assign_ and _print_ strings:"
   ]
  },
  {
   "cell_type": "code",
   "execution_count": 2,
   "id": "8d1e5a85",
   "metadata": {
    "collapsed": false,
    "jupyter": {
     "outputs_hidden": false
    }
   },
   "outputs": [
    {
     "name": "stdout",
     "output_type": "stream",
     "text": [
      "MyFirstPythonCourse\n",
      "I love python\n"
     ]
    }
   ],
   "source": [
    "x = \"MyFirstPythonCourse\"\n",
    "y = 'I love python'\n",
    "print(x)\n",
    "print(y)"
   ]
  },
  {
   "cell_type": "markdown",
   "id": "7aa8b37d",
   "metadata": {},
   "source": [
    "Strings are objects of type `str`:"
   ]
  },
  {
   "cell_type": "code",
   "execution_count": 3,
   "id": "5e6d5a63",
   "metadata": {
    "collapsed": false,
    "jupyter": {
     "outputs_hidden": false
    }
   },
   "outputs": [
    {
     "data": {
      "text/plain": [
       "str"
      ]
     },
     "execution_count": 3,
     "metadata": {},
     "output_type": "execute_result"
    }
   ],
   "source": [
    "type(x)"
   ]
  },
  {
   "cell_type": "markdown",
   "id": "34e097c6",
   "metadata": {},
   "source": [
    "We can concat strings:"
   ]
  },
  {
   "cell_type": "code",
   "execution_count": 4,
   "id": "1b9121b9",
   "metadata": {
    "collapsed": false,
    "jupyter": {
     "outputs_hidden": false
    }
   },
   "outputs": [
    {
     "name": "stdout",
     "output_type": "stream",
     "text": [
      "MyFirstPythonCourse2015\n"
     ]
    }
   ],
   "source": [
    "print(x + \"2015\")"
   ]
  },
  {
   "cell_type": "markdown",
   "id": "8e903add",
   "metadata": {},
   "source": [
    "We can convert string to numbers and vice versa (if it is appropriate):"
   ]
  },
  {
   "cell_type": "code",
   "execution_count": 5,
   "id": "296e4998",
   "metadata": {
    "collapsed": false,
    "jupyter": {
     "outputs_hidden": false
    }
   },
   "outputs": [
    {
     "name": "stdout",
     "output_type": "stream",
     "text": [
      "y+1 = 5\n"
     ]
    }
   ],
   "source": [
    "x = \"4\"\n",
    "y = int(x)\n",
    "print(\"y+1 =\", y + 1)"
   ]
  },
  {
   "cell_type": "markdown",
   "id": "7d3b12a8",
   "metadata": {},
   "source": [
    "Otherwise, we get an error message..."
   ]
  },
  {
   "cell_type": "code",
   "execution_count": 6,
   "id": "24031130",
   "metadata": {
    "collapsed": false,
    "jupyter": {
     "outputs_hidden": false
    }
   },
   "outputs": [
    {
     "ename": "TypeError",
     "evalue": "can only concatenate str (not \"int\") to str",
     "output_type": "error",
     "traceback": [
      "\u001b[0;31m---------------------------------------------------------------------------\u001b[0m",
      "\u001b[0;31mTypeError\u001b[0m                                 Traceback (most recent call last)",
      "\u001b[0;32m/var/folders/b1/j_d3vbvx5p7cx3k5fv8_mkvh0000gn/T/ipykernel_30176/1932471866.py\u001b[0m in \u001b[0;36m<module>\u001b[0;34m\u001b[0m\n\u001b[0;32m----> 1\u001b[0;31m \u001b[0mprint\u001b[0m\u001b[0;34m(\u001b[0m\u001b[0;34m\"x+1 =\"\u001b[0m\u001b[0;34m,\u001b[0m \u001b[0mx\u001b[0m \u001b[0;34m+\u001b[0m \u001b[0;36m1\u001b[0m\u001b[0;34m)\u001b[0m\u001b[0;34m\u001b[0m\u001b[0;34m\u001b[0m\u001b[0m\n\u001b[0m",
      "\u001b[0;31mTypeError\u001b[0m: can only concatenate str (not \"int\") to str"
     ]
    }
   ],
   "source": [
    "print(\"x+1 =\", x + 1)"
   ]
  },
  {
   "cell_type": "code",
   "execution_count": 7,
   "id": "2099e58a",
   "metadata": {
    "collapsed": false,
    "jupyter": {
     "outputs_hidden": false
    }
   },
   "outputs": [
    {
     "name": "stdout",
     "output_type": "stream",
     "text": [
      "x = 4\n"
     ]
    }
   ],
   "source": [
    "x = str(y)\n",
    "print(\"x =\", x)"
   ]
  },
  {
   "cell_type": "code",
   "execution_count": 8,
   "id": "9a9b9f81",
   "metadata": {
    "collapsed": false,
    "jupyter": {
     "outputs_hidden": false
    }
   },
   "outputs": [
    {
     "name": "stdout",
     "output_type": "stream",
     "text": [
      "y*2 = 6.28\n"
     ]
    }
   ],
   "source": [
    "x = \"3.14\"\n",
    "y = float(x)\n",
    "print(\"y*2 =\", y * 2)"
   ]
  },
  {
   "cell_type": "markdown",
   "id": "4223bc05",
   "metadata": {},
   "source": [
    "### Why do we care about text in programming?\n",
    "- Sequences\n",
    "- Data in formated text files (lesson 4)\n",
    "- Free text"
   ]
  },
  {
   "cell_type": "markdown",
   "id": "36c00f88",
   "metadata": {},
   "source": [
    "Because we are biologists, strings are not just text, they are also __sequences__!\n",
    "\n",
    "![sequences](imgs/msa.png)"
   ]
  },
  {
   "cell_type": "code",
   "execution_count": 9,
   "id": "c20fb5bb",
   "metadata": {
    "collapsed": false,
    "jupyter": {
     "outputs_hidden": false
    }
   },
   "outputs": [
    {
     "name": "stdout",
     "output_type": "stream",
     "text": [
      "ATGCGTA\n"
     ]
    }
   ],
   "source": [
    "dna = \"ATGCGTA\"\n",
    "print(dna)"
   ]
  },
  {
   "cell_type": "markdown",
   "id": "81247297",
   "metadata": {},
   "source": [
    "Again we can concat strings:"
   ]
  },
  {
   "cell_type": "code",
   "execution_count": 10,
   "id": "61191283",
   "metadata": {
    "collapsed": false,
    "jupyter": {
     "outputs_hidden": false
    }
   },
   "outputs": [
    {
     "name": "stdout",
     "output_type": "stream",
     "text": [
      "AAAATGGGG\n"
     ]
    }
   ],
   "source": [
    "upstream = \"AAA\"\n",
    "downstream = \"GGG\"\n",
    "dna = upstream + \"ATG\" + downstream\n",
    "print(dna)"
   ]
  },
  {
   "cell_type": "markdown",
   "id": "96205547",
   "metadata": {},
   "source": [
    "We can find the length of a string using the command `len`:"
   ]
  },
  {
   "cell_type": "code",
   "execution_count": 11,
   "id": "14552e0f",
   "metadata": {
    "collapsed": false,
    "jupyter": {
     "outputs_hidden": false
    }
   },
   "outputs": [
    {
     "name": "stdout",
     "output_type": "stream",
     "text": [
      "The length of the DNA variable is 9\n",
      "Now it is 15\n"
     ]
    }
   ],
   "source": [
    "n = len(dna)\n",
    "print(\"The length of the DNA variable is\", n)\n",
    "\n",
    "dna = dna + \"AGCTGA\"\n",
    "print(\"Now it is\", len(dna))"
   ]
  },
  {
   "cell_type": "code",
   "execution_count": 12,
   "id": "23e08d24",
   "metadata": {
    "collapsed": false,
    "jupyter": {
     "outputs_hidden": false
    }
   },
   "outputs": [
    {
     "name": "stdout",
     "output_type": "stream",
     "text": [
      "AAAATGGGGAGCTGA\n",
      "AAAATGGGGAGCTGAAGCTGA\n"
     ]
    }
   ],
   "source": [
    "print(dna)\n",
    "dna = dna + \"AGCTGA\"\n",
    "print(dna)"
   ]
  },
  {
   "cell_type": "markdown",
   "id": "4cecaa4e",
   "metadata": {},
   "source": [
    "also works with numbers:"
   ]
  },
  {
   "cell_type": "code",
   "execution_count": 13,
   "id": "db31d40d",
   "metadata": {
    "collapsed": false,
    "jupyter": {
     "outputs_hidden": false
    }
   },
   "outputs": [
    {
     "name": "stdout",
     "output_type": "stream",
     "text": [
      "17\n"
     ]
    }
   ],
   "source": [
    "x = 10\n",
    "x = x + 7\n",
    "print(x)"
   ]
  },
  {
   "cell_type": "markdown",
   "id": "72acfbd2",
   "metadata": {},
   "source": [
    "### String slicing\n",
    "We can extract subsets of a string by using _slicing_, with the corresponding indexes.  \n",
    "Remember: string indexes start from __0__!"
   ]
  },
  {
   "cell_type": "markdown",
   "id": "6e3a9ed0",
   "metadata": {},
   "source": [
    "We can access specific indexes of the list (_starting from 0_)"
   ]
  },
  {
   "cell_type": "code",
   "execution_count": 14,
   "id": "869d1733",
   "metadata": {
    "collapsed": false,
    "jupyter": {
     "outputs_hidden": false
    }
   },
   "outputs": [],
   "source": [
    "bacteria = 'Escherichia coli'"
   ]
  },
  {
   "cell_type": "code",
   "execution_count": 15,
   "id": "f21aab07",
   "metadata": {
    "collapsed": false,
    "jupyter": {
     "outputs_hidden": false
    }
   },
   "outputs": [
    {
     "name": "stdout",
     "output_type": "stream",
     "text": [
      "E\n",
      "r\n"
     ]
    }
   ],
   "source": [
    "# get the 1st and 6th letters\n",
    "print(bacteria[0])\n",
    "print(bacteria[5])"
   ]
  },
  {
   "cell_type": "markdown",
   "id": "133f7ebd",
   "metadata": {},
   "source": [
    "Indexes work from the tail as well, using negative numbers:"
   ]
  },
  {
   "cell_type": "code",
   "execution_count": 16,
   "id": "30fa99bd",
   "metadata": {
    "collapsed": false,
    "jupyter": {
     "outputs_hidden": false
    }
   },
   "outputs": [
    {
     "name": "stdout",
     "output_type": "stream",
     "text": [
      "i\n",
      " \n"
     ]
    }
   ],
   "source": [
    "# get the last letter\n",
    "print(bacteria[-1])\n",
    "# get 5th letter from the end\n",
    "print(bacteria[-5])"
   ]
  },
  {
   "cell_type": "markdown",
   "id": "cd5b7c49",
   "metadata": {},
   "source": [
    "We can get a range of indexes using _\\[start:end\\]_"
   ]
  },
  {
   "cell_type": "code",
   "execution_count": 17,
   "id": "251b4236",
   "metadata": {
    "collapsed": false,
    "jupyter": {
     "outputs_hidden": false
    }
   },
   "outputs": [
    {
     "name": "stdout",
     "output_type": "stream",
     "text": [
      "cheric\n"
     ]
    }
   ],
   "source": [
    "# get the 3rd to 8th letters\n",
    "print(bacteria[2:8])"
   ]
  },
  {
   "cell_type": "markdown",
   "id": "99934b6c",
   "metadata": {},
   "source": [
    "Notice that the _start_ position is included, but not the _end_ position. We actually take the character with indexes 2,3,4,5,6,7.\n",
    "And what do we get?"
   ]
  },
  {
   "cell_type": "code",
   "execution_count": 18,
   "id": "e0375ba1",
   "metadata": {
    "collapsed": false,
    "jupyter": {
     "outputs_hidden": false
    }
   },
   "outputs": [
    {
     "data": {
      "text/plain": [
       "str"
      ]
     },
     "execution_count": 18,
     "metadata": {},
     "output_type": "execute_result"
    }
   ],
   "source": [
    "type(bacteria[2:8])"
   ]
  },
  {
   "cell_type": "markdown",
   "id": "bdce81eb",
   "metadata": {},
   "source": [
    "There are shorts for taking the first and last characters:"
   ]
  },
  {
   "cell_type": "code",
   "execution_count": 19,
   "id": "b80f67a9",
   "metadata": {
    "collapsed": false,
    "jupyter": {
     "outputs_hidden": false
    }
   },
   "outputs": [
    {
     "name": "stdout",
     "output_type": "stream",
     "text": [
      "Esche\n",
      "Esche\n",
      "herichia coli\n",
      "oli\n"
     ]
    }
   ],
   "source": [
    "# get the first 5 letters\n",
    "print(bacteria[0:5])\n",
    "# or simply:\n",
    "print(bacteria[:5])\n",
    "\n",
    "# get 3rd to last nucleotides:\n",
    "print(bacteria[3:])\n",
    "\n",
    "# last 3 nucleotides\n",
    "print(bacteria[-3:])"
   ]
  },
  {
   "cell_type": "markdown",
   "id": "cd7bb81e",
   "metadata": {},
   "source": [
    "### String methods\n",
    "\n",
    "There are some methods (actions, commands) we can operate on strings. These are provoked using the '`.`' character.\n",
    "\n",
    "We can change a string to lowercase:"
   ]
  },
  {
   "cell_type": "code",
   "execution_count": 20,
   "id": "af502d8f",
   "metadata": {
    "collapsed": false,
    "jupyter": {
     "outputs_hidden": false
    }
   },
   "outputs": [
    {
     "name": "stdout",
     "output_type": "stream",
     "text": [
      "aaaatggggagctgaagctga\n"
     ]
    }
   ],
   "source": [
    "dna = dna.lower()\n",
    "print(dna)"
   ]
  },
  {
   "cell_type": "markdown",
   "id": "c1c5bfba",
   "metadata": {},
   "source": [
    "And back to uppercase:"
   ]
  },
  {
   "cell_type": "code",
   "execution_count": 21,
   "id": "d0ca40bd",
   "metadata": {
    "collapsed": false,
    "jupyter": {
     "outputs_hidden": false
    }
   },
   "outputs": [
    {
     "name": "stdout",
     "output_type": "stream",
     "text": [
      "AAAATGGGGAGCTGAAGCTGA\n"
     ]
    }
   ],
   "source": [
    "dna = dna.upper()\n",
    "print(dna)"
   ]
  },
  {
   "cell_type": "markdown",
   "id": "17e68491",
   "metadata": {},
   "source": [
    "We can replace characters:"
   ]
  },
  {
   "cell_type": "code",
   "execution_count": 22,
   "id": "b1212ea1",
   "metadata": {
    "collapsed": false,
    "jupyter": {
     "outputs_hidden": false
    }
   },
   "outputs": [
    {
     "name": "stdout",
     "output_type": "stream",
     "text": [
      "AAAAUGGGGAGCUGAAGCUGA\n"
     ]
    }
   ],
   "source": [
    "rna = dna.replace(\"T\", \"U\")\n",
    "print(rna)"
   ]
  },
  {
   "cell_type": "markdown",
   "id": "8beeb75c",
   "metadata": {},
   "source": [
    "#### Count\n",
    "We can count characters. \n",
    "\n",
    "For example, let's count the number of histidine (`H`) and proline (`P`) in the [AA](http://upload.wikimedia.org/wikipedia/commons/a/a9/Amino_Acids.svg) (amino-acid) sequence of [Human Insulin](http://www.uniprot.org/blast/?about=P01308):"
   ]
  },
  {
   "cell_type": "code",
   "execution_count": 23,
   "id": "0f1858a8",
   "metadata": {
    "collapsed": false,
    "jupyter": {
     "outputs_hidden": false
    }
   },
   "outputs": [
    {
     "name": "stdout",
     "output_type": "stream",
     "text": [
      "# of histidine: 2\n",
      "# of proline: 6\n"
     ]
    }
   ],
   "source": [
    "insulin = 'MALWMRLLPLLALLALWGPDPAAAFVNQHLCGSHLVEALYLVCGERGFFYTPKTRREAEDLQVGQVELGGGPGAGSLQPLALEGSLQKRGIVEQCCTSICSLYQLENYCN'\n",
    "print(\"# of histidine:\", insulin.count('H'))\n",
    "print(\"# of proline:\", insulin.count('P'))"
   ]
  },
  {
   "cell_type": "markdown",
   "id": "dfd19b2a",
   "metadata": {},
   "source": [
    "#### Find\n",
    "We can find a substring within a string.\n",
    "For example, we can look for the character `D` in the insulin sequence."
   ]
  },
  {
   "cell_type": "code",
   "execution_count": 24,
   "id": "f9fc9bd6",
   "metadata": {
    "collapsed": false,
    "jupyter": {
     "outputs_hidden": false
    }
   },
   "outputs": [
    {
     "name": "stdout",
     "output_type": "stream",
     "text": [
      "19\n"
     ]
    }
   ],
   "source": [
    "pos = insulin.index('D')\n",
    "print(pos)"
   ]
  },
  {
   "cell_type": "code",
   "execution_count": 25,
   "id": "a2292c82",
   "metadata": {
    "collapsed": false,
    "jupyter": {
     "outputs_hidden": false
    }
   },
   "outputs": [
    {
     "data": {
      "text/plain": [
       "int"
      ]
     },
     "execution_count": 25,
     "metadata": {},
     "output_type": "execute_result"
    }
   ],
   "source": [
    "type(pos)"
   ]
  },
  {
   "cell_type": "code",
   "execution_count": 26,
   "id": "ec36fbb1",
   "metadata": {
    "collapsed": false,
    "jupyter": {
     "outputs_hidden": false
    }
   },
   "outputs": [
    {
     "name": "stdout",
     "output_type": "stream",
     "text": [
      "D\n"
     ]
    }
   ],
   "source": [
    "print(insulin[pos])"
   ]
  },
  {
   "cell_type": "markdown",
   "id": "41b6ed1f",
   "metadata": {},
   "source": [
    "The result is the index (position) of the first `D` found in the sequence."
   ]
  },
  {
   "cell_type": "markdown",
   "id": "e45021b0",
   "metadata": {},
   "source": [
    "We can also look for longer substrings, representing motiffs. For example, let's find the position of the Insulin [B-chain](http://www.uniprot.org/blast/?about=P01308[25-54]) in the entire peptide:"
   ]
  },
  {
   "cell_type": "code",
   "execution_count": 27,
   "id": "2ec0ca52",
   "metadata": {
    "collapsed": false,
    "jupyter": {
     "outputs_hidden": false
    }
   },
   "outputs": [
    {
     "name": "stdout",
     "output_type": "stream",
     "text": [
      "Position: 24\n"
     ]
    }
   ],
   "source": [
    "b_chain = \"FVNQHLCGSHLVEALYLVCGERGFFYTPKT\"\n",
    "position = insulin.index(b_chain)\n",
    "print(\"Position:\", position)"
   ]
  },
  {
   "cell_type": "code",
   "execution_count": 28,
   "id": "d80c0efd",
   "metadata": {
    "collapsed": false,
    "jupyter": {
     "outputs_hidden": false
    }
   },
   "outputs": [
    {
     "name": "stdout",
     "output_type": "stream",
     "text": [
      "30\n"
     ]
    }
   ],
   "source": [
    "print(len(b_chain))"
   ]
  },
  {
   "cell_type": "code",
   "execution_count": 29,
   "id": "210fdce8",
   "metadata": {
    "collapsed": false,
    "jupyter": {
     "outputs_hidden": false
    }
   },
   "outputs": [
    {
     "name": "stdout",
     "output_type": "stream",
     "text": [
      "True\n",
      "Original: FVNQHLCGSHLVEALYLVCGERGFFYTPKT\n",
      "Found:    FVNQHLCGSHLVEALYLVCGERGFFYTPKT\n"
     ]
    }
   ],
   "source": [
    "found = insulin[position:position + len(b_chain)] # slicing (notice the ':')\n",
    "print(b_chain == found)\n",
    "print(\"Original:\", b_chain)\n",
    "print(\"Found:   \", found)"
   ]
  },
  {
   "cell_type": "markdown",
   "id": "cfb57276",
   "metadata": {},
   "source": [
    "#### Split\n",
    "\n",
    "We can split a string on every occurence of a separator character:"
   ]
  },
  {
   "cell_type": "code",
   "execution_count": 30,
   "id": "f620e89d",
   "metadata": {
    "collapsed": false,
    "jupyter": {
     "outputs_hidden": false
    }
   },
   "outputs": [
    {
     "name": "stdout",
     "output_type": "stream",
     "text": [
      "['melanogaster', 'simulans', 'yakuba', 'ananassae']\n"
     ]
    }
   ],
   "source": [
    "names = \"melanogaster,simulans,yakuba,ananassae\"\n",
    "species = names.split(\",\")\n",
    "print(species)"
   ]
  },
  {
   "cell_type": "markdown",
   "id": "302c13a2",
   "metadata": {},
   "source": [
    "What do we get?"
   ]
  },
  {
   "cell_type": "code",
   "execution_count": 31,
   "id": "1d1ba858",
   "metadata": {
    "collapsed": false,
    "jupyter": {
     "outputs_hidden": false
    }
   },
   "outputs": [
    {
     "data": {
      "text/plain": [
       "list"
      ]
     },
     "execution_count": 31,
     "metadata": {},
     "output_type": "execute_result"
    }
   ],
   "source": [
    "type(species)"
   ]
  },
  {
   "cell_type": "markdown",
   "id": "335a68e5",
   "metadata": {},
   "source": [
    "## Lists\n",
    "\n",
    "Lists are similar to strings in being sequential, only they can contain any type of data, not just characters.\n",
    "\n",
    "This includes `int`, `float`, `bool`, `str`, and even `list`.  \n",
    "Lists could even include mixed variable types.\n",
    "\n",
    "We define a list just like any other variable, but use '[ ]' and ',' to separate _elements_."
   ]
  },
  {
   "cell_type": "code",
   "execution_count": 32,
   "id": "0fe2ad8d",
   "metadata": {
    "collapsed": false,
    "jupyter": {
     "outputs_hidden": false
    }
   },
   "outputs": [
    {
     "name": "stdout",
     "output_type": "stream",
     "text": [
      "['Homo sapiens', 'Pan troglodytes', 'Pongo pygmaeus']\n"
     ]
    }
   ],
   "source": [
    "# a list of strings\n",
    "apes = [\"Homo sapiens\", \"Pan troglodytes\", \"Pongo pygmaeus\"]\n",
    "print(apes)"
   ]
  },
  {
   "cell_type": "markdown",
   "id": "bbf862ce",
   "metadata": {},
   "source": [
    "![Gorila](imgs/gorilla.jpeg)"
   ]
  },
  {
   "cell_type": "code",
   "execution_count": 33,
   "id": "4b571c13",
   "metadata": {
    "collapsed": false,
    "jupyter": {
     "outputs_hidden": false
    }
   },
   "outputs": [
    {
     "name": "stdout",
     "output_type": "stream",
     "text": [
      "[7, 13, 2, 400]\n"
     ]
    }
   ],
   "source": [
    "# a list of numbers\n",
    "nums = [7,13,2,400]\n",
    "print(nums)"
   ]
  },
  {
   "cell_type": "code",
   "execution_count": 34,
   "id": "b31b2235",
   "metadata": {
    "collapsed": false,
    "jupyter": {
     "outputs_hidden": false
    }
   },
   "outputs": [
    {
     "name": "stdout",
     "output_type": "stream",
     "text": [
      "[12, 'Mus musculus', True]\n"
     ]
    }
   ],
   "source": [
    "# a mixed list\n",
    "mixed = [12,'Mus musculus',True]\n",
    "print(mixed)"
   ]
  },
  {
   "cell_type": "markdown",
   "id": "4afabafb",
   "metadata": {},
   "source": [
    "You can access list elements just like strings, using indexes (starting from 0):"
   ]
  },
  {
   "cell_type": "code",
   "execution_count": 35,
   "id": "285ee85a",
   "metadata": {
    "collapsed": false,
    "jupyter": {
     "outputs_hidden": false
    }
   },
   "outputs": [
    {
     "name": "stdout",
     "output_type": "stream",
     "text": [
      "Human: Homo sapiens\n",
      "Gorila: Pongo pygmaeus\n"
     ]
    }
   ],
   "source": [
    "print(\"Human:\", apes[0])\n",
    "print(\"Gorila:\", apes[-1])"
   ]
  },
  {
   "cell_type": "markdown",
   "id": "c9c4682b",
   "metadata": {},
   "source": [
    "Lists are dynamic - you can append, remove and insert into them. This is done using _list methods_, again using the '.':"
   ]
  },
  {
   "cell_type": "markdown",
   "id": "c865acfe",
   "metadata": {},
   "source": [
    "We can access and change list elements."
   ]
  },
  {
   "cell_type": "code",
   "execution_count": 36,
   "id": "3d8f5b4a",
   "metadata": {
    "collapsed": false,
    "jupyter": {
     "outputs_hidden": false
    }
   },
   "outputs": [
    {
     "name": "stdout",
     "output_type": "stream",
     "text": [
      "['Homo sapiens', 'Pan troglodytes', 'Hylobates lar']\n"
     ]
    }
   ],
   "source": [
    "new_apes = apes[:] # make a copy of the apes list\n",
    "new_apes[2] = 'Hylobates lar'\n",
    "print(new_apes)"
   ]
  },
  {
   "cell_type": "markdown",
   "id": "9ce07a80",
   "metadata": {},
   "source": [
    "This __does NOT__ work with strings though..."
   ]
  },
  {
   "cell_type": "code",
   "execution_count": 37,
   "id": "386e1e21",
   "metadata": {
    "collapsed": false,
    "jupyter": {
     "outputs_hidden": false
    }
   },
   "outputs": [
    {
     "name": "stdout",
     "output_type": "stream",
     "text": [
      "AAAATGGGGAGCTGAAGCTGA\n"
     ]
    },
    {
     "ename": "TypeError",
     "evalue": "'str' object does not support item assignment",
     "output_type": "error",
     "traceback": [
      "\u001b[0;31m---------------------------------------------------------------------------\u001b[0m",
      "\u001b[0;31mTypeError\u001b[0m                                 Traceback (most recent call last)",
      "\u001b[0;32m/var/folders/b1/j_d3vbvx5p7cx3k5fv8_mkvh0000gn/T/ipykernel_30176/1717966375.py\u001b[0m in \u001b[0;36m<module>\u001b[0;34m\u001b[0m\n\u001b[1;32m      1\u001b[0m \u001b[0mprint\u001b[0m\u001b[0;34m(\u001b[0m\u001b[0mdna\u001b[0m\u001b[0;34m)\u001b[0m\u001b[0;34m\u001b[0m\u001b[0;34m\u001b[0m\u001b[0m\n\u001b[0;32m----> 2\u001b[0;31m \u001b[0mdna\u001b[0m\u001b[0;34m[\u001b[0m\u001b[0;36m5\u001b[0m\u001b[0;34m]\u001b[0m \u001b[0;34m=\u001b[0m \u001b[0;34m'G'\u001b[0m\u001b[0;34m\u001b[0m\u001b[0;34m\u001b[0m\u001b[0m\n\u001b[0m",
      "\u001b[0;31mTypeError\u001b[0m: 'str' object does not support item assignment"
     ]
    }
   ],
   "source": [
    "print(dna)\n",
    "dna[5] = 'G'"
   ]
  },
  {
   "cell_type": "code",
   "execution_count": 38,
   "id": "51a4b5fe",
   "metadata": {
    "collapsed": false,
    "jupyter": {
     "outputs_hidden": false
    }
   },
   "outputs": [
    {
     "name": "stdout",
     "output_type": "stream",
     "text": [
      "['Homo sapiens', 'Pan troglodytes', 'Pongo pygmaeus', 'Gorilla gorilla']\n"
     ]
    }
   ],
   "source": [
    "# add element to the end of the list\n",
    "apes.append(\"Gorilla gorilla\")\n",
    "print(apes)"
   ]
  },
  {
   "cell_type": "code",
   "execution_count": 39,
   "id": "9b535859",
   "metadata": {
    "collapsed": false,
    "jupyter": {
     "outputs_hidden": false
    }
   },
   "outputs": [
    {
     "name": "stdout",
     "output_type": "stream",
     "text": [
      "['Homo sapiens', 'Pan troglodytes', 'Pan paniscus', 'Pongo pygmaeus', 'Gorilla gorilla']\n"
     ]
    }
   ],
   "source": [
    "# insert element at a given index\n",
    "apes.insert(2, \"Pan paniscus\")\n",
    "print(apes)"
   ]
  },
  {
   "cell_type": "code",
   "execution_count": 40,
   "id": "feb4ce6c",
   "metadata": {
    "collapsed": false,
    "jupyter": {
     "outputs_hidden": false
    }
   },
   "outputs": [
    {
     "name": "stdout",
     "output_type": "stream",
     "text": [
      "['Homo sapiens', 'Pan troglodytes', 'Pan paniscus', 'Gorilla gorilla']\n"
     ]
    }
   ],
   "source": [
    "# remove element from list\n",
    "apes.remove(\"Pongo pygmaeus\")\n",
    "print(apes)"
   ]
  },
  {
   "cell_type": "markdown",
   "id": "71738ebd",
   "metadata": {},
   "source": [
    "To remove a list item by index:"
   ]
  },
  {
   "cell_type": "code",
   "execution_count": 41,
   "id": "f1cabda7",
   "metadata": {
    "collapsed": false,
    "jupyter": {
     "outputs_hidden": false
    }
   },
   "outputs": [],
   "source": [
    "# option 1\n",
    "apes.remove(apes[1])\n",
    "# option 2\n",
    "del(apes[1])"
   ]
  },
  {
   "cell_type": "markdown",
   "id": "03a98e5e",
   "metadata": {},
   "source": [
    "We can concat lists, just like strings:"
   ]
  },
  {
   "cell_type": "code",
   "execution_count": 42,
   "id": "a78a02e7",
   "metadata": {
    "collapsed": false,
    "jupyter": {
     "outputs_hidden": false
    }
   },
   "outputs": [
    {
     "name": "stdout",
     "output_type": "stream",
     "text": [
      "['Homo sapiens', 'Gorilla gorilla', 'Pongo pygmaeus', 'Pongo abelii']\n"
     ]
    }
   ],
   "source": [
    "print(apes + [\"Pongo pygmaeus\", \"Pongo abelii\"])"
   ]
  },
  {
   "cell_type": "markdown",
   "id": "f2827dd1",
   "metadata": {},
   "source": [
    "![Organutan](imgs/orangutan.jpeg)\n",
    "\n",
    "Searching in lists is done using `index` (not `find`):"
   ]
  },
  {
   "cell_type": "code",
   "execution_count": 43,
   "id": "b9704502",
   "metadata": {
    "collapsed": false,
    "jupyter": {
     "outputs_hidden": false
    }
   },
   "outputs": [
    {
     "ename": "ValueError",
     "evalue": "'Pan troglodytes' is not in list",
     "output_type": "error",
     "traceback": [
      "\u001b[0;31m---------------------------------------------------------------------------\u001b[0m",
      "\u001b[0;31mValueError\u001b[0m                                Traceback (most recent call last)",
      "\u001b[0;32m/var/folders/b1/j_d3vbvx5p7cx3k5fv8_mkvh0000gn/T/ipykernel_30176/3299005315.py\u001b[0m in \u001b[0;36m<module>\u001b[0;34m\u001b[0m\n\u001b[0;32m----> 1\u001b[0;31m \u001b[0mi\u001b[0m \u001b[0;34m=\u001b[0m \u001b[0mapes\u001b[0m\u001b[0;34m.\u001b[0m\u001b[0mindex\u001b[0m\u001b[0;34m(\u001b[0m\u001b[0;34m'Pan troglodytes'\u001b[0m\u001b[0;34m)\u001b[0m\u001b[0;34m\u001b[0m\u001b[0;34m\u001b[0m\u001b[0m\n\u001b[0m\u001b[1;32m      2\u001b[0m \u001b[0mprint\u001b[0m\u001b[0;34m(\u001b[0m\u001b[0mi\u001b[0m\u001b[0;34m)\u001b[0m\u001b[0;34m\u001b[0m\u001b[0;34m\u001b[0m\u001b[0m\n\u001b[1;32m      3\u001b[0m \u001b[0mprint\u001b[0m\u001b[0;34m(\u001b[0m\u001b[0mapes\u001b[0m\u001b[0;34m[\u001b[0m\u001b[0mi\u001b[0m\u001b[0;34m]\u001b[0m\u001b[0;34m)\u001b[0m\u001b[0;34m\u001b[0m\u001b[0;34m\u001b[0m\u001b[0m\n",
      "\u001b[0;31mValueError\u001b[0m: 'Pan troglodytes' is not in list"
     ]
    }
   ],
   "source": [
    "i = apes.index('Pan troglodytes')\n",
    "print(i)\n",
    "print(apes[i])"
   ]
  },
  {
   "cell_type": "markdown",
   "id": "37f07373",
   "metadata": {},
   "source": [
    "You can also check if something is in a list (works as well for strings):"
   ]
  },
  {
   "cell_type": "code",
   "execution_count": 44,
   "id": "ba1f47a6",
   "metadata": {
    "collapsed": false,
    "jupyter": {
     "outputs_hidden": false
    }
   },
   "outputs": [
    {
     "name": "stdout",
     "output_type": "stream",
     "text": [
      "Saguinus nigricollis is not an ape\n"
     ]
    }
   ],
   "source": [
    "if 'Saguinus nigricollis' in apes:\n",
    "    print('Saguinus nigricollis is an ape')\n",
    "else:\n",
    "    print('Saguinus nigricollis is not an ape')"
   ]
  },
  {
   "cell_type": "markdown",
   "id": "e7905f5c",
   "metadata": {},
   "source": [
    "### Lists of numbers\n",
    "\n",
    "Suppose we have a list of experimental measurements and we want to do basic statistics: count the number of results, calculate the average, and find the maximum and minimum."
   ]
  },
  {
   "cell_type": "code",
   "execution_count": 45,
   "id": "ee91d6e4",
   "metadata": {
    "collapsed": false,
    "jupyter": {
     "outputs_hidden": false
    }
   },
   "outputs": [
    {
     "name": "stdout",
     "output_type": "stream",
     "text": [
      "27 measurements with average 68.07407407407408 maximum 100 minimum 12\n"
     ]
    }
   ],
   "source": [
    "measurements = [33, 55,45,87,88,95,34,76,87,56,45,98,87,89,45,67,45,67,76,73,33,87,12,100,77,89,92]\n",
    "\n",
    "count = len(measurements)\n",
    "avg = sum(measurements) / len(measurements)\n",
    "maximum = max(measurements)\n",
    "minimum = min(measurements)\n",
    "\n",
    "print(count, \"measurements with average\", avg, \"maximum\", maximum, \"minimum\", minimum)"
   ]
  },
  {
   "cell_type": "markdown",
   "id": "3c9265ae",
   "metadata": {},
   "source": [
    "### Sorting lists\n",
    "  \n",
    "We can sort lists using the `sorted` method.  \n",
    "If the list is made __entirely__ of numbers, then sorting is straightforward:"
   ]
  },
  {
   "cell_type": "code",
   "execution_count": 46,
   "id": "57d49898",
   "metadata": {
    "collapsed": false,
    "jupyter": {
     "outputs_hidden": false
    }
   },
   "outputs": [
    {
     "name": "stdout",
     "output_type": "stream",
     "text": [
      "[12, 33, 33, 34, 45, 45, 45, 45, 55, 56, 67, 67, 73, 76, 76, 77, 87, 87, 87, 87, 88, 89, 89, 92, 95, 98, 100]\n"
     ]
    }
   ],
   "source": [
    "sorted_measurements = sorted(measurements)\n",
    "print(sorted_measurements)"
   ]
  },
  {
   "cell_type": "markdown",
   "id": "cbd9a717",
   "metadata": {},
   "source": [
    "A list of strings will be sorted lexicographically (think about the way '<' and '>' work on strings):"
   ]
  },
  {
   "cell_type": "code",
   "execution_count": 47,
   "id": "547878e4",
   "metadata": {
    "collapsed": false,
    "jupyter": {
     "outputs_hidden": false
    }
   },
   "outputs": [
    {
     "name": "stdout",
     "output_type": "stream",
     "text": [
      "['Gorilla gorilla', 'Homo sapiens']\n"
     ]
    }
   ],
   "source": [
    "sorted_apes = sorted(apes)\n",
    "print(sorted_apes)"
   ]
  },
  {
   "cell_type": "markdown",
   "id": "c47b8434",
   "metadata": {},
   "source": [
    "But beware of mixed lists!"
   ]
  },
  {
   "cell_type": "code",
   "execution_count": 48,
   "id": "0d5fc817",
   "metadata": {
    "collapsed": false,
    "jupyter": {
     "outputs_hidden": false
    }
   },
   "outputs": [
    {
     "name": "stdout",
     "output_type": "stream",
     "text": [
      "['Homo sapiens', 'Gorilla gorilla', 33, 55, 45, 87, 88, 95, 34, 76, 87, 56, 45, 98, 87, 89, 45, 67, 45, 67, 76, 73, 33, 87, 12, 100, 77, 89, 92]\n"
     ]
    },
    {
     "ename": "TypeError",
     "evalue": "'<' not supported between instances of 'int' and 'str'",
     "output_type": "error",
     "traceback": [
      "\u001b[0;31m---------------------------------------------------------------------------\u001b[0m",
      "\u001b[0;31mTypeError\u001b[0m                                 Traceback (most recent call last)",
      "\u001b[0;32m/var/folders/b1/j_d3vbvx5p7cx3k5fv8_mkvh0000gn/T/ipykernel_30176/3132614665.py\u001b[0m in \u001b[0;36m<module>\u001b[0;34m\u001b[0m\n\u001b[1;32m      1\u001b[0m \u001b[0mmixed\u001b[0m \u001b[0;34m=\u001b[0m \u001b[0mapes\u001b[0m \u001b[0;34m+\u001b[0m \u001b[0mmeasurements\u001b[0m\u001b[0;34m\u001b[0m\u001b[0;34m\u001b[0m\u001b[0m\n\u001b[1;32m      2\u001b[0m \u001b[0mprint\u001b[0m\u001b[0;34m(\u001b[0m\u001b[0mmixed\u001b[0m\u001b[0;34m)\u001b[0m\u001b[0;34m\u001b[0m\u001b[0;34m\u001b[0m\u001b[0m\n\u001b[0;32m----> 3\u001b[0;31m \u001b[0mprint\u001b[0m\u001b[0;34m(\u001b[0m\u001b[0msorted\u001b[0m\u001b[0;34m(\u001b[0m\u001b[0mmixed\u001b[0m\u001b[0;34m)\u001b[0m\u001b[0;34m)\u001b[0m\u001b[0;34m\u001b[0m\u001b[0;34m\u001b[0m\u001b[0m\n\u001b[0m",
      "\u001b[0;31mTypeError\u001b[0m: '<' not supported between instances of 'int' and 'str'"
     ]
    }
   ],
   "source": [
    "mixed = apes + measurements\n",
    "print(mixed)\n",
    "print(sorted(mixed))"
   ]
  },
  {
   "cell_type": "markdown",
   "id": "cce9c132",
   "metadata": {},
   "source": [
    "### List of lists (nested lists)\n",
    "  \n",
    "List elements can be of any type, including lists!  \n",
    "For example:"
   ]
  },
  {
   "cell_type": "code",
   "execution_count": 49,
   "id": "fb567c26",
   "metadata": {
    "collapsed": false,
    "jupyter": {
     "outputs_hidden": false
    }
   },
   "outputs": [
    {
     "name": "stdout",
     "output_type": "stream",
     "text": [
      "[['Homo sapiens', 'Gorilla gorilla'], ['Gallus gallus', 'Corvus corone', 'Passer domesticus'], ['Ophiophagus hannah', 'Vipera palaestinae', 'Python bivittatus']]\n"
     ]
    }
   ],
   "source": [
    "birds = ['Gallus gallus', 'Corvus corone', 'Passer domesticus']\n",
    "snakes = ['Ophiophagus hannah', 'Vipera palaestinae', 'Python bivittatus']\n",
    "animals = [apes,birds,snakes]\n",
    "print(animals)"
   ]
  },
  {
   "cell_type": "markdown",
   "id": "866be51e",
   "metadata": {},
   "source": [
    "We access lists of lists using double-indexes. For example, to get the 3rd snake:"
   ]
  },
  {
   "cell_type": "code",
   "execution_count": 50,
   "id": "d6290f0f",
   "metadata": {
    "collapsed": false,
    "jupyter": {
     "outputs_hidden": false
    }
   },
   "outputs": [
    {
     "name": "stdout",
     "output_type": "stream",
     "text": [
      "Python bivittatus\n"
     ]
    }
   ],
   "source": [
    "print(animals[2][2])"
   ]
  },
  {
   "cell_type": "markdown",
   "id": "6961b33e",
   "metadata": {},
   "source": [
    "Note that the elements of the outer list are __lists__ themselves, not strings. For example:"
   ]
  },
  {
   "cell_type": "code",
   "execution_count": 51,
   "id": "73c841aa",
   "metadata": {
    "collapsed": false,
    "jupyter": {
     "outputs_hidden": false
    }
   },
   "outputs": [
    {
     "data": {
      "text/plain": [
       "list"
      ]
     },
     "execution_count": 51,
     "metadata": {},
     "output_type": "execute_result"
    }
   ],
   "source": [
    "type(animals[1])"
   ]
  },
  {
   "cell_type": "markdown",
   "id": "64237c43",
   "metadata": {},
   "source": [
    "### List slicing\n",
    "  \n",
    "We can slice lists just like we did with strings, to get partial lists.  \n",
    "For example:"
   ]
  },
  {
   "cell_type": "code",
   "execution_count": 52,
   "id": "d0fd8af3",
   "metadata": {
    "collapsed": false,
    "jupyter": {
     "outputs_hidden": false
    }
   },
   "outputs": [
    {
     "name": "stdout",
     "output_type": "stream",
     "text": [
      "[33, 55, 45, 87, 88, 95, 34, 76, 87, 56]\n",
      "[77, 89, 92]\n"
     ]
    }
   ],
   "source": [
    "# get the first 10 measurements\n",
    "print(measurements[:10])\n",
    "# get the last 3 measurements\n",
    "print(measurements[-3:])"
   ]
  },
  {
   "cell_type": "markdown",
   "id": "0cb2e907",
   "metadata": {},
   "source": [
    "## Loops\n",
    "\n",
    "Say we want to print each element of our list:"
   ]
  },
  {
   "cell_type": "code",
   "execution_count": 53,
   "id": "a8a431c0",
   "metadata": {
    "collapsed": false,
    "jupyter": {
     "outputs_hidden": false
    }
   },
   "outputs": [
    {
     "name": "stdout",
     "output_type": "stream",
     "text": [
      "Homo sapiens is an ape\n",
      "Gorilla gorilla is an ape\n"
     ]
    }
   ],
   "source": [
    "print(apes[0], \"is an ape\")\n",
    "print(apes[1], \"is an ape\")"
   ]
  },
  {
   "cell_type": "markdown",
   "id": "4fdf2183",
   "metadata": {},
   "source": [
    "but this is very repetitive and relies on us knowing the number of elements in the list. What we need is a way to say something along the lines of “for each element in the list of apes, print out the element, followed by the words ‘ is an ape’“. Python’s loop syntax allows us to express those instructions like this:"
   ]
  },
  {
   "cell_type": "code",
   "execution_count": 54,
   "id": "7fcf1443",
   "metadata": {
    "collapsed": false,
    "jupyter": {
     "outputs_hidden": false
    }
   },
   "outputs": [
    {
     "name": "stdout",
     "output_type": "stream",
     "text": [
      "Homo sapiens is an ape\n",
      "Gorilla gorilla is an ape\n"
     ]
    }
   ],
   "source": [
    "for ape in apes:\n",
    "    print(ape, \"is an ape\")"
   ]
  },
  {
   "cell_type": "markdown",
   "id": "adea465f",
   "metadata": {},
   "source": [
    "![Python loop](imgs/python_loop.jpeg)\n",
    "\n",
    "A more complex loop will go over each ape name and print some stats:"
   ]
  },
  {
   "cell_type": "code",
   "execution_count": 55,
   "id": "afe2f9d8",
   "metadata": {
    "collapsed": false,
    "jupyter": {
     "outputs_hidden": false
    }
   },
   "outputs": [
    {
     "name": "stdout",
     "output_type": "stream",
     "text": [
      "Homo sapiens is an ape. Its name starts with H\n",
      "Its name has 12 letters\n",
      "Gorilla gorilla is an ape. Its name starts with G\n",
      "Its name has 15 letters\n"
     ]
    }
   ],
   "source": [
    "for ape in apes:\n",
    "    name_length = len(ape)\n",
    "    first_letter = ape[0]\n",
    "    print(ape, \"is an ape. Its name starts with\", first_letter)\n",
    "    print(\"Its name has\", name_length, \"letters\")"
   ]
  },
  {
   "cell_type": "markdown",
   "id": "de6ff3b6",
   "metadata": {},
   "source": [
    "We can also loop over a string. \n",
    "\n",
    "Let's go over the Insulin AA sequnce and count the number of prolines manualy:"
   ]
  },
  {
   "cell_type": "code",
   "execution_count": 56,
   "id": "87901ebe",
   "metadata": {
    "collapsed": false,
    "jupyter": {
     "outputs_hidden": false
    }
   },
   "outputs": [
    {
     "name": "stdout",
     "output_type": "stream",
     "text": [
      "# of prolines: 6\n"
     ]
    }
   ],
   "source": [
    "count = 0\n",
    "for aa in insulin:\n",
    "    if aa == \"P\":\n",
    "        count = count + 1\n",
    "print(\"# of prolines:\", count)"
   ]
  },
  {
   "cell_type": "markdown",
   "id": "081c0598",
   "metadata": {},
   "source": [
    "Can you remember another way of doing this?"
   ]
  },
  {
   "cell_type": "markdown",
   "id": "578014ab",
   "metadata": {},
   "source": [
    "Let's count how many measurements (see above) are above the average:"
   ]
  },
  {
   "cell_type": "code",
   "execution_count": 57,
   "id": "9c73a656",
   "metadata": {
    "collapsed": false,
    "jupyter": {
     "outputs_hidden": false
    }
   },
   "outputs": [
    {
     "name": "stdout",
     "output_type": "stream",
     "text": [
      "[33, 55, 45, 87, 88, 95, 34, 76, 87, 56, 45, 98, 87, 89, 45, 67, 45, 67, 76, 73, 33, 87, 12, 100, 77, 89, 92]\n",
      "68.07407407407408\n"
     ]
    }
   ],
   "source": [
    "print(measurements)\n",
    "print(avg)"
   ]
  },
  {
   "cell_type": "code",
   "execution_count": 58,
   "id": "09deb295",
   "metadata": {
    "collapsed": false,
    "jupyter": {
     "outputs_hidden": false
    }
   },
   "outputs": [
    {
     "name": "stdout",
     "output_type": "stream",
     "text": [
      "15 measurements are over the average.\n"
     ]
    }
   ],
   "source": [
    "over = 0\n",
    "for x in measurements:\n",
    "    if x > avg:\n",
    "        over = over + 1\n",
    "print(over, \"measurements are over the average.\")"
   ]
  },
  {
   "cell_type": "markdown",
   "id": "3d58058a",
   "metadata": {},
   "source": [
    "## Using `range`\n",
    "\n",
    "Sometimes we want to loop over consecutive numbers.\n",
    "\n",
    "This is accomplished using the `range` command.\n",
    "\n",
    "`range` accepts one, two, or three arguments: the bottom and upper limits and the step size.  \n",
    "The bottom limit can be omited - default is zero - and the step can be omited - default is 1.  \n",
    "The upper limit is __not__ included."
   ]
  },
  {
   "cell_type": "code",
   "execution_count": 59,
   "id": "754ab6d1",
   "metadata": {
    "collapsed": false,
    "jupyter": {
     "outputs_hidden": false
    }
   },
   "outputs": [
    {
     "name": "stdout",
     "output_type": "stream",
     "text": [
      "0\n",
      "1\n",
      "2\n",
      "3\n",
      "4\n",
      "5\n",
      "6\n",
      "7\n",
      "8\n",
      "9\n"
     ]
    }
   ],
   "source": [
    "for i in range(10): # aka range(0,10,1)\n",
    "    print(i)"
   ]
  },
  {
   "cell_type": "code",
   "execution_count": 60,
   "id": "fa443ae8",
   "metadata": {
    "collapsed": false,
    "jupyter": {
     "outputs_hidden": false
    }
   },
   "outputs": [
    {
     "name": "stdout",
     "output_type": "stream",
     "text": [
      "10 11 12 13 14 15 16 17 18 19 "
     ]
    }
   ],
   "source": [
    "for i in range(10,20):\n",
    "    print(i, end=' ') # prints ending with space instead of newline"
   ]
  },
  {
   "cell_type": "code",
   "execution_count": 61,
   "id": "73076a64",
   "metadata": {
    "collapsed": false,
    "jupyter": {
     "outputs_hidden": false
    }
   },
   "outputs": [
    {
     "name": "stdout",
     "output_type": "stream",
     "text": [
      "100 110 120 130 140 150 160 170 180 190 200 210 220 230 240 250 260 270 280 290 300 310 320 330 340 350 360 370 380 390 400 410 420 430 440 450 460 470 480 490 500 510 520 530 540 550 560 570 580 590 600 610 620 630 640 650 660 670 680 690 700 710 720 730 740 750 760 770 780 790 800 810 820 830 840 850 860 870 880 890 900 910 920 930 940 950 960 970 980 990 "
     ]
    }
   ],
   "source": [
    "for i in range(100,1000,10):\n",
    "    print(i, end=' ')"
   ]
  },
  {
   "cell_type": "markdown",
   "id": "9ce367aa",
   "metadata": {},
   "source": [
    "Let's check if the number `n` is a prime number - that is, it can only be divided by 1 and itself:"
   ]
  },
  {
   "cell_type": "code",
   "execution_count": 62,
   "id": "5eea6093",
   "metadata": {
    "collapsed": false,
    "jupyter": {
     "outputs_hidden": false
    }
   },
   "outputs": [
    {
     "name": "stdout",
     "output_type": "stream",
     "text": [
      "97 is a prime number\n"
     ]
    }
   ],
   "source": [
    "n = 97 # try other numbers\n",
    "divider = 1\n",
    "\n",
    "for k in range(2,n): # why start at 2? can we choose a different limit to range? a different step perhaps?\n",
    "    if n % k == 0:\n",
    "        divider = k\n",
    "if divider != 1:\n",
    "    print(n, \"is divided by\", divider)\n",
    "else:\n",
    "    print(n, \"is a prime number\")"
   ]
  },
  {
   "cell_type": "markdown",
   "id": "96fba07b",
   "metadata": {},
   "source": [
    "We can also use `range()` to loop on a list. This is useful in some cases."
   ]
  },
  {
   "cell_type": "code",
   "execution_count": 63,
   "id": "0cd48112",
   "metadata": {
    "collapsed": false,
    "jupyter": {
     "outputs_hidden": false
    }
   },
   "outputs": [
    {
     "name": "stdout",
     "output_type": "stream",
     "text": [
      "Homo sapiens\n",
      "Gorilla gorilla\n"
     ]
    }
   ],
   "source": [
    "for i in range(len(apes)):\n",
    "    print(apes[i])"
   ]
  },
  {
   "cell_type": "markdown",
   "id": "fe95d1a5",
   "metadata": {},
   "source": [
    "## Some cool practices"
   ]
  },
  {
   "cell_type": "markdown",
   "id": "988ab210",
   "metadata": {},
   "source": [
    "### 1) Restriction fragment lengths\n",
    "\n",
    "Here’s a short DNA sequence:\n",
    "\n",
    "```ACTGATCGATTACGTATAGTAGAATTCTATCATACATATATATCGATGCGTTCAT```\n",
    "\n",
    "The sequence contains a recognition site for the EcoRI restriction enzyme, which cuts at the motif `G*AATTC` (the position of the cut is indicated by an asterisk). Write a program which will calculate the size of the two fragments that will be produced when the DNA sequence is digested with EcoRI.\n",
    "\n",
    "(from [Python for Biologists](http://pythonforbiologists.com/index.php/introduction-to-python-for-biologists/2-printing-and-manipulating-text/))"
   ]
  },
  {
   "cell_type": "code",
   "execution_count": 64,
   "id": "c1e221da-766c-449b-81e7-0b683e78387a",
   "metadata": {},
   "outputs": [],
   "source": [
    "seq = 'ACTGATCGATTACGTATAGTAGAATTCTATCATACATATATATCGATGCGTTCAT'"
   ]
  },
  {
   "cell_type": "code",
   "execution_count": 65,
   "id": "0efbdf90",
   "metadata": {},
   "outputs": [
    {
     "name": "stdout",
     "output_type": "stream",
     "text": [
      "Fragment lengths of 22 and 33 will be produced.\n"
     ]
    }
   ],
   "source": [
    "fragments = seq.split('GAATTC')\n",
    "f1_length = len(fragments[0]) + 1 # add 1 for the 'G'\n",
    "f2_length = len(fragments[1]) + 5 # add 5 for the 'AATTC'\n",
    "print('Fragment lengths of',f1_length,'and',f2_length,'will be produced.')"
   ]
  },
  {
   "cell_type": "markdown",
   "id": "2a6b927f",
   "metadata": {},
   "source": [
    "### 2) Complementing DNA\n",
    "\n",
    "Write a program that will print the complement of the sequence above.\n",
    "\n",
    "(from [Python for Biologists](http://pythonforbiologists.com/index.php/introduction-to-python-for-biologists/2-printing-and-manipulating-text/))"
   ]
  },
  {
   "cell_type": "code",
   "execution_count": 66,
   "id": "f917b842",
   "metadata": {
    "collapsed": false,
    "jupyter": {
     "outputs_hidden": false
    }
   },
   "outputs": [
    {
     "name": "stdout",
     "output_type": "stream",
     "text": [
      "Complement: TGACTAGCTAATGCATATCATCTTAAGATAGTATGTATATATAGCTACGCAAGTA\n"
     ]
    }
   ],
   "source": [
    "complement = ''\n",
    "for base in seq:\n",
    "    if base == 'A':\n",
    "        complement = complement + 'T'\n",
    "    elif base == 'T':\n",
    "        complement = complement + 'A' \n",
    "    elif base == 'G':\n",
    "        complement = complement + 'C'\n",
    "    elif base == 'C':\n",
    "        complement = complement + 'G'    \n",
    "    else:\n",
    "        print(\"Bad base:\", base)\n",
    "print(\"Complement:\", complement)"
   ]
  },
  {
   "cell_type": "markdown",
   "id": "488e5810",
   "metadata": {},
   "source": [
    "## Extra resources\n",
    "\n",
    "- Python for Biologists: [Strings](http://pythonforbiologists.com/index.php/introduction-to-python-for-biologists/2-printing-and-manipulating-text/), [Lists and loops](http://pythonforbiologists.com/index.php/introduction-to-python-for-biologists/lists-and-loops/)\n",
    "- Software carpentry: [Strings](http://software-carpentry.org/v4/python/strings.html), [Lists](http://software-carpentry.org/v4/python/lists.html)"
   ]
  },
  {
   "cell_type": "markdown",
   "id": "93f17e71",
   "metadata": {
    "tags": []
   },
   "source": [
    "## Congrats!\n",
    "\n",
    "The notebook is available at https://github.com/Naghipourfar/molecular-biomechanics/"
   ]
  }
 ],
 "metadata": {
  "kernelspec": {
   "display_name": "Python 3 (ipykernel)",
   "language": "python",
   "name": "python3"
  },
  "language_info": {
   "codemirror_mode": {
    "name": "ipython",
    "version": 3
   },
   "file_extension": ".py",
   "mimetype": "text/x-python",
   "name": "python",
   "nbconvert_exporter": "python",
   "pygments_lexer": "ipython3",
   "version": "3.7.11"
  }
 },
 "nbformat": 4,
 "nbformat_minor": 5
}
