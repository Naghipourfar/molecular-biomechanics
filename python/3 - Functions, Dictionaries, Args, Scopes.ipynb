{
 "cells": [
  {
   "cell_type": "markdown",
   "id": "50d19afb",
   "metadata": {},
   "source": [
    "# Lecture 3 - Functions, Dictionaries, Arguments, and Scopes\n",
    "### University of California, Berkeley - Spring 2022"
   ]
  },
  {
   "cell_type": "markdown",
   "id": "feac2a3e",
   "metadata": {},
   "source": [
    "## What we have learned?\n",
    "\n",
    "- Python\n",
    "- Variables\n",
    "- Operators\n",
    "- strings\n",
    "- lists\n",
    "- Flow control: conditions (if,elif,else) and loops (for,while)"
   ]
  },
  {
   "cell_type": "markdown",
   "id": "c1e1718f",
   "metadata": {},
   "source": [
    "## Dictionaries\n",
    "### Reminder - Lists\n",
    "Lists are a data structure used to store collections of elements (int, float, str etc.) in an __ordered__ way."
   ]
  },
  {
   "cell_type": "code",
   "execution_count": 1,
   "id": "23404159",
   "metadata": {
    "collapsed": false,
    "jupyter": {
     "outputs_hidden": false
    }
   },
   "outputs": [],
   "source": [
    "organisms = ['Pan troglodytes', 'Gallus gallus', 'Xenopus laevis', 'Vipera palaestinae']"
   ]
  },
  {
   "cell_type": "markdown",
   "id": "bc2b8d8b",
   "metadata": {},
   "source": [
    "We access elements of lists by using their _index_:"
   ]
  },
  {
   "cell_type": "code",
   "execution_count": 2,
   "id": "25454f3a",
   "metadata": {
    "collapsed": false,
    "jupyter": {
     "outputs_hidden": false
    }
   },
   "outputs": [
    {
     "name": "stdout",
     "output_type": "stream",
     "text": [
      "Pan troglodytes\n",
      "Xenopus laevis\n"
     ]
    }
   ],
   "source": [
    "print(organisms[0])\n",
    "print(organisms[2])"
   ]
  },
  {
   "cell_type": "markdown",
   "id": "52453168",
   "metadata": {},
   "source": [
    "__Dictionaries__ are another data structure used to store collections of elements, only this time they can be accessed through a _key_. Keys can be anything - a string, an integer, float and so on. Each key is connected to a _value_."
   ]
  },
  {
   "cell_type": "markdown",
   "id": "0d789dda",
   "metadata": {},
   "source": [
    "### Defining dictionaries:"
   ]
  },
  {
   "cell_type": "code",
   "execution_count": 3,
   "id": "eef54d51",
   "metadata": {
    "collapsed": false,
    "jupyter": {
     "outputs_hidden": false
    }
   },
   "outputs": [],
   "source": [
    "organisms_classes = {'Pan troglodytes': 'Mammalia', 'Gallus gallus': 'Aves', 'Xenopus laevis': 'Amphibia', 'Vipera palaestinae': 'Reptilia'}"
   ]
  },
  {
   "cell_type": "markdown",
   "id": "54183a32",
   "metadata": {},
   "source": [
    "In this dictionary, the _keys_ are the organisms and the _values_ are the class of each organism. Both are of type `str`."
   ]
  },
  {
   "cell_type": "markdown",
   "id": "1fc3596b",
   "metadata": {},
   "source": [
    "Another example would be a dictionary representing the number of observations of various species:"
   ]
  },
  {
   "cell_type": "code",
   "execution_count": 4,
   "id": "92ccb7a6",
   "metadata": {
    "collapsed": false,
    "jupyter": {
     "outputs_hidden": false
    }
   },
   "outputs": [],
   "source": [
    "observations = {'Equus zebra': 143,\n",
    "                'Hippopotamus amphibius': 27,\n",
    "                'Giraffa camelopardalis': 71,\n",
    "                'Panthera leo': 112}"
   ]
  },
  {
   "cell_type": "markdown",
   "id": "44ac85a1",
   "metadata": {},
   "source": [
    "Here, the keys are of type `str` and the values are of type `int`. Any other combination could be used."
   ]
  },
  {
   "cell_type": "markdown",
   "id": "0b3416c2",
   "metadata": {},
   "source": [
    "### Accessing dictionary records\n",
    "Accessing a dictionary record is similar to what we did with lists, only this time we'll call a _key_ instead of an _index_:"
   ]
  },
  {
   "cell_type": "code",
   "execution_count": 5,
   "id": "618adaa2",
   "metadata": {
    "collapsed": false,
    "jupyter": {
     "outputs_hidden": false
    }
   },
   "outputs": [
    {
     "name": "stdout",
     "output_type": "stream",
     "text": [
      "Mammalia\n",
      "Aves\n"
     ]
    }
   ],
   "source": [
    "print(organisms_classes['Pan troglodytes'])\n",
    "print(organisms_classes['Gallus gallus'])"
   ]
  },
  {
   "cell_type": "markdown",
   "id": "e85f69bc",
   "metadata": {},
   "source": [
    "### Changing and adding records\n",
    "We can change the dictionary by simply assigning a new value to a key."
   ]
  },
  {
   "cell_type": "code",
   "execution_count": 6,
   "id": "f6b16fb4",
   "metadata": {
    "collapsed": false,
    "jupyter": {
     "outputs_hidden": false
    }
   },
   "outputs": [
    {
     "name": "stdout",
     "output_type": "stream",
     "text": [
      "Mammals\n"
     ]
    }
   ],
   "source": [
    "organisms_classes['Pan troglodytes'] = 'Mammals'\n",
    "print(organisms_classes['Pan troglodytes'])"
   ]
  },
  {
   "cell_type": "markdown",
   "id": "ef39fd4b",
   "metadata": {},
   "source": [
    "Similarly, we can use this syntax to add new records: "
   ]
  },
  {
   "cell_type": "code",
   "execution_count": 7,
   "id": "046fa8d9",
   "metadata": {
    "collapsed": false,
    "jupyter": {
     "outputs_hidden": false
    }
   },
   "outputs": [
    {
     "name": "stdout",
     "output_type": "stream",
     "text": [
      "Actinopterygii\n"
     ]
    }
   ],
   "source": [
    "organisms_classes['Danio rerio'] = 'Actinopterygii'\n",
    "print(organisms_classes['Danio rerio'])"
   ]
  },
  {
   "cell_type": "markdown",
   "id": "20e44840",
   "metadata": {},
   "source": [
    "__Note__: A dictionary may not contain multiple records with the same _key_, but it may contain many keys with the same _value_."
   ]
  },
  {
   "cell_type": "markdown",
   "id": "61ad42c4",
   "metadata": {},
   "source": [
    "### Looping throgh dictionaries\n",
    "Remember the __for__ loop and how we used it to loop on lists?"
   ]
  },
  {
   "cell_type": "code",
   "execution_count": 8,
   "id": "6feed9fe",
   "metadata": {
    "collapsed": false,
    "jupyter": {
     "outputs_hidden": false
    }
   },
   "outputs": [
    {
     "name": "stdout",
     "output_type": "stream",
     "text": [
      "Pan troglodytes\n",
      "Gallus gallus\n",
      "Xenopus laevis\n",
      "Vipera palaestinae\n"
     ]
    }
   ],
   "source": [
    "for organism in organisms:\n",
    "    print(organism)"
   ]
  },
  {
   "cell_type": "markdown",
   "id": "4e809652",
   "metadata": {},
   "source": [
    "Well, it also works on dictionaries! The for loop simply itterates over the _keys_ of the dictionary."
   ]
  },
  {
   "cell_type": "code",
   "execution_count": 9,
   "id": "6dc46811",
   "metadata": {
    "collapsed": false,
    "jupyter": {
     "outputs_hidden": false
    }
   },
   "outputs": [
    {
     "name": "stdout",
     "output_type": "stream",
     "text": [
      "Pan troglodytes belongs to the Mammals class.\n",
      "Gallus gallus belongs to the Aves class.\n",
      "Xenopus laevis belongs to the Amphibia class.\n",
      "Vipera palaestinae belongs to the Reptilia class.\n",
      "Danio rerio belongs to the Actinopterygii class.\n"
     ]
    }
   ],
   "source": [
    "for organism in organisms_classes:\n",
    "    print(organism, 'belongs to the', organisms_classes[organism], 'class.')"
   ]
  },
  {
   "cell_type": "markdown",
   "id": "c409b51e",
   "metadata": {},
   "source": [
    "Notice that dictionary items don't keep their original order."
   ]
  },
  {
   "cell_type": "markdown",
   "id": "8f5cad2a",
   "metadata": {},
   "source": [
    "We can even change values while looping:"
   ]
  },
  {
   "cell_type": "code",
   "execution_count": 10,
   "id": "2e483d91",
   "metadata": {
    "collapsed": false,
    "jupyter": {
     "outputs_hidden": false
    }
   },
   "outputs": [
    {
     "name": "stdout",
     "output_type": "stream",
     "text": [
      "{'Equus zebra': True, 'Hippopotamus amphibius': False, 'Giraffa camelopardalis': True, 'Panthera leo': True}\n"
     ]
    }
   ],
   "source": [
    "for animal in observations:\n",
    "    if observations[animal] > 50:\n",
    "        observations[animal] = True\n",
    "    else:\n",
    "        observations[animal] = False\n",
    "print(observations)"
   ]
  },
  {
   "cell_type": "markdown",
   "id": "95613adc",
   "metadata": {},
   "source": [
    "### Is it in the dictionary?\n",
    "We can check if a __key__ is in the dictionary using an _if_ statement:"
   ]
  },
  {
   "cell_type": "code",
   "execution_count": 11,
   "id": "a834dba2",
   "metadata": {
    "collapsed": false,
    "jupyter": {
     "outputs_hidden": false
    }
   },
   "outputs": [
    {
     "data": {
      "text/plain": [
       "True"
      ]
     },
     "execution_count": 11,
     "metadata": {},
     "output_type": "execute_result"
    }
   ],
   "source": [
    "'Vipera palaestinae' in organisms_classes"
   ]
  },
  {
   "cell_type": "code",
   "execution_count": 12,
   "id": "99954bf8",
   "metadata": {
    "collapsed": false,
    "jupyter": {
     "outputs_hidden": false
    }
   },
   "outputs": [
    {
     "data": {
      "text/plain": [
       "False"
      ]
     },
     "execution_count": 12,
     "metadata": {},
     "output_type": "execute_result"
    }
   ],
   "source": [
    "'Bos taurus' in organisms_classes"
   ]
  },
  {
   "cell_type": "code",
   "execution_count": 13,
   "id": "b72e231a",
   "metadata": {
    "collapsed": false,
    "jupyter": {
     "outputs_hidden": false
    }
   },
   "outputs": [
    {
     "name": "stdout",
     "output_type": "stream",
     "text": [
      "Vipera palaestinae belongs to the Reptilia class.\n",
      "Bos taurus not found in dictionary.\n"
     ]
    }
   ],
   "source": [
    "new_organism = ['Vipera palaestinae', 'Bos taurus']\n",
    "for organism in new_organism:\n",
    "    if organism in organisms_classes:\n",
    "        print(organism, 'belongs to the', organisms_classes[organism], 'class.')\n",
    "    else:\n",
    "        print(organism, 'not found in dictionary.')"
   ]
  },
  {
   "cell_type": "markdown",
   "id": "60b97e17",
   "metadata": {},
   "source": [
    "## What's a function?\n",
    "### In mathematics:\n",
    "A function is like a _machine_, that (usually) takes a number, performs some mathematical process and returns another number.  \n",
    "For example, the function $f(x) = 2x + 6$  \n",
    "When the function takes 3 (that is, x = 3), it returns 2*3 + 6 = 12  \n",
    "And in 'pythonic':"
   ]
  },
  {
   "cell_type": "code",
   "execution_count": 14,
   "id": "3b7a44e0",
   "metadata": {
    "collapsed": false,
    "jupyter": {
     "outputs_hidden": false
    }
   },
   "outputs": [
    {
     "name": "stdout",
     "output_type": "stream",
     "text": [
      "12\n"
     ]
    }
   ],
   "source": [
    "x = 3\n",
    "y = 2*x + 6\n",
    "print(y)"
   ]
  },
  {
   "cell_type": "markdown",
   "id": "00fc70d4",
   "metadata": {},
   "source": [
    "### In computer science\n",
    "A function is a piece of code that performs some process. Like the mathematical concept, a function receives _inputs_ and returns _outputs_.  \n",
    "We _define_ functions with the __def__ command.  \n",
    "The general syntax is:  "
   ]
  },
  {
   "cell_type": "code",
   "execution_count": 21,
   "id": "c943039b",
   "metadata": {
    "collapsed": false,
    "jupyter": {
     "outputs_hidden": false
    }
   },
   "outputs": [],
   "source": [
    "def function_name(input1, input2, input3): # ...\n",
    "    # some processes\n",
    "    # .\n",
    "    # .\n",
    "    # .\n",
    "    return None # output"
   ]
  },
  {
   "cell_type": "code",
   "execution_count": 22,
   "id": "ada554eb",
   "metadata": {
    "collapsed": false,
    "jupyter": {
     "outputs_hidden": false
    }
   },
   "outputs": [],
   "source": [
    "def linear1 (x):\n",
    "    y = 2*x + 6\n",
    "    return y"
   ]
  },
  {
   "cell_type": "markdown",
   "id": "76e9aaed",
   "metadata": {},
   "source": [
    "Once a function is defined, we can call it whenever we need it (i.e. multiple times), with different inputs."
   ]
  },
  {
   "cell_type": "code",
   "execution_count": 23,
   "id": "59564fb7",
   "metadata": {
    "collapsed": false,
    "jupyter": {
     "outputs_hidden": false
    }
   },
   "outputs": [
    {
     "name": "stdout",
     "output_type": "stream",
     "text": [
      "12\n"
     ]
    }
   ],
   "source": [
    "result1 = linear1(3)\n",
    "print(result1)"
   ]
  },
  {
   "cell_type": "code",
   "execution_count": 24,
   "id": "4518da0f",
   "metadata": {
    "collapsed": false,
    "jupyter": {
     "outputs_hidden": false
    }
   },
   "outputs": [
    {
     "name": "stdout",
     "output_type": "stream",
     "text": [
      "20\n"
     ]
    }
   ],
   "source": [
    "result2 = linear1(7)\n",
    "print(result2)"
   ]
  },
  {
   "cell_type": "markdown",
   "id": "7dfc12a1",
   "metadata": {},
   "source": [
    "A function may have more than one input, and they can also be other types of variables.  \n",
    "For example, the following function receives a __list__ of sequences and concatenates a given sequence __string__ to each sequence in the list. It then returns the new list."
   ]
  },
  {
   "cell_type": "code",
   "execution_count": 25,
   "id": "9fa12010",
   "metadata": {
    "collapsed": false,
    "jupyter": {
     "outputs_hidden": false
    }
   },
   "outputs": [],
   "source": [
    "def concat_to_sequences(sequence_list, sequence_to_concat):\n",
    "    new_list = []\n",
    "    for seq in sequence_list:\n",
    "        new_list.append(seq + sequence_to_concat)\n",
    "    return new_list"
   ]
  },
  {
   "cell_type": "code",
   "execution_count": 26,
   "id": "b8ccfc6f",
   "metadata": {
    "collapsed": false,
    "jupyter": {
     "outputs_hidden": false
    }
   },
   "outputs": [
    {
     "name": "stdout",
     "output_type": "stream",
     "text": [
      "['AGTTAGAGTTA', 'TTACCAGTG', 'GGCAACTTTAGG']\n",
      "['AGTTAGAGTTAGGG', 'TTACCAGTGGGG', 'GGCAACTTTAGGGGG']\n"
     ]
    }
   ],
   "source": [
    "my_sequences = ['AGTTAGAGTTA', 'TTACCAGTG', 'GGCAACTTTAGG']\n",
    "new_sequences = concat_to_sequences(my_sequences, 'GGG')\n",
    "print(my_sequences)\n",
    "print(new_sequences)"
   ]
  },
  {
   "cell_type": "markdown",
   "id": "40dd2664",
   "metadata": {},
   "source": [
    "The inputs of a function are also called __Arguments__ or formal variables."
   ]
  },
  {
   "cell_type": "markdown",
   "id": "97ba747c",
   "metadata": {},
   "source": [
    "### Why do we need functions?\n",
    "So why bother? Can't we just write code as we did so far and avoid all that functions mess?  \n",
    "Functions are good for (at least) three reasons:\n",
    "* Prevent code duplication - if we perform the same process multiple times, we don't have to write it again every time. We just call the function, thereby making the code shorter and more readable and avoid errors.\n",
    "* Modularity - Your code can easily be separated to small components, which can be reused and recombined.\n",
    "* Abstraction - separating a complex task into smaller and more simple tasks."
   ]
  },
  {
   "cell_type": "markdown",
   "id": "25d8ac2c",
   "metadata": {},
   "source": [
    "### A biological example"
   ]
  },
  {
   "cell_type": "markdown",
   "id": "0e278cdf",
   "metadata": {},
   "source": [
    "Now, let's use some of the stuff we've learned to write a function that finds the reverse complement of a given sequence. Let's start by finding the complement."
   ]
  },
  {
   "cell_type": "code",
   "execution_count": 27,
   "id": "1f37991f",
   "metadata": {
    "collapsed": false,
    "jupyter": {
     "outputs_hidden": false
    }
   },
   "outputs": [],
   "source": [
    "def complement(sequence):\n",
    "    transcript_dict = {'A': 'T', 'T': 'A', 'G': 'C', 'C': 'G'}\n",
    "    complement = ''\n",
    "    for base in sequence:\n",
    "        complement += transcript_dict[base]\n",
    "    return complement"
   ]
  },
  {
   "cell_type": "code",
   "execution_count": 28,
   "id": "a836b03a",
   "metadata": {
    "collapsed": false,
    "jupyter": {
     "outputs_hidden": false
    }
   },
   "outputs": [
    {
     "name": "stdout",
     "output_type": "stream",
     "text": [
      "TGCGATAATCTCCCGCTCTTCGATCTCCT\n"
     ]
    }
   ],
   "source": [
    "my_dna = 'ACGCTATTAGAGGGCGAGAAGCTAGAGGA'\n",
    "my_complement = complement(my_dna)\n",
    "print(my_complement)"
   ]
  },
  {
   "cell_type": "markdown",
   "id": "3a1156db",
   "metadata": {},
   "source": [
    "Now, let's write another function, that reverses a given sequences."
   ]
  },
  {
   "cell_type": "code",
   "execution_count": 29,
   "id": "26ab7f88",
   "metadata": {
    "collapsed": false,
    "jupyter": {
     "outputs_hidden": false
    }
   },
   "outputs": [],
   "source": [
    "def reverse_sequence(sequence):\n",
    "    reversed_seq = ''\n",
    "    seq_as_list = list(sequence)\n",
    "    for base in reversed(seq_as_list):\n",
    "        reversed_seq += base\n",
    "    return reversed_seq"
   ]
  },
  {
   "cell_type": "code",
   "execution_count": 30,
   "id": "5e68c663",
   "metadata": {
    "collapsed": false,
    "jupyter": {
     "outputs_hidden": false
    }
   },
   "outputs": [
    {
     "name": "stdout",
     "output_type": "stream",
     "text": [
      "TCCTCTAGCTTCTCGCCCTCTAATAGCGT\n"
     ]
    }
   ],
   "source": [
    "my_reverse_complement = reverse_sequence(my_complement)\n",
    "print(my_reverse_complement)"
   ]
  },
  {
   "cell_type": "markdown",
   "id": "4f704113",
   "metadata": {},
   "source": [
    "We can call functions _from within_ a function, thereby wrapping the two functions we have in a third function."
   ]
  },
  {
   "cell_type": "code",
   "execution_count": 31,
   "id": "caa8ab1c",
   "metadata": {
    "collapsed": false,
    "jupyter": {
     "outputs_hidden": false
    }
   },
   "outputs": [],
   "source": [
    "def reverse_complement(sequence):\n",
    "    complement_seq = complement(sequence)\n",
    "    reverse_complement = reverse_sequence(complement_seq)\n",
    "    return reverse_complement"
   ]
  },
  {
   "cell_type": "code",
   "execution_count": 32,
   "id": "eb6aa538",
   "metadata": {
    "collapsed": false,
    "jupyter": {
     "outputs_hidden": false
    }
   },
   "outputs": [
    {
     "name": "stdout",
     "output_type": "stream",
     "text": [
      "TCCTCTAGCTTCTCGCCCTCTAATAGCGT\n"
     ]
    }
   ],
   "source": [
    "print(reverse_complement(my_dna))"
   ]
  },
  {
   "cell_type": "markdown",
   "id": "a010f909",
   "metadata": {},
   "source": [
    "Fuctions don't __have__ to return anything. Sometimes they just print stuff to the screen or to a file (next lesson). For example, we can take the function we created above and simply replace 'return' with 'print':"
   ]
  },
  {
   "cell_type": "code",
   "execution_count": 33,
   "id": "f0cbe9c3",
   "metadata": {
    "collapsed": false,
    "jupyter": {
     "outputs_hidden": false
    }
   },
   "outputs": [],
   "source": [
    "def print_reverse_complement(sequence):\n",
    "    complement_seq = complement(sequence)\n",
    "    reverse_complement = reverse_sequence(complement_seq)\n",
    "    print(reverse_complement)"
   ]
  },
  {
   "cell_type": "code",
   "execution_count": 34,
   "id": "6983106c",
   "metadata": {
    "collapsed": false,
    "jupyter": {
     "outputs_hidden": false
    }
   },
   "outputs": [
    {
     "name": "stdout",
     "output_type": "stream",
     "text": [
      "TCCTCTAGCTTCTCGCCCTCTAATAGCGT\n"
     ]
    }
   ],
   "source": [
    "print_reverse_complement(my_dna)"
   ]
  },
  {
   "cell_type": "markdown",
   "id": "fc5f159a",
   "metadata": {},
   "source": [
    "So, what's the difference between __return__ and __print__???  \n",
    "As the names suggest, while __print__ just prints the output of the function, __return__ retrns a value that can be stored within a variable. The difference is especially noticable when the output is not a string (e.g. list, dictionary etc). Even if the output is a string, __retun__ let's you further manipulate the output, while __print__ does not. "
   ]
  },
  {
   "cell_type": "code",
   "execution_count": 35,
   "id": "b8103141",
   "metadata": {
    "collapsed": false,
    "jupyter": {
     "outputs_hidden": false
    }
   },
   "outputs": [
    {
     "name": "stdout",
     "output_type": "stream",
     "text": [
      "ATGTCCTCTAGCTTCTCGCCCTCTAATAGCGTTAA\n"
     ]
    }
   ],
   "source": [
    "my_reverse_complement = reverse_complement(my_dna)\n",
    "final_sequence = \"ATG\" + my_reverse_complement + \"TAA\"\n",
    "print(final_sequence)"
   ]
  },
  {
   "cell_type": "markdown",
   "id": "b6f41e5b",
   "metadata": {},
   "source": [
    "### Documenting your functions\n",
    "It is considered good practice to add documentation to functions you write - what do they do, what's their input and output etc. It becomes very useful once you have lots of code that you want to reuse. If you document your functions, you won't have to read the whole code when you need them again.  \n",
    "Documenting functions is done by adding a '_docstring_' right under the definition line. It is enclosed by \"\"\". For example:"
   ]
  },
  {
   "cell_type": "code",
   "execution_count": 36,
   "id": "3763d989",
   "metadata": {
    "collapsed": false,
    "jupyter": {
     "outputs_hidden": false
    }
   },
   "outputs": [],
   "source": [
    "def reverse_complement(sequence):\n",
    "    \"\"\"\n",
    "    Receives a string of DNA sequence and returns a string of it's reverse complement\n",
    "    \"\"\"\n",
    "    complement_seq = complement(sequence)\n",
    "    reverse_complement = reverse_sequence(complement_seq)\n",
    "    return reverse_complement"
   ]
  },
  {
   "cell_type": "markdown",
   "id": "c983b29c",
   "metadata": {},
   "source": [
    "You can easily access the documentation of a function using the `help()` command."
   ]
  },
  {
   "cell_type": "code",
   "execution_count": 37,
   "id": "ce7a9766",
   "metadata": {
    "collapsed": false,
    "jupyter": {
     "outputs_hidden": false
    }
   },
   "outputs": [
    {
     "name": "stdout",
     "output_type": "stream",
     "text": [
      "Help on function reverse_complement in module __main__:\n",
      "\n",
      "reverse_complement(sequence)\n",
      "    Receives a string of DNA sequence and returns a string of it's reverse complement\n",
      "\n"
     ]
    }
   ],
   "source": [
    "help(reverse_complement)"
   ]
  },
  {
   "cell_type": "markdown",
   "id": "bd99606a",
   "metadata": {},
   "source": [
    "### Built-in functions"
   ]
  },
  {
   "cell_type": "markdown",
   "id": "6ade5f12",
   "metadata": {},
   "source": [
    "In fact, we've used functions before, without defining them first. For example: print(), type(), int(), len() etc. These functions are provided by the courtesy of Python developers. It is strongly adviced not to overwrite built-in functions with your own functions. That is, don't do:"
   ]
  },
  {
   "cell_type": "code",
   "execution_count": 38,
   "id": "8f9916a4",
   "metadata": {
    "collapsed": false,
    "jupyter": {
     "outputs_hidden": false
    }
   },
   "outputs": [],
   "source": [
    "# def len(lst):\n",
    "#    .\n",
    "#    .\n",
    "#    ."
   ]
  },
  {
   "cell_type": "markdown",
   "id": "6b897623",
   "metadata": {},
   "source": [
    "just use another name...  \n",
    "We can acquire more functions written by others by __importing__ them into our code. We'll do that on the next lesson."
   ]
  },
  {
   "cell_type": "markdown",
   "id": "939a05d9",
   "metadata": {},
   "source": [
    "## Scopes"
   ]
  },
  {
   "cell_type": "markdown",
   "id": "fe28f9cd",
   "metadata": {},
   "source": [
    "Assume we have the following function, that calculates the hypotenuse (יתר) given two sides of a right triangle. (Remember Pythagoras' theorem?)"
   ]
  },
  {
   "cell_type": "code",
   "execution_count": 39,
   "id": "14543e3b",
   "metadata": {
    "collapsed": false,
    "jupyter": {
     "outputs_hidden": false
    }
   },
   "outputs": [],
   "source": [
    "def pythagoras(a,b):\n",
    "    hypo_square = a**2 + b**2\n",
    "    hypo = hypo_square**0.5"
   ]
  },
  {
   "cell_type": "markdown",
   "id": "c73640cb",
   "metadata": {},
   "source": [
    "And now we want to run our function on the sides _a_ = 3 and _b_ = 5. So we do:"
   ]
  },
  {
   "cell_type": "code",
   "execution_count": 40,
   "id": "97672f99",
   "metadata": {
    "collapsed": false,
    "jupyter": {
     "outputs_hidden": false
    }
   },
   "outputs": [
    {
     "ename": "NameError",
     "evalue": "name 'hypo' is not defined",
     "output_type": "error",
     "traceback": [
      "\u001b[0;31m---------------------------------------------------------------------------\u001b[0m",
      "\u001b[0;31mNameError\u001b[0m                                 Traceback (most recent call last)",
      "\u001b[0;32m/var/folders/xb/b2qfb8qx5cgfb0lw1n3szlgh0000gn/T/ipykernel_71242/1234025534.py\u001b[0m in \u001b[0;36m<module>\u001b[0;34m\u001b[0m\n\u001b[1;32m      1\u001b[0m \u001b[0mpythagoras\u001b[0m\u001b[0;34m(\u001b[0m\u001b[0;36m3\u001b[0m\u001b[0;34m,\u001b[0m\u001b[0;36m5\u001b[0m\u001b[0;34m)\u001b[0m\u001b[0;34m\u001b[0m\u001b[0;34m\u001b[0m\u001b[0m\n\u001b[0;32m----> 2\u001b[0;31m \u001b[0mprint\u001b[0m\u001b[0;34m(\u001b[0m\u001b[0mhypo\u001b[0m\u001b[0;34m)\u001b[0m\u001b[0;34m\u001b[0m\u001b[0;34m\u001b[0m\u001b[0m\n\u001b[0m",
      "\u001b[0;31mNameError\u001b[0m: name 'hypo' is not defined"
     ]
    }
   ],
   "source": [
    "pythagoras(3,5)\n",
    "print(hypo)"
   ]
  },
  {
   "cell_type": "markdown",
   "id": "84f61222",
   "metadata": {},
   "source": [
    "__What happened to our result???__  \n",
    "The answer is _Scope_!  \n",
    "The variable _hypo_ 'lives' only as long as the function is running. In other words, it exists only withing the _scope_ of the function, and so do _a, b_ and _hypo_square_!  \n",
    "If we try to print hypo from _within_ the function:"
   ]
  },
  {
   "cell_type": "code",
   "execution_count": 41,
   "id": "a3375227",
   "metadata": {
    "collapsed": false,
    "jupyter": {
     "outputs_hidden": false
    }
   },
   "outputs": [
    {
     "name": "stdout",
     "output_type": "stream",
     "text": [
      "5.830951894845301\n"
     ]
    }
   ],
   "source": [
    "def pythagoras(a,b):\n",
    "    hypo_square = a**2 + b**2\n",
    "    hypo = hypo_square**0.5\n",
    "    print(hypo)\n",
    "pythagoras(3,5)"
   ]
  },
  {
   "cell_type": "markdown",
   "id": "85d9445e",
   "metadata": {},
   "source": [
    "Or even better, we can use the __return__ statement to get the result. Like this:"
   ]
  },
  {
   "cell_type": "code",
   "execution_count": 42,
   "id": "f02cf8e3",
   "metadata": {
    "collapsed": false,
    "jupyter": {
     "outputs_hidden": false
    }
   },
   "outputs": [
    {
     "name": "stdout",
     "output_type": "stream",
     "text": [
      "5.830951894845301\n"
     ]
    }
   ],
   "source": [
    "def pythagoras(a,b):\n",
    "    hypo_square = a**2 + b**2\n",
    "    hypo = hypo_square**0.5\n",
    "    return(hypo)\n",
    "\n",
    "result = pythagoras(3,5)\n",
    "print(result)"
   ]
  },
  {
   "cell_type": "markdown",
   "id": "237c7c88",
   "metadata": {},
   "source": [
    "## Congrats!\n",
    "\n",
    "The notebook is available at https://github.com/Naghipourfar/molecular-biomechanics/"
   ]
  }
 ],
 "metadata": {
  "kernelspec": {
   "display_name": "Python 3 (ipykernel)",
   "language": "python",
   "name": "python3"
  },
  "language_info": {
   "codemirror_mode": {
    "name": "ipython",
    "version": 3
   },
   "file_extension": ".py",
   "mimetype": "text/x-python",
   "name": "python",
   "nbconvert_exporter": "python",
   "pygments_lexer": "ipython3",
   "version": "3.9.5"
  }
 },
 "nbformat": 4,
 "nbformat_minor": 5
}
