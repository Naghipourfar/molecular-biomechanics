{
 "cells": [
  {
   "cell_type": "markdown",
   "id": "9c9f490b",
   "metadata": {
    "tags": []
   },
   "source": [
    "# Lecture 1 - Python basics\n",
    "### University of California, Berkeley - Spring 2022"
   ]
  },
  {
   "cell_type": "markdown",
   "id": "d8e1a66e",
   "metadata": {
    "slideshow": {
     "slide_type": "slide"
    }
   },
   "source": [
    "## My first python script"
   ]
  },
  {
   "cell_type": "code",
   "execution_count": 1,
   "id": "ec27ced8",
   "metadata": {
    "collapsed": false,
    "jupyter": {
     "outputs_hidden": false
    },
    "slideshow": {
     "slide_type": "subslide"
    }
   },
   "outputs": [
    {
     "data": {
      "text/plain": [
       "'Hello ATGC!'"
      ]
     },
     "execution_count": 1,
     "metadata": {},
     "output_type": "execute_result"
    }
   ],
   "source": [
    "\"Hello ATGC!\""
   ]
  },
  {
   "cell_type": "markdown",
   "id": "d43aa60f",
   "metadata": {
    "slideshow": {
     "slide_type": "slide"
    }
   },
   "source": [
    "## What can we do with python?"
   ]
  },
  {
   "cell_type": "markdown",
   "id": "a9acddd0",
   "metadata": {
    "slideshow": {
     "slide_type": "subslide"
    }
   },
   "source": [
    "### Use python as a calculator\n",
    "We can peform simple calculations\n",
    "<!-- ![calc](http://upload.wikimedia.org/wikipedia/commons/8/81/Casio_fx-991MS_scientific_calculator_1aa.jpg) -->"
   ]
  },
  {
   "cell_type": "code",
   "execution_count": 2,
   "id": "45b74eb6",
   "metadata": {
    "collapsed": false,
    "jupyter": {
     "outputs_hidden": false
    }
   },
   "outputs": [
    {
     "data": {
      "text/plain": [
       "4"
      ]
     },
     "execution_count": 2,
     "metadata": {},
     "output_type": "execute_result"
    }
   ],
   "source": [
    "4"
   ]
  },
  {
   "cell_type": "code",
   "execution_count": 3,
   "id": "1afa1cb7",
   "metadata": {
    "collapsed": false,
    "jupyter": {
     "outputs_hidden": false
    }
   },
   "outputs": [
    {
     "data": {
      "text/plain": [
       "9"
      ]
     },
     "execution_count": 3,
     "metadata": {},
     "output_type": "execute_result"
    }
   ],
   "source": [
    "4+5"
   ]
  },
  {
   "cell_type": "code",
   "execution_count": 4,
   "id": "aeafa30b",
   "metadata": {
    "collapsed": false,
    "jupyter": {
     "outputs_hidden": false
    }
   },
   "outputs": [
    {
     "data": {
      "text/plain": [
       "-15"
      ]
     },
     "execution_count": 4,
     "metadata": {},
     "output_type": "execute_result"
    }
   ],
   "source": [
    "(4+2-11)*3"
   ]
  },
  {
   "cell_type": "code",
   "execution_count": 5,
   "id": "b0e17204",
   "metadata": {
    "collapsed": false,
    "jupyter": {
     "outputs_hidden": false
    }
   },
   "outputs": [
    {
     "data": {
      "text/plain": [
       "0.00012340980408667956"
      ]
     },
     "execution_count": 5,
     "metadata": {},
     "output_type": "execute_result"
    }
   ],
   "source": [
    "from math import exp\n",
    "exp(-9)"
   ]
  },
  {
   "cell_type": "code",
   "execution_count": 6,
   "id": "618d5c1c",
   "metadata": {
    "collapsed": false,
    "jupyter": {
     "outputs_hidden": false
    }
   },
   "outputs": [
    {
     "data": {
      "text/plain": [
       "0.8660254037844386"
      ]
     },
     "execution_count": 6,
     "metadata": {},
     "output_type": "execute_result"
    }
   ],
   "source": [
    "from math import sin,pi\n",
    "sin(pi/3)"
   ]
  },
  {
   "cell_type": "markdown",
   "id": "f039fe43",
   "metadata": {},
   "source": [
    "### Print stuff to the screen\n",
    "We can just print text"
   ]
  },
  {
   "cell_type": "code",
   "execution_count": 7,
   "id": "7546f72d",
   "metadata": {
    "collapsed": false,
    "jupyter": {
     "outputs_hidden": false
    }
   },
   "outputs": [
    {
     "name": "stdout",
     "output_type": "stream",
     "text": [
      "Welcome to python for life-science course!\n"
     ]
    }
   ],
   "source": [
    "print(\"Welcome to python for life-science course!\")"
   ]
  },
  {
   "cell_type": "markdown",
   "id": "98f039b0",
   "metadata": {},
   "source": [
    "Or we can print text along with some calculation"
   ]
  },
  {
   "cell_type": "code",
   "execution_count": 8,
   "id": "d20742c0",
   "metadata": {
    "collapsed": false,
    "jupyter": {
     "outputs_hidden": false
    }
   },
   "outputs": [
    {
     "name": "stdout",
     "output_type": "stream",
     "text": [
      "The product of 7 and 8 is 56\n"
     ]
    }
   ],
   "source": [
    "print(\"The product of 7 and 8 is\",7*8)"
   ]
  },
  {
   "cell_type": "markdown",
   "id": "77423880",
   "metadata": {},
   "source": [
    "## Variables\n",
    "We can store _values_ in the computer's memory, instead of just calculating/printing them. Values are stored within _variables_.  \n",
    "A variable always has:\n",
    "- A name\n",
    "- A value\n",
    "- A defined type (number,text,etc.)\n",
    "\n",
    "To insert a _value_ into a _variable_, we use _asignments_, specifically using the '=' sign. "
   ]
  },
  {
   "cell_type": "code",
   "execution_count": 10,
   "id": "2f3289ae",
   "metadata": {
    "collapsed": false,
    "jupyter": {
     "outputs_hidden": false
    }
   },
   "outputs": [],
   "source": [
    "a = 5"
   ]
  },
  {
   "cell_type": "markdown",
   "id": "6576b5d4",
   "metadata": {},
   "source": [
    "Once a variable has been declared, we can use it to get its value."
   ]
  },
  {
   "cell_type": "code",
   "execution_count": 11,
   "id": "753d2fc7",
   "metadata": {
    "collapsed": false,
    "jupyter": {
     "outputs_hidden": false
    }
   },
   "outputs": [
    {
     "name": "stdout",
     "output_type": "stream",
     "text": [
      "5\n"
     ]
    }
   ],
   "source": [
    "print(a)"
   ]
  },
  {
   "cell_type": "code",
   "execution_count": 12,
   "id": "49a47bea",
   "metadata": {
    "collapsed": false,
    "jupyter": {
     "outputs_hidden": false
    }
   },
   "outputs": [
    {
     "data": {
      "text/plain": [
       "12"
      ]
     },
     "execution_count": 12,
     "metadata": {},
     "output_type": "execute_result"
    }
   ],
   "source": [
    "a + 7"
   ]
  },
  {
   "cell_type": "markdown",
   "id": "ff769f2c",
   "metadata": {},
   "source": [
    "We can assign new variables"
   ]
  },
  {
   "cell_type": "code",
   "execution_count": 13,
   "id": "d295f825",
   "metadata": {
    "collapsed": false,
    "jupyter": {
     "outputs_hidden": false
    }
   },
   "outputs": [],
   "source": [
    "b = a * 2"
   ]
  },
  {
   "cell_type": "code",
   "execution_count": 14,
   "id": "bac29d4a",
   "metadata": {
    "collapsed": false,
    "jupyter": {
     "outputs_hidden": false
    }
   },
   "outputs": [
    {
     "data": {
      "text/plain": [
       "15"
      ]
     },
     "execution_count": 14,
     "metadata": {},
     "output_type": "execute_result"
    }
   ],
   "source": [
    "a + b"
   ]
  },
  {
   "cell_type": "markdown",
   "id": "24169dbc",
   "metadata": {},
   "source": [
    "We can assign a new value to an existing variable, overwriting the previous value."
   ]
  },
  {
   "cell_type": "code",
   "execution_count": 15,
   "id": "2611fb61",
   "metadata": {
    "collapsed": false,
    "jupyter": {
     "outputs_hidden": false
    }
   },
   "outputs": [
    {
     "name": "stdout",
     "output_type": "stream",
     "text": [
      "a is 5\n",
      "and now a is 8\n"
     ]
    }
   ],
   "source": [
    "print(\"a is\",a)\n",
    "a = 8\n",
    "print(\"and now a is\",a)"
   ]
  },
  {
   "cell_type": "markdown",
   "id": "47924309",
   "metadata": {},
   "source": [
    "What happens to b???"
   ]
  },
  {
   "cell_type": "code",
   "execution_count": 16,
   "id": "a5b92d2a",
   "metadata": {
    "collapsed": false,
    "jupyter": {
     "outputs_hidden": false
    }
   },
   "outputs": [
    {
     "name": "stdout",
     "output_type": "stream",
     "text": [
      "10\n"
     ]
    }
   ],
   "source": [
    "print(b)"
   ]
  },
  {
   "cell_type": "markdown",
   "id": "ef0100be",
   "metadata": {},
   "source": [
    "We can determine a variable's type using the type() command.\n",
    "There are integers (int type)"
   ]
  },
  {
   "cell_type": "code",
   "execution_count": 17,
   "id": "97a384f7",
   "metadata": {
    "collapsed": false,
    "jupyter": {
     "outputs_hidden": false
    }
   },
   "outputs": [
    {
     "data": {
      "text/plain": [
       "int"
      ]
     },
     "execution_count": 17,
     "metadata": {},
     "output_type": "execute_result"
    }
   ],
   "source": [
    "type(a)"
   ]
  },
  {
   "cell_type": "markdown",
   "id": "a8593819",
   "metadata": {},
   "source": [
    "Strings (text) - we'll talk more about strings next time."
   ]
  },
  {
   "cell_type": "code",
   "execution_count": 1,
   "id": "65574d6e",
   "metadata": {
    "collapsed": false,
    "jupyter": {
     "outputs_hidden": false
    }
   },
   "outputs": [
    {
     "data": {
      "text/plain": [
       "str"
      ]
     },
     "execution_count": 1,
     "metadata": {},
     "output_type": "execute_result"
    }
   ],
   "source": [
    "seq = 'ATGCGTATAGCAGATACAGt'\n",
    "type(seq)"
   ]
  },
  {
   "cell_type": "markdown",
   "id": "1b8655c5",
   "metadata": {},
   "source": [
    "floating point (real numbers)"
   ]
  },
  {
   "cell_type": "code",
   "execution_count": 19,
   "id": "be4a87d7",
   "metadata": {
    "collapsed": false,
    "jupyter": {
     "outputs_hidden": false
    }
   },
   "outputs": [
    {
     "data": {
      "text/plain": [
       "float"
      ]
     },
     "execution_count": 19,
     "metadata": {},
     "output_type": "execute_result"
    }
   ],
   "source": [
    "pi = 3.14159265359\n",
    "type(pi)"
   ]
  },
  {
   "cell_type": "markdown",
   "id": "e35b94c7",
   "metadata": {},
   "source": [
    "and another thing, called boolean variables, which get either _True_ or _False_. We'll come back to these soon."
   ]
  },
  {
   "cell_type": "code",
   "execution_count": 20,
   "id": "cb10fbac",
   "metadata": {
    "collapsed": false,
    "jupyter": {
     "outputs_hidden": false
    }
   },
   "outputs": [
    {
     "data": {
      "text/plain": [
       "bool"
      ]
     },
     "execution_count": 20,
     "metadata": {},
     "output_type": "execute_result"
    }
   ],
   "source": [
    "booly = True\n",
    "type(booly)"
   ]
  },
  {
   "cell_type": "markdown",
   "id": "bb82bcc3",
   "metadata": {},
   "source": [
    "__Some notes about variable names__:\n",
    "* Make them meaningful! Instead of using _x_, _y_, _a_, _b_ etc, choose names that will resemble the meaning of the variable, such as _sequence_length_, _sum_of_numbers_ and so on.\n",
    "* You can choose any name, but you can't include spaces, special characters and words that have special meaning in python (for example _print_).\n",
    "* If you need to give long variable names, the convention is either to use underscores, or to start each word with a capitall letter - first_sequence_length or firstSequenceLength. We will use underscores throughout the course."
   ]
  },
  {
   "cell_type": "markdown",
   "id": "a1fbb887",
   "metadata": {},
   "source": [
    "### Comments\n",
    "We can add explanatory text to our code to make it more readable. We do that by simply adding a '\\#' in the beginning of a comment."
   ]
  },
  {
   "cell_type": "code",
   "execution_count": 21,
   "id": "70fdc364",
   "metadata": {
    "collapsed": false,
    "jupyter": {
     "outputs_hidden": false
    }
   },
   "outputs": [
    {
     "name": "stdout",
     "output_type": "stream",
     "text": [
      "This will be printed\n",
      "Another example\n"
     ]
    }
   ],
   "source": [
    "print(\"This will be printed\")\n",
    "# print(\"This will not be printed\")\n",
    "print(\"Another example\") # of a comment "
   ]
  },
  {
   "cell_type": "markdown",
   "id": "9e458b67",
   "metadata": {},
   "source": [
    "## Operators\n",
    "Operators allow us to perform basic actions on variables"
   ]
  },
  {
   "cell_type": "markdown",
   "id": "16e585a9-e23e-43f5-8bc5-6fd63372f012",
   "metadata": {},
   "source": [
    "### Arithmetic operators\n",
    "Used on numbers (integers and floating point). We've already seen some.\n",
    "<!-- <center> <img src=\"https://raw.githubusercontent.com/yoavram/Py4Life/master/lec1_images/arit_operators.jpg\" /> </center> -->"
   ]
  },
  {
   "cell_type": "code",
   "execution_count": 22,
   "id": "cb663a76",
   "metadata": {
    "collapsed": false,
    "jupyter": {
     "outputs_hidden": false
    }
   },
   "outputs": [],
   "source": [
    "num1 = 8\n",
    "num2 = 5"
   ]
  },
  {
   "cell_type": "code",
   "execution_count": 23,
   "id": "24a8351a",
   "metadata": {
    "collapsed": false,
    "jupyter": {
     "outputs_hidden": false
    }
   },
   "outputs": [
    {
     "data": {
      "text/plain": [
       "13"
      ]
     },
     "execution_count": 23,
     "metadata": {},
     "output_type": "execute_result"
    }
   ],
   "source": [
    "num1 + num2"
   ]
  },
  {
   "cell_type": "code",
   "execution_count": 24,
   "id": "a384017e",
   "metadata": {
    "collapsed": false,
    "jupyter": {
     "outputs_hidden": false
    }
   },
   "outputs": [
    {
     "data": {
      "text/plain": [
       "3"
      ]
     },
     "execution_count": 24,
     "metadata": {},
     "output_type": "execute_result"
    }
   ],
   "source": [
    "num1 - num2"
   ]
  },
  {
   "cell_type": "code",
   "execution_count": 25,
   "id": "881750ee",
   "metadata": {
    "collapsed": false,
    "jupyter": {
     "outputs_hidden": false
    }
   },
   "outputs": [
    {
     "data": {
      "text/plain": [
       "40"
      ]
     },
     "execution_count": 25,
     "metadata": {},
     "output_type": "execute_result"
    }
   ],
   "source": [
    "num1 * num2"
   ]
  },
  {
   "cell_type": "code",
   "execution_count": 26,
   "id": "025b2ea3",
   "metadata": {
    "collapsed": false,
    "jupyter": {
     "outputs_hidden": false
    }
   },
   "outputs": [
    {
     "data": {
      "text/plain": [
       "1.6"
      ]
     },
     "execution_count": 26,
     "metadata": {},
     "output_type": "execute_result"
    }
   ],
   "source": [
    "num1 / num2"
   ]
  },
  {
   "cell_type": "code",
   "execution_count": 27,
   "id": "08f8288f",
   "metadata": {
    "collapsed": false,
    "jupyter": {
     "outputs_hidden": false
    }
   },
   "outputs": [
    {
     "data": {
      "text/plain": [
       "1"
      ]
     },
     "execution_count": 27,
     "metadata": {},
     "output_type": "execute_result"
    }
   ],
   "source": [
    "num1 // num2"
   ]
  },
  {
   "cell_type": "code",
   "execution_count": 28,
   "id": "c49bbad3",
   "metadata": {
    "collapsed": false,
    "jupyter": {
     "outputs_hidden": false
    }
   },
   "outputs": [
    {
     "data": {
      "text/plain": [
       "3"
      ]
     },
     "execution_count": 28,
     "metadata": {},
     "output_type": "execute_result"
    }
   ],
   "source": [
    "num1 % num2"
   ]
  },
  {
   "cell_type": "code",
   "execution_count": 29,
   "id": "810a3ac5",
   "metadata": {
    "collapsed": false,
    "jupyter": {
     "outputs_hidden": false
    }
   },
   "outputs": [
    {
     "data": {
      "text/plain": [
       "32768"
      ]
     },
     "execution_count": 29,
     "metadata": {},
     "output_type": "execute_result"
    }
   ],
   "source": [
    "num1 ** num2"
   ]
  },
  {
   "cell_type": "markdown",
   "id": "6d50fc9b",
   "metadata": {},
   "source": [
    "### Comparisson operators\n",
    "These operators are used to compare numbers and strings. They always return boolean values, i.e. True or False."
   ]
  },
  {
   "cell_type": "markdown",
   "id": "a484b3c9-a9d1-4b97-a82b-eaa1f1672be6",
   "metadata": {},
   "source": [
    "<!-- <center><img src=\"https://raw.githubusercontent.com/yoavram/Py4Life/master/lec1_images/comp_operators.jpg\" /></center> -->\n",
    "This is pretty straightforward for integers:"
   ]
  },
  {
   "cell_type": "code",
   "execution_count": 30,
   "id": "7630d067",
   "metadata": {
    "collapsed": false,
    "jupyter": {
     "outputs_hidden": false
    }
   },
   "outputs": [
    {
     "data": {
      "text/plain": [
       "False"
      ]
     },
     "execution_count": 30,
     "metadata": {},
     "output_type": "execute_result"
    }
   ],
   "source": [
    "num1 == num2    # Note: '==', not '='"
   ]
  },
  {
   "cell_type": "code",
   "execution_count": 31,
   "id": "9e16cfe3",
   "metadata": {
    "collapsed": false,
    "jupyter": {
     "outputs_hidden": false
    }
   },
   "outputs": [
    {
     "data": {
      "text/plain": [
       "True"
      ]
     },
     "execution_count": 31,
     "metadata": {},
     "output_type": "execute_result"
    }
   ],
   "source": [
    "num1 == 8"
   ]
  },
  {
   "cell_type": "code",
   "execution_count": 32,
   "id": "87deade9",
   "metadata": {
    "collapsed": false,
    "jupyter": {
     "outputs_hidden": false
    }
   },
   "outputs": [
    {
     "data": {
      "text/plain": [
       "True"
      ]
     },
     "execution_count": 32,
     "metadata": {},
     "output_type": "execute_result"
    }
   ],
   "source": [
    "num1 > num2"
   ]
  },
  {
   "cell_type": "code",
   "execution_count": 33,
   "id": "fe37cdb9",
   "metadata": {
    "collapsed": false,
    "jupyter": {
     "outputs_hidden": false
    }
   },
   "outputs": [
    {
     "data": {
      "text/plain": [
       "False"
      ]
     },
     "execution_count": 33,
     "metadata": {},
     "output_type": "execute_result"
    }
   ],
   "source": [
    "num2 > num1"
   ]
  },
  {
   "cell_type": "code",
   "execution_count": 34,
   "id": "c2506ec1",
   "metadata": {
    "collapsed": false,
    "jupyter": {
     "outputs_hidden": false
    }
   },
   "outputs": [
    {
     "data": {
      "text/plain": [
       "True"
      ]
     },
     "execution_count": 34,
     "metadata": {},
     "output_type": "execute_result"
    }
   ],
   "source": [
    "num1 != num2 "
   ]
  },
  {
   "cell_type": "code",
   "execution_count": 35,
   "id": "5c87ec8f",
   "metadata": {
    "collapsed": false,
    "jupyter": {
     "outputs_hidden": false
    }
   },
   "outputs": [
    {
     "data": {
      "text/plain": [
       "False"
      ]
     },
     "execution_count": 35,
     "metadata": {},
     "output_type": "execute_result"
    }
   ],
   "source": [
    "num2 < 5"
   ]
  },
  {
   "cell_type": "code",
   "execution_count": 36,
   "id": "7613a694",
   "metadata": {
    "collapsed": false,
    "jupyter": {
     "outputs_hidden": false
    }
   },
   "outputs": [
    {
     "data": {
      "text/plain": [
       "True"
      ]
     },
     "execution_count": 36,
     "metadata": {},
     "output_type": "execute_result"
    }
   ],
   "source": [
    "num2 <= 5"
   ]
  },
  {
   "cell_type": "markdown",
   "id": "a9032b5b",
   "metadata": {},
   "source": [
    "For strings, '<' and '>' operators are based on alphabetical order."
   ]
  },
  {
   "cell_type": "code",
   "execution_count": 37,
   "id": "a39f15f2",
   "metadata": {
    "collapsed": false,
    "jupyter": {
     "outputs_hidden": false
    }
   },
   "outputs": [
    {
     "data": {
      "text/plain": [
       "False"
      ]
     },
     "execution_count": 37,
     "metadata": {},
     "output_type": "execute_result"
    }
   ],
   "source": [
    "plant = 'Arabidopsis thaliana'\n",
    "mammal = 'Mus musculus'\n",
    "plant == mammal"
   ]
  },
  {
   "cell_type": "code",
   "execution_count": 38,
   "id": "e4e203c2",
   "metadata": {
    "collapsed": false,
    "jupyter": {
     "outputs_hidden": false
    }
   },
   "outputs": [
    {
     "data": {
      "text/plain": [
       "False"
      ]
     },
     "execution_count": 38,
     "metadata": {},
     "output_type": "execute_result"
    }
   ],
   "source": [
    "plant > mammal"
   ]
  },
  {
   "cell_type": "code",
   "execution_count": 39,
   "id": "bee79dcc",
   "metadata": {
    "collapsed": false,
    "jupyter": {
     "outputs_hidden": false
    }
   },
   "outputs": [
    {
     "data": {
      "text/plain": [
       "True"
      ]
     },
     "execution_count": 39,
     "metadata": {},
     "output_type": "execute_result"
    }
   ],
   "source": [
    "plant <= mammal"
   ]
  },
  {
   "cell_type": "markdown",
   "id": "eebb730c",
   "metadata": {},
   "source": [
    "### Logical operators\n",
    "These operators work on _booleans_ rather than integers or strings. Logical operators always return booleans."
   ]
  },
  {
   "cell_type": "markdown",
   "id": "877df346-e1b7-4728-b48f-d2bf466a1269",
   "metadata": {},
   "source": [
    "There are three logical operators:\n",
    "<!-- <center><img src=\"https://raw.githubusercontent.com/yoavram/Py4Life/master/lec1_images/logic_operators.jpg\"/></center> -->"
   ]
  },
  {
   "cell_type": "code",
   "execution_count": 40,
   "id": "0251d9fa",
   "metadata": {
    "collapsed": false,
    "jupyter": {
     "outputs_hidden": false
    }
   },
   "outputs": [
    {
     "data": {
      "text/plain": [
       "True"
      ]
     },
     "execution_count": 40,
     "metadata": {},
     "output_type": "execute_result"
    }
   ],
   "source": [
    "(num1 > num2) and (num1 != num2)"
   ]
  },
  {
   "cell_type": "code",
   "execution_count": 41,
   "id": "48b3ac0c",
   "metadata": {
    "collapsed": false,
    "jupyter": {
     "outputs_hidden": false
    }
   },
   "outputs": [
    {
     "data": {
      "text/plain": [
       "False"
      ]
     },
     "execution_count": 41,
     "metadata": {},
     "output_type": "execute_result"
    }
   ],
   "source": [
    "(num1 != num2) and (num1 < num1)"
   ]
  },
  {
   "cell_type": "code",
   "execution_count": 42,
   "id": "5b43e5bc",
   "metadata": {
    "collapsed": false,
    "jupyter": {
     "outputs_hidden": false
    }
   },
   "outputs": [
    {
     "data": {
      "text/plain": [
       "True"
      ]
     },
     "execution_count": 42,
     "metadata": {},
     "output_type": "execute_result"
    }
   ],
   "source": [
    "(num1 != num2) or (num1 < num1)"
   ]
  },
  {
   "cell_type": "code",
   "execution_count": 43,
   "id": "4a4bf3fc",
   "metadata": {
    "collapsed": false,
    "jupyter": {
     "outputs_hidden": false
    }
   },
   "outputs": [
    {
     "data": {
      "text/plain": [
       "False"
      ]
     },
     "execution_count": 43,
     "metadata": {},
     "output_type": "execute_result"
    }
   ],
   "source": [
    "num1 == 3 or num2 == 10 or num2 > 7"
   ]
  },
  {
   "cell_type": "code",
   "execution_count": 44,
   "id": "a141e21a",
   "metadata": {
    "collapsed": false,
    "jupyter": {
     "outputs_hidden": false
    }
   },
   "outputs": [
    {
     "data": {
      "text/plain": [
       "False"
      ]
     },
     "execution_count": 44,
     "metadata": {},
     "output_type": "execute_result"
    }
   ],
   "source": [
    "not (num1 > num2)"
   ]
  },
  {
   "cell_type": "code",
   "execution_count": 45,
   "id": "06b966af",
   "metadata": {
    "collapsed": false,
    "jupyter": {
     "outputs_hidden": false
    }
   },
   "outputs": [
    {
     "data": {
      "text/plain": [
       "True"
      ]
     },
     "execution_count": 45,
     "metadata": {},
     "output_type": "execute_result"
    }
   ],
   "source": [
    "not (num1 < num2)"
   ]
  },
  {
   "cell_type": "code",
   "execution_count": 46,
   "id": "d1a3676a",
   "metadata": {
    "collapsed": false,
    "jupyter": {
     "outputs_hidden": false
    }
   },
   "outputs": [
    {
     "data": {
      "text/plain": [
       "bool"
      ]
     },
     "execution_count": 46,
     "metadata": {},
     "output_type": "execute_result"
    }
   ],
   "source": [
    "boolean = (num1 > num2)\n",
    "type(boolean)"
   ]
  },
  {
   "cell_type": "code",
   "execution_count": 47,
   "id": "84f237b5",
   "metadata": {
    "collapsed": false,
    "jupyter": {
     "outputs_hidden": false
    }
   },
   "outputs": [
    {
     "data": {
      "text/plain": [
       "True"
      ]
     },
     "execution_count": 47,
     "metadata": {},
     "output_type": "execute_result"
    }
   ],
   "source": [
    "(boolean) and num2 == 5"
   ]
  },
  {
   "cell_type": "markdown",
   "id": "b2acc5de",
   "metadata": {},
   "source": [
    "We can also think of logical operators as 2X2 matrices, or alternatively - Venn diagrams.\n",
    "<!-- <center><img src=\"https://raw.githubusercontent.com/yoavram/Py4Life/master/lec1_images/logic_venn.jpg\" /></center> -->"
   ]
  },
  {
   "cell_type": "markdown",
   "id": "56b0b00b",
   "metadata": {},
   "source": [
    "## Branching - IF statements\n",
    "So far we've seen (small) programs that just start running, and finish when all commands are performed.\n",
    "But sometimes we want to perform certain commands only _if_ a condition is met. For this we use _if statements_:"
   ]
  },
  {
   "cell_type": "code",
   "execution_count": 48,
   "id": "b5fa5427",
   "metadata": {
    "collapsed": false,
    "jupyter": {
     "outputs_hidden": false
    }
   },
   "outputs": [
    {
     "name": "stdout",
     "output_type": "stream",
     "text": [
      "Yes\n"
     ]
    }
   ],
   "source": [
    "if num1 > num2:\n",
    "    print('Yes')"
   ]
  },
  {
   "cell_type": "code",
   "execution_count": 49,
   "id": "e218987c",
   "metadata": {
    "collapsed": false,
    "jupyter": {
     "outputs_hidden": false
    }
   },
   "outputs": [],
   "source": [
    "if num1 < num2:\n",
    "    print('Yes')"
   ]
  },
  {
   "cell_type": "markdown",
   "id": "605916ce",
   "metadata": {},
   "source": [
    "Notice the colon and the indented block. The syntax is always:  \n",
    "__if__ _condition_:  \n",
    "&nbsp;&nbsp;&nbsp;&nbsp;indented commands  "
   ]
  },
  {
   "cell_type": "markdown",
   "id": "431738dd-c5c6-4302-bd4b-71f7dab70792",
   "metadata": {},
   "source": [
    "Only commands within the indented block are conditional. Other commands will be executed, no matter if the condition is met or not.\n",
    "<!-- <center><img src=\"https://raw.githubusercontent.com/yoavram/Py4Life/master/lec1_images/if_flow.jpg\" /></center> -->"
   ]
  },
  {
   "cell_type": "code",
   "execution_count": 50,
   "id": "a2eb3d73",
   "metadata": {
    "collapsed": false,
    "jupyter": {
     "outputs_hidden": false
    }
   },
   "outputs": [
    {
     "name": "stdout",
     "output_type": "stream",
     "text": [
      "Yes\n",
      "Another operation will follow\n",
      "10\n"
     ]
    }
   ],
   "source": [
    "if num1 > num2:\n",
    "    print('Yes')\n",
    "    print('Another operation will follow')\n",
    "    num1 = 10\n",
    "print(num1)"
   ]
  },
  {
   "cell_type": "markdown",
   "id": "0669bdbf",
   "metadata": {},
   "source": [
    "__Note__: the condition expression always returns a boolean, and the indented commands only occur if the boolean has a True value. Therefore, we can use logical operators to create more complex conditions."
   ]
  },
  {
   "cell_type": "code",
   "execution_count": 51,
   "id": "06dcf0a5",
   "metadata": {
    "collapsed": false,
    "jupyter": {
     "outputs_hidden": false
    }
   },
   "outputs": [
    {
     "name": "stdout",
     "output_type": "stream",
     "text": [
      "Yes\n"
     ]
    }
   ],
   "source": [
    "x = 15\n",
    "y = 8\n",
    "if (x > 10 and y < 10) or x * y == 56:\n",
    "    print('Yes')"
   ]
  },
  {
   "cell_type": "code",
   "execution_count": 52,
   "id": "534cfda0",
   "metadata": {
    "collapsed": false,
    "jupyter": {
     "outputs_hidden": false
    }
   },
   "outputs": [],
   "source": [
    "x = 9\n",
    "if (x > 10 and y < 10) or x * y == 56:\n",
    "    print('Yes')"
   ]
  },
  {
   "cell_type": "code",
   "execution_count": 53,
   "id": "739bc244",
   "metadata": {
    "collapsed": false,
    "jupyter": {
     "outputs_hidden": false
    }
   },
   "outputs": [
    {
     "name": "stdout",
     "output_type": "stream",
     "text": [
      "Yes\n"
     ]
    }
   ],
   "source": [
    "x = 7\n",
    "if (x > 10 and y < 10) or x * y == 56:\n",
    "    print('Yes')"
   ]
  },
  {
   "cell_type": "markdown",
   "id": "943da98c",
   "metadata": {},
   "source": [
    "Let's write a program that checks if a number is devisible by 17. Remember the Modulus operator...?"
   ]
  },
  {
   "cell_type": "code",
   "execution_count": 54,
   "id": "b0b133dd",
   "metadata": {
    "collapsed": false,
    "jupyter": {
     "outputs_hidden": false
    }
   },
   "outputs": [
    {
     "name": "stdout",
     "output_type": "stream",
     "text": [
      "Number is devisible by 17!\n",
      "End of program.\n"
     ]
    }
   ],
   "source": [
    "x = 442\n",
    "if x % 17 == 0:\n",
    "    print('Number is devisible by 17!')\n",
    "print('End of program.')"
   ]
  },
  {
   "cell_type": "markdown",
   "id": "1be04748",
   "metadata": {},
   "source": [
    "We can add _else_ statements to perform commands in case the condition is __not__ met, or in other words, if the boolean is False.\n",
    "<!-- <center><img src=\"https://raw.githubusercontent.com/yoavram/Py4Life/master/lec1_images/if_else_flow.jpg\" /></center> -->"
   ]
  },
  {
   "cell_type": "code",
   "execution_count": 55,
   "id": "df810de8",
   "metadata": {
    "collapsed": false,
    "jupyter": {
     "outputs_hidden": false
    }
   },
   "outputs": [
    {
     "name": "stdout",
     "output_type": "stream",
     "text": [
      "Number is not devisible by 17!\n",
      "End of program.\n"
     ]
    }
   ],
   "source": [
    "x = 586\n",
    "if x % 17 == 0:\n",
    "    print('Number is devisible by 17!')\n",
    "else:\n",
    "    print('Number is not devisible by 17!')\n",
    "print('End of program.')"
   ]
  },
  {
   "cell_type": "markdown",
   "id": "5e6fd590",
   "metadata": {},
   "source": [
    "Things get even more interesting when using _elif_ statements, where multiple conditions are tested one by one. Once a condition is met, the corresponding indented commands are performed. If none of the conditions is True, the _else_ block (if exists) is executed."
   ]
  },
  {
   "cell_type": "code",
   "execution_count": 56,
   "id": "a482dc82",
   "metadata": {
    "collapsed": false,
    "jupyter": {
     "outputs_hidden": false
    }
   },
   "outputs": [
    {
     "name": "stdout",
     "output_type": "stream",
     "text": [
      "Number is not devisible by 17, but is even!\n",
      "End of program.\n"
     ]
    }
   ],
   "source": [
    "x = 586\n",
    "if x % 17 == 0:\n",
    "    print('Number is devisible by 17!')\n",
    "elif x % 2 == 0:\n",
    "    print('Number is not devisible by 17, but is even!')\n",
    "else:\n",
    "    print('Number is not devisible by 17, and is odd!')\n",
    "print('End of program.')"
   ]
  },
  {
   "cell_type": "markdown",
   "id": "0cd74417",
   "metadata": {},
   "source": [
    "## While loops - continuos If"
   ]
  },
  {
   "cell_type": "markdown",
   "id": "6add5569",
   "metadata": {},
   "source": [
    "One thing computers are very good at (and most humans not) is doing repetitive jobs.  \n",
    "We use _while_ loops to do something again and again, as long as a condition is met.  \n",
    "<!-- <center><img src=\"http://www.tutorialspoint.com/images/python_while_loop.jpg\" /></center> -->\n",
    "\n",
    "The syntax is very similar to that of __if__ statements."
   ]
  },
  {
   "cell_type": "code",
   "execution_count": 57,
   "id": "fc55a28e",
   "metadata": {
    "collapsed": false,
    "jupyter": {
     "outputs_hidden": false
    }
   },
   "outputs": [
    {
     "name": "stdout",
     "output_type": "stream",
     "text": [
      "57\n",
      "Found a number greater than 90! 91\n"
     ]
    }
   ],
   "source": [
    "from random import randint\n",
    "random_num = randint(1,100)\n",
    "while random_num <= 90:   # condition\n",
    "    print(random_num)     # indented block\n",
    "    random_num = randint(1,100)\n",
    "print ('Found a number greater than 90!', random_num)"
   ]
  },
  {
   "cell_type": "markdown",
   "id": "c153d0da",
   "metadata": {},
   "source": [
    "When using a while loop, always make sure that you change the value of the variable tested in the condition. Otherwise, the condition will always be `True` and you will find yourself in an infinite loop...  \n",
    "For example, here we change the value by obtaining a new random number.\n",
    "<!-- ![inf-loop](http://i.imgur.com/4QHKb.jpg) -->"
   ]
  },
  {
   "cell_type": "markdown",
   "id": "f7f00d7f",
   "metadata": {},
   "source": [
    "Now let's count how many times it takes to get a random number greater than 90. We'll use a counter variable."
   ]
  },
  {
   "cell_type": "code",
   "execution_count": 58,
   "id": "cdc7e025",
   "metadata": {
    "collapsed": false,
    "jupyter": {
     "outputs_hidden": false
    }
   },
   "outputs": [
    {
     "name": "stdout",
     "output_type": "stream",
     "text": [
      "47\n",
      "38\n",
      "31\n",
      "2\n",
      "41\n",
      "53\n",
      "48\n",
      "26\n",
      "74\n",
      "63\n",
      "Found a number greater than 90! 91 . It took 11 tries.\n"
     ]
    }
   ],
   "source": [
    "from random import randint\n",
    "counter = 1\n",
    "random_num = randint(1,100)\n",
    "while random_num <= 90:   # condition\n",
    "    print(random_num)     # indented block\n",
    "    random_num = randint(1,100)\n",
    "    counter = counter + 1   # what's happening here?\n",
    "print ('Found a number greater than 90!', random_num, '. It took',counter,'tries.')"
   ]
  },
  {
   "cell_type": "code",
   "execution_count": 59,
   "id": "5dd8b243",
   "metadata": {
    "collapsed": false,
    "jupyter": {
     "outputs_hidden": false
    }
   },
   "outputs": [
    {
     "name": "stdout",
     "output_type": "stream",
     "text": [
      "555, 1666, 833, 2500, 1250, 625, 1876, 938, 469, 1408, 704, 352, 176, 88, 44, 22, 11, 34, 17, 52, 26, 13, 40, 20, 10, 5, 16, 8, 4, 2, 1\n",
      "555 is OK\n"
     ]
    }
   ],
   "source": [
    "m = 555 # integer to apply the conjecture on\n",
    "\n",
    "n = m\n",
    "while n != 1:\n",
    "    print(n, end=\", \")\n",
    "    # if n is even\n",
    "    if n % 2 == 0:\n",
    "        n = n // 2\n",
    "    # if n is odd\n",
    "    else:\n",
    "        n = 3 * n + 1\n",
    "print(1) # 1 was not printed\n",
    "print(m, \"is OK\")"
   ]
  },
  {
   "cell_type": "markdown",
   "id": "e83a22a4",
   "metadata": {},
   "source": [
    "<!-- ![CollatzXKCD](http://imgs.xkcd.com/comics/collatz_conjecture.png) -->"
   ]
  },
  {
   "cell_type": "markdown",
   "id": "eb75204c",
   "metadata": {},
   "source": [
    "## Congrats!\n",
    "\n",
    "The notebook is available at https://github.com/Naghipourfar/molecular-biomechanics/"
   ]
  }
 ],
 "metadata": {
  "kernelspec": {
   "display_name": "Python 3 (ipykernel)",
   "language": "python",
   "name": "python3"
  },
  "language_info": {
   "codemirror_mode": {
    "name": "ipython",
    "version": 3
   },
   "file_extension": ".py",
   "mimetype": "text/x-python",
   "name": "python",
   "nbconvert_exporter": "python",
   "pygments_lexer": "ipython3",
   "version": "3.7.11"
  }
 },
 "nbformat": 4,
 "nbformat_minor": 5
}
