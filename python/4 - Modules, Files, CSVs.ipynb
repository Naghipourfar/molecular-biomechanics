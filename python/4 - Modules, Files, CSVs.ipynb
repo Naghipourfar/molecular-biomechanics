{
 "cells": [
  {
   "cell_type": "markdown",
   "id": "2712a939",
   "metadata": {},
   "source": [
    "# Lecture 4 - Modules, Files I/O, CSVs\n",
    "### University of California, Berkeley - Spring 2022"
   ]
  },
  {
   "cell_type": "markdown",
   "id": "1a5a78ba",
   "metadata": {},
   "source": [
    "## What we have learned?\n",
    "\n",
    "- Lists\n",
    "- Dictionaries\n",
    "- Functions"
   ]
  },
  {
   "cell_type": "markdown",
   "id": "8d036eb4",
   "metadata": {},
   "source": [
    "## Modules\n",
    "Last time, we learned how to write and use functions.  \n",
    "Luckily, we don't have to create all the code alone. Many people have written functions that perform various tasks.  \n",
    "These functions are grouped into packages, called _modules_, which are usually designed to address a specific set of tasks.  \n",
    "These functions are not always 'ready to use' by our code, but rather have to be _imported_ into it."
   ]
  },
  {
   "cell_type": "markdown",
   "id": "27620e36",
   "metadata": {},
   "source": [
    "Let's start with an example. Suppose we want to do some trigonometry, we can (in principal) write our own _sin,cos,tan_ etc.. But it would be much easier to use the built-in _math_ module."
   ]
  },
  {
   "cell_type": "code",
   "execution_count": 2,
   "id": "f7c10799",
   "metadata": {
    "collapsed": false,
    "jupyter": {
     "outputs_hidden": false
    }
   },
   "outputs": [],
   "source": [
    "# first, we import the module\n",
    "import math"
   ]
  },
  {
   "cell_type": "markdown",
   "id": "66602831",
   "metadata": {},
   "source": [
    "Now we can use values and functions within the math module"
   ]
  },
  {
   "cell_type": "code",
   "execution_count": 3,
   "id": "a9eb966c",
   "metadata": {
    "collapsed": false,
    "jupyter": {
     "outputs_hidden": false
    }
   },
   "outputs": [
    {
     "name": "stdout",
     "output_type": "stream",
     "text": [
      "6.283185307179586\n",
      "14.451326206513047\n",
      "0.49999999999999994\n",
      "0.5000000000000001\n"
     ]
    }
   ],
   "source": [
    "twice_pi = 2*math.pi\n",
    "print(twice_pi)\n",
    "radius = 2.3\n",
    "perimeter = twice_pi * radius\n",
    "print(perimeter)\n",
    "print(math.sin(math.pi/6))\n",
    "print(math.cos(math.pi/3))"
   ]
  },
  {
   "cell_type": "markdown",
   "id": "9f7b5bed",
   "metadata": {},
   "source": [
    "If you only need one or two functions from a module, you can import them, instead of the whole module. This way, we don't have to call the module name every time."
   ]
  },
  {
   "cell_type": "code",
   "execution_count": 4,
   "id": "bea91a8c",
   "metadata": {
    "collapsed": false,
    "jupyter": {
     "outputs_hidden": false
    }
   },
   "outputs": [],
   "source": [
    "# import required functions from math\n",
    "from math import pi,sin,cos"
   ]
  },
  {
   "cell_type": "code",
   "execution_count": 5,
   "id": "1116cf96",
   "metadata": {
    "collapsed": false,
    "jupyter": {
     "outputs_hidden": false
    }
   },
   "outputs": [
    {
     "name": "stdout",
     "output_type": "stream",
     "text": [
      "6.283185307179586\n",
      "0.49999999999999994\n",
      "0.5000000000000001\n"
     ]
    }
   ],
   "source": [
    "# now we can use values and functions within the math module\n",
    "twice_pi = 2*pi\n",
    "print(twice_pi)\n",
    "print(sin(pi/6))\n",
    "print(cos(pi/3))"
   ]
  },
  {
   "cell_type": "markdown",
   "id": "f3a7061d",
   "metadata": {},
   "source": [
    "OK, cool, but how do I know which modules I need?"
   ]
  },
  {
   "cell_type": "markdown",
   "id": "4fd8cf61",
   "metadata": {},
   "source": [
    "You can also view the module documentation to see what functions are available and how to use them. Each python module has a documentation page, for example: https://docs.python.org/3/library/math.html  \n",
    "Two more useful links:  \n",
    "https://pypi.python.org/pypi - a list of all Python modules  \n",
    "https://wiki.python.org/moin/NumericAndScientific - a list of scientific modules"
   ]
  },
  {
   "cell_type": "markdown",
   "id": "19256b0a",
   "metadata": {},
   "source": [
    "### Installing modules\n",
    "Many Python modules are included within the core distribution, and all you have to do is `import` them. However, many other modules need to be downloaded and installed first.  \n",
    "Python has built-in tools for installing modules, but sometimes things go wrong. Therefore, try the following methods, in this order.  "
   ]
  },
  {
   "cell_type": "markdown",
   "id": "fcdf96de",
   "metadata": {},
   "source": [
    "#### 1. Use PIP\n",
    "PIP is a built-in program which (usually) makes it easy to install packages and modules.  \n",
    "Since we can't access PIP from within a notebook, we'll use the Pyzo IEP shell, usually located at _C:\\pyzo\\IEP.exe_. This interactive shell can run usefull commands. "
   ]
  },
  {
   "cell_type": "markdown",
   "id": "06825c36",
   "metadata": {},
   "source": [
    "We'll enter our commands in this shell window. For example, to get a list of all the modules already installed (not including built-in modules) and their versions, we can type: `pip freeze`:  "
   ]
  },
  {
   "cell_type": "markdown",
   "id": "3e5ec4e0",
   "metadata": {},
   "source": [
    "To install a new package, all we have to do is: `pip install packagename`, and that's it. Just make sure there are no error messages raised during the installation.  \n",
    "If, for some reason, things don't work out that well, proceed to option 2."
   ]
  },
  {
   "cell_type": "markdown",
   "id": "0a2f0173",
   "metadata": {},
   "source": [
    "#### 2. Use Conda\n",
    "Conda is another useful tool, rather similar to PIP. To use it, just type `conda` in the IEP shell. To get the list of installed modules, type `conda list`. To install a module, type `conda install packagename`.  \n",
    "If this too doesn't work, proceed to option 3."
   ]
  },
  {
   "cell_type": "markdown",
   "id": "a819ec20",
   "metadata": {},
   "source": [
    "#### 3. Use Windows binaries installation\n",
    "If nothing else works, you can try looking for your package [in this website](http://www.lfd.uci.edu/~gohlke/pythonlibs/). It contains many downloadable installers which you can just click through to easily install a package. Make sure to choose the download that fits your python version and operating system.  \n",
    "Not all modules are available through this website. If you don't find your module here, you might have to install from source. Details [here](https://docs.python.org/3/install/)"
   ]
  },
  {
   "cell_type": "markdown",
   "id": "3972fcee",
   "metadata": {},
   "source": [
    "## Files I/O\n",
    "So far, we only used rather small data, like numbers, short strings and short lists. We stored these data in a local variable (i.e. in memory), and manipulated it. But what happens if we need to store large amounts of data?\n",
    "- Whole genomes\n",
    "- List of all insect species\n",
    "- Multiple numeric values  \n",
    "  \n",
    "This is what files are for!"
   ]
  },
  {
   "cell_type": "markdown",
   "id": "1f77f708",
   "metadata": {},
   "source": [
    "### Why do we need files?\n",
    "- Store large amounts of data\n",
    "- Use data in multiple sessions\n",
    "- Use data outside python\n",
    "- Provide data for other tools/programs"
   ]
  },
  {
   "cell_type": "markdown",
   "id": "9e58143a",
   "metadata": {},
   "source": [
    "We'll start with simple text files and proceed to more complex formats.  \n",
    "Let's read the list of crop plants located in lec4_files/crops.txt"
   ]
  },
  {
   "cell_type": "markdown",
   "id": "f35e3a2b",
   "metadata": {},
   "source": [
    "### Reading files\n",
    "Whenever we want to work with a file, we first need to _open_ it. This is, not surprisingly, done using the `open` function.  \n",
    "This function returns a file object which we can then use."
   ]
  },
  {
   "cell_type": "code",
   "execution_count": 7,
   "id": "535c6cb6",
   "metadata": {
    "collapsed": false,
    "jupyter": {
     "outputs_hidden": false
    }
   },
   "outputs": [],
   "source": [
    "crops_file = open('data/crops.txt','r')"
   ]
  },
  {
   "cell_type": "markdown",
   "id": "da3d32c6",
   "metadata": {},
   "source": [
    "The `open` function receives two parameters: the path to the file you want to open and the mode of opening (both strings). In this case - 'r' for 'read'.  \n",
    "Notice the / instead of \\ in the path. This is the easiest way to avoid path errors. Also note that this command alone does nothing, just creates the file object (sometimes called file handle).  \n",
    "In fact, we'll usually use the `open` function differently:"
   ]
  },
  {
   "cell_type": "code",
   "execution_count": 8,
   "id": "75b70d00",
   "metadata": {
    "collapsed": false,
    "jupyter": {
     "outputs_hidden": false
    }
   },
   "outputs": [],
   "source": [
    "with open('data/crops.txt','r') as crops_file:\n",
    "    # indented block\n",
    "    # do stuff with file\n",
    "    pass"
   ]
  },
  {
   "cell_type": "markdown",
   "id": "233d52d6",
   "metadata": {},
   "source": [
    "OK, so what can we do with files?  \n",
    "The most common task would be to read the file line by line.  "
   ]
  },
  {
   "cell_type": "markdown",
   "id": "4a33615d",
   "metadata": {},
   "source": [
    "#### Looping over the file object\n",
    "We can simply use a _for_ loop to go over all lines. This is the best practice, and also very simple to use:"
   ]
  },
  {
   "cell_type": "code",
   "execution_count": 19,
   "id": "bfe797a4",
   "metadata": {
    "collapsed": false,
    "jupyter": {
     "outputs_hidden": false
    }
   },
   "outputs": [
    {
     "name": "stdout",
     "output_type": "stream",
     "text": [
      "Musa balbisiana\n",
      "\n",
      "Musa spp.\n",
      "\n",
      "Musa textilis\n",
      "\n"
     ]
    }
   ],
   "source": [
    "with open('data/crops.txt','r') as crops_file:\n",
    "    for line in crops_file:\n",
    "        if line.startswith('Musa'):   # check if line starts with a given string\n",
    "            print(line)"
   ]
  },
  {
   "cell_type": "markdown",
   "id": "454b4eb6",
   "metadata": {},
   "source": [
    "Oops, why did we get double newlines?  \n",
    "Each line in the file ends with a _newline_ character. Although it is invisible in most editors, it is certainly there! In python, a newline is represented as `\\n`.  \n",
    "The `print()` command adds a new line to the newline character in the end of every line in the file, so we end up with double newlines.  \n",
    "We can use `strip()` to remove the character from the end of lines."
   ]
  },
  {
   "cell_type": "code",
   "execution_count": 20,
   "id": "4a805cef",
   "metadata": {
    "collapsed": false,
    "jupyter": {
     "outputs_hidden": false
    }
   },
   "outputs": [
    {
     "name": "stdout",
     "output_type": "stream",
     "text": [
      "Musa balbisiana\n",
      "Musa spp.\n",
      "Musa textilis\n"
     ]
    }
   ],
   "source": [
    "with open('data/crops.txt','r') as crops_file:\n",
    "    for line in crops_file:\n",
    "        line = line.strip()\n",
    "        if line.startswith('Musa'):\n",
    "            print(line)"
   ]
  },
  {
   "cell_type": "markdown",
   "id": "81b004cf",
   "metadata": {},
   "source": [
    "![Musa species](http://www.replicatedtypo.com/wp-content/uploads/2010/08/Picture-49.png)"
   ]
  },
  {
   "cell_type": "markdown",
   "id": "8717da79",
   "metadata": {},
   "source": [
    "#### Reading the entire file - read()\n",
    "Another option is to read the entire file as a big string with the `read()` method.  \n",
    "Careful with this one! This is not recommended for large files."
   ]
  },
  {
   "cell_type": "code",
   "execution_count": 21,
   "id": "3b239d35",
   "metadata": {
    "collapsed": false,
    "jupyter": {
     "outputs_hidden": false
    }
   },
   "outputs": [
    {
     "name": "stdout",
     "output_type": "stream",
     "text": [
      "﻿Abelmoschus caillei\n",
      "Abelmoschus esculentus\n",
      "Acacia mearnsii\n",
      "Acacia senegal\n",
      "Acacia seyal\n",
      "Acca sellowian\n"
     ]
    }
   ],
   "source": [
    "with open('data/crops.txt','r') as crops_file:\n",
    "    entire_file = crops_file.read()\n",
    "    print(entire_file[:102]) # print first 102 characters"
   ]
  },
  {
   "cell_type": "markdown",
   "id": "03c80316",
   "metadata": {},
   "source": [
    "#### Reading line by line with readline()\n",
    "The `readline()` method allows us to read a single line each time. It works very well when combined with a _while_ loop, giving us good control of the program flow."
   ]
  },
  {
   "cell_type": "code",
   "execution_count": 23,
   "id": "e40c83bb",
   "metadata": {
    "collapsed": false,
    "jupyter": {
     "outputs_hidden": false
    }
   },
   "outputs": [
    {
     "name": "stdout",
     "output_type": "stream",
     "text": [
      "Triticum aestivum\n",
      "Triticum dicoccum\n",
      "Triticum durum\n",
      "Triticum monococcum\n",
      "Triticum spelta\n",
      "Triticum turanicum\n"
     ]
    }
   ],
   "source": [
    "with open('data/crops.txt','r') as crops_file:\n",
    "    line = crops_file.readline()    # read first line\n",
    "    while line:\n",
    "        line = line.strip()\n",
    "        if line.startswith('Triticum'):\n",
    "            print(line)\n",
    "        line = crops_file.readline()    # read next line"
   ]
  },
  {
   "cell_type": "markdown",
   "id": "140fdad7",
   "metadata": {},
   "source": [
    "__REMEMBER__ to always read the next line within the while loop. Otherwise, you'll get stuck in an infinite loop, processing the first line over and over again..."
   ]
  },
  {
   "cell_type": "markdown",
   "id": "95b915eb",
   "metadata": {},
   "source": [
    "There are other methods you can use to read files. For example, take a look at the `readlines()` method here:  \n",
    "https://docs.python.org/3/tutorial/inputoutput.html"
   ]
  },
  {
   "cell_type": "markdown",
   "id": "585c8d11",
   "metadata": {},
   "source": [
    "### Summary\n",
    "Whenever treating a file, there are three elements:\n",
    "- File __path__ - the actual location of the file on the hard drive (use `/` rather than `\\`).\n",
    "- File __object__ - the way files are handled in Python.\n",
    "- File __contents__ - what is extracted from the file, depending on the method used on the file object."
   ]
  },
  {
   "cell_type": "markdown",
   "id": "30d3172f",
   "metadata": {},
   "source": [
    "## Practice!"
   ]
  },
  {
   "cell_type": "markdown",
   "id": "f394978c",
   "metadata": {},
   "source": [
    "Use one of the file-reading techniques shown above to:  \n",
    "1) Print the last line in the file.  \n",
    "2) Find out how many _Garcinia_ species are in the file (use the `startswith()` method)."
   ]
  },
  {
   "cell_type": "code",
   "execution_count": 24,
   "id": "ace9d496",
   "metadata": {
    "collapsed": false,
    "jupyter": {
     "outputs_hidden": false
    }
   },
   "outputs": [
    {
     "name": "stdout",
     "output_type": "stream",
     "text": [
      "Ziziphus zizyphus |\n"
     ]
    }
   ],
   "source": [
    "with open('data/crops.txt','r') as crops_file:\n",
    "    entire_file = crops_file.read()\n",
    "    lines_list = entire_file.split('\\n')\n",
    "    print(lines_list[-1])"
   ]
  },
  {
   "cell_type": "code",
   "execution_count": 25,
   "id": "74598551",
   "metadata": {
    "collapsed": false,
    "jupyter": {
     "outputs_hidden": false
    }
   },
   "outputs": [
    {
     "name": "stdout",
     "output_type": "stream",
     "text": [
      "7\n"
     ]
    }
   ],
   "source": [
    "with open('data/crops.txt','r') as crops_file:\n",
    "    triticum_count = 0\n",
    "    for line in crops_file:\n",
    "        if line.startswith('Garcinia'):\n",
    "            triticum_count += 1\n",
    "    print(triticum_count)"
   ]
  },
  {
   "cell_type": "markdown",
   "id": "3479fc34",
   "metadata": {},
   "source": [
    "### Writing to a file\n",
    "To write to a file, we first have to open it for writing. This is done using one of two modes: 'w' or 'a'.  \n",
    "'w', for write, will let you write into the file. If it doesn't exist, it'll be automatically created. If it exists and already has some content, __the content will be overwritten!__  \n",
    "'a', for append, is very similar, only it will not overwrite, but add your text to the end of an existing file. "
   ]
  },
  {
   "cell_type": "code",
   "execution_count": 27,
   "id": "b606fcba",
   "metadata": {
    "collapsed": false,
    "jupyter": {
     "outputs_hidden": false
    }
   },
   "outputs": [],
   "source": [
    "with open('data/output.txt','w') as out_file:\n",
    "    # indented block\n",
    "    # write into file...\n",
    "    pass"
   ]
  },
  {
   "cell_type": "markdown",
   "id": "f79c5389",
   "metadata": {},
   "source": [
    "Writing is done using good, old `print()`, only we add the argument `file = <file object>`."
   ]
  },
  {
   "cell_type": "code",
   "execution_count": 28,
   "id": "923b44e1",
   "metadata": {
    "collapsed": false,
    "jupyter": {
     "outputs_hidden": false
    }
   },
   "outputs": [],
   "source": [
    "with open('data/output.txt','w') as out_file:\n",
    "    print('This is the first line', file=out_file)\n",
    "    line = 'Another line'\n",
    "    print(line, file=out_file)\n",
    "    seq1 = 'ATTAGCGGATA'\n",
    "    seq2 = 'GGCATATAT'\n",
    "    print(seq1 + seq2, file=out_file)"
   ]
  },
  {
   "cell_type": "markdown",
   "id": "51fd4811",
   "metadata": {},
   "source": [
    "### Parsing files\n",
    "Parsing is _\"the process of analyzing a string of symbols, either in natural language or in computer languages, conforming to the rules of a formal grammar.\"_ (definition from _Wikipedia_).  \n",
    "More simply, parsing is reading a file in a specific format, 'slurping' the data and storing it in a data structure of your choice (list, dictionary etc.). We can then use this structure to analyze, print or simply view the data in a certain way.  \n",
    "Each file format has its own set of 'rules', and therefore needs to be parsed in a tailored manner. Here we will see an example very relevant for biologists."
   ]
  },
  {
   "cell_type": "markdown",
   "id": "c015b14f",
   "metadata": {},
   "source": [
    "### The FASTA format"
   ]
  },
  {
   "cell_type": "markdown",
   "id": "91cfff16",
   "metadata": {},
   "source": [
    "FASTA format is a text-based format for representing either nucleotide sequences or peptide sequences, in which nucleotides or amino acids are represented using single-letter codes. Each sequence has a header. Header lines start with '>'.  \n",
    "The file camelus.fasta includes five sequences of Camelus species. In this parsing example, we'll arrange the data in this file in a dictionary, so that the key is the id number from the header, and the value is the sequence.  "
   ]
  },
  {
   "cell_type": "code",
   "execution_count": 29,
   "id": "66ea3181",
   "metadata": {
    "collapsed": false,
    "jupyter": {
     "outputs_hidden": false
    }
   },
   "outputs": [
    {
     "data": {
      "text/html": [
       "Path (<tt>lec4_files/camelus.fasta</tt>) doesn't exist. It may still be in the process of being generated, or you may have the incorrect path."
      ],
      "text/plain": [
       "/Users/naghipourfar/PycharmProjects/molecular-biomechanics/python/lec4_files/camelus.fasta"
      ]
     },
     "execution_count": 29,
     "metadata": {},
     "output_type": "execute_result"
    }
   ],
   "source": [
    "from IPython.display import FileLink\n",
    "FileLink('lec4_files/camelus.fasta')"
   ]
  },
  {
   "cell_type": "markdown",
   "id": "bd640ae0",
   "metadata": {},
   "source": [
    "We'll start by writing the parsing function."
   ]
  },
  {
   "cell_type": "code",
   "execution_count": 30,
   "id": "ae7d4aa1",
   "metadata": {
    "collapsed": false,
    "jupyter": {
     "outputs_hidden": false
    }
   },
   "outputs": [],
   "source": [
    "def parse_fasta(file_name):\n",
    "    \"\"\"\n",
    "    Receives a path to a fasta file, and returns a dictionary where the keys\n",
    "    are the sequence IDs and the values are the sequences.\n",
    "    \"\"\"\n",
    "    # create an empty dictionary to store the sequences\n",
    "    sequences = {}\n",
    "    # open fasta file for reading\n",
    "    with open(file_name,'r') as f:\n",
    "        # Loop over file lines\n",
    "        for line in f:\n",
    "            # if header line\n",
    "            if line.startswith('>'):\n",
    "                seq_id = line.split('|')[1]\n",
    "            # if sequence line\n",
    "            else:\n",
    "                seq = line.strip()\n",
    "                sequences[seq_id] = seq\n",
    "    return sequences"
   ]
  },
  {
   "cell_type": "markdown",
   "id": "7304bd74",
   "metadata": {},
   "source": [
    "Now we can use the result. For example, let's print the first 10 nucleotides of every sequence."
   ]
  },
  {
   "cell_type": "code",
   "execution_count": 32,
   "id": "ed3ef76e",
   "metadata": {
    "collapsed": false,
    "jupyter": {
     "outputs_hidden": false
    }
   },
   "outputs": [
    {
     "name": "stdout",
     "output_type": "stream",
     "text": [
      "156447993  -  AGAGTCTTTG\n",
      "4584390  -  AGGGAATCGC\n",
      "543859288  -  ATGGCCTGGG\n",
      "441414656  -  ATGAGACTGT\n",
      "206246577  -  ATGACAAACA\n"
     ]
    }
   ],
   "source": [
    "camelus_seq = parse_fasta('data/camelus.fasta')\n",
    "for seq_id in camelus_seq:\n",
    "    print(seq_id,\" - \",camelus_seq[seq_id][:10])"
   ]
  },
  {
   "cell_type": "markdown",
   "id": "46bbaaeb",
   "metadata": {},
   "source": [
    "![camelus](http://creagrus.home.montereybay.com/Camel_Oman-1.jpg)"
   ]
  },
  {
   "cell_type": "code",
   "execution_count": 35,
   "id": "d87cd3ec",
   "metadata": {
    "collapsed": false,
    "jupyter": {
     "outputs_hidden": false
    }
   },
   "outputs": [],
   "source": [
    "# new function\n",
    "def parse_fasta_30_nuc(file_name):\n",
    "    \"\"\"\n",
    "    Receives a path to a fasta file, and returns a dictionary where the keys\n",
    "    are the sequence gb accession numbers and the values are the first 30\n",
    "    nucleotides of the sequences.\n",
    "    \"\"\"\n",
    "    # create an empty dictionary to store the sequences\n",
    "    sequences = {}\n",
    "    # open fasta file for reading\n",
    "    with open(file_name,'r') as f:\n",
    "        # Loop over file lines\n",
    "        for line in f:\n",
    "            # if header line\n",
    "            if line.startswith('>'):\n",
    "                gb = line.split('|')[3]\n",
    "            # if sequence line\n",
    "            else:\n",
    "                seq = line.strip()[:30]\n",
    "                sequences[gb] = seq\n",
    "    return sequences\n",
    "\n",
    "# parse file\n",
    "camelus_seq = parse_fasta_30_nuc('data/camelus.fasta')\n",
    "\n",
    "# write to new file\n",
    "with open('data/4b_output.txt','w') as of:\n",
    "    for gb_id in camelus_seq:\n",
    "        print(gb_id + ':',camelus_seq[gb_id], file=of)"
   ]
  },
  {
   "cell_type": "markdown",
   "id": "1001b0d6",
   "metadata": {},
   "source": [
    "### The CSV format\n",
    "Comma separated values (CSV) is a very common and useful format for storing tabular data. It is similar to an Excel file, only it is completely text based. Let's have a look at an example file, both using Excel and a simple text editor."
   ]
  },
  {
   "cell_type": "markdown",
   "id": "c50d971c",
   "metadata": {},
   "source": [
    "We can, quite easily, create our own functions for dealing with CSV files, for example by splitting each line by commas. However, Python has a built-in module for exactly this purpose, so why bother?"
   ]
  },
  {
   "cell_type": "markdown",
   "id": "5e89993e",
   "metadata": {},
   "source": [
    "#### Reading CSV files\n",
    "The most simple way to read a CSV file is to use the modules `reader` function. This function receives a file object (created with `open()`) and returns a reader object."
   ]
  },
  {
   "cell_type": "code",
   "execution_count": 40,
   "id": "a01f2ac5",
   "metadata": {
    "collapsed": false,
    "jupyter": {
     "outputs_hidden": false
    }
   },
   "outputs": [],
   "source": [
    "import csv"
   ]
  },
  {
   "cell_type": "code",
   "execution_count": 42,
   "id": "27f21b3c",
   "metadata": {
    "collapsed": false,
    "jupyter": {
     "outputs_hidden": false
    }
   },
   "outputs": [],
   "source": [
    "experiments_file = 'data/electrolyte_leakage.csv'\n",
    "with open(experiments_file, 'r') as f:\n",
    "    csv_reader = csv.reader(f)"
   ]
  },
  {
   "cell_type": "markdown",
   "id": "c1cae3d8",
   "metadata": {},
   "source": [
    "Once we have defined the csv reader, we can use it to iterate over the file lines. Each row is returned as a list of the column values."
   ]
  },
  {
   "cell_type": "code",
   "execution_count": 43,
   "id": "75656d80",
   "metadata": {
    "collapsed": false,
    "jupyter": {
     "outputs_hidden": false
    }
   },
   "outputs": [
    {
     "name": "stdout",
     "output_type": "stream",
     "text": [
      "accession\n",
      "101AV/Ge-0\n",
      "157AV/Ita-0\n",
      "162AV/Ct-1\n",
      "163AV/Can-0\n",
      "166AV/Cvi-0\n",
      "172AV/Bur-0\n",
      "180AV/Blh-1\n",
      "186AV/Col-0\n",
      "200AV/Gre-0\n",
      "215AV/Mh-1\n",
      "224AV/Oy-0\n",
      "236AV/Shadahra\n",
      "252AV/Akita\n",
      "257AV/Sakata\n",
      "25AV/Jea\n",
      "266AV/N13\n",
      "42AV/Bl-1\n",
      "62AV/St-0\n",
      "70AV/Kn-0\n",
      "83AV/Edi-0\n",
      "8AV/Pyl-1\n",
      "91AV/Tsu-0\n",
      "94AV/Mt-0\n",
      "96AV/An-1\n"
     ]
    }
   ],
   "source": [
    "experiments_file = 'data/electrolyte_leakage.csv'\n",
    "with open(experiments_file, 'r') as f:\n",
    "    csv_reader = csv.reader(f)\n",
    "    for row in csv_reader:\n",
    "        print(row[0])"
   ]
  },
  {
   "cell_type": "markdown",
   "id": "0c10d987",
   "metadata": {},
   "source": [
    "#### Writing CSV files\n",
    "Writing is also rather straightforward. The csv module supplies the `csv.writer` object, which has the method `writerow()`. This function receives a list, and prints it as a csv line."
   ]
  },
  {
   "cell_type": "code",
   "execution_count": 44,
   "id": "5fd6d51d",
   "metadata": {
    "collapsed": false,
    "jupyter": {
     "outputs_hidden": false
    }
   },
   "outputs": [],
   "source": [
    "new_file = 'data/out_csv.csv'\n",
    "with open(new_file, 'w', newline='') as fo:    # notice the 'w' instead of 'r'\n",
    "    csv_writer = csv.writer(fo)\n",
    "    csv_writer.writerow(['these','are','the','column','headers'])\n",
    "    csv_writer.writerow(['and','these','are','the','values'])"
   ]
  },
  {
   "cell_type": "markdown",
   "id": "1dc40146",
   "metadata": {},
   "source": [
    "## Congrats!\n",
    "\n",
    "The notebook is available at https://github.com/Naghipourfar/molecular-biomechanics/"
   ]
  },
  {
   "cell_type": "code",
   "execution_count": null,
   "id": "62be0861-c469-42ca-84c8-1f4973acdc34",
   "metadata": {},
   "outputs": [],
   "source": []
  }
 ],
 "metadata": {
  "kernelspec": {
   "display_name": "Python 3 (ipykernel)",
   "language": "python",
   "name": "python3"
  },
  "language_info": {
   "codemirror_mode": {
    "name": "ipython",
    "version": 3
   },
   "file_extension": ".py",
   "mimetype": "text/x-python",
   "name": "python",
   "nbconvert_exporter": "python",
   "pygments_lexer": "ipython3",
   "version": "3.7.4"
  }
 },
 "nbformat": 4,
 "nbformat_minor": 5
}
