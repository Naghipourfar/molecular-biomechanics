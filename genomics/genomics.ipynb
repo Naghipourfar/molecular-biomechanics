{
 "cells": [
  {
   "cell_type": "markdown",
   "id": "06c49253",
   "metadata": {
    "tags": []
   },
   "source": [
    "# Lecture 1 - Introductory Genomics (Working with Biopython package)\n",
    "### University of California, Berkeley - Spring 2022"
   ]
  },
  {
   "cell_type": "markdown",
   "id": "12a3ab2d",
   "metadata": {
    "tags": []
   },
   "source": [
    "## Today's subjects:\n",
    "\n",
    "- Biopython\n",
    "- Sequence analysis\n",
    "- Sequence data in python"
   ]
  },
  {
   "cell_type": "markdown",
   "id": "c33a6e14-4db8-4829-b02b-ce127cfe7f2e",
   "metadata": {},
   "source": [
    "Bioinformatics is the application of the tools of computer science to address biological problems. Bioinformatics is a rapidly growing field, largely in response to the vast increase in the quantity of data that biologists now grapple with. Students from varied disciplines (e.g., biology, computer science, statistics, and biochemistry) and stages of their educational careers (undergraduate, graduate, or postdoctoral) are becoming interested in bioinformatics.\n",
    "\n",
    "In these set of notebooks, we will introduce the core concepts in bioinformatics specially genomics in the context of implementation and application to real-world problems and data. \n",
    "\n",
    "You will learn the concepts in the context of tools where you can use to develop your own bioinformatics software and pipelines, paving the way to rapidly get started on their own projects. While some theory is discussed, the focus of IAB is on what readers need to know to be effective, practicing bioinformaticians.\n",
    "\n",
    "My goal with IAB is to make getting started in bioinformatics as accessible as possible to students from varied backgrounds, and to get more people interested in this exciting field. I’m very interested in hearing from readers and instructors who are using IAB, so get in touch with feedback, corrections, or suggestions. The best way to get in touch is using the IAB2 issue tracker."
   ]
  },
  {
   "cell_type": "markdown",
   "id": "44e371f9-02a2-4ef9-ba27-ce18b2553379",
   "metadata": {
    "tags": []
   },
   "source": [
    "## Central Dogma of Molecular Biology"
   ]
  },
  {
   "cell_type": "markdown",
   "id": "62be9bd9-311c-4321-a40b-0a39c667cfa9",
   "metadata": {},
   "source": [
    "The Central Dogma of Molecular Biology (Fig. 1) describes information flow in biological systems. It begins with DNA, a relatively long-lived information storage molecule, from which information typically flows in two directions: into new DNA molecules, during the process of replication, or into messenger RNA (mRNA), during the processing of transcription. mRNA is a relatively short-lived molecule that transfers information that is used to synthesize protein molecules by the ribosome. Proteins are often thought of as the building blocks of life. They serve a variety of purposes, ranging from molecular machines such as transmembrane ion transporters, to structural molecules like myosin, a major component of muscle fibers. There are some uncommon circumstances where information flows differently, for example RNA viruses encode their genomes in RNA, which can be reverse transcribed to DNA in a host cell. Proteins do seem to be a terminal output of this information flow: once a protein has been created, we are aware of no natural process that can work backwards to re-create the RNA or DNA that encoded it.\n",
    "\n",
    "Let’s establish some concepts that will help us to understand and even quantify information."
   ]
  },
  {
   "cell_type": "markdown",
   "id": "d450eee6-77b6-49ac-b33a-913f0d5201f4",
   "metadata": {},
   "source": [
    "<figure>\n",
    "<center>\n",
    "<img src=\"imgs/central_dogma.jpeg\" />\n",
    "<figcaption align=\"center\"><a href=\"https://nbviewer.org/github/cing/HackingStructBiolTalk/blob/master/HackingStructBiology.ipynb\"><b>Fig. 1 - The central dogma of molecular biology represents information flow in biological systems</b></a></figcaption>\n",
    "</figure>"
   ]
  },
  {
   "cell_type": "markdown",
   "id": "96385a8d",
   "metadata": {},
   "source": [
    "## Biopython"
   ]
  },
  {
   "cell_type": "markdown",
   "id": "ba12cada",
   "metadata": {},
   "source": [
    "### What is Biopython?\n",
    ">Biopython is a set of freely available tools for biological computation written in Python by an international team of developers.\n",
    "\n",
    "(from the Biopython [official website](http://biopython.org/wiki/Main_Page)).  \n",
    "\n",
    "Simply put, Biopython is a python package (collection of modules), which includes lots of functions and tools associated with __bioinformatics__."
   ]
  },
  {
   "cell_type": "markdown",
   "id": "72aa918d",
   "metadata": {},
   "source": [
    "### What's in the Biopython package?\n",
    "* Ready-to-use parsers, dedicated to biological data file formats:\n",
    "    * FASTA\n",
    "    * GenBank\n",
    "    * BLAST output\n",
    "    * Newick/Nexus phylogenetic trees\n",
    "* Special data types to handle biological data:\n",
    "    * Nucleotide sequences\n",
    "    * Protein sequences\n",
    "    * Protein structure\n",
    "    * Phylogenetic trees\n",
    "* Easy accessibility to biological databases:\n",
    "    * NCBI BLAST\n",
    "    * PubMed\n",
    "    * GenBank\n",
    "    * SwissProt\n",
    "* Bioinformatic tools:\n",
    "    * MSA\n",
    "    * Clustering\n",
    "    * Sequence manipulation  \n",
    "\n",
    "And lots of other stuff...  \n",
    "We will not cover everything today."
   ]
  },
  {
   "cell_type": "markdown",
   "id": "8a37ffda",
   "metadata": {},
   "source": [
    "### Installing Biopython\n",
    "Biopython is not part of the core distribution and thus needs to be installed before it can be used. To install the package, use `pip install Biopython` or another installation method, as explained in lecture 4. "
   ]
  },
  {
   "cell_type": "code",
   "execution_count": 1,
   "id": "3b0a33d8-0307-4094-833d-374d76d74833",
   "metadata": {},
   "outputs": [
    {
     "name": "stdout",
     "output_type": "stream",
     "text": [
      "Requirement already satisfied: biopython in /home/mohsen/miniconda3/envs/venv/lib/python3.7/site-packages (1.79)\n",
      "Requirement already satisfied: numpy in /home/mohsen/miniconda3/envs/venv/lib/python3.7/site-packages (from biopython) (1.19.0)\n"
     ]
    }
   ],
   "source": [
    "!pip install biopython"
   ]
  },
  {
   "cell_type": "markdown",
   "id": "4a72984e",
   "metadata": {},
   "source": [
    "### Using Biopython\n",
    "Once installed, we can import the package using:"
   ]
  },
  {
   "cell_type": "code",
   "execution_count": 2,
   "id": "c8f343fa",
   "metadata": {
    "collapsed": false,
    "jupyter": {
     "outputs_hidden": false
    }
   },
   "outputs": [],
   "source": [
    "import Bio"
   ]
  },
  {
   "cell_type": "markdown",
   "id": "275ad5eb",
   "metadata": {},
   "source": [
    "In practice, we won't usually do that, because this package is _huge_, and we only need certain parts of its functionality. Therefore, we can do:  \n",
    "`from Bio import <module name>`. For example:"
   ]
  },
  {
   "cell_type": "code",
   "execution_count": 3,
   "id": "55043a5f",
   "metadata": {
    "collapsed": false,
    "jupyter": {
     "outputs_hidden": false
    }
   },
   "outputs": [],
   "source": [
    "from Bio import SeqIO"
   ]
  },
  {
   "cell_type": "markdown",
   "id": "4a056471",
   "metadata": {},
   "source": [
    "### Documentation\n",
    "Biopython has very good and very vast documentation.  \n",
    "A great tutorial is available [here](http://biopython.org/DIST/docs/tutorial/Tutorial.html).  \n",
    "If you need a specific task, you might want to take a look at the ['Cookbook' pages](http://biopython.org/wiki/Category:Cookbook) or the [wiki pages](http://biopython.org/wiki/Category:Wiki_Documentation).  \n",
    "Biopython's online community is very active. Join one of the [mailing lists](http://biopython.org/wiki/Mailing_lists) for lots of useful discussions and lots of spam..."
   ]
  },
  {
   "cell_type": "markdown",
   "id": "9951fb34",
   "metadata": {},
   "source": [
    "## Introducing Sequence objects\n",
    "![biopython](imgs/biopython.jpg)"
   ]
  },
  {
   "cell_type": "markdown",
   "id": "efca3469",
   "metadata": {},
   "source": [
    "So far in this course, we have seen most of the basic data types in Python: str,int,float,list,dict etc. We've also briefly talked about some specialized data types such as file objects (generated when using the `open()` function) and the csv reader.  \n",
    "One of the most basic objects in bioinformatics are sequences, and Biopython has a whole mechanism for dealing with sequences. This is done by introducing a new data type, namely a _sequence_ data type.  \n",
    "In principal, we could just use strings to represent biological sequences."
   ]
  },
  {
   "cell_type": "code",
   "execution_count": 4,
   "id": "ad58a53a",
   "metadata": {
    "collapsed": false,
    "jupyter": {
     "outputs_hidden": false
    }
   },
   "outputs": [],
   "source": [
    "seq = \"AGTACACTGGT\""
   ]
  },
  {
   "cell_type": "markdown",
   "id": "aee695c1",
   "metadata": {},
   "source": [
    "But using Biopython's specialized data type, we get much more functionality, novel to sequences, without giving away the string functionality. That's achieved thanks to special _methods_ of the sequence data type (but not the string data type)."
   ]
  },
  {
   "cell_type": "markdown",
   "id": "e1d4ce54",
   "metadata": {},
   "source": [
    "### Creating sequence objects\n",
    "To work with sequence objects, we'll first have to import the relevant class (specific part of the module):"
   ]
  },
  {
   "cell_type": "code",
   "execution_count": 5,
   "id": "230c18e3",
   "metadata": {
    "collapsed": false,
    "jupyter": {
     "outputs_hidden": false
    }
   },
   "outputs": [],
   "source": [
    "from Bio.Seq import Seq"
   ]
  },
  {
   "cell_type": "markdown",
   "id": "6ec63369",
   "metadata": {},
   "source": [
    "Now, creating a sequence object is done using `Seq`, on the required sequence string. Like this:"
   ]
  },
  {
   "cell_type": "code",
   "execution_count": 6,
   "id": "e5517c65",
   "metadata": {
    "collapsed": false,
    "jupyter": {
     "outputs_hidden": false
    }
   },
   "outputs": [
    {
     "name": "stdout",
     "output_type": "stream",
     "text": [
      "<class 'str'>\n",
      "<class 'Bio.Seq.Seq'>\n"
     ]
    }
   ],
   "source": [
    "my_DNA_seq = Seq(\"AGTACACTGGT\")\n",
    "print(type(seq))\n",
    "print(type(my_DNA_seq))"
   ]
  },
  {
   "cell_type": "markdown",
   "id": "8f568adc",
   "metadata": {},
   "source": [
    "We can store amino acid sequences in the same way:"
   ]
  },
  {
   "cell_type": "code",
   "execution_count": 7,
   "id": "85928580",
   "metadata": {
    "collapsed": false,
    "jupyter": {
     "outputs_hidden": false
    }
   },
   "outputs": [
    {
     "name": "stdout",
     "output_type": "stream",
     "text": [
      "<class 'Bio.Seq.Seq'>\n"
     ]
    }
   ],
   "source": [
    "my_AA_seq = Seq(\"EVRNAK\")\n",
    "print(type(my_AA_seq))"
   ]
  },
  {
   "cell_type": "markdown",
   "id": "54e6de6c",
   "metadata": {},
   "source": [
    "### What can we do with sequence objects?\n",
    "As we said earlier, sequence objects have all the functionality that strings have. That means that everything that we've done with strings can also be done with sequence objects. Some examples:"
   ]
  },
  {
   "cell_type": "code",
   "execution_count": 8,
   "id": "e732befc",
   "metadata": {
    "collapsed": false,
    "jupyter": {
     "outputs_hidden": false
    }
   },
   "outputs": [
    {
     "name": "stdout",
     "output_type": "stream",
     "text": [
      "AGTACACTGGT\n",
      "11\n",
      "A\n",
      "T\n",
      "T\n",
      "ACACTGG\n"
     ]
    }
   ],
   "source": [
    "# printing\n",
    "print(my_DNA_seq)\n",
    "# length\n",
    "print(len(my_DNA_seq))\n",
    "# Accessing specific elements\n",
    "print(my_DNA_seq[0])\n",
    "print(my_DNA_seq[7])\n",
    "print(my_DNA_seq[-1])\n",
    "# Slicing\n",
    "print(my_DNA_seq[3:10])"
   ]
  },
  {
   "cell_type": "markdown",
   "id": "ea996469",
   "metadata": {},
   "source": [
    "Notice that slicing a sequence object results in a new sequence object:"
   ]
  },
  {
   "cell_type": "code",
   "execution_count": 9,
   "id": "7dae2335",
   "metadata": {
    "collapsed": false,
    "jupyter": {
     "outputs_hidden": false
    }
   },
   "outputs": [
    {
     "name": "stdout",
     "output_type": "stream",
     "text": [
      "<class 'Bio.Seq.Seq'>\n"
     ]
    }
   ],
   "source": [
    "partial_DNA = my_DNA_seq[3:10]\n",
    "print(type(partial_DNA))"
   ]
  },
  {
   "cell_type": "code",
   "execution_count": 10,
   "id": "e87ef37c",
   "metadata": {
    "collapsed": false,
    "jupyter": {
     "outputs_hidden": false
    }
   },
   "outputs": [
    {
     "name": "stdout",
     "output_type": "stream",
     "text": [
      "AGGCACCATTATTACAGGA\n"
     ]
    }
   ],
   "source": [
    "# Sequence concatenation\n",
    "seq1 = Seq(\"AGGCACCATTA\")\n",
    "seq2 = Seq(\"TTACAGGA\")\n",
    "whole_seq = seq1 + seq2\n",
    "print(whole_seq)"
   ]
  },
  {
   "cell_type": "markdown",
   "id": "f04883fb",
   "metadata": {},
   "source": [
    "OK, so here's when it gets interesting: sequence objects have some special and powerful methods. For example, finding the complement and the reverse-complement has never been easier:"
   ]
  },
  {
   "cell_type": "code",
   "execution_count": 11,
   "id": "50afc85c",
   "metadata": {
    "collapsed": false,
    "jupyter": {
     "outputs_hidden": false
    }
   },
   "outputs": [
    {
     "name": "stdout",
     "output_type": "stream",
     "text": [
      "CTAGCTACCCGGATATATCCTAGCTTTTAGCG\n",
      "GCGATTTTCGATCCTATATAGGCCCATCGATC\n"
     ]
    }
   ],
   "source": [
    "my_DNA_seq = Seq(\"GATCGATGGGCCTATATAGGATCGAAAATCGC\")\n",
    "complement_seq = my_DNA_seq.complement()\n",
    "print(complement_seq)\n",
    "rev_comp_seq = my_DNA_seq.reverse_complement()\n",
    "print(rev_comp_seq)"
   ]
  },
  {
   "cell_type": "markdown",
   "id": "2c539987",
   "metadata": {},
   "source": [
    "We can transcribe DNA to RNA, which is basically just changing T -> U (assuming that we are using the 'sense' strand)."
   ]
  },
  {
   "cell_type": "code",
   "execution_count": 12,
   "id": "e0171dd0",
   "metadata": {
    "collapsed": false,
    "jupyter": {
     "outputs_hidden": false
    }
   },
   "outputs": [
    {
     "name": "stdout",
     "output_type": "stream",
     "text": [
      "AUGGCCAUUGUAAUGGGCCGCUGAAAGGGUGCCCGAUAG\n"
     ]
    }
   ],
   "source": [
    "coding_DNA = Seq(\"ATGGCCATTGTAATGGGCCGCTGAAAGGGTGCCCGATAG\")\n",
    "mRNA = coding_DNA.transcribe()\n",
    "print(mRNA)"
   ]
  },
  {
   "cell_type": "markdown",
   "id": "d88db71f",
   "metadata": {},
   "source": [
    "And also translate to protein sequence, either from RNA or straight from coding (sense) DNA:"
   ]
  },
  {
   "cell_type": "code",
   "execution_count": 13,
   "id": "911fa5b5",
   "metadata": {
    "collapsed": false,
    "jupyter": {
     "outputs_hidden": false
    }
   },
   "outputs": [
    {
     "name": "stdout",
     "output_type": "stream",
     "text": [
      "MAIVMGR*KGAR*\n"
     ]
    }
   ],
   "source": [
    "peptide = mRNA.translate()\n",
    "print(peptide)"
   ]
  },
  {
   "cell_type": "markdown",
   "id": "3d36dd0d",
   "metadata": {},
   "source": [
    "## Practice!"
   ]
  },
  {
   "cell_type": "markdown",
   "id": "b4434883",
   "metadata": {},
   "source": [
    "Write a function that receives __antisense__ DNA, as a __string__ and returns it's translation, as a __sequence object__. Test your code on the given string sequence (displayed 5' to 3')."
   ]
  },
  {
   "cell_type": "code",
   "execution_count": 14,
   "id": "dccac016",
   "metadata": {
    "collapsed": false,
    "jupyter": {
     "outputs_hidden": false
    }
   },
   "outputs": [
    {
     "name": "stdout",
     "output_type": "stream",
     "text": [
      "DSPWESRRVMLPV\n"
     ]
    }
   ],
   "source": [
    "from Bio.Seq import Seq\n",
    "def antisense_string_to_protein_seq(DNA_string):\n",
    "    ##############################\n",
    "    #                            #\n",
    "    #     YOUR CODE GOES HERE    #\n",
    "    #                            #\n",
    "    ##############################\n",
    "    # Solution\n",
    "    antisense_seq = Seq(DNA_string)\n",
    "    sense_seq = antisense_seq.reverse_complement()\n",
    "    prot_seq = sense_seq.translate()\n",
    "    return prot_seq\n",
    "\n",
    "antisense_DNA = \"TACCGGTAACATTACCCGGCGACTTTCCCACGGGCTATC\"\n",
    "protein = antisense_string_to_protein_seq(antisense_DNA)\n",
    "print(protein)\n",
    "assert str(protein) == 'DSPWESRRVMLPV'\n",
    "assert isinstance(protein,Seq)"
   ]
  },
  {
   "cell_type": "markdown",
   "id": "b1606749",
   "metadata": {
    "tags": []
   },
   "source": [
    "## Advancing to sequence record objects\n",
    "Representing sequences is great, but sometimes we want to associate more information with the sequence object, such as the gene name, references, organism and general descriptions. To do that, we move from simple sequence objects to more complex ones, called _Sequence record_ objects.  "
   ]
  },
  {
   "cell_type": "markdown",
   "id": "352f6097",
   "metadata": {},
   "source": [
    "### GenBank\n",
    "GenBank is a database of all publicly available nucleotide data collected by scientists, maintained by NCBI. Sequences in GenBank are annotated, meaning that the sequence itself is accompanied by additional data, regarding the meaning, source and other details of the sequence. Each sequence, along with its accompanying data, is called a __record__. As part of the NCBI collection of databases, GenBank can be searched using a dedicated search engine, called _Entrez_.  \n",
    "To better understand the idea of sequence records, lets take a look at the GenBank record for the MatK gene of Oryza sativa (rice)."
   ]
  },
  {
   "cell_type": "code",
   "execution_count": 15,
   "id": "e72008f9",
   "metadata": {
    "collapsed": false,
    "jupyter": {
     "outputs_hidden": false
    }
   },
   "outputs": [
    {
     "name": "stderr",
     "output_type": "stream",
     "text": [
      "/home/mohsen/miniconda3/envs/venv/lib/python3.7/site-packages/IPython/core/display.py:724: UserWarning: Consider using IPython.display.IFrame instead\n",
      "  warnings.warn(\"Consider using IPython.display.IFrame instead\")\n"
     ]
    },
    {
     "data": {
      "text/html": [
       "<iframe src=http://www.ncbi.nlm.nih.gov/nuccore/JN114766.1 width=1000 height=350></iframe>"
      ],
      "text/plain": [
       "<IPython.core.display.HTML object>"
      ]
     },
     "execution_count": 15,
     "metadata": {},
     "output_type": "execute_result"
    }
   ],
   "source": [
    "from IPython.display import HTML\n",
    "HTML('<iframe src=http://www.ncbi.nlm.nih.gov/nuccore/JN114766.1 width=1000 height=350></iframe>')"
   ]
  },
  {
   "cell_type": "markdown",
   "id": "33f32874",
   "metadata": {},
   "source": [
    "### "
   ]
  },
  {
   "cell_type": "markdown",
   "id": "03fa0460",
   "metadata": {},
   "source": [
    "Notice that there are lots of additional data besides the sequence itself. So a sequence record object is basically just a sequence object, associaated to some other simple data fields."
   ]
  },
  {
   "cell_type": "markdown",
   "id": "bda4dcfb",
   "metadata": {},
   "source": [
    "### Creating sequence record objects\n",
    "In principal, we can create sequence record objects 'from scratch', like we did with simple sequence objects. However, in practice this is rarely used. Instead, we usually get sequence record objects from data parsers. For example, here we get the GenBank record shown above as a sequence record object."
   ]
  },
  {
   "cell_type": "code",
   "execution_count": 16,
   "id": "bf19546e",
   "metadata": {
    "collapsed": false,
    "jupyter": {
     "outputs_hidden": false
    }
   },
   "outputs": [
    {
     "name": "stderr",
     "output_type": "stream",
     "text": [
      "/home/mohsen/miniconda3/envs/venv/lib/python3.7/site-packages/Bio/Entrez/__init__.py:670: UserWarning: \n",
      "Email address is not specified.\n",
      "\n",
      "To make use of NCBI's E-utilities, NCBI requires you to specify your\n",
      "email address with each request.  As an example, if your email address\n",
      "is A.N.Other@example.com, you can specify it as follows:\n",
      "   from Bio import Entrez\n",
      "   Entrez.email = 'A.N.Other@example.com'\n",
      "In case of excessive usage of the E-utilities, NCBI will attempt to contact\n",
      "a user at the email address provided before blocking access to the\n",
      "E-utilities.\n",
      "  UserWarning,\n"
     ]
    },
    {
     "name": "stdout",
     "output_type": "stream",
     "text": [
      "<class 'Bio.SeqRecord.SeqRecord'>\n"
     ]
    }
   ],
   "source": [
    "from Bio import Entrez\n",
    "from Bio import SeqIO\n",
    "try:\n",
    "    handle = Entrez.efetch(db=\"nucleotide\", rettype=\"gb\", retmode=\"text\", id=\"387865390\")\n",
    "    O_sativa_matK = SeqIO.read(handle, \"gb\")\n",
    "    handle.close()\n",
    "    print(type(O_sativa_matK))\n",
    "except:\n",
    "    print('Failed to fetch record.')"
   ]
  },
  {
   "cell_type": "markdown",
   "id": "46a37c57",
   "metadata": {},
   "source": [
    "We'll soon learn to use the SeqIO module, but for now let's just look at what we can do with the object we got.  \n",
    "A sequence record object contains some data fields which we can extract by calling their names.  \n",
    "The most basic is the sequence itself, which is called using `.seq`:"
   ]
  },
  {
   "cell_type": "code",
   "execution_count": 17,
   "id": "a314ed46",
   "metadata": {
    "collapsed": false,
    "jupyter": {
     "outputs_hidden": false
    }
   },
   "outputs": [
    {
     "name": "stdout",
     "output_type": "stream",
     "text": [
      "ATCCTTGCATTTATTGCGATTCTTTCTCAACTACTACTCGAATTGGAATAGTTTTATTACTTCAATGAAATCCATTTTTATTTTGAAAAAAGAAAATAAAAGACTATTTCGGTTCCTATATAACTCTTATGTATCAGAATATGAATTTTTCTTGTTGTTTCTTCGTAAACAATCTTCTTGCTTGCGATTAACTTCTTCCGGAACCTTTCTGGAACGAATCATCTTTTCTAGGAAGATGGAACATTTTGGGTTAATGTACCCTGCTTTTTTTCGGAAAACCATATGGTTCGTTATGGATCCCCTTATGCATTATGTTCGATATCAAGGAAAGGCAATTCTTGCATCAAAAGGAACTCTTCTTTTGAAGAAGAAATGGAAATGTTACCTTGTCCGTTTGTGGCAATATTCTTTCTCTTTTTGGACTCAACCGCAAAGGATCCATCTAAACCAATTAGAAAACTCTTGCTTCGATTTTCTGGGGTACTTTTCAAGTGTACCAATAAATTCTTTGTTAGTAAGGAATCAAATGCTGGAGAATTCATTTCTAATAGATACTCAAATGAAAAAATTCGATACCAAAGTCCCTGTTACTCCTCTCATTGGATCTTTAGCAAAAGCCCAATTTTGTACTGGATCGGGGCATCCTATTAGTAAACCAATTTGGACCGATTTATCGGATTGGGATATTCTTGATCGGTTTGGTCGGATATGTAGAAATCTTTTTCATTATCA\n",
      "<class 'Bio.Seq.Seq'>\n"
     ]
    }
   ],
   "source": [
    "sequence = O_sativa_matK.seq\n",
    "print(sequence)\n",
    "print(type(sequence))"
   ]
  },
  {
   "cell_type": "markdown",
   "id": "e0eb5afe",
   "metadata": {},
   "source": [
    "Note that we got a sequence object, not just a string.  \n",
    "Some other basic data fields of the sequence record object are the _id, name_ and _description_:"
   ]
  },
  {
   "cell_type": "code",
   "execution_count": 18,
   "id": "acb69cf5",
   "metadata": {
    "collapsed": false,
    "jupyter": {
     "outputs_hidden": false
    }
   },
   "outputs": [
    {
     "name": "stdout",
     "output_type": "stream",
     "text": [
      "JN114766.1\n",
      "JN114766\n",
      "Oryza sativa voucher SBB-1148 maturase K (matK) gene, partial cds; chloroplast\n"
     ]
    }
   ],
   "source": [
    "print(O_sativa_matK.id)\n",
    "print(O_sativa_matK.name)\n",
    "print(O_sativa_matK.description)"
   ]
  },
  {
   "cell_type": "markdown",
   "id": "dba4904a",
   "metadata": {},
   "source": [
    "There are a couple of other data fields, but we will only look at one. The _annotations_ field contains more general information about the sequence. In fact, it's a dictionary where the keys are the names of the information and the values are the actual information. For example:"
   ]
  },
  {
   "cell_type": "code",
   "execution_count": 19,
   "id": "4356c97f",
   "metadata": {
    "collapsed": false,
    "jupyter": {
     "outputs_hidden": false
    }
   },
   "outputs": [
    {
     "name": "stdout",
     "output_type": "stream",
     "text": [
      "Oryza sativa\n",
      "chloroplast Oryza sativa (rice)\n",
      "21-MAY-2013\n"
     ]
    }
   ],
   "source": [
    "# get the organism\n",
    "print(O_sativa_matK.annotations['organism'])\n",
    "# get the DNA source\n",
    "print(O_sativa_matK.annotations['source'])\n",
    "# get date of submission\n",
    "print(O_sativa_matK.annotations['date'])"
   ]
  },
  {
   "cell_type": "markdown",
   "id": "83e371f5",
   "metadata": {},
   "source": [
    "Another data field worth mentioning is the _features_ field, describing the roles and locations of higher order sequence domains and elements within a record. This is especially relevant for records describing long sequences such as whole chromosomes. Record features are further discussed in HW6."
   ]
  },
  {
   "cell_type": "markdown",
   "id": "261c38fb",
   "metadata": {},
   "source": [
    "## Sequence I/O"
   ]
  },
  {
   "cell_type": "markdown",
   "id": "c98e43c1",
   "metadata": {},
   "source": [
    "The SeqIO module is the easiest way to deal with sequences. It's a wrapper for the Seq and SeqRecord (and other) modules and lets us manage, manipulate, read and write sequence data without doing any parsing.  \n",
    "As usual, we'll start by importing the module:"
   ]
  },
  {
   "cell_type": "code",
   "execution_count": 20,
   "id": "cbd1b240",
   "metadata": {
    "collapsed": false,
    "jupyter": {
     "outputs_hidden": false
    }
   },
   "outputs": [],
   "source": [
    "from Bio import SeqIO"
   ]
  },
  {
   "cell_type": "markdown",
   "id": "a0c89659",
   "metadata": {},
   "source": [
    "### Reading sequence files"
   ]
  },
  {
   "cell_type": "markdown",
   "id": "4b096c29",
   "metadata": {},
   "source": [
    "The file _Orchids.fasta_ contains multiple DNA sequences of Orchids, stored in the FASTA format. In lesson 4 we wrote our own function for parsing fasta files, but the SeqIO module has its own parsers, which we'll learn how to use.\n",
    "The most useful function within the SeqIO module is `SeqIO.parse()`. This function is used to read files including sequence data in one of the standard formats."
   ]
  },
  {
   "cell_type": "code",
   "execution_count": 21,
   "id": "8c474795",
   "metadata": {
    "collapsed": false,
    "jupyter": {
     "outputs_hidden": false
    }
   },
   "outputs": [],
   "source": [
    "fasta_handle = SeqIO.parse('data/Orchids.fasta','fasta')"
   ]
  },
  {
   "cell_type": "markdown",
   "id": "ec941651",
   "metadata": {},
   "source": [
    "The function expects two parameters: a file path and a string specifying the file format (a full list of supported formats available [here](http://biopython.org/wiki/SeqIO)). It returns a special object which lets us read the file. Once we have the handle, we can use it to iterate over the sequence records in the file, using a simple `for` loop:"
   ]
  },
  {
   "cell_type": "code",
   "execution_count": 22,
   "id": "264e730c",
   "metadata": {
    "collapsed": false,
    "jupyter": {
     "outputs_hidden": false
    }
   },
   "outputs": [
    {
     "name": "stdout",
     "output_type": "stream",
     "text": [
      "gi|2765658|emb|Z78533.1|CIZ78533 740\n",
      "gi|2765657|emb|Z78532.1|CCZ78532 753\n",
      "gi|2765656|emb|Z78531.1|CFZ78531 748\n",
      "gi|2765655|emb|Z78530.1|CMZ78530 744\n",
      "gi|2765654|emb|Z78529.1|CLZ78529 733\n",
      "gi|2765652|emb|Z78527.1|CYZ78527 718\n",
      "gi|2765651|emb|Z78526.1|CGZ78526 730\n",
      "gi|2765650|emb|Z78525.1|CAZ78525 704\n",
      "gi|2765649|emb|Z78524.1|CFZ78524 740\n",
      "gi|2765648|emb|Z78523.1|CHZ78523 709\n",
      "gi|2765647|emb|Z78522.1|CMZ78522 700\n",
      "gi|2765646|emb|Z78521.1|CCZ78521 726\n",
      "gi|2765645|emb|Z78520.1|CSZ78520 753\n",
      "gi|2765644|emb|Z78519.1|CPZ78519 699\n",
      "gi|2765643|emb|Z78518.1|CRZ78518 658\n",
      "gi|2765642|emb|Z78517.1|CFZ78517 752\n",
      "gi|2765641|emb|Z78516.1|CPZ78516 726\n",
      "gi|2765640|emb|Z78515.1|MXZ78515 765\n",
      "gi|2765639|emb|Z78514.1|PSZ78514 755\n",
      "gi|2765638|emb|Z78513.1|PBZ78513 742\n",
      "gi|2765637|emb|Z78512.1|PWZ78512 762\n",
      "gi|2765636|emb|Z78511.1|PEZ78511 745\n",
      "gi|2765635|emb|Z78510.1|PCZ78510 750\n",
      "gi|2765634|emb|Z78509.1|PPZ78509 731\n",
      "gi|2765633|emb|Z78508.1|PLZ78508 741\n",
      "gi|2765632|emb|Z78507.1|PLZ78507 740\n",
      "gi|2765631|emb|Z78506.1|PLZ78506 727\n",
      "gi|2765630|emb|Z78505.1|PSZ78505 711\n",
      "gi|2765629|emb|Z78504.1|PKZ78504 743\n",
      "gi|2765628|emb|Z78503.1|PCZ78503 727\n",
      "gi|2765627|emb|Z78502.1|PBZ78502 757\n",
      "gi|2765626|emb|Z78501.1|PCZ78501 770\n",
      "gi|2765625|emb|Z78500.1|PWZ78500 767\n",
      "gi|2765624|emb|Z78499.1|PMZ78499 759\n",
      "gi|2765623|emb|Z78498.1|PMZ78498 750\n",
      "gi|2765622|emb|Z78497.1|PDZ78497 788\n",
      "gi|2765621|emb|Z78496.1|PAZ78496 774\n",
      "gi|2765620|emb|Z78495.1|PEZ78495 789\n",
      "gi|2765619|emb|Z78494.1|PNZ78494 688\n",
      "gi|2765618|emb|Z78493.1|PGZ78493 719\n",
      "gi|2765617|emb|Z78492.1|PBZ78492 743\n",
      "gi|2765616|emb|Z78491.1|PCZ78491 737\n",
      "gi|2765615|emb|Z78490.1|PFZ78490 728\n",
      "gi|2765614|emb|Z78489.1|PDZ78489 740\n",
      "gi|2765613|emb|Z78488.1|PTZ78488 696\n",
      "gi|2765612|emb|Z78487.1|PHZ78487 732\n",
      "gi|2765611|emb|Z78486.1|PBZ78486 731\n",
      "gi|2765610|emb|Z78485.1|PHZ78485 735\n",
      "gi|2765609|emb|Z78484.1|PCZ78484 720\n",
      "gi|2765608|emb|Z78483.1|PVZ78483 740\n",
      "gi|2765607|emb|Z78482.1|PEZ78482 629\n",
      "gi|2765606|emb|Z78481.1|PIZ78481 572\n",
      "gi|2765605|emb|Z78480.1|PGZ78480 587\n",
      "gi|2765604|emb|Z78479.1|PPZ78479 700\n",
      "gi|2765603|emb|Z78478.1|PVZ78478 636\n",
      "gi|2765602|emb|Z78477.1|PVZ78477 716\n",
      "gi|2765601|emb|Z78476.1|PGZ78476 592\n",
      "gi|2765600|emb|Z78475.1|PSZ78475 716\n",
      "gi|2765599|emb|Z78474.1|PKZ78474 733\n",
      "gi|2765598|emb|Z78473.1|PSZ78473 626\n",
      "gi|2765597|emb|Z78472.1|PLZ78472 737\n",
      "gi|2765596|emb|Z78471.1|PDZ78471 740\n",
      "gi|2765595|emb|Z78470.1|PPZ78470 574\n",
      "gi|2765594|emb|Z78469.1|PHZ78469 594\n",
      "gi|2765593|emb|Z78468.1|PAZ78468 610\n",
      "gi|2765592|emb|Z78467.1|PSZ78467 730\n",
      "gi|2765591|emb|Z78466.1|PPZ78466 641\n",
      "gi|2765590|emb|Z78465.1|PRZ78465 702\n",
      "gi|2765589|emb|Z78464.1|PGZ78464 733\n",
      "gi|2765588|emb|Z78463.1|PGZ78463 738\n",
      "gi|2765587|emb|Z78462.1|PSZ78462 736\n",
      "gi|2765586|emb|Z78461.1|PWZ78461 732\n",
      "gi|2765585|emb|Z78460.1|PCZ78460 745\n",
      "gi|2765584|emb|Z78459.1|PDZ78459 744\n",
      "gi|2765583|emb|Z78458.1|PHZ78458 738\n",
      "gi|2765582|emb|Z78457.1|PCZ78457 739\n",
      "gi|2765581|emb|Z78456.1|PTZ78456 740\n",
      "gi|2765580|emb|Z78455.1|PJZ78455 745\n",
      "gi|2765579|emb|Z78454.1|PFZ78454 695\n",
      "gi|2765578|emb|Z78453.1|PSZ78453 745\n",
      "gi|2765577|emb|Z78452.1|PBZ78452 743\n",
      "gi|2765576|emb|Z78451.1|PHZ78451 730\n",
      "gi|2765575|emb|Z78450.1|PPZ78450 706\n",
      "gi|2765574|emb|Z78449.1|PMZ78449 744\n",
      "gi|2765573|emb|Z78448.1|PAZ78448 742\n",
      "gi|2765572|emb|Z78447.1|PVZ78447 694\n",
      "gi|2765571|emb|Z78446.1|PAZ78446 712\n",
      "gi|2765570|emb|Z78445.1|PUZ78445 715\n",
      "gi|2765569|emb|Z78444.1|PAZ78444 688\n",
      "gi|2765568|emb|Z78443.1|PLZ78443 784\n",
      "gi|2765567|emb|Z78442.1|PBZ78442 721\n",
      "gi|2765566|emb|Z78441.1|PSZ78441 703\n",
      "gi|2765565|emb|Z78440.1|PPZ78440 744\n",
      "gi|2765564|emb|Z78439.1|PBZ78439 592\n"
     ]
    }
   ],
   "source": [
    "for seq_record in fasta_handle:\n",
    "    print(seq_record.id,len(seq_record))"
   ]
  },
  {
   "cell_type": "markdown",
   "id": "4a25b02a",
   "metadata": {},
   "source": [
    "As you can see, each iteration of the loop yields a SeqRecord object, which we can treat as we did in the previous section. For example, here we extracted the _id_ and the length of each sequence."
   ]
  },
  {
   "cell_type": "markdown",
   "id": "5e111395",
   "metadata": {},
   "source": [
    "Similarly, we can parse a GenBank format file with the same function. All we have to do is replace the _'fasta'_ string with _'genbank'_. We'll also do it in a more elegant, one-step code:"
   ]
  },
  {
   "cell_type": "code",
   "execution_count": 23,
   "id": "370a9979",
   "metadata": {
    "collapsed": false,
    "jupyter": {
     "outputs_hidden": false
    }
   },
   "outputs": [
    {
     "name": "stdout",
     "output_type": "stream",
     "text": [
      "Z78533.1 740\n",
      "Z78532.1 753\n",
      "Z78531.1 748\n",
      "Z78530.1 744\n",
      "Z78529.1 733\n",
      "Z78527.1 718\n",
      "Z78526.1 730\n",
      "Z78525.1 704\n",
      "Z78524.1 740\n",
      "Z78523.1 709\n",
      "Z78522.1 700\n",
      "Z78521.1 726\n",
      "Z78520.1 753\n",
      "Z78519.1 699\n",
      "Z78518.1 658\n",
      "Z78517.1 752\n",
      "Z78516.1 726\n",
      "Z78515.1 765\n",
      "Z78514.1 755\n",
      "Z78513.1 742\n",
      "Z78512.1 762\n",
      "Z78511.1 745\n",
      "Z78510.1 750\n",
      "Z78509.1 731\n",
      "Z78508.1 741\n",
      "Z78507.1 740\n",
      "Z78506.1 727\n",
      "Z78505.1 711\n",
      "Z78504.1 743\n",
      "Z78503.1 727\n",
      "Z78502.1 757\n",
      "Z78501.1 770\n",
      "Z78500.1 767\n",
      "Z78499.1 759\n",
      "Z78498.1 750\n",
      "Z78497.1 788\n",
      "Z78496.1 774\n",
      "Z78495.1 789\n",
      "Z78494.1 688\n",
      "Z78493.1 719\n",
      "Z78492.1 743\n",
      "Z78491.1 737\n",
      "Z78490.1 728\n",
      "Z78489.1 740\n",
      "Z78488.1 696\n",
      "Z78487.1 732\n",
      "Z78486.1 731\n",
      "Z78485.1 735\n",
      "Z78484.1 720\n",
      "Z78483.1 740\n",
      "Z78482.1 629\n",
      "Z78481.1 572\n",
      "Z78480.1 587\n",
      "Z78479.1 700\n",
      "Z78478.1 636\n",
      "Z78477.1 716\n",
      "Z78476.1 592\n",
      "Z78475.1 716\n",
      "Z78474.1 733\n",
      "Z78473.1 626\n",
      "Z78472.1 737\n",
      "Z78471.1 740\n",
      "Z78470.1 574\n",
      "Z78469.1 594\n",
      "Z78468.1 610\n",
      "Z78467.1 730\n",
      "Z78466.1 641\n",
      "Z78465.1 702\n",
      "Z78464.1 733\n",
      "Z78463.1 738\n",
      "Z78462.1 736\n",
      "Z78461.1 732\n",
      "Z78460.1 745\n",
      "Z78459.1 744\n",
      "Z78458.1 738\n",
      "Z78457.1 739\n",
      "Z78456.1 740\n",
      "Z78455.1 745\n",
      "Z78454.1 695\n",
      "Z78453.1 745\n",
      "Z78452.1 743\n",
      "Z78451.1 730\n",
      "Z78450.1 706\n",
      "Z78449.1 744\n",
      "Z78448.1 742\n",
      "Z78447.1 694\n",
      "Z78446.1 712\n",
      "Z78445.1 715\n",
      "Z78444.1 688\n",
      "Z78443.1 784\n",
      "Z78442.1 721\n",
      "Z78441.1 703\n",
      "Z78440.1 744\n",
      "Z78439.1 592\n"
     ]
    }
   ],
   "source": [
    "for seq_record in SeqIO.parse('data/Orchids.gbk','genbank'):\n",
    "    print(seq_record.id,len(seq_record))"
   ]
  },
  {
   "cell_type": "markdown",
   "id": "92735e8e",
   "metadata": {},
   "source": [
    "Another useful trick is converting the sequence file handle into a list, so its elements (SeqRecord objects) are more easily accessed:"
   ]
  },
  {
   "cell_type": "code",
   "execution_count": 24,
   "id": "cdb303e0",
   "metadata": {
    "collapsed": false,
    "jupyter": {
     "outputs_hidden": false
    }
   },
   "outputs": [
    {
     "name": "stdout",
     "output_type": "stream",
     "text": [
      "Z78439.1\n",
      "94\n"
     ]
    }
   ],
   "source": [
    "orchid_records_list = list(SeqIO.parse('data/Orchids.gbk','genbank'))\n",
    "# last record id\n",
    "print(orchid_records_list[-1].id)\n",
    "# number of records in file\n",
    "print(len(orchid_records_list))"
   ]
  },
  {
   "cell_type": "markdown",
   "id": "deeec022",
   "metadata": {},
   "source": [
    "This is not a good idea though, when dealing with large files, since very long lists are not desired."
   ]
  },
  {
   "cell_type": "markdown",
   "id": "87bd8f61",
   "metadata": {},
   "source": [
    "If your file contains only one record, you can use `SeqIO.read()` which will return a SeqRecord object."
   ]
  },
  {
   "cell_type": "code",
   "execution_count": 25,
   "id": "d50fa082",
   "metadata": {
    "collapsed": false,
    "jupyter": {
     "outputs_hidden": false
    }
   },
   "outputs": [
    {
     "name": "stdout",
     "output_type": "stream",
     "text": [
      "CGTAACAAGGTTTCCGTAGGTGAACCTCCGGAAGGATCATTGTTGAGATCACATAATAATTGATCGAGATAATCCAGAGGATCGGTTTACTTTGGTCACCCATGGGCGCTTGCTATTGCGGTGACCTAGAGTTGCCATGGAGAGCCTCCTTGGGAGCTTTCTTGCCGGCGATCTAACCCTTGTCCGGCGCGGTTTTGCGCCAAGTCATATGACACATAATTGGTGAAGGGCATAGCCCTTCGTGTATTCAAGGAGGGGGGGCGGCATGTGGCCTTGACACTGCACTCGCTCTCCCCCTCTCCAAAGTATTTTTCTGAACAACTCTCAGCAACGGATATCTCAGCTCTTGCATCGGATGGAGGAACGCAGCGAAATCCGATAAGTGGTGTGAATTGCAGAATCCCGTGAACCATCGAGTCTTTTGAACGCAAGTTGCGCCCGAGGCCATGAGGCCAAGGGCACGCCTGCCTGGGCATTGCGAGTCATCTCTCTCCCTCAATGAGGCTGTCCATGCATACTGTTCAGCCGGTGCGGATGTGAGTTTGGCCCCTTGTTCTTTGGTGCTGGGGGTCTAAGAGCAGCAGGGGCTTTTGATGGTCCTAAATTCGGCAAGAGGTGGACGAATCAGGCTACAACAACACTGTTGTTGTGCGAATGCTCCAGGTTGTCGTATTAGATGGGCCGGCATAATCCAGAGACCCTTGTGAACCCCATTGGAGGCCCATCAACCCATGATCAGTTGATGGCCATTCGGTTGCGACCCCAGGTCAGTGAGCAACCCGCTGAGTG\n"
     ]
    }
   ],
   "source": [
    "record = SeqIO.read('data/P_emersonii.gbk', 'genbank')\n",
    "print(record.seq)"
   ]
  },
  {
   "cell_type": "markdown",
   "id": "590626ef",
   "metadata": {
    "tags": []
   },
   "source": [
    "## Practice!"
   ]
  },
  {
   "cell_type": "markdown",
   "id": "1df6dba2",
   "metadata": {},
   "source": [
    "Write a function that reads a GenBank file and returns the unique species names found in the file. Use the `.annotations` field to get the organism name of each record.. The species is always the second word of the organism name. The `set()` command will ensure you get unique species (each species will appear only once). Complete the code below:"
   ]
  },
  {
   "cell_type": "code",
   "execution_count": 26,
   "id": "f3da8641",
   "metadata": {
    "collapsed": false,
    "jupyter": {
     "outputs_hidden": false
    }
   },
   "outputs": [
    {
     "name": "stdout",
     "output_type": "stream",
     "text": [
      "None\n"
     ]
    }
   ],
   "source": [
    "from Bio import SeqIO\n",
    "def get_unique_species(gb_file):\n",
    "    ##############################\n",
    "    #                            #\n",
    "    #     YOUR CODE GOES HERE    #\n",
    "    #                            #\n",
    "    ##############################\n",
    "    return None\n",
    "#     species_list = []\n",
    "#     # iterate on file records\n",
    "#     for seq_record in SeqIO.parse(gb_file,'genbank'):\n",
    "#         # get species\n",
    "#         record_organism = seq_record.annotations['organism']\n",
    "#         species = record_organism.split()[1]   # get the second word\n",
    "#         # insert species to list\n",
    "#         species_list.append(species)\n",
    "#     return set(species_list)\n",
    "\n",
    "orchids_species = get_unique_species('lec6_files/Orchids.gbk')\n",
    "print(orchids_species)\n",
    "# assert len(orchids_species) == 92"
   ]
  },
  {
   "cell_type": "markdown",
   "id": "15a81008",
   "metadata": {},
   "source": [
    "### Reading sequence files as dictionaries\n",
    "Another nice option for dealing with sequence files is reading them as _dictionaries_. This is done using `SeqIO.to_dict()` function. `to_dict()` takes a sequence file handle, created by `SeqIO.parse()`, as an argument."
   ]
  },
  {
   "cell_type": "code",
   "execution_count": 27,
   "id": "7037cee7",
   "metadata": {
    "collapsed": false,
    "jupyter": {
     "outputs_hidden": false
    }
   },
   "outputs": [],
   "source": [
    "handle = SeqIO.parse('data/Orchids.gbk','genbank')\n",
    "orchids_dict = SeqIO.to_dict(handle)"
   ]
  },
  {
   "cell_type": "markdown",
   "id": "b6fd6e0f",
   "metadata": {},
   "source": [
    "The function returns a dictionary, which we can work with as usual."
   ]
  },
  {
   "cell_type": "code",
   "execution_count": 28,
   "id": "85631d08",
   "metadata": {
    "collapsed": false,
    "jupyter": {
     "outputs_hidden": false
    }
   },
   "outputs": [
    {
     "name": "stdout",
     "output_type": "stream",
     "text": [
      "dict_keys(['Z78533.1', 'Z78532.1', 'Z78531.1', 'Z78530.1', 'Z78529.1', 'Z78527.1', 'Z78526.1', 'Z78525.1', 'Z78524.1', 'Z78523.1', 'Z78522.1', 'Z78521.1', 'Z78520.1', 'Z78519.1', 'Z78518.1', 'Z78517.1', 'Z78516.1', 'Z78515.1', 'Z78514.1', 'Z78513.1', 'Z78512.1', 'Z78511.1', 'Z78510.1', 'Z78509.1', 'Z78508.1', 'Z78507.1', 'Z78506.1', 'Z78505.1', 'Z78504.1', 'Z78503.1', 'Z78502.1', 'Z78501.1', 'Z78500.1', 'Z78499.1', 'Z78498.1', 'Z78497.1', 'Z78496.1', 'Z78495.1', 'Z78494.1', 'Z78493.1', 'Z78492.1', 'Z78491.1', 'Z78490.1', 'Z78489.1', 'Z78488.1', 'Z78487.1', 'Z78486.1', 'Z78485.1', 'Z78484.1', 'Z78483.1', 'Z78482.1', 'Z78481.1', 'Z78480.1', 'Z78479.1', 'Z78478.1', 'Z78477.1', 'Z78476.1', 'Z78475.1', 'Z78474.1', 'Z78473.1', 'Z78472.1', 'Z78471.1', 'Z78470.1', 'Z78469.1', 'Z78468.1', 'Z78467.1', 'Z78466.1', 'Z78465.1', 'Z78464.1', 'Z78463.1', 'Z78462.1', 'Z78461.1', 'Z78460.1', 'Z78459.1', 'Z78458.1', 'Z78457.1', 'Z78456.1', 'Z78455.1', 'Z78454.1', 'Z78453.1', 'Z78452.1', 'Z78451.1', 'Z78450.1', 'Z78449.1', 'Z78448.1', 'Z78447.1', 'Z78446.1', 'Z78445.1', 'Z78444.1', 'Z78443.1', 'Z78442.1', 'Z78441.1', 'Z78440.1', 'Z78439.1'])\n"
     ]
    }
   ],
   "source": [
    "print(orchids_dict.keys())"
   ]
  },
  {
   "cell_type": "markdown",
   "id": "32befc0e",
   "metadata": {},
   "source": [
    "So the keys are the IDs, and the values are SeqRecord objects. It's very easy to access specif records this way:"
   ]
  },
  {
   "cell_type": "code",
   "execution_count": 29,
   "id": "e19a7093",
   "metadata": {
    "collapsed": false,
    "jupyter": {
     "outputs_hidden": false
    }
   },
   "outputs": [
    {
     "name": "stdout",
     "output_type": "stream",
     "text": [
      "CGTAACAAGGTTTCCGTAGGTGAACCTGCGGAAGGATCATTGTTGAGATCACATAATAATTGATCGAGTTAATCTGGAGGATCAGTTTACTTTGGTCACCCATGGGCATTTGCTATTGCAGTGACCGAGATTTGCCATCGAGCCTCCTTGGGAGCTTTCTTGCTGGCGATCTAAACCCTAGCCCGGCGCAGTTTTGCGCCAAGTCATATGACACATAATTGGCGAAGGGGGCGGCATGGTGCCTTGACCCTCCCCAAATCATTTTTTTAACAACTCTCAGCAACGGAAGGGCACGCCTGCCTGGGCATTGCGAGTCATATCTCTCCCTTAATGAGGCTGTCCACACATACTGTTCAGCCGGTGCGGATGTGAGTTTGGCCCCTTGTTCATTGGTACGGGGGGTCTAAGAGCTGCGTGGGCTTTTGTTGGTCCTAAATACGGCAAGAGGTGGACGAACTATGCTACAACAAAACTGTTGTGCGAATGCCCCGGGTTGTCGTATTAGATGGGCCAGCATAATCTAAAGACCCTTTTGAACCCCATTGGAGGCCCATCAACCCATGATCAGTTGA\n"
     ]
    }
   ],
   "source": [
    "print(orchids_dict['Z78481.1'].seq)"
   ]
  },
  {
   "cell_type": "markdown",
   "id": "da6d0a50",
   "metadata": {},
   "source": [
    "Again, this could get tricky when working with large files due to memory problems."
   ]
  },
  {
   "cell_type": "markdown",
   "id": "c9de22d7",
   "metadata": {},
   "source": [
    "### Writing sequence files\n",
    "SeqIO also makes it easy to write sequence files. For that, we have the `SeqIO.write()` function. It receives a list of SeqRecords and writes them to an output file, in a format of your choice.  \n",
    "For example, the following function reads a GenBank file, and prints to a new file only records that belong to the organism specified by the user."
   ]
  },
  {
   "cell_type": "code",
   "execution_count": 30,
   "id": "3dff803f",
   "metadata": {
    "collapsed": false,
    "jupyter": {
     "outputs_hidden": false
    }
   },
   "outputs": [],
   "source": [
    "def filter_GB_file_by_organism(input_file,organism,output_file):\n",
    "    organism_records = []\n",
    "    # read the input file\n",
    "    for record in SeqIO.parse(input_file,'genbank'):\n",
    "        rec_organism = record.annotations['organism']\n",
    "        if rec_organism == organism:\n",
    "            organism_records.append(record)\n",
    "    # write the desired records to output\n",
    "    SeqIO.write(organism_records,output_file,'genbank')   # notice the 3 arguments\n",
    "    \n",
    "orchids_file = 'data/Orchids.gbk'\n",
    "C_irapeanum_file = 'data/C_irapeanum.gbk'\n",
    "P_emersonii_file = 'data/P_emersonii.gbk'\n",
    "filter_GB_file_by_organism(orchids_file,'Cypripedium irapeanum',C_irapeanum_file)\n",
    "filter_GB_file_by_organism(orchids_file,'Paphiopedilum emersonii',P_emersonii_file)"
   ]
  },
  {
   "cell_type": "markdown",
   "id": "2eb9410d",
   "metadata": {},
   "source": [
    "We can easily change the function to create files in a different format. This format may be set by the user of the function:"
   ]
  },
  {
   "cell_type": "code",
   "execution_count": 31,
   "id": "bbb80647",
   "metadata": {
    "collapsed": false,
    "jupyter": {
     "outputs_hidden": false
    }
   },
   "outputs": [],
   "source": [
    "def filter_GB_file_by_organism(input_file,organism,output_file, output_format = 'fasta'):\n",
    "    organism_records = []\n",
    "    # read the input file\n",
    "    for record in SeqIO.parse(input_file,'genbank'):\n",
    "        rec_organism = record.annotations['organism']\n",
    "        if rec_organism == organism:\n",
    "            organism_records.append(record)\n",
    "    # write the desired records to output\n",
    "    SeqIO.write(organism_records,output_file, output_format)   # <--- changed to fasta here"
   ]
  },
  {
   "cell_type": "markdown",
   "id": "84d1b99d",
   "metadata": {},
   "source": [
    "Which means that `SeqIO.write()` can be used to convert between file formats. However, this is not necessary, since SeqIO has its built-in `convert()` function:"
   ]
  },
  {
   "cell_type": "code",
   "execution_count": 32,
   "id": "413e63a7",
   "metadata": {
    "collapsed": false,
    "jupyter": {
     "outputs_hidden": false
    }
   },
   "outputs": [
    {
     "data": {
      "text/plain": [
       "1"
      ]
     },
     "execution_count": 32,
     "metadata": {},
     "output_type": "execute_result"
    }
   ],
   "source": [
    "SeqIO.convert('data/P_emersonii.gbk','genbank','data/P_emersonii.fasta','fasta')"
   ]
  },
  {
   "cell_type": "markdown",
   "id": "7516d0e5",
   "metadata": {},
   "source": [
    "## A BLAST from the past"
   ]
  },
  {
   "cell_type": "markdown",
   "id": "4fbfd5a0",
   "metadata": {},
   "source": [
    "__BLAST__ - Basic Local Alignment and Search Tool, is one of the most important methods in bioinformatics.  \n",
    "_Biopython_ lets you run BLAST from within your code, retrieve and analyze the results and save them. But before we see how to do that, lets recall how BLAST actually works."
   ]
  },
  {
   "cell_type": "markdown",
   "id": "8e5c3f26",
   "metadata": {},
   "source": [
    "### BLAST in picture\n",
    "BLAST is an algorithm used for comparing a __query sequence__ agains a __database__, or library of sequences. The database may be all the known sequences, stored in NCBI, a subset of these, or any other collection of sequences we want to search. The sequences in question may be nucleotide sequences, amino acids or even codons.  \n",
    "The result of a BLAST run is zero or more database sequences, which are similar enough to the query sequence. These results are called __hits__.  \n",
    "![BLAST](imgs/blast.png)\n",
    "\n",
    "Figure Reference: http://www.mrc-lmb.cam.ac.uk/rlw/text/bioinfo_tuto/images/psiblast_1-289_itr1.jpg"
   ]
  },
  {
   "cell_type": "markdown",
   "id": "0b18e3d4",
   "metadata": {},
   "source": [
    "Lets run a nucleotide BLAST through the NCBI web, on the sequence:  \n",
    "GTTGAGATCACATAATAATTGATCGAGTTAATCTGGAGGATCAGTTTACTTTGGTCACCCATGGGCATTTGCT  \n",
    "ATTGCAGTGACCGAGATTTGCCATCGAGCCTCCTTGGGAGCTTTCTTGCTGGCGATCTAAACCCTAGCCCGGC  \n",
    "GCAGTTTTGCGCCAAGTCATATGACACATAATTGGCGAAGGGGGCGGCATGGTGCCTTGACCCTCCCCAAATC  \n",
    "ATTTTTTTAACAACTCTCAGCAACGGAAGGGCACGCCTGCCTGGGCATTGCGAGTCATATCTCTCCCTTAATG  \n",
    "AGGCTGTCCACACATACT"
   ]
  },
  {
   "cell_type": "code",
   "execution_count": 33,
   "id": "5ef75ffa",
   "metadata": {
    "collapsed": false,
    "jupyter": {
     "outputs_hidden": false
    }
   },
   "outputs": [
    {
     "data": {
      "text/html": [
       "<iframe src=http://blast.ncbi.nlm.nih.gov/Blast.cgi?PROGRAM=blastn&PAGE_TYPE=BlastSearch&LINK_LOC=blasthome width=1000 height=350></iframe>"
      ],
      "text/plain": [
       "<IPython.core.display.HTML object>"
      ]
     },
     "execution_count": 33,
     "metadata": {},
     "output_type": "execute_result"
    }
   ],
   "source": [
    "HTML('<iframe src=http://blast.ncbi.nlm.nih.gov/Blast.cgi?PROGRAM=blastn&PAGE_TYPE=BlastSearch&LINK_LOC=blasthome width=1000 height=350></iframe>')"
   ]
  },
  {
   "cell_type": "markdown",
   "id": "8aee841e",
   "metadata": {},
   "source": [
    "Let's take a look at the results.  \n",
    "First, we have a graphical representation of the best matches found in the database. Colors indicate the level of similarity.  \n",
    "Note that hits may contain more than one region of similarity. Each such region is called a high-scoring segment pair (__HSP__).  \n",
    "Then, a list of the hits follows. Each BLAST hit has its name, and several values describing the match:  \n",
    "- Max score - the score of the best HSP\n",
    "- Total score - sum of scores for all HSPs (will be equal to Max score if the hit is only one HSP)\n",
    "- Query cover - the percent of the query sequence covered by the hit\n",
    "- E-value - the number of hits with better score expected to be found in a randomized database. This is used as an indication of the statistical significance of the match. The lower the E-value is, the more significant the hit. E-value < 10<sup>-4</sup> are usually considered significant.\n",
    "- Ident - percent of sequence identity between the hit and the query"
   ]
  },
  {
   "cell_type": "markdown",
   "id": "409a3105",
   "metadata": {},
   "source": [
    "### Running BLAST from within python\n",
    "We can perform the same BLAST run using a dedicated module included in Biopython. This is done using the `qblast()` method from the `NCBIWWW` module. It takes three arguments:  \n",
    "- BLAST algorithm to use (_blastn,blastp,blastx, etc._), a string\n",
    "- Database to querry (all nucleotides, refseq, all protein, etc.), a string\n",
    "- Sequence - may be a string representing a sequence, a sequence object, a sequence-record object, a string representing sequence ID, or even a FASTA file."
   ]
  },
  {
   "cell_type": "code",
   "execution_count": 34,
   "id": "c479550c",
   "metadata": {
    "collapsed": false,
    "jupyter": {
     "outputs_hidden": false
    }
   },
   "outputs": [
    {
     "name": "stdout",
     "output_type": "stream",
     "text": [
      "<_io.StringIO object at 0x7fc6c9acbaf0>\n"
     ]
    }
   ],
   "source": [
    "from Bio.Blast import NCBIWWW\n",
    "seq = Seq(\"GTTGAGATCACATAATAATTGATCGAGTTAATCTGGAGGATCAGTTTACTTTGGTCACCCATGGGCATTTGCTATTGCAGTGACCGAGATTTGCCATCGAGCCTCCTTGGGAGCTTTCTTGCTGGCGATCTAAACCCTAGCCCGGCGCAGTTTTGCGCCAAGTCATATGACACATAATTGGCGAAGGGGGCGGCATGGTGCCTTGACCCTCCCCAAATCATTTTTTTAACAACTCTCAGCAACGGAAGGGCACGCCTGCCTGGGCATTGCGAGTCATATCTCTCCCTTAATGAGGCTGTCCACACATACT\")\n",
    "try:\n",
    "    result_handle = NCBIWWW.qblast(\"blastn\", \"nt\", seq)\n",
    "    print(result_handle)\n",
    "except:\n",
    "    print('BLAST run failed!')"
   ]
  },
  {
   "cell_type": "markdown",
   "id": "28083f88",
   "metadata": {},
   "source": [
    "### Parsing BLAST results\n",
    "Once we have fetched the BLAST result, we would like to extract the information stored within it.  \n",
    "The first thing we do is to convert it into a usable format, using `NCBIXML.read()` on the result we retrieved."
   ]
  },
  {
   "cell_type": "code",
   "execution_count": 35,
   "id": "79b87f47",
   "metadata": {
    "collapsed": false,
    "jupyter": {
     "outputs_hidden": false
    }
   },
   "outputs": [
    {
     "name": "stdout",
     "output_type": "stream",
     "text": [
      "<Bio.Blast.Record.Blast object at 0x7fc6c9852e90>\n"
     ]
    }
   ],
   "source": [
    "from Bio.Blast import NCBIXML\n",
    "blast_record = NCBIXML.read(result_handle)\n",
    "print(blast_record)"
   ]
  },
  {
   "cell_type": "markdown",
   "id": "a4f9a555",
   "metadata": {},
   "source": [
    "still not very helpful. We will have to iterate over the BLAST hits, using `.alignments`:"
   ]
  },
  {
   "cell_type": "code",
   "execution_count": 36,
   "id": "c714a26e",
   "metadata": {
    "collapsed": false,
    "jupyter": {
     "outputs_hidden": false
    }
   },
   "outputs": [
    {
     "name": "stdout",
     "output_type": "stream",
     "text": [
      "gi|2765606|emb|Z78481.1| P.insigne 5.8S rRNA gene and ITS1 and ITS2 DNA\n",
      "           Length = 572\n",
      "\n",
      "gi|2765605|emb|Z78480.1| P.gratrixianum 5.8S rRNA gene and ITS1 and ITS2 DNA\n",
      "           Length = 587\n",
      "\n",
      "gi|402502929|gb|JQ660876.1| Paphiopedilum gratrixianum 18S ribosomal RNA gene, partial sequence; and internal transcribed spacer 1, 5.8S ribosomal RNA gene, and internal transcribed spacer 2, complete sequence\n",
      "           Length = 701\n",
      "\n",
      "gi|402502928|gb|JQ660875.1| Paphiopedilum villosum 18S ribosomal RNA gene, partial sequence; and internal transcribed spacer 1, 5.8S ribosomal RNA gene, and internal transcribed spacer 2, complete sequence\n",
      "           Length = 701\n",
      "\n",
      "gi|442591005|gb|JQ929354.1| Paphiopedilum villosum var. boxallii internal transcribed spacer 1, partial sequence; 5.8S ribosomal RNA gene, complete sequence; and internal transcribed spacer 2, partial sequence\n",
      "           Length = 723\n",
      "\n",
      "gi|442590980|gb|JQ929329.1| Paphiopedilum insigne internal transcribed spacer 1, partial sequence; 5.8S ribosomal RNA gene, complete sequence; and internal transcribed spacer 2, partial sequence\n",
      "           Length = 712\n",
      "\n",
      "gi|442590973|gb|JQ929322.1| Paphiopedilum gratrixianum isolate 36809 internal transcribed spacer 1, partial sequence; 5.8S ribosomal RNA gene, complete sequence; and internal transcribed spacer 2, partial sequence >gi|442590974|gb|JQ929323.1| Paphiopedilum gratrixianum isolate 40235 internal transcribed spacer 1, partial sequence; 5.8S ribosomal RNA gene, complete sequence; and internal transcribed spacer 2, partial sequence >gi|442590975|gb|JQ929324.1| Paphiopedilum gratrixianum isolate 40236 internal transcribed spacer 1, partial sequence; 5.8S ribosomal RNA gene, complete sequence; and internal transcribed spacer 2, partial sequence\n",
      "           Length = 723\n",
      "\n",
      "gi|406869383|gb|JX088563.1| Paphiopedilum villosum internal transcribed spacer 1, partial sequence; 5.8S ribosomal RNA gene, complete sequence; and internal transcribed spacer 2, partial sequence\n",
      "           Length = 720\n",
      "\n",
      "gi|406869369|gb|JX088549.1| Paphiopedilum gratrixianum internal transcribed spacer 1, partial sequence; 5.8S ribosomal RNA gene, complete sequence; and internal transcribed spacer 2, partial sequence\n",
      "           Length = 721\n",
      "\n",
      "gi|399220738|gb|JQ904598.1| Paphiopedilum areeanum internal transcribed spacer 1, partial sequence; 5.8S ribosomal RNA gene, complete sequence; and internal transcribed spacer 2, partial sequence\n",
      "           Length = 724\n",
      "\n",
      "gi|229609536|gb|FJ899753.1| Paphiopedilum gratrixianum internal transcribed spacer 1, partial sequence; 5.8S ribosomal RNA gene, complete sequence; and internal transcribed spacer 2, partial sequence\n",
      "           Length = 657\n",
      "\n",
      "gi|229609535|gb|FJ899752.1| Paphiopedilum sp. ZJL-2009 internal transcribed spacer 1, partial sequence; 5.8S ribosomal RNA gene, complete sequence; and internal transcribed spacer 2, partial sequence\n",
      "           Length = 657\n",
      "\n",
      "gi|55274490|gb|AY643472.1| Paphiopedilum gratrixianum voucher Pp79-1 (USBG) internal transcribed spacer 1, partial sequence; 5.8S ribosomal RNA gene, complete sequence; and internal transcribed spacer 2, partial sequence\n",
      "           Length = 700\n",
      "\n",
      "gi|55274467|gb|AY643449.1| Paphiopedilum insigne var. sanderae voucher Pp72-2 (USBG) internal transcribed spacer 1, partial sequence; 5.8S ribosomal RNA gene, complete sequence; and internal transcribed spacer 2, partial sequence\n",
      "           Length = 736\n",
      "\n",
      "gi|55274466|gb|AY643448.1| Paphiopedilum insigne voucher Pp72-1 (USBG) internal transcribed spacer 1, partial sequence; 5.8S ribosomal RNA gene, complete sequence; and internal transcribed spacer 2, partial sequence\n",
      "           Length = 732\n",
      "\n",
      "gi|55274462|gb|AY643444.1| Paphiopedilum hybrid cultivar voucher Pp56-1 (USBG) internal transcribed spacer 1, partial sequence; 5.8S ribosomal RNA gene, complete sequence; and internal transcribed spacer 2, partial sequence\n",
      "           Length = 724\n",
      "\n",
      "gi|47776124|emb|AJ564369.1| Paphiopedilum insigne ITS1, 5.8S rRNA gene and ITS2, clone pPaisg16\n",
      "           Length = 761\n",
      "\n",
      "gi|1373448082|gb|KY966642.1| Paphiopedilum villosum voucher KFBG550 internal transcribed spacer 1, partial sequence; 5.8S ribosomal RNA gene, complete sequence; and internal transcribed spacer 2, partial sequence\n",
      "           Length = 659\n",
      "\n",
      "gi|295126695|gb|GU993842.1| Paphiopedilum gratrixianum internal transcribed spacer 1, partial sequence; 5.8S ribosomal RNA gene, complete sequence; and internal transcribed spacer 2, partial sequence\n",
      "           Length = 659\n",
      "\n",
      "gi|224812679|gb|FJ712268.1| Paphiopedilum villosum clone vnVL1 internal transcribed spacer 1, partial sequence; 5.8S ribosomal RNA gene, complete sequence; and internal transcribed spacer 2, partial sequence >gi|224812680|gb|FJ712269.1| Paphiopedilum villosum clone vnVL2 internal transcribed spacer 1, partial sequence; 5.8S ribosomal RNA gene, complete sequence; and internal transcribed spacer 2, partial sequence >gi|295126704|gb|GU993851.1| Paphiopedilum villosum internal transcribed spacer 1, partial sequence; 5.8S ribosomal RNA gene, complete sequence; and internal transcribed spacer 2, partial sequence\n",
      "           Length = 659\n",
      "\n",
      "gi|149940082|gb|EF156108.1| Paphiopedilum gratrixianum voucher KDAIS Pap-128 internal transcribed spacer 1, 5.8S ribosomal RNA gene, and internal transcribed spacer 2, complete sequence\n",
      "           Length = 659\n",
      "\n",
      "gi|1727530101|gb|MK472811.1| Paphiopedilum coccineum isolate Sample36 small subunit ribosomal RNA gene, partial sequence; internal transcribed spacer 1, 5.8S ribosomal RNA gene, and internal transcribed spacer 2, complete sequence; and large subunit ribosomal RNA gene, partial sequence\n",
      "           Length = 775\n",
      "\n",
      "gi|1595106302|gb|MK652864.1| Paphiopedilum coccineum voucher P.coccineum36F small subunit ribosomal RNA gene, partial sequence; internal transcribed spacer 1, 5.8S ribosomal RNA gene, and internal transcribed spacer 2, complete sequence; and large subunit ribosomal RNA gene, partial sequence\n",
      "           Length = 749\n",
      "\n",
      "gi|1595106301|gb|MK652863.1| Paphiopedilum coccineum voucher P.coccineum36R small subunit ribosomal RNA gene, partial sequence; internal transcribed spacer 1, 5.8S ribosomal RNA gene, and internal transcribed spacer 2, complete sequence; and large subunit ribosomal RNA gene, partial sequence\n",
      "           Length = 749\n",
      "\n",
      "gi|1585245685|gb|MK587622.1| Paphiopedilum coccineum voucher Sample38-ITS-Consensus internal transcribed spacer 1, partial sequence; 5.8S ribosomal RNA gene and internal transcribed spacer 2, complete sequence; and large subunit ribosomal RNA gene, partial sequence\n",
      "           Length = 733\n",
      "\n",
      "gi|1585245684|gb|MK587621.1| Paphiopedilum coccineum voucher Sample38-ITS-Reverse internal transcribed spacer 1, partial sequence; 5.8S ribosomal RNA gene and internal transcribed spacer 2, complete sequence; and large subunit ribosomal RNA gene, partial sequence\n",
      "           Length = 733\n",
      "\n",
      "gi|1585245683|gb|MK587620.1| Paphiopedilum coccineum voucher Sample38-ITS-Forward internal transcribed spacer 1, partial sequence; 5.8S ribosomal RNA gene and internal transcribed spacer 2, complete sequence; and large subunit ribosomal RNA gene, partial sequence\n",
      "           Length = 733\n",
      "\n",
      "gi|402502927|gb|JQ660874.1| Paphiopedilum insigne 18S ribosomal RNA gene, partial sequence; and internal transcribed spacer 1, 5.8S ribosomal RNA gene, and internal transcribed spacer 2, complete sequence\n",
      "           Length = 701\n",
      "\n",
      "gi|442590961|gb|JQ929310.1| Paphiopedilum charlesworthii internal transcribed spacer 1, partial sequence; 5.8S ribosomal RNA gene, complete sequence; and internal transcribed spacer 2, partial sequence\n",
      "           Length = 723\n",
      "\n",
      "gi|406869372|gb|JX088552.1| Paphiopedilum charlesworthii internal transcribed spacer 1, partial sequence; 5.8S ribosomal RNA gene, complete sequence; and internal transcribed spacer 2, partial sequence\n",
      "           Length = 743\n",
      "\n",
      "gi|224812678|gb|FJ712267.1| Paphiopedilum tranlienianum clone vnTL internal transcribed spacer 1, partial sequence; 5.8S ribosomal RNA gene, complete sequence; and internal transcribed spacer 2, partial sequence\n",
      "           Length = 659\n",
      "\n",
      "gi|149940133|gb|EF156159.1| Paphiopedilum villosum voucher KDAIS Pap-36 internal transcribed spacer 1, 5.8S ribosomal RNA gene, and internal transcribed spacer 2, complete sequence\n",
      "           Length = 659\n",
      "\n",
      "gi|149940125|gb|EF156151.1| Paphiopedilum tranlienianum voucher KDAIS Pap-42 internal transcribed spacer 1, 5.8S ribosomal RNA gene, and internal transcribed spacer 2, complete sequence\n",
      "           Length = 659\n",
      "\n",
      "gi|149940065|gb|EF156091.1| Paphiopedilum charlesworthii voucher KDAIS Pap-90 internal transcribed spacer 1, 5.8S ribosomal RNA gene, and internal transcribed spacer 2, complete sequence\n",
      "           Length = 659\n",
      "\n",
      "gi|406869376|gb|JX088556.1| Paphiopedilum tranlienianum internal transcribed spacer 1, partial sequence; 5.8S ribosomal RNA gene, complete sequence; and internal transcribed spacer 2, partial sequence\n",
      "           Length = 728\n",
      "\n",
      "gi|406869371|gb|JX088551.1| Paphiopedilum henryanum internal transcribed spacer 1, partial sequence; 5.8S ribosomal RNA gene, complete sequence; and internal transcribed spacer 2, partial sequence\n",
      "           Length = 744\n",
      "\n",
      "gi|55274461|gb|AY643443.1| Paphiopedilum fairrieanum voucher Pp10-2 (USBG) internal transcribed spacer 1, partial sequence; 5.8S ribosomal RNA gene, complete sequence; and internal transcribed spacer 2, partial sequence\n",
      "           Length = 720\n",
      "\n",
      "gi|149940087|gb|EF156113.1| Paphiopedilum x herrmannii voucher KDAIS Pap-115 internal transcribed spacer 1, 5.8S ribosomal RNA gene, and internal transcribed spacer 2, complete sequence\n",
      "           Length = 659\n",
      "\n",
      "gi|1635255643|gb|MK895546.1| Paphiopedilum sp. XHL-2019 voucher Liao F002 small subunit ribosomal RNA gene, partial sequence; internal transcribed spacer 1, 5.8S ribosomal RNA gene, and internal transcribed spacer 2, complete sequence; and large subunit ribosomal RNA gene, partial sequence\n",
      "           Length = 786\n",
      "\n",
      "gi|1152053800|gb|KX931033.1| Paphiopedilum tranlienianum voucher Szlachetko 112/07/P small subunit ribosomal RNA gene, partial sequence; internal transcribed spacer 1, 5.8S ribosomal RNA gene, and internal transcribed spacer 2, complete sequence; and large subunit ribosomal RNA gene, partial sequence\n",
      "           Length = 798\n",
      "\n",
      "gi|1177221693|gb|KY662379.1| Paphiopedilum notatisepalum voucher Z.J.Liu 9349 18S ribosomal RNA gene, partial sequence; internal transcribed spacer 1, 5.8S ribosomal RNA gene, and internal transcribed spacer 2, complete sequence; and 28S ribosomal RNA gene, partial sequence\n",
      "           Length = 723\n",
      "\n",
      "gi|442591002|gb|JQ929351.1| Paphiopedilum tigrinum internal transcribed spacer 1, partial sequence; 5.8S ribosomal RNA gene, complete sequence; and internal transcribed spacer 2, partial sequence\n",
      "           Length = 724\n",
      "\n",
      "gi|47776119|emb|AJ564364.1| Paphiopedilum purpuratum ITS1, 5.8S rRNA gene and ITS2, clone pPappt11\n",
      "           Length = 762\n",
      "\n",
      "gi|2765608|emb|Z78483.1| P.villosum 5.8S rRNA gene and ITS1 and ITS2 DNA\n",
      "           Length = 740\n",
      "\n",
      "gi|1373448077|gb|KY966637.1| Paphiopedilum henryanum voucher KFBG3192 internal transcribed spacer 1, partial sequence; 5.8S ribosomal RNA gene, complete sequence; and internal transcribed spacer 2, partial sequence\n",
      "           Length = 659\n",
      "\n",
      "gi|290578926|gb|GU461602.1| Paphiopedilum tranlienianum internal transcribed spacer 1, partial sequence; 5.8S ribosomal RNA gene, complete sequence; and internal transcribed spacer 2, partial sequence\n",
      "           Length = 659\n",
      "\n",
      "gi|149940085|gb|EF156111.1| Paphiopedilum helenae voucher KDAIS Pap-53 internal transcribed spacer 1, 5.8S ribosomal RNA gene, and internal transcribed spacer 2, complete sequence\n",
      "           Length = 659\n",
      "\n",
      "gi|149940075|gb|EF156101.1| Paphiopedilum exul voucher KDAIS Pap-83 internal transcribed spacer 1, 5.8S ribosomal RNA gene, and internal transcribed spacer 2, complete sequence\n",
      "           Length = 660\n",
      "\n",
      "gi|1578895773|gb|MK161267.1| Paphiopedilum villosum isolate 1525 internal transcribed spacer 1, partial sequence; 5.8S ribosomal RNA subunit gene, complete sequence; and internal transcribed spacer 2, partial sequence\n",
      "           Length = 664\n",
      "\n",
      "gi|149940086|gb|EF156112.1| Paphiopedilum henryanum voucher KDAIS Pap-58 internal transcribed spacer 1, 5.8S ribosomal RNA gene, and internal transcribed spacer 2, complete sequence\n",
      "           Length = 660\n",
      "\n"
     ]
    }
   ],
   "source": [
    "for hit in blast_record.alignments:\n",
    "    print(hit)"
   ]
  },
  {
   "cell_type": "markdown",
   "id": "f950b833",
   "metadata": {},
   "source": [
    "within each hit, we can iterate over the HSPs, using `.hsps`:"
   ]
  },
  {
   "cell_type": "code",
   "execution_count": 37,
   "id": "52b8e186",
   "metadata": {
    "collapsed": false,
    "jupyter": {
     "outputs_hidden": false
    }
   },
   "outputs": [
    {
     "name": "stdout",
     "output_type": "stream",
     "text": [
      "***********************\n",
      "gi|2765606|emb|Z78481.1| P.insigne 5.8S rRNA gene and ITS1 and ITS2 DNA\n",
      "           Length = 572\n",
      "\n",
      "Score 620 (560 bits), expectation 3.6e-155, alignment length 310\n",
      "Query:       1 GTTGAGATCACATAATAATTGATCGAGTTAATCTGGAGGATCAGT...ACT 310\n",
      "               |||||||||||||||||||||||||||||||||||||||||||||...|||\n",
      "Sbjct:      42 GTTGAGATCACATAATAATTGATCGAGTTAATCTGGAGGATCAGT...ACT 351\n",
      "***********************\n",
      "gi|2765605|emb|Z78480.1| P.gratrixianum 5.8S rRNA gene and ITS1 and ITS2 DNA\n",
      "           Length = 587\n",
      "\n",
      "Score 559 (505 bits), expectation 2.4e-138, alignment length 326\n",
      "Query:       1 GTTGAGATCACATAATAATTGATCGAGTTAATCTGGAGGATCAGT...ACT 310\n",
      "               |||||||||||||||||||||||||||||||||||||||||||||...|||\n",
      "Sbjct:      42 GTTGAGATCACATAATAATTGATCGAGTTAATCTGGAGGATCAGT...ACT 366\n",
      "***********************\n",
      "gi|402502929|gb|JQ660876.1| Paphiopedilum gratrixianum 18S ribosomal RNA gene, partial sequence; and internal transcribed spacer 1, 5.8S ribosomal RNA gene, and internal transcribed spacer 2, complete sequence\n",
      "           Length = 701\n",
      "\n",
      "Score 478 (432 bits), expectation 1.3e-116, alignment length 246\n",
      "Query:       1 GTTGAGATCACATAATAATTGATCGAGTTAATCTGGAGGATCAGT...GGA 246\n",
      "               |||||||||||||||||||||||||||||||||||||||||||||...|||\n",
      "Sbjct:      42 GTTGAGATCACATAATAATTGATCGAGTTAATCTGGAGGATCAGT...GGA 286\n",
      "Score 130 (118 bits), expectation 3.6e-22, alignment length 65\n",
      "Query:     246 AAGGGCACGCCTGCCTGGGCATTGCGAGTCATATCTCTCCCTTAA...ACT 310\n",
      "               |||||||||||||||||||||||||||||||||||||||||||||...|||\n",
      "Sbjct:     403 AAGGGCACGCCTGCCTGGGCATTGCGAGTCATATCTCTCCCTTAA...ACT 467\n",
      "***********************\n",
      "gi|402502928|gb|JQ660875.1| Paphiopedilum villosum 18S ribosomal RNA gene, partial sequence; and internal transcribed spacer 1, 5.8S ribosomal RNA gene, and internal transcribed spacer 2, complete sequence\n",
      "           Length = 701\n",
      "\n",
      "Score 478 (432 bits), expectation 1.3e-116, alignment length 246\n",
      "Query:       1 GTTGAGATCACATAATAATTGATCGAGTTAATCTGGAGGATCAGT...GGA 246\n",
      "               |||||||||||||||||||||||||||||||||||||||||||||...|||\n",
      "Sbjct:      42 GTTGAGATCACATAATAATTGATCGAGTTAATCTGGAGGATCAGT...GGA 286\n",
      "Score 130 (118 bits), expectation 3.6e-22, alignment length 65\n",
      "Query:     246 AAGGGCACGCCTGCCTGGGCATTGCGAGTCATATCTCTCCCTTAA...ACT 310\n",
      "               |||||||||||||||||||||||||||||||||||||||||||||...|||\n",
      "Sbjct:     403 AAGGGCACGCCTGCCTGGGCATTGCGAGTCATATCTCTCCCTTAA...ACT 467\n",
      "***********************\n",
      "gi|442591005|gb|JQ929354.1| Paphiopedilum villosum var. boxallii internal transcribed spacer 1, partial sequence; 5.8S ribosomal RNA gene, complete sequence; and internal transcribed spacer 2, partial sequence\n",
      "           Length = 723\n",
      "\n",
      "Score 478 (432 bits), expectation 1.3e-116, alignment length 246\n",
      "Query:       1 GTTGAGATCACATAATAATTGATCGAGTTAATCTGGAGGATCAGT...GGA 246\n",
      "               |||||||||||||||||||||||||||||||||||||||||||||...|||\n",
      "Sbjct:      39 GTTGAGATCACATAATAATTGATCGAGTTAATCTGGAGGATCAGT...GGA 283\n",
      "Score 130 (118 bits), expectation 3.6e-22, alignment length 65\n",
      "Query:     246 AAGGGCACGCCTGCCTGGGCATTGCGAGTCATATCTCTCCCTTAA...ACT 310\n",
      "               |||||||||||||||||||||||||||||||||||||||||||||...|||\n",
      "Sbjct:     400 AAGGGCACGCCTGCCTGGGCATTGCGAGTCATATCTCTCCCTTAA...ACT 464\n",
      "***********************\n",
      "gi|442590980|gb|JQ929329.1| Paphiopedilum insigne internal transcribed spacer 1, partial sequence; 5.8S ribosomal RNA gene, complete sequence; and internal transcribed spacer 2, partial sequence\n",
      "           Length = 712\n",
      "\n",
      "Score 478 (432 bits), expectation 1.3e-116, alignment length 246\n",
      "Query:       1 GTTGAGATCACATAATAATTGATCGAGTTAATCTGGAGGATCAGT...GGA 246\n",
      "               |||||||||||||||||||||||||||||||||||||||||||||...|||\n",
      "Sbjct:      39 GTTGAGATCACATAATAATTGATCGAGTTAATCTGGAGGATCAGT...GGA 283\n",
      "Score 130 (118 bits), expectation 3.6e-22, alignment length 65\n",
      "Query:     246 AAGGGCACGCCTGCCTGGGCATTGCGAGTCATATCTCTCCCTTAA...ACT 310\n",
      "               |||||||||||||||||||||||||||||||||||||||||||||...|||\n",
      "Sbjct:     400 AAGGGCACGCCTGCCTGGGCATTGCGAGTCATATCTCTCCCTTAA...ACT 464\n",
      "***********************\n",
      "gi|442590973|gb|JQ929322.1| Paphiopedilum gratrixianum isolate 36809 internal transcribed spacer 1, partial sequence; 5.8S ribosomal RNA gene, complete sequence; and internal transcribed spacer 2, partial sequence >gi|442590974|gb|JQ929323.1| Paphiopedilum gratrixianum isolate 40235 internal transcribed spacer 1, partial sequence; 5.8S ribosomal RNA gene, complete sequence; and internal transcribed spacer 2, partial sequence >gi|442590975|gb|JQ929324.1| Paphiopedilum gratrixianum isolate 40236 internal transcribed spacer 1, partial sequence; 5.8S ribosomal RNA gene, complete sequence; and internal transcribed spacer 2, partial sequence\n",
      "           Length = 723\n",
      "\n",
      "Score 478 (432 bits), expectation 1.3e-116, alignment length 246\n",
      "Query:       1 GTTGAGATCACATAATAATTGATCGAGTTAATCTGGAGGATCAGT...GGA 246\n",
      "               |||||||||||||||||||||||||||||||||||||||||||||...|||\n",
      "Sbjct:      39 GTTGAGATCACATAATAATTGATCGAGTTAATCTGGAGGATCAGT...GGA 283\n",
      "Score 130 (118 bits), expectation 3.6e-22, alignment length 65\n",
      "Query:     246 AAGGGCACGCCTGCCTGGGCATTGCGAGTCATATCTCTCCCTTAA...ACT 310\n",
      "               |||||||||||||||||||||||||||||||||||||||||||||...|||\n",
      "Sbjct:     400 AAGGGCACGCCTGCCTGGGCATTGCGAGTCATATCTCTCCCTTAA...ACT 464\n",
      "***********************\n",
      "gi|406869383|gb|JX088563.1| Paphiopedilum villosum internal transcribed spacer 1, partial sequence; 5.8S ribosomal RNA gene, complete sequence; and internal transcribed spacer 2, partial sequence\n",
      "           Length = 720\n",
      "\n",
      "Score 478 (432 bits), expectation 1.3e-116, alignment length 246\n",
      "Query:       1 GTTGAGATCACATAATAATTGATCGAGTTAATCTGGAGGATCAGT...GGA 246\n",
      "               |||||||||||||||||||||||||||||||||||||||||||||...|||\n",
      "Sbjct:      56 GTTGAGATCACATAATAATTGATCGAGTTAATCTGGAGGATCAGT...GGA 300\n",
      "Score 130 (118 bits), expectation 3.6e-22, alignment length 65\n",
      "Query:     246 AAGGGCACGCCTGCCTGGGCATTGCGAGTCATATCTCTCCCTTAA...ACT 310\n",
      "               |||||||||||||||||||||||||||||||||||||||||||||...|||\n",
      "Sbjct:     417 AAGGGCACGCCTGCCTGGGCATTGCGAGTCATATCTCTCCCTTAA...ACT 481\n",
      "***********************\n",
      "gi|406869369|gb|JX088549.1| Paphiopedilum gratrixianum internal transcribed spacer 1, partial sequence; 5.8S ribosomal RNA gene, complete sequence; and internal transcribed spacer 2, partial sequence\n",
      "           Length = 721\n",
      "\n",
      "Score 478 (432 bits), expectation 1.3e-116, alignment length 246\n",
      "Query:       1 GTTGAGATCACATAATAATTGATCGAGTTAATCTGGAGGATCAGT...GGA 246\n",
      "               |||||||||||||||||||||||||||||||||||||||||||||...|||\n",
      "Sbjct:      55 GTTGAGATCACATAATAATTGATCGAGTTAATCTGGAGGATCAGT...GGA 299\n",
      "Score 130 (118 bits), expectation 3.6e-22, alignment length 65\n",
      "Query:     246 AAGGGCACGCCTGCCTGGGCATTGCGAGTCATATCTCTCCCTTAA...ACT 310\n",
      "               |||||||||||||||||||||||||||||||||||||||||||||...|||\n",
      "Sbjct:     416 AAGGGCACGCCTGCCTGGGCATTGCGAGTCATATCTCTCCCTTAA...ACT 480\n",
      "***********************\n",
      "gi|399220738|gb|JQ904598.1| Paphiopedilum areeanum internal transcribed spacer 1, partial sequence; 5.8S ribosomal RNA gene, complete sequence; and internal transcribed spacer 2, partial sequence\n",
      "           Length = 724\n",
      "\n",
      "Score 478 (432 bits), expectation 1.3e-116, alignment length 246\n",
      "Query:       1 GTTGAGATCACATAATAATTGATCGAGTTAATCTGGAGGATCAGT...GGA 246\n",
      "               |||||||||||||||||||||||||||||||||||||||||||||...|||\n",
      "Sbjct:      54 GTTGAGATCACATAATAATTGATCGAGTTAATCTGGAGGATCAGT...GGA 298\n",
      "Score 130 (118 bits), expectation 3.6e-22, alignment length 65\n",
      "Query:     246 AAGGGCACGCCTGCCTGGGCATTGCGAGTCATATCTCTCCCTTAA...ACT 310\n",
      "               |||||||||||||||||||||||||||||||||||||||||||||...|||\n",
      "Sbjct:     415 AAGGGCACGCCTGCCTGGGCATTGCGAGTCATATCTCTCCCTTAA...ACT 479\n",
      "***********************\n",
      "gi|229609536|gb|FJ899753.1| Paphiopedilum gratrixianum internal transcribed spacer 1, partial sequence; 5.8S ribosomal RNA gene, complete sequence; and internal transcribed spacer 2, partial sequence\n",
      "           Length = 657\n",
      "\n",
      "Score 478 (432 bits), expectation 1.3e-116, alignment length 246\n",
      "Query:       1 GTTGAGATCACATAATAATTGATCGAGTTAATCTGGAGGATCAGT...GGA 246\n",
      "               |||||||||||||||||||||||||||||||||||||||||||||...|||\n",
      "Sbjct:       6 GTTGAGATCACATAATAATTGATCGAGTTAATCTGGAGGATCAGT...GGA 250\n",
      "Score 130 (118 bits), expectation 3.6e-22, alignment length 65\n",
      "Query:     246 AAGGGCACGCCTGCCTGGGCATTGCGAGTCATATCTCTCCCTTAA...ACT 310\n",
      "               |||||||||||||||||||||||||||||||||||||||||||||...|||\n",
      "Sbjct:     367 AAGGGCACGCCTGCCTGGGCATTGCGAGTCATATCTCTCCCTTAA...ACT 431\n",
      "***********************\n",
      "gi|229609535|gb|FJ899752.1| Paphiopedilum sp. ZJL-2009 internal transcribed spacer 1, partial sequence; 5.8S ribosomal RNA gene, complete sequence; and internal transcribed spacer 2, partial sequence\n",
      "           Length = 657\n",
      "\n",
      "Score 478 (432 bits), expectation 1.3e-116, alignment length 246\n",
      "Query:       1 GTTGAGATCACATAATAATTGATCGAGTTAATCTGGAGGATCAGT...GGA 246\n",
      "               |||||||||||||||||||||||||||||||||||||||||||||...|||\n",
      "Sbjct:       5 GTTGAGATCACATAATAATTGATCGAGTTAATCTGGAGGATCAGT...GGA 249\n",
      "Score 130 (118 bits), expectation 3.6e-22, alignment length 65\n",
      "Query:     246 AAGGGCACGCCTGCCTGGGCATTGCGAGTCATATCTCTCCCTTAA...ACT 310\n",
      "               |||||||||||||||||||||||||||||||||||||||||||||...|||\n",
      "Sbjct:     366 AAGGGCACGCCTGCCTGGGCATTGCGAGTCATATCTCTCCCTTAA...ACT 430\n",
      "***********************\n",
      "gi|55274490|gb|AY643472.1| Paphiopedilum gratrixianum voucher Pp79-1 (USBG) internal transcribed spacer 1, partial sequence; 5.8S ribosomal RNA gene, complete sequence; and internal transcribed spacer 2, partial sequence\n",
      "           Length = 700\n",
      "\n",
      "Score 478 (432 bits), expectation 1.3e-116, alignment length 246\n",
      "Query:       1 GTTGAGATCACATAATAATTGATCGAGTTAATCTGGAGGATCAGT...GGA 246\n",
      "               |||||||||||||||||||||||||||||||||||||||||||||...|||\n",
      "Sbjct:      19 GTTGAGATCACATAATAATTGATCGAGTTAATCTGGAGGATCAGT...GGA 263\n",
      "Score 130 (118 bits), expectation 3.6e-22, alignment length 65\n",
      "Query:     246 AAGGGCACGCCTGCCTGGGCATTGCGAGTCATATCTCTCCCTTAA...ACT 310\n",
      "               |||||||||||||||||||||||||||||||||||||||||||||...|||\n",
      "Sbjct:     380 AAGGGCACGCCTGCCTGGGCATTGCGAGTCATATCTCTCCCTTAA...ACT 444\n",
      "***********************\n",
      "gi|55274467|gb|AY643449.1| Paphiopedilum insigne var. sanderae voucher Pp72-2 (USBG) internal transcribed spacer 1, partial sequence; 5.8S ribosomal RNA gene, complete sequence; and internal transcribed spacer 2, partial sequence\n",
      "           Length = 736\n",
      "\n",
      "Score 478 (432 bits), expectation 1.3e-116, alignment length 246\n",
      "Query:       1 GTTGAGATCACATAATAATTGATCGAGTTAATCTGGAGGATCAGT...GGA 246\n",
      "               |||||||||||||||||||||||||||||||||||||||||||||...|||\n",
      "Sbjct:      42 GTTGAGATCACATAATAATTGATCGAGTTAATCTGGAGGATCAGT...GGA 286\n",
      "Score 130 (118 bits), expectation 3.6e-22, alignment length 65\n",
      "Query:     246 AAGGGCACGCCTGCCTGGGCATTGCGAGTCATATCTCTCCCTTAA...ACT 310\n",
      "               |||||||||||||||||||||||||||||||||||||||||||||...|||\n",
      "Sbjct:     403 AAGGGCACGCCTGCCTGGGCATTGCGAGTCATATCTCTCCCTTAA...ACT 467\n",
      "***********************\n",
      "gi|55274466|gb|AY643448.1| Paphiopedilum insigne voucher Pp72-1 (USBG) internal transcribed spacer 1, partial sequence; 5.8S ribosomal RNA gene, complete sequence; and internal transcribed spacer 2, partial sequence\n",
      "           Length = 732\n",
      "\n",
      "Score 478 (432 bits), expectation 1.3e-116, alignment length 246\n",
      "Query:       1 GTTGAGATCACATAATAATTGATCGAGTTAATCTGGAGGATCAGT...GGA 246\n",
      "               |||||||||||||||||||||||||||||||||||||||||||||...|||\n",
      "Sbjct:      38 GTTGAGATCACATAATAATTGATCGAGTTAATCTGGAGGATCAGT...GGA 282\n",
      "Score 130 (118 bits), expectation 3.6e-22, alignment length 65\n",
      "Query:     246 AAGGGCACGCCTGCCTGGGCATTGCGAGTCATATCTCTCCCTTAA...ACT 310\n",
      "               |||||||||||||||||||||||||||||||||||||||||||||...|||\n",
      "Sbjct:     399 AAGGGCACGCCTGCCTGGGCATTGCGAGTCATATCTCTCCCTTAA...ACT 463\n",
      "***********************\n",
      "gi|55274462|gb|AY643444.1| Paphiopedilum hybrid cultivar voucher Pp56-1 (USBG) internal transcribed spacer 1, partial sequence; 5.8S ribosomal RNA gene, complete sequence; and internal transcribed spacer 2, partial sequence\n",
      "           Length = 724\n",
      "\n",
      "Score 478 (432 bits), expectation 1.3e-116, alignment length 246\n",
      "Query:       1 GTTGAGATCACATAATAATTGATCGAGTTAATCTGGAGGATCAGT...GGA 246\n",
      "               |||||||||||||||||||||||||||||||||||||||||||||...|||\n",
      "Sbjct:      34 GTTGAGATCACATAATAATTGATCGAGTTAATCTGGAGGATCAGT...GGA 278\n",
      "Score 130 (118 bits), expectation 3.6e-22, alignment length 65\n",
      "Query:     246 AAGGGCACGCCTGCCTGGGCATTGCGAGTCATATCTCTCCCTTAA...ACT 310\n",
      "               |||||||||||||||||||||||||||||||||||||||||||||...|||\n",
      "Sbjct:     395 AAGGGCACGCCTGCCTGGGCATTGCGAGTCATATCTCTCCCTTAA...ACT 459\n",
      "***********************\n",
      "gi|47776124|emb|AJ564369.1| Paphiopedilum insigne ITS1, 5.8S rRNA gene and ITS2, clone pPaisg16\n",
      "           Length = 761\n",
      "\n",
      "Score 478 (432 bits), expectation 1.3e-116, alignment length 246\n",
      "Query:       1 GTTGAGATCACATAATAATTGATCGAGTTAATCTGGAGGATCAGT...GGA 246\n",
      "               |||||||||||||||||||||||||||||||||||||||||||||...|||\n",
      "Sbjct:      44 GTTGAGATCACATAATAATTGATCGAGTTAATCTGGAGGATCAGT...GGA 288\n",
      "Score 130 (118 bits), expectation 3.6e-22, alignment length 65\n",
      "Query:     246 AAGGGCACGCCTGCCTGGGCATTGCGAGTCATATCTCTCCCTTAA...ACT 310\n",
      "               |||||||||||||||||||||||||||||||||||||||||||||...|||\n",
      "Sbjct:     405 AAGGGCACGCCTGCCTGGGCATTGCGAGTCATATCTCTCCCTTAA...ACT 469\n",
      "***********************\n",
      "gi|1373448082|gb|KY966642.1| Paphiopedilum villosum voucher KFBG550 internal transcribed spacer 1, partial sequence; 5.8S ribosomal RNA gene, complete sequence; and internal transcribed spacer 2, partial sequence\n",
      "           Length = 659\n",
      "\n",
      "Score 476 (430 bits), expectation 4.4e-116, alignment length 245\n",
      "Query:       2 TTGAGATCACATAATAATTGATCGAGTTAATCTGGAGGATCAGTT...GGA 246\n",
      "               |||||||||||||||||||||||||||||||||||||||||||||...|||\n",
      "Sbjct:       1 TTGAGATCACATAATAATTGATCGAGTTAATCTGGAGGATCAGTT...GGA 244\n",
      "Score 130 (118 bits), expectation 3.6e-22, alignment length 65\n",
      "Query:     246 AAGGGCACGCCTGCCTGGGCATTGCGAGTCATATCTCTCCCTTAA...ACT 310\n",
      "               |||||||||||||||||||||||||||||||||||||||||||||...|||\n",
      "Sbjct:     361 AAGGGCACGCCTGCCTGGGCATTGCGAGTCATATCTCTCCCTTAA...ACT 425\n",
      "***********************\n",
      "gi|295126695|gb|GU993842.1| Paphiopedilum gratrixianum internal transcribed spacer 1, partial sequence; 5.8S ribosomal RNA gene, complete sequence; and internal transcribed spacer 2, partial sequence\n",
      "           Length = 659\n",
      "\n",
      "Score 476 (430 bits), expectation 4.4e-116, alignment length 245\n",
      "Query:       2 TTGAGATCACATAATAATTGATCGAGTTAATCTGGAGGATCAGTT...GGA 246\n",
      "               |||||||||||||||||||||||||||||||||||||||||||||...|||\n",
      "Sbjct:       1 TTGAGATCACATAATAATTGATCGAGTTAATCTGGAGGATCAGTT...GGA 244\n",
      "Score 130 (118 bits), expectation 3.6e-22, alignment length 65\n",
      "Query:     246 AAGGGCACGCCTGCCTGGGCATTGCGAGTCATATCTCTCCCTTAA...ACT 310\n",
      "               |||||||||||||||||||||||||||||||||||||||||||||...|||\n",
      "Sbjct:     361 AAGGGCACGCCTGCCTGGGCATTGCGAGTCATATCTCTCCCTTAA...ACT 425\n",
      "***********************\n",
      "gi|224812679|gb|FJ712268.1| Paphiopedilum villosum clone vnVL1 internal transcribed spacer 1, partial sequence; 5.8S ribosomal RNA gene, complete sequence; and internal transcribed spacer 2, partial sequence >gi|224812680|gb|FJ712269.1| Paphiopedilum villosum clone vnVL2 internal transcribed spacer 1, partial sequence; 5.8S ribosomal RNA gene, complete sequence; and internal transcribed spacer 2, partial sequence >gi|295126704|gb|GU993851.1| Paphiopedilum villosum internal transcribed spacer 1, partial sequence; 5.8S ribosomal RNA gene, complete sequence; and internal transcribed spacer 2, partial sequence\n",
      "           Length = 659\n",
      "\n",
      "Score 476 (430 bits), expectation 4.4e-116, alignment length 245\n",
      "Query:       2 TTGAGATCACATAATAATTGATCGAGTTAATCTGGAGGATCAGTT...GGA 246\n",
      "               |||||||||||||||||||||||||||||||||||||||||||||...|||\n",
      "Sbjct:       1 TTGAGATCACATAATAATTGATCGAGTTAATCTGGAGGATCAGTT...GGA 244\n",
      "Score 130 (118 bits), expectation 3.6e-22, alignment length 65\n",
      "Query:     246 AAGGGCACGCCTGCCTGGGCATTGCGAGTCATATCTCTCCCTTAA...ACT 310\n",
      "               |||||||||||||||||||||||||||||||||||||||||||||...|||\n",
      "Sbjct:     361 AAGGGCACGCCTGCCTGGGCATTGCGAGTCATATCTCTCCCTTAA...ACT 425\n",
      "***********************\n",
      "gi|149940082|gb|EF156108.1| Paphiopedilum gratrixianum voucher KDAIS Pap-128 internal transcribed spacer 1, 5.8S ribosomal RNA gene, and internal transcribed spacer 2, complete sequence\n",
      "           Length = 659\n",
      "\n",
      "Score 476 (430 bits), expectation 4.4e-116, alignment length 245\n",
      "Query:       2 TTGAGATCACATAATAATTGATCGAGTTAATCTGGAGGATCAGTT...GGA 246\n",
      "               |||||||||||||||||||||||||||||||||||||||||||||...|||\n",
      "Sbjct:       1 TTGAGATCACATAATAATTGATCGAGTTAATCTGGAGGATCAGTT...GGA 244\n",
      "Score 130 (118 bits), expectation 3.6e-22, alignment length 65\n",
      "Query:     246 AAGGGCACGCCTGCCTGGGCATTGCGAGTCATATCTCTCCCTTAA...ACT 310\n",
      "               |||||||||||||||||||||||||||||||||||||||||||||...|||\n",
      "Sbjct:     361 AAGGGCACGCCTGCCTGGGCATTGCGAGTCATATCTCTCCCTTAA...ACT 425\n",
      "***********************\n",
      "gi|1727530101|gb|MK472811.1| Paphiopedilum coccineum isolate Sample36 small subunit ribosomal RNA gene, partial sequence; internal transcribed spacer 1, 5.8S ribosomal RNA gene, and internal transcribed spacer 2, complete sequence; and large subunit ribosomal RNA gene, partial sequence\n",
      "           Length = 775\n",
      "\n",
      "Score 473 (427 bits), expectation 5.3e-115, alignment length 246\n",
      "Query:       1 GTTGAGATCACATAATAATTGATCGAGTTAATCTGGAGGATCAGT...GGA 246\n",
      "               |||||||||||||||||||||||||||||||||||||||||||||...|||\n",
      "Sbjct:      44 GTTGAGATCACATAATAATTGATCGAGTTAATCTGGAGGATCAGT...GGA 288\n",
      "Score 120 (109 bits), expectation 1.9e-19, alignment length 65\n",
      "Query:     246 AAGGGCACGCCTGCCTGGGCATTGCGAGTCATATCTCTCCCTTAA...ACT 310\n",
      "               ||||||||||||||||||||||||||||||||||||||||| |||...|||\n",
      "Sbjct:     405 AAGGGCACGCCTGCCTGGGCATTGCGAGTCATATCTCTCCCCTAA...ACT 469\n",
      "***********************\n",
      "gi|1595106302|gb|MK652864.1| Paphiopedilum coccineum voucher P.coccineum36F small subunit ribosomal RNA gene, partial sequence; internal transcribed spacer 1, 5.8S ribosomal RNA gene, and internal transcribed spacer 2, complete sequence; and large subunit ribosomal RNA gene, partial sequence\n",
      "           Length = 749\n",
      "\n",
      "Score 473 (427 bits), expectation 5.3e-115, alignment length 246\n",
      "Query:       1 GTTGAGATCACATAATAATTGATCGAGTTAATCTGGAGGATCAGT...GGA 246\n",
      "               |||||||||||||||||||||||||||||||||||||||||||||...|||\n",
      "Sbjct:      35 GTTGAGATCACATAATAATTGATCGAGTTAATCTGGAGGATCAGT...GGA 279\n",
      "Score 120 (109 bits), expectation 1.9e-19, alignment length 65\n",
      "Query:     246 AAGGGCACGCCTGCCTGGGCATTGCGAGTCATATCTCTCCCTTAA...ACT 310\n",
      "               ||||||||||||||||||||||||||||||||||||||||| |||...|||\n",
      "Sbjct:     396 AAGGGCACGCCTGCCTGGGCATTGCGAGTCATATCTCTCCCCTAA...ACT 460\n",
      "***********************\n",
      "gi|1595106301|gb|MK652863.1| Paphiopedilum coccineum voucher P.coccineum36R small subunit ribosomal RNA gene, partial sequence; internal transcribed spacer 1, 5.8S ribosomal RNA gene, and internal transcribed spacer 2, complete sequence; and large subunit ribosomal RNA gene, partial sequence\n",
      "           Length = 749\n",
      "\n",
      "Score 473 (427 bits), expectation 5.3e-115, alignment length 246\n",
      "Query:       1 GTTGAGATCACATAATAATTGATCGAGTTAATCTGGAGGATCAGT...GGA 246\n",
      "               |||||||||||||||||||||||||||||||||||||||||||||...|||\n",
      "Sbjct:      35 GTTGAGATCACATAATAATTGATCGAGTTAATCTGGAGGATCAGT...GGA 279\n",
      "Score 120 (109 bits), expectation 1.9e-19, alignment length 65\n",
      "Query:     246 AAGGGCACGCCTGCCTGGGCATTGCGAGTCATATCTCTCCCTTAA...ACT 310\n",
      "               ||||||||||||||||||||||||||||||||||||||||| |||...|||\n",
      "Sbjct:     396 AAGGGCACGCCTGCCTGGGCATTGCGAGTCATATCTCTCCCCTAA...ACT 460\n",
      "***********************\n",
      "gi|1585245685|gb|MK587622.1| Paphiopedilum coccineum voucher Sample38-ITS-Consensus internal transcribed spacer 1, partial sequence; 5.8S ribosomal RNA gene and internal transcribed spacer 2, complete sequence; and large subunit ribosomal RNA gene, partial sequence\n",
      "           Length = 733\n",
      "\n",
      "Score 473 (427 bits), expectation 5.3e-115, alignment length 246\n",
      "Query:       1 GTTGAGATCACATAATAATTGATCGAGTTAATCTGGAGGATCAGT...GGA 246\n",
      "               |||||||||||||||||||||||||||||||||||||||||||||...|||\n",
      "Sbjct:       2 GTTGAGATCACATAATAATTGATCGAGTTAATCTGGAGGATCAGT...GGA 246\n",
      "Score 120 (109 bits), expectation 1.9e-19, alignment length 65\n",
      "Query:     246 AAGGGCACGCCTGCCTGGGCATTGCGAGTCATATCTCTCCCTTAA...ACT 310\n",
      "               ||||||||||||||||||||||||||||||||||||||||| |||...|||\n",
      "Sbjct:     363 AAGGGCACGCCTGCCTGGGCATTGCGAGTCATATCTCTCCCCTAA...ACT 427\n",
      "***********************\n",
      "gi|1585245684|gb|MK587621.1| Paphiopedilum coccineum voucher Sample38-ITS-Reverse internal transcribed spacer 1, partial sequence; 5.8S ribosomal RNA gene and internal transcribed spacer 2, complete sequence; and large subunit ribosomal RNA gene, partial sequence\n",
      "           Length = 733\n",
      "\n",
      "Score 473 (427 bits), expectation 5.3e-115, alignment length 246\n",
      "Query:       1 GTTGAGATCACATAATAATTGATCGAGTTAATCTGGAGGATCAGT...GGA 246\n",
      "               |||||||||||||||||||||||||||||||||||||||||||||...|||\n",
      "Sbjct:       2 GTTGAGATCACATAATAATTGATCGAGTTAATCTGGAGGATCAGT...GGA 246\n",
      "Score 120 (109 bits), expectation 1.9e-19, alignment length 65\n",
      "Query:     246 AAGGGCACGCCTGCCTGGGCATTGCGAGTCATATCTCTCCCTTAA...ACT 310\n",
      "               ||||||||||||||||||||||||||||||||||||||||| |||...|||\n",
      "Sbjct:     363 AAGGGCACGCCTGCCTGGGCATTGCGAGTCATATCTCTCCCCTAA...ACT 427\n",
      "***********************\n",
      "gi|1585245683|gb|MK587620.1| Paphiopedilum coccineum voucher Sample38-ITS-Forward internal transcribed spacer 1, partial sequence; 5.8S ribosomal RNA gene and internal transcribed spacer 2, complete sequence; and large subunit ribosomal RNA gene, partial sequence\n",
      "           Length = 733\n",
      "\n",
      "Score 473 (427 bits), expectation 5.3e-115, alignment length 246\n",
      "Query:       1 GTTGAGATCACATAATAATTGATCGAGTTAATCTGGAGGATCAGT...GGA 246\n",
      "               |||||||||||||||||||||||||||||||||||||||||||||...|||\n",
      "Sbjct:       2 GTTGAGATCACATAATAATTGATCGAGTTAATCTGGAGGATCAGT...GGA 246\n",
      "Score 120 (109 bits), expectation 1.9e-19, alignment length 65\n",
      "Query:     246 AAGGGCACGCCTGCCTGGGCATTGCGAGTCATATCTCTCCCTTAA...ACT 310\n",
      "               ||||||||||||||||||||||||||||||||||||||||| |||...|||\n",
      "Sbjct:     363 AAGGGCACGCCTGCCTGGGCATTGCGAGTCATATCTCTCCCCTAA...ACT 427\n",
      "***********************\n",
      "gi|402502927|gb|JQ660874.1| Paphiopedilum insigne 18S ribosomal RNA gene, partial sequence; and internal transcribed spacer 1, 5.8S ribosomal RNA gene, and internal transcribed spacer 2, complete sequence\n",
      "           Length = 701\n",
      "\n",
      "Score 473 (427 bits), expectation 5.3e-115, alignment length 246\n",
      "Query:       1 GTTGAGATCACATAATAATTGATCGAGTTAATCTGGAGGATCAGT...GGA 246\n",
      "               |||||||||||||||||||||||||||||||||||||||||||||...|||\n",
      "Sbjct:      42 GTTGAGATCACATAATAATTGATCGAGTTAATCTGGAGGATCAGT...GGA 286\n",
      "Score 130 (118 bits), expectation 3.6e-22, alignment length 65\n",
      "Query:     246 AAGGGCACGCCTGCCTGGGCATTGCGAGTCATATCTCTCCCTTAA...ACT 310\n",
      "               |||||||||||||||||||||||||||||||||||||||||||||...|||\n",
      "Sbjct:     403 AAGGGCACGCCTGCCTGGGCATTGCGAGTCATATCTCTCCCTTAA...ACT 467\n",
      "***********************\n",
      "gi|442590961|gb|JQ929310.1| Paphiopedilum charlesworthii internal transcribed spacer 1, partial sequence; 5.8S ribosomal RNA gene, complete sequence; and internal transcribed spacer 2, partial sequence\n",
      "           Length = 723\n",
      "\n",
      "Score 473 (427 bits), expectation 5.3e-115, alignment length 246\n",
      "Query:       1 GTTGAGATCACATAATAATTGATCGAGTTAATCTGGAGGATCAGT...GGA 246\n",
      "               |||||||||||||||||||||||||||||||||||||||||||||...|||\n",
      "Sbjct:      39 GTTGAGATCACATAATAATTGATCGAGTTAATCTGGAGGATCAGT...GGA 283\n",
      "Score 125 (113 bits), expectation 1.5e-20, alignment length 65\n",
      "Query:     246 AAGGGCACGCCTGCCTGGGCATTGCGAGTCATATCTCTCCCTTAA...ACT 310\n",
      "               |||||||||||||||||||||||||||||||||||||||||||||...|||\n",
      "Sbjct:     400 AAGGGCACGCCTGCCTGGGCATTGCGAGTCATATCTCTCCCTTAA...ACT 464\n",
      "***********************\n",
      "gi|406869372|gb|JX088552.1| Paphiopedilum charlesworthii internal transcribed spacer 1, partial sequence; 5.8S ribosomal RNA gene, complete sequence; and internal transcribed spacer 2, partial sequence\n",
      "           Length = 743\n",
      "\n",
      "Score 473 (427 bits), expectation 5.3e-115, alignment length 246\n",
      "Query:       1 GTTGAGATCACATAATAATTGATCGAGTTAATCTGGAGGATCAGT...GGA 246\n",
      "               |||||||||||||||||||||||||||||||||||||||||||||...|||\n",
      "Sbjct:      56 GTTGAGATCACATAATAATTGATCGAGTTAATCTGGAGGATCAGT...GGA 300\n",
      "Score 125 (113 bits), expectation 1.5e-20, alignment length 65\n",
      "Query:     246 AAGGGCACGCCTGCCTGGGCATTGCGAGTCATATCTCTCCCTTAA...ACT 310\n",
      "               |||||||||||||||||||||||||||||||||||||||||||||...|||\n",
      "Sbjct:     417 AAGGGCACGCCTGCCTGGGCATTGCGAGTCATATCTCTCCCTTAA...ACT 481\n",
      "***********************\n",
      "gi|224812678|gb|FJ712267.1| Paphiopedilum tranlienianum clone vnTL internal transcribed spacer 1, partial sequence; 5.8S ribosomal RNA gene, complete sequence; and internal transcribed spacer 2, partial sequence\n",
      "           Length = 659\n",
      "\n",
      "Score 471 (425 bits), expectation 1.9e-114, alignment length 245\n",
      "Query:       2 TTGAGATCACATAATAATTGATCGAGTTAATCTGGAGGATCAGTT...GGA 246\n",
      "               |||||||||||||||||||||||||||||||||||||||||||||...|||\n",
      "Sbjct:       1 TTGAGATCACATAATAATTGATCGAGTTAATCTGGAGGATCAGTT...GGA 244\n",
      "Score 105 (95 bits), expectation 4.1e-15, alignment length 65\n",
      "Query:     246 AAGGGCACGCCTGCCTGGGCATTGCGAGTCATATCTCTCCCTTAA...ACT 310\n",
      "               |||||||||||| | ||||||||||||||||||||| ||||||||...|||\n",
      "Sbjct:     361 AAGGGCACGCCTCCTTGGGCATTGCGAGTCATATCTTTCCCTTAA...ACT 425\n",
      "***********************\n",
      "gi|149940133|gb|EF156159.1| Paphiopedilum villosum voucher KDAIS Pap-36 internal transcribed spacer 1, 5.8S ribosomal RNA gene, and internal transcribed spacer 2, complete sequence\n",
      "           Length = 659\n",
      "\n",
      "Score 471 (425 bits), expectation 1.9e-114, alignment length 245\n",
      "Query:       2 TTGAGATCACATAATAATTGATCGAGTTAATCTGGAGGATCAGTT...GGA 246\n",
      "               |||||||||||||||||||||||||||||||||||||||||||||...|||\n",
      "Sbjct:       1 TTGAGATCACATAATAATTGATCGAGTTAATCTGGAGGATCAGTT...GGA 244\n",
      "Score 125 (113 bits), expectation 1.5e-20, alignment length 65\n",
      "Query:     246 AAGGGCACGCCTGCCTGGGCATTGCGAGTCATATCTCTCCCTTAA...ACT 310\n",
      "               |||||||||||||||||||||||||||||||||||||||||||||...|||\n",
      "Sbjct:     361 AAGGGCACGCCTGCCTGGGCATTGCGAGTCATATCTCTCCCTTAA...ACT 425\n",
      "***********************\n",
      "gi|149940125|gb|EF156151.1| Paphiopedilum tranlienianum voucher KDAIS Pap-42 internal transcribed spacer 1, 5.8S ribosomal RNA gene, and internal transcribed spacer 2, complete sequence\n",
      "           Length = 659\n",
      "\n",
      "Score 471 (425 bits), expectation 1.9e-114, alignment length 245\n",
      "Query:       2 TTGAGATCACATAATAATTGATCGAGTTAATCTGGAGGATCAGTT...GGA 246\n",
      "               |||||||||||||||||||||||||||||||||||||||||||||...|||\n",
      "Sbjct:       1 TTGAGATCACATAATAATTGATCGAGTTAATCTGGAGGATCAGTT...GGA 244\n",
      "Score 125 (113 bits), expectation 1.5e-20, alignment length 65\n",
      "Query:     246 AAGGGCACGCCTGCCTGGGCATTGCGAGTCATATCTCTCCCTTAA...ACT 310\n",
      "               |||||||||||||||||||||||||||||||||||||||||||||...|||\n",
      "Sbjct:     361 AAGGGCACGCCTGCCTGGGCATTGCGAGTCATATCTCTCCCTTAA...ACT 425\n",
      "***********************\n",
      "gi|149940065|gb|EF156091.1| Paphiopedilum charlesworthii voucher KDAIS Pap-90 internal transcribed spacer 1, 5.8S ribosomal RNA gene, and internal transcribed spacer 2, complete sequence\n",
      "           Length = 659\n",
      "\n",
      "Score 471 (425 bits), expectation 1.9e-114, alignment length 245\n",
      "Query:       2 TTGAGATCACATAATAATTGATCGAGTTAATCTGGAGGATCAGTT...GGA 246\n",
      "               |||||||||||||||||||||||||||||||||||||||||||||...|||\n",
      "Sbjct:       1 TTGAGATCACATAATAATTGATCGAGTTAATCTGGAGGATCAGTT...GGA 244\n",
      "Score 125 (113 bits), expectation 1.5e-20, alignment length 65\n",
      "Query:     246 AAGGGCACGCCTGCCTGGGCATTGCGAGTCATATCTCTCCCTTAA...ACT 310\n",
      "               |||||||||||||||||||||||||||||||||||||||||||||...|||\n",
      "Sbjct:     361 AAGGGCACGCCTGCCTGGGCATTGCGAGTCATATCTCTCCCTTAA...ACT 425\n",
      "***********************\n",
      "gi|406869376|gb|JX088556.1| Paphiopedilum tranlienianum internal transcribed spacer 1, partial sequence; 5.8S ribosomal RNA gene, complete sequence; and internal transcribed spacer 2, partial sequence\n",
      "           Length = 728\n",
      "\n",
      "Score 468 (423 bits), expectation 6.5e-114, alignment length 246\n",
      "Query:       1 GTTGAGATCACATAATAATTGATCGAGTTAATCTGGAGGATCAGT...GGA 246\n",
      "               |||||||||||||||||||||||||||||||||||||||||||||...|||\n",
      "Sbjct:      57 GTTGAGATCACATAATAATTGATCGAGTTAATCTGGAGGATCAGT...GGA 301\n",
      "Score 125 (113 bits), expectation 1.5e-20, alignment length 65\n",
      "Query:     246 AAGGGCACGCCTGCCTGGGCATTGCGAGTCATATCTCTCCCTTAA...ACT 310\n",
      "               |||||||||||||||||||||||||||||||||||||||||||||...|||\n",
      "Sbjct:     418 AAGGGCACGCCTGCCTGGGCATTGCGAGTCATATCTCTCCCTTAA...ACT 482\n",
      "***********************\n",
      "gi|406869371|gb|JX088551.1| Paphiopedilum henryanum internal transcribed spacer 1, partial sequence; 5.8S ribosomal RNA gene, complete sequence; and internal transcribed spacer 2, partial sequence\n",
      "           Length = 744\n",
      "\n",
      "Score 468 (423 bits), expectation 6.5e-114, alignment length 246\n",
      "Query:       1 GTTGAGATCACATAATAATTGATCGAGTTAATCTGGAGGATCAGT...GGA 246\n",
      "               |||||||||||||||||||||||||||||||||||||||||||||...|||\n",
      "Sbjct:      58 GTTGAGATCACATAATAATTGATCGAGTTAATCTGGAGGATCAGT...GGA 302\n",
      "Score 125 (113 bits), expectation 1.5e-20, alignment length 65\n",
      "Query:     246 AAGGGCACGCCTGCCTGGGCATTGCGAGTCATATCTCTCCCTTAA...ACT 310\n",
      "               |||||||||||||||||||||||||||||||||||||||||||||...|||\n",
      "Sbjct:     419 AAGGGCACGCCTGCCTGGGCATTGCGAGTCATATCTCTCCCTTAA...ACT 483\n",
      "***********************\n",
      "gi|55274461|gb|AY643443.1| Paphiopedilum fairrieanum voucher Pp10-2 (USBG) internal transcribed spacer 1, partial sequence; 5.8S ribosomal RNA gene, complete sequence; and internal transcribed spacer 2, partial sequence\n",
      "           Length = 720\n",
      "\n",
      "Score 468 (423 bits), expectation 6.5e-114, alignment length 246\n",
      "Query:       1 GTTGAGATCACATAATAATTGATCGAGTTAATCTGGAGGATCAGT...GGA 246\n",
      "               |||||||||||||||||||||||||||||||||||||||||||||...|||\n",
      "Sbjct:      33 GTTGAGATCACATAATAATTGATCGAGTTAATCTGGAGGATCAGT...GGA 277\n",
      "Score 123 (112 bits), expectation 5.4e-20, alignment length 64\n",
      "Query:     246 AAGGGCACGCCTGCCTGGGCATTGCGAGTCATATCTCTCCCTTAA...TAC 309\n",
      "               |||||||||||||||||||||||||||||||||||||||||||||...|||\n",
      "Sbjct:     394 AAGGGCACGCCTGCCTGGGCATTGCGAGTCATATCTCTCCCTTAA...TAC 457\n",
      "***********************\n",
      "gi|149940087|gb|EF156113.1| Paphiopedilum x herrmannii voucher KDAIS Pap-115 internal transcribed spacer 1, 5.8S ribosomal RNA gene, and internal transcribed spacer 2, complete sequence\n",
      "           Length = 659\n",
      "\n",
      "Score 466 (421 bits), expectation 2.3e-113, alignment length 245\n",
      "Query:       2 TTGAGATCACATAATAATTGATCGAGTTAATCTGGAGGATCAGTT...GGA 246\n",
      "               |||||||||||||||||||||||||||||||||||||||||||||...|||\n",
      "Sbjct:       1 TTGAGATCACATAATAATTGATCGAGTTAATCTGGAGGATCAGTT...GGA 244\n",
      "Score 120 (109 bits), expectation 1.9e-19, alignment length 65\n",
      "Query:     246 AAGGGCACGCCTGCCTGGGCATTGCGAGTCATATCTCTCCCTTAA...ACT 310\n",
      "               ||||||||||||||||||||||||||||||||||||||||| |||...|||\n",
      "Sbjct:     361 AAGGGCACGCCTGCCTGGGCATTGCGAGTCATATCTCTCCCCTAA...ACT 425\n",
      "***********************\n",
      "gi|1635255643|gb|MK895546.1| Paphiopedilum sp. XHL-2019 voucher Liao F002 small subunit ribosomal RNA gene, partial sequence; internal transcribed spacer 1, 5.8S ribosomal RNA gene, and internal transcribed spacer 2, complete sequence; and large subunit ribosomal RNA gene, partial sequence\n",
      "           Length = 786\n",
      "\n",
      "Score 463 (418 bits), expectation 2.8e-112, alignment length 246\n",
      "Query:       1 GTTGAGATCACATAATAATTGATCGAGTTAATCTGGAGGATCAGT...GGA 246\n",
      "               |||||||||||||||||||||||||||||||||||||||||||||...|||\n",
      "Sbjct:      93 GTTGAGATCACATAATAATTGATCGAGTTAATCTGGAGGATCAGT...GGA 337\n",
      "Score 123 (112 bits), expectation 5.4e-20, alignment length 64\n",
      "Query:     246 AAGGGCACGCCTGCCTGGGCATTGCGAGTCATATCTCTCCCTTAA...TAC 309\n",
      "               |||||||||||||||||||||||||||||||||||||||||||||...|||\n",
      "Sbjct:     454 AAGGGCACGCCTGCCTGGGCATTGCGAGTCATATCTCTCCCTTAA...TAC 517\n",
      "***********************\n",
      "gi|1152053800|gb|KX931033.1| Paphiopedilum tranlienianum voucher Szlachetko 112/07/P small subunit ribosomal RNA gene, partial sequence; internal transcribed spacer 1, 5.8S ribosomal RNA gene, and internal transcribed spacer 2, complete sequence; and large subunit ribosomal RNA gene, partial sequence\n",
      "           Length = 798\n",
      "\n",
      "Score 463 (418 bits), expectation 2.8e-112, alignment length 246\n",
      "Query:       1 GTTGAGATCACATAATAATTGATCGAGTTAATCTGGAGGATCAGT...GGA 246\n",
      "               |||||||||||||||||||||||||||||||||||||||||||||...|||\n",
      "Sbjct:      74 GTTGAGATCACATAATAATTGATCGAGTTAATCTGGAGGATCAGT...GGA 318\n",
      "Score 125 (113 bits), expectation 1.5e-20, alignment length 65\n",
      "Query:     246 AAGGGCACGCCTGCCTGGGCATTGCGAGTCATATCTCTCCCTTAA...ACT 310\n",
      "               |||||||||||||||||||||||||||||||||||||||||||||...|||\n",
      "Sbjct:     435 AAGGGCACGCCTGCCTGGGCATTGCGAGTCATATCTCTCCCTTAA...ACT 499\n",
      "***********************\n",
      "gi|1177221693|gb|KY662379.1| Paphiopedilum notatisepalum voucher Z.J.Liu 9349 18S ribosomal RNA gene, partial sequence; internal transcribed spacer 1, 5.8S ribosomal RNA gene, and internal transcribed spacer 2, complete sequence; and 28S ribosomal RNA gene, partial sequence\n",
      "           Length = 723\n",
      "\n",
      "Score 463 (418 bits), expectation 2.8e-112, alignment length 246\n",
      "Query:       1 GTTGAGATCACATAATAATTGATCGAGTTAATCTGGAGGATCAGT...GGA 246\n",
      "               |||||||||||||||||||||||||||||||||||||||||||||...|||\n",
      "Sbjct:      39 GTTGAGATCACATAATAATTGATCGAGTTAATCTGGAGGATCAGT...GGA 283\n",
      "Score 125 (113 bits), expectation 1.5e-20, alignment length 65\n",
      "Query:     246 AAGGGCACGCCTGCCTGGGCATTGCGAGTCATATCTCTCCCTTAA...ACT 310\n",
      "               |||||||||||||||||||||||||||||||||||||||||||||...|||\n",
      "Sbjct:     400 AAGGGCACGCCTGCCTGGGCATTGCGAGTCATATCTCTCCCTTAA...ACT 464\n",
      "***********************\n",
      "gi|442591002|gb|JQ929351.1| Paphiopedilum tigrinum internal transcribed spacer 1, partial sequence; 5.8S ribosomal RNA gene, complete sequence; and internal transcribed spacer 2, partial sequence\n",
      "           Length = 724\n",
      "\n",
      "Score 463 (418 bits), expectation 2.8e-112, alignment length 246\n",
      "Query:       1 GTTGAGATCACATAATAATTGATCGAGTTAATCTGGAGGATCAGT...GGA 246\n",
      "               |||||||||||  ||||||||||||||||||||||||||||||||...|||\n",
      "Sbjct:      39 GTTGAGATCACGCAATAATTGATCGAGTTAATCTGGAGGATCAGT...GGA 283\n",
      "Score 118 (107 bits), expectation 6.5e-19, alignment length 66\n",
      "Query:     246 AAGGGCACGCCTGCCTGGGCATTGCGAGTCATATCTCTCCCTTAA...ACT 310\n",
      "               |||||||||||||||||||||||||||||||||||||||||||||...|||\n",
      "Sbjct:     400 AAGGGCACGCCTGCCTGGGCATTGCGAGTCATATCTCTCCCTTAA...ACT 465\n",
      "***********************\n",
      "gi|47776119|emb|AJ564364.1| Paphiopedilum purpuratum ITS1, 5.8S rRNA gene and ITS2, clone pPappt11\n",
      "           Length = 762\n",
      "\n",
      "Score 463 (418 bits), expectation 2.8e-112, alignment length 246\n",
      "Query:       1 GTTGAGATCACATAATAATTGATCGAGTTAATCTGGAGGATCAGT...GGA 246\n",
      "               |||||||||||||||||||||||||||||||||||||||||||||...|||\n",
      "Sbjct:      45 GTTGAGATCACATAATAATTGATCGAGTTAATCTGGAGGATCAGT...GGA 289\n",
      "Score 120 (109 bits), expectation 1.9e-19, alignment length 65\n",
      "Query:     246 AAGGGCACGCCTGCCTGGGCATTGCGAGTCATATCTCTCCCTTAA...ACT 310\n",
      "               |||||||||||||||||||||||||||||||||||||||||||||...|||\n",
      "Sbjct:     406 AAGGGCACGCCTGCCTGGGCATTGCGAGTCATATCTCTCCCTTAA...ACT 470\n",
      "***********************\n",
      "gi|2765608|emb|Z78483.1| P.villosum 5.8S rRNA gene and ITS1 and ITS2 DNA\n",
      "           Length = 740\n",
      "\n",
      "Score 463 (418 bits), expectation 2.8e-112, alignment length 248\n",
      "Query:       1 GTTGAGATCACATAATAATTGATCGAGTTAATCTGGAGGATCAGT...GAA 247\n",
      "               |||||||||||||||||||||||||||||||||||||||||||||...|||\n",
      "Sbjct:      42 GTTGAGATCACATAATAATTGATCGAGTTAATCTGGAGGATCAGT...GAA 288\n",
      "Score 126 (114 bits), expectation 4.4e-21, alignment length 63\n",
      "Query:     246 AAGGGCACGCCTGCCTGGGCATTGCGAGTCATATCTCTCCCTTAA...ATA 308\n",
      "               |||||||||||||||||||||||||||||||||||||||||||||...|||\n",
      "Sbjct:     402 AAGGGCACGCCTGCCTGGGCATTGCGAGTCATATCTCTCCCTTAA...ATA 464\n",
      "***********************\n",
      "gi|1373448077|gb|KY966637.1| Paphiopedilum henryanum voucher KFBG3192 internal transcribed spacer 1, partial sequence; 5.8S ribosomal RNA gene, complete sequence; and internal transcribed spacer 2, partial sequence\n",
      "           Length = 659\n",
      "\n",
      "Score 461 (416 bits), expectation 9.6e-112, alignment length 245\n",
      "Query:       2 TTGAGATCACATAATAATTGATCGAGTTAATCTGGAGGATCAGTT...GGA 246\n",
      "               |||||||||||||||||||||||||||||||||||||||||||||...|||\n",
      "Sbjct:       1 TTGAGATCACATAATAATTGATCGAGTTAATCTGGAGGATCAGTT...GGA 244\n",
      "Score 125 (113 bits), expectation 1.5e-20, alignment length 65\n",
      "Query:     246 AAGGGCACGCCTGCCTGGGCATTGCGAGTCATATCTCTCCCTTAA...ACT 310\n",
      "               |||||||||||||||||||||||||||||||||||||||||||||...|||\n",
      "Sbjct:     361 AAGGGCACGCCTGCCTGGGCATTGCGAGTCATATCTCTCCCTTAA...ACT 425\n",
      "***********************\n",
      "gi|290578926|gb|GU461602.1| Paphiopedilum tranlienianum internal transcribed spacer 1, partial sequence; 5.8S ribosomal RNA gene, complete sequence; and internal transcribed spacer 2, partial sequence\n",
      "           Length = 659\n",
      "\n",
      "Score 461 (416 bits), expectation 9.6e-112, alignment length 245\n",
      "Query:       2 TTGAGATCACATAATAATTGATCGAGTTAATCTGGAGGATCAGTT...GGA 246\n",
      "               |||||||||||||||||||||||||||||||||||||||||||||...|||\n",
      "Sbjct:       1 TTGAGATCACATAATAATTGATCGAGTTAATCTGGAGGATCAGTT...GGA 244\n",
      "Score 125 (113 bits), expectation 1.5e-20, alignment length 65\n",
      "Query:     246 AAGGGCACGCCTGCCTGGGCATTGCGAGTCATATCTCTCCCTTAA...ACT 310\n",
      "               |||||||||||||||||||||||||||||||||||||||||||||...|||\n",
      "Sbjct:     361 AAGGGCACGCCTGCCTGGGCATTGCGAGTCATATCTCTCCCTTAA...ACT 425\n",
      "***********************\n",
      "gi|149940085|gb|EF156111.1| Paphiopedilum helenae voucher KDAIS Pap-53 internal transcribed spacer 1, 5.8S ribosomal RNA gene, and internal transcribed spacer 2, complete sequence\n",
      "           Length = 659\n",
      "\n",
      "Score 461 (416 bits), expectation 9.6e-112, alignment length 245\n",
      "Query:       2 TTGAGATCACATAATAATTGATCGAGTTAATCTGGAGGATCAGTT...GGA 246\n",
      "               |||||||||||||||||||||||||||||||||||||||||||||...|||\n",
      "Sbjct:       1 TTGAGATCACATAATAATTGATCGAGTTAATCTGGAGGATCAGTT...GGA 244\n",
      "Score 123 (112 bits), expectation 5.4e-20, alignment length 64\n",
      "Query:     246 AAGGGCACGCCTGCCTGGGCATTGCGAGTCATATCTCTCCCTTAA...TAC 309\n",
      "               |||||||||||||||||||||||||||||||||||||||||||||...|||\n",
      "Sbjct:     361 AAGGGCACGCCTGCCTGGGCATTGCGAGTCATATCTCTCCCTTAA...TAC 424\n",
      "***********************\n",
      "gi|149940075|gb|EF156101.1| Paphiopedilum exul voucher KDAIS Pap-83 internal transcribed spacer 1, 5.8S ribosomal RNA gene, and internal transcribed spacer 2, complete sequence\n",
      "           Length = 660\n",
      "\n",
      "Score 461 (416 bits), expectation 9.6e-112, alignment length 245\n",
      "Query:       2 TTGAGATCACATAATAATTGATCGAGTTAATCTGGAGGATCAGTT...GGA 246\n",
      "               |||||||||||||||||||||||||||||||||||||||||||||...|||\n",
      "Sbjct:       1 TTGAGATCACATAATAATTGATCGAGTTAATCTGGAGGATCAGTT...GGA 244\n",
      "Score 125 (113 bits), expectation 1.5e-20, alignment length 65\n",
      "Query:     246 AAGGGCACGCCTGCCTGGGCATTGCGAGTCATATCTCTCCCTTAA...ACT 310\n",
      "               |||||||||||||||||||||||||||||||||||||||||||||...|||\n",
      "Sbjct:     361 AAGGGCACGCCTGCCTGGGCATTGCGAGTCATATCTCTCCCTTAA...ACT 425\n",
      "***********************\n",
      "gi|1578895773|gb|MK161267.1| Paphiopedilum villosum isolate 1525 internal transcribed spacer 1, partial sequence; 5.8S ribosomal RNA subunit gene, complete sequence; and internal transcribed spacer 2, partial sequence\n",
      "           Length = 664\n",
      "\n",
      "Score 459 (415 bits), expectation 3.4e-111, alignment length 246\n",
      "Query:       1 GTTGAGATCACATAATAATTGATCGAGTTAATCTGGAGGATCAGT...GGA 246\n",
      "               ||||||| |||||| ||||||||||||||||||||||||||||||...|||\n",
      "Sbjct:       3 GTTGAGA-CACATAGTAATTGATCGAGTTAATCTGGAGGATCAGT...GGA 246\n",
      "Score 116 (105 bits), expectation 2.3e-18, alignment length 62\n",
      "Query:     249 GGCACGCCTGCCTGGGCATTGCGAGTCATATCTCTCCCTTAATGA...ACT 310\n",
      "               ||||||||||||||||||||||||||||| |||||||||||||||...|||\n",
      "Sbjct:     368 GGCACGCCTGCCTGGGCATTGCGAGTCATWTCTCTCCCTTAATGA...ACT 429\n",
      "Score 63 (58 bits), expectation 1.0e-03, alignment length 45\n",
      "Query:       7 ATCACATAATAATTGATCGAGTTAATCT-GGAGGATCAGTTTACT 50\n",
      "               |||||||||||||||||||||||||| | ||||||  | ||||||\n",
      "Sbjct:     664 ATCACATAATAATTGATCGAGTTAATSTGGGAGGAGGACTTTACT 620\n",
      "***********************\n",
      "gi|149940086|gb|EF156112.1| Paphiopedilum henryanum voucher KDAIS Pap-58 internal transcribed spacer 1, 5.8S ribosomal RNA gene, and internal transcribed spacer 2, complete sequence\n",
      "           Length = 660\n",
      "\n",
      "Score 459 (415 bits), expectation 3.4e-111, alignment length 246\n",
      "Query:       2 TTGAGATCACATAATAATTGAT-CGAGTTAATCTGGAGGATCAGT...GGA 246\n",
      "               |||||||||||||||||||||| ||||||||||||||||||||||...|||\n",
      "Sbjct:       1 TTGAGATCACATAATAATTGATGCGAGTTAATCTGGAGGATCAGT...GGA 245\n",
      "Score 125 (113 bits), expectation 1.5e-20, alignment length 65\n",
      "Query:     246 AAGGGCACGCCTGCCTGGGCATTGCGAGTCATATCTCTCCCTTAA...ACT 310\n",
      "               |||||||||||||||||||||||||||||||||||||||||||||...|||\n",
      "Sbjct:     362 AAGGGCACGCCTGCCTGGGCATTGCGAGTCATATCTCTCCCTTAA...ACT 426\n"
     ]
    }
   ],
   "source": [
    "for hit in blast_record.alignments:\n",
    "    print('***********************')\n",
    "    print(hit)\n",
    "    for hsp in hit.hsps:\n",
    "        print(hsp)"
   ]
  },
  {
   "cell_type": "markdown",
   "id": "0515b8fa",
   "metadata": {},
   "source": [
    "HSPs contain lots of useful information, for example, its name, length and E-value.  \n",
    "Let's write a function that will print only matches with E-value smaller than a chosen threshold."
   ]
  },
  {
   "cell_type": "code",
   "execution_count": 38,
   "id": "c892d781",
   "metadata": {
    "collapsed": false,
    "jupyter": {
     "outputs_hidden": false
    }
   },
   "outputs": [
    {
     "name": "stdout",
     "output_type": "stream",
     "text": [
      "gi|2765606|emb|Z78481.1| P.insigne 5.8S rRNA gene and ITS1 and ITS2 DNA\n",
      "GTTGAGATCACATAATAATTGATCGAGTTAATCTGGAGGATCAGTTTACTTTGGTCACCCATGGGCATTTGCTATTGCAGTGACCGAGATTTGCCATCGAGCCTCCTTGGGAGCTTTCTTGCTGGCGATCTAAACCCTAGCCCGGCGCAGTTTTGCGCCAAGTCATATGACACATAATTGGCGAAGGGGGCGGCATGGTGCCTTGACCCTCCCCAAATCATTTTTTTAACAACTCTCAGCAACGGAAGGGCACGCCTGCCTGGGCATTGCGAGTCATATCTCTCCCTTAATGAGGCTGTCCACACATACT\n",
      "gi|2765605|emb|Z78480.1| P.gratrixianum 5.8S rRNA gene and ITS1 and ITS2 DNA\n",
      "GTTGAGATCACATAATAATTGATCGAGTTAATCTGGAGGATCAGTTTACTTTGGTCACCCATGGGCATTTGCTATTGCAGTGACCGAGATTTGCCATCGAGCCTCCTTGGGAGCTTTCTTGCTGGCGATCTAAACCCTAGCCCGGCGCAGTTTTGCGCCAAGTCATATGACACATAATTGGCGAAGGGGGCGGCATGCTGCCTTGACCCTCCCCAAATTA-TTTTTTAACAACTCTCAGCAACGGATAGGCCATCAGGCTAAGGGCACGCCTGCCTGGGCATTGCGAGTCATATCTCTCCCTTCAATGAGGCTGTCCACACATACT\n",
      "gi|402502929|gb|JQ660876.1| Paphiopedilum gratrixianum 18S ribosomal RNA gene, partial sequence; and internal transcribed spacer 1, 5.8S ribosomal RNA gene, and internal transcribed spacer 2, complete sequence\n",
      "GTTGAGATCACATAATAATTGATCGAGTTAATCTGGAGGATCAGTTTACTTTGGTCACCCATGGGCATTTGCTATTGCAGTGACCGAGATTTGCCATCGAGCCTCCTTGGGAGCTTTCTTGCTGGCGATCTAAACCCTAGCCCGGCGCAGTTTTGCGCCAAGTCATATGACACATAATTGGCGAAGGGGGCGGCATGGTGCCTTGACCCTCCCCAAATTA-TTTTTTAACAACTCTCAGCAACGGA\n",
      "gi|402502928|gb|JQ660875.1| Paphiopedilum villosum 18S ribosomal RNA gene, partial sequence; and internal transcribed spacer 1, 5.8S ribosomal RNA gene, and internal transcribed spacer 2, complete sequence\n",
      "GTTGAGATCACATAATAATTGATCGAGTTAATCTGGAGGATCAGTTTACTTTGGTCACCCATGGGCATTTGCTATTGCAGTGACCGAGATTTGCCATCGAGCCTCCTTGGGAGCTTTCTTGCTGGCGATCTAAACCCTAGCCCGGCGCAGTTTTGCGCCAAGTCATATGACACATAATTGGCGAAGGGGGCGGCATGGTGCCTTGACCCTCCCCAAATTA-TTTTTTAACAACTCTCAGCAACGGA\n",
      "gi|442591005|gb|JQ929354.1| Paphiopedilum villosum var. boxallii internal transcribed spacer 1, partial sequence; 5.8S ribosomal RNA gene, complete sequence; and internal transcribed spacer 2, partial sequence\n",
      "GTTGAGATCACATAATAATTGATCGAGTTAATCTGGAGGATCAGTTTACTTTGGTCACCCATGGGCATTTGCTATTGCAGTGACCGAGATTTGCCATCGAGCCTCCTTGGGAGCTTTCTTGCTGGCGATCTAAACCCTAGCCCGGCGCAGTTTTGCGCCAAGTCATATGACACATAATTGGCGAAGGGGGCGGCATGGTGCCTTGACCCTCCCCAAATTA-TTTTTTAACAACTCTCAGCAACGGA\n",
      "gi|442590980|gb|JQ929329.1| Paphiopedilum insigne internal transcribed spacer 1, partial sequence; 5.8S ribosomal RNA gene, complete sequence; and internal transcribed spacer 2, partial sequence\n",
      "GTTGAGATCACATAATAATTGATCGAGTTAATCTGGAGGATCAGTTTACTTTGGTCACCCATGGGCATTTGCTATTGCAGTGACCGAGATTTGCCATCGAGCCTCCTTGGGAGCTTTCTTGCTGGCGATCTAAACCCTAGCCCGGCGCAGTTTTGCGCCAAGTCATATGACACATAATTGGCGAAGGGGGCGGCATGGTGCCTTGACCCTCCCCAAATTA-TTTTTTAACAACTCTCAGCAACGGA\n",
      "gi|442590973|gb|JQ929322.1| Paphiopedilum gratrixianum isolate 36809 internal transcribed spacer 1, partial sequence; 5.8S ribosomal RNA gene, complete sequence; and internal transcribed spacer 2, partial sequence >gi|442590974|gb|JQ929323.1| Paphiopedilum gratrixianum isolate 40235 internal transcribed spacer 1, partial sequence; 5.8S ribosomal RNA gene, complete sequence; and internal transcribed spacer 2, partial sequence >gi|442590975|gb|JQ929324.1| Paphiopedilum gratrixianum isolate 40236 internal transcribed spacer 1, partial sequence; 5.8S ribosomal RNA gene, complete sequence; and internal transcribed spacer 2, partial sequence\n",
      "GTTGAGATCACATAATAATTGATCGAGTTAATCTGGAGGATCAGTTTACTTTGGTCACCCATGGGCATTTGCTATTGCAGTGACCGAGATTTGCCATCGAGCCTCCTTGGGAGCTTTCTTGCTGGCGATCTAAACCCTAGCCCGGCGCAGTTTTGCGCCAAGTCATATGACACATAATTGGCGAAGGGGGCGGCATGGTGCCTTGACCCTCCCCAAATTA-TTTTTTAACAACTCTCAGCAACGGA\n",
      "gi|406869383|gb|JX088563.1| Paphiopedilum villosum internal transcribed spacer 1, partial sequence; 5.8S ribosomal RNA gene, complete sequence; and internal transcribed spacer 2, partial sequence\n",
      "GTTGAGATCACATAATAATTGATCGAGTTAATCTGGAGGATCAGTTTACTTTGGTCACCCATGGGCATTTGCTATTGCAGTGACCGAGATTTGCCATCGAGCCTCCTTGGGAGCTTTCTTGCTGGCGATCTAAACCCTAGCCCGGCGCAGTTTTGCGCCAAGTCATATGACACATAATTGGCGAAGGGGGCGGCATGGTGCCTTGACCCTCCCCAAATTA-TTTTTTAACAACTCTCAGCAACGGA\n",
      "gi|406869369|gb|JX088549.1| Paphiopedilum gratrixianum internal transcribed spacer 1, partial sequence; 5.8S ribosomal RNA gene, complete sequence; and internal transcribed spacer 2, partial sequence\n",
      "GTTGAGATCACATAATAATTGATCGAGTTAATCTGGAGGATCAGTTTACTTTGGTCACCCATGGGCATTTGCTATTGCAGTGACCGAGATTTGCCATCGAGCCTCCTTGGGAGCTTTCTTGCTGGCGATCTAAACCCTAGCCCGGCGCAGTTTTGCGCCAAGTCATATGACACATAATTGGCGAAGGGGGCGGCATGGTGCCTTGACCCTCCCCAAATTA-TTTTTTAACAACTCTCAGCAACGGA\n",
      "gi|399220738|gb|JQ904598.1| Paphiopedilum areeanum internal transcribed spacer 1, partial sequence; 5.8S ribosomal RNA gene, complete sequence; and internal transcribed spacer 2, partial sequence\n",
      "GTTGAGATCACATAATAATTGATCGAGTTAATCTGGAGGATCAGTTTACTTTGGTCACCCATGGGCATTTGCTATTGCAGTGACCGAGATTTGCCATCGAGCCTCCTTGGGAGCTTTCTTGCTGGCGATCTAAACCCTAGCCCGGCGCAGTTTTGCGCCAAGTCATATGACACATAATTGGCGAAGGGGGCGGCATGGTGCCTTGACCCTCCCCAAATTA-TTTTTTAACAACTCTCAGCAACGGA\n",
      "gi|229609536|gb|FJ899753.1| Paphiopedilum gratrixianum internal transcribed spacer 1, partial sequence; 5.8S ribosomal RNA gene, complete sequence; and internal transcribed spacer 2, partial sequence\n",
      "GTTGAGATCACATAATAATTGATCGAGTTAATCTGGAGGATCAGTTTACTTTGGTCACCCATGGGCATTTGCTATTGCAGTGACCGAGATTTGCCATCGAGCCTCCTTGGGAGCTTTCTTGCTGGCGATCTAAACCCTAGCCCGGCGCAGTTTTGCGCCAAGTCATATGACACATAATTGGCGAAGGGGGCGGCATGGTGCCTTGACCCTCCCCAAATTA-TTTTTTAACAACTCTCAGCAACGGA\n",
      "gi|229609535|gb|FJ899752.1| Paphiopedilum sp. ZJL-2009 internal transcribed spacer 1, partial sequence; 5.8S ribosomal RNA gene, complete sequence; and internal transcribed spacer 2, partial sequence\n",
      "GTTGAGATCACATAATAATTGATCGAGTTAATCTGGAGGATCAGTTTACTTTGGTCACCCATGGGCATTTGCTATTGCAGTGACCGAGATTTGCCATCGAGCCTCCTTGGGAGCTTTCTTGCTGGCGATCTAAACCCTAGCCCGGCGCAGTTTTGCGCCAAGTCATATGACACATAATTGGCGAAGGGGGCGGCATGGTGCCTTGACCCTCCCCAAATTA-TTTTTTAACAACTCTCAGCAACGGA\n",
      "gi|55274490|gb|AY643472.1| Paphiopedilum gratrixianum voucher Pp79-1 (USBG) internal transcribed spacer 1, partial sequence; 5.8S ribosomal RNA gene, complete sequence; and internal transcribed spacer 2, partial sequence\n",
      "GTTGAGATCACATAATAATTGATCGAGTTAATCTGGAGGATCAGTTTACTTTGGTCACCCATGGGCATTTGCTATTGCAGTGACCGAGATTTGCCATCGAGCCTCCTTGGGAGCTTTCTTGCTGGCGATCTAAACCCTAGCCCGGCGCAGTTTTGCGCCAAGTCATATGACACATAATTGGCGAAGGGGGCGGCATGGTGCCTTGACCCTCCCCAAATTA-TTTTTTAACAACTCTCAGCAACGGA\n",
      "gi|55274467|gb|AY643449.1| Paphiopedilum insigne var. sanderae voucher Pp72-2 (USBG) internal transcribed spacer 1, partial sequence; 5.8S ribosomal RNA gene, complete sequence; and internal transcribed spacer 2, partial sequence\n",
      "GTTGAGATCACATAATAATTGATCGAGTTAATCTGGAGGATCAGTTTACTTTGGTCACCCATGGGCATTTGCTATTGCAGTGACCGAGATTTGCCATCGAGCCTCCTTGGGAGCTTTCTTGCTGGCGATCTAAACCCTAGCCCGGCGCAGTTTTGCGCCAAGTCATATGACACATAATTGGCGAAGGGGGCGGCATGGTGCCTTGACCCTCCCCAAATTA-TTTTTTAACAACTCTCAGCAACGGA\n",
      "gi|55274466|gb|AY643448.1| Paphiopedilum insigne voucher Pp72-1 (USBG) internal transcribed spacer 1, partial sequence; 5.8S ribosomal RNA gene, complete sequence; and internal transcribed spacer 2, partial sequence\n",
      "GTTGAGATCACATAATAATTGATCGAGTTAATCTGGAGGATCAGTTTACTTTGGTCACCCATGGGCATTTGCTATTGCAGTGACCGAGATTTGCCATCGAGCCTCCTTGGGAGCTTTCTTGCTGGCGATCTAAACCCTAGCCCGGCGCAGTTTTGCGCCAAGTCATATGACACATAATTGGCGAAGGGGGCGGCATGGTGCCTTGACCCTCCCCAAATTA-TTTTTTAACAACTCTCAGCAACGGA\n",
      "gi|55274462|gb|AY643444.1| Paphiopedilum hybrid cultivar voucher Pp56-1 (USBG) internal transcribed spacer 1, partial sequence; 5.8S ribosomal RNA gene, complete sequence; and internal transcribed spacer 2, partial sequence\n",
      "GTTGAGATCACATAATAATTGATCGAGTTAATCTGGAGGATCAGTTTACTTTGGTCACCCATGGGCATTTGCTATTGCAGTGACCGAGATTTGCCATCGAGCCTCCTTGGGAGCTTTCTTGCTGGCGATCTAAACCCTAGCCCGGCGCAGTTTTGCGCCAAGTCATATGACACATAATTGGCGAAGGGGGCGGCATGGTGCCTTGACCCTCCCCAAATTA-TTTTTTAACAACTCTCAGCAACGGA\n",
      "gi|47776124|emb|AJ564369.1| Paphiopedilum insigne ITS1, 5.8S rRNA gene and ITS2, clone pPaisg16\n",
      "GTTGAGATCACATAATAATTGATCGAGTTAATCTGGAGGATCAGTTTACTTTGGTCACCCATGGGCATTTGCTATTGCAGTGACCGAGATTTGCCATCGAGCCTCCTTGGGAGCTTTCTTGCTGGCGATCTAAACCCTAGCCCGGCGCAGTTTTGCGCCAAGTCATATGACACATAATTGGCGAAGGGGGCGGCATGGTGCCTTGACCCTCCCCAAATTA-TTTTTTAACAACTCTCAGCAACGGA\n",
      "gi|1373448082|gb|KY966642.1| Paphiopedilum villosum voucher KFBG550 internal transcribed spacer 1, partial sequence; 5.8S ribosomal RNA gene, complete sequence; and internal transcribed spacer 2, partial sequence\n",
      "TTGAGATCACATAATAATTGATCGAGTTAATCTGGAGGATCAGTTTACTTTGGTCACCCATGGGCATTTGCTATTGCAGTGACCGAGATTTGCCATCGAGCCTCCTTGGGAGCTTTCTTGCTGGCGATCTAAACCCTAGCCCGGCGCAGTTTTGCGCCAAGTCATATGACACATAATTGGCGAAGGGGGCGGCATGGTGCCTTGACCCTCCCCAAATTA-TTTTTTAACAACTCTCAGCAACGGA\n",
      "gi|295126695|gb|GU993842.1| Paphiopedilum gratrixianum internal transcribed spacer 1, partial sequence; 5.8S ribosomal RNA gene, complete sequence; and internal transcribed spacer 2, partial sequence\n",
      "TTGAGATCACATAATAATTGATCGAGTTAATCTGGAGGATCAGTTTACTTTGGTCACCCATGGGCATTTGCTATTGCAGTGACCGAGATTTGCCATCGAGCCTCCTTGGGAGCTTTCTTGCTGGCGATCTAAACCCTAGCCCGGCGCAGTTTTGCGCCAAGTCATATGACACATAATTGGCGAAGGGGGCGGCATGGTGCCTTGACCCTCCCCAAATTA-TTTTTTAACAACTCTCAGCAACGGA\n",
      "gi|224812679|gb|FJ712268.1| Paphiopedilum villosum clone vnVL1 internal transcribed spacer 1, partial sequence; 5.8S ribosomal RNA gene, complete sequence; and internal transcribed spacer 2, partial sequence >gi|224812680|gb|FJ712269.1| Paphiopedilum villosum clone vnVL2 internal transcribed spacer 1, partial sequence; 5.8S ribosomal RNA gene, complete sequence; and internal transcribed spacer 2, partial sequence >gi|295126704|gb|GU993851.1| Paphiopedilum villosum internal transcribed spacer 1, partial sequence; 5.8S ribosomal RNA gene, complete sequence; and internal transcribed spacer 2, partial sequence\n",
      "TTGAGATCACATAATAATTGATCGAGTTAATCTGGAGGATCAGTTTACTTTGGTCACCCATGGGCATTTGCTATTGCAGTGACCGAGATTTGCCATCGAGCCTCCTTGGGAGCTTTCTTGCTGGCGATCTAAACCCTAGCCCGGCGCAGTTTTGCGCCAAGTCATATGACACATAATTGGCGAAGGGGGCGGCATGGTGCCTTGACCCTCCCCAAATTA-TTTTTTAACAACTCTCAGCAACGGA\n",
      "gi|149940082|gb|EF156108.1| Paphiopedilum gratrixianum voucher KDAIS Pap-128 internal transcribed spacer 1, 5.8S ribosomal RNA gene, and internal transcribed spacer 2, complete sequence\n",
      "TTGAGATCACATAATAATTGATCGAGTTAATCTGGAGGATCAGTTTACTTTGGTCACCCATGGGCATTTGCTATTGCAGTGACCGAGATTTGCCATCGAGCCTCCTTGGGAGCTTTCTTGCTGGCGATCTAAACCCTAGCCCGGCGCAGTTTTGCGCCAAGTCATATGACACATAATTGGCGAAGGGGGCGGCATGGTGCCTTGACCCTCCCCAAATTA-TTTTTTAACAACTCTCAGCAACGGA\n",
      "gi|1727530101|gb|MK472811.1| Paphiopedilum coccineum isolate Sample36 small subunit ribosomal RNA gene, partial sequence; internal transcribed spacer 1, 5.8S ribosomal RNA gene, and internal transcribed spacer 2, complete sequence; and large subunit ribosomal RNA gene, partial sequence\n",
      "GTTGAGATCACATAATAATTGATCGAGTTAATCTGGAGGATCAGTTTACTTTGGTCACCCATGGGCATTTGCTATTGCAGTGACCGAGATTTGCCATCGAGCCTCCTTGGGAGCTTTCTTGCTGGCGATCTAAACCCTAGCCCGGCGCAGTTTTGCGCCAAGTCATATGACACATAATTGGTGAAGGGGGCGGCATGGTGCCTTGACCCTCCCCAAATTA-TTTTTTAACAACTCTCAGCAACGGA\n",
      "gi|1595106302|gb|MK652864.1| Paphiopedilum coccineum voucher P.coccineum36F small subunit ribosomal RNA gene, partial sequence; internal transcribed spacer 1, 5.8S ribosomal RNA gene, and internal transcribed spacer 2, complete sequence; and large subunit ribosomal RNA gene, partial sequence\n",
      "GTTGAGATCACATAATAATTGATCGAGTTAATCTGGAGGATCAGTTTACTTTGGTCACCCATGGGCATTTGCTATTGCAGTGACCGAGATTTGCCATCGAGCCTCCTTGGGAGCTTTCTTGCTGGCGATCTAAACCCTAGCCCGGCGCAGTTTTGCGCCAAGTCATATGACACATAATTGGTGAAGGGGGCGGCATGGTGCCTTGACCCTCCCCAAATTA-TTTTTTAACAACTCTCAGCAACGGA\n",
      "gi|1595106301|gb|MK652863.1| Paphiopedilum coccineum voucher P.coccineum36R small subunit ribosomal RNA gene, partial sequence; internal transcribed spacer 1, 5.8S ribosomal RNA gene, and internal transcribed spacer 2, complete sequence; and large subunit ribosomal RNA gene, partial sequence\n",
      "GTTGAGATCACATAATAATTGATCGAGTTAATCTGGAGGATCAGTTTACTTTGGTCACCCATGGGCATTTGCTATTGCAGTGACCGAGATTTGCCATCGAGCCTCCTTGGGAGCTTTCTTGCTGGCGATCTAAACCCTAGCCCGGCGCAGTTTTGCGCCAAGTCATATGACACATAATTGGTGAAGGGGGCGGCATGGTGCCTTGACCCTCCCCAAATTA-TTTTTTAACAACTCTCAGCAACGGA\n",
      "gi|1585245685|gb|MK587622.1| Paphiopedilum coccineum voucher Sample38-ITS-Consensus internal transcribed spacer 1, partial sequence; 5.8S ribosomal RNA gene and internal transcribed spacer 2, complete sequence; and large subunit ribosomal RNA gene, partial sequence\n",
      "GTTGAGATCACATAATAATTGATCGAGTTAATCTGGAGGATCAGTTTACTTTGGTCACCCATGGGCATTTGCTATTGCAGTGACCGAGATTTGCCATCGAGCCTCCTTGGGAGCTTTCTTGCTGGCGATCTAAACCCTAGCCCGGCGCAGTTTTGCGCCAAGTCATATGACACATAATTGGTGAAGGGGGCGGCATGGTGCCTTGACCCTCCCCAAATTA-TTTTTTAACAACTCTCAGCAACGGA\n",
      "gi|1585245684|gb|MK587621.1| Paphiopedilum coccineum voucher Sample38-ITS-Reverse internal transcribed spacer 1, partial sequence; 5.8S ribosomal RNA gene and internal transcribed spacer 2, complete sequence; and large subunit ribosomal RNA gene, partial sequence\n",
      "GTTGAGATCACATAATAATTGATCGAGTTAATCTGGAGGATCAGTTTACTTTGGTCACCCATGGGCATTTGCTATTGCAGTGACCGAGATTTGCCATCGAGCCTCCTTGGGAGCTTTCTTGCTGGCGATCTAAACCCTAGCCCGGCGCAGTTTTGCGCCAAGTCATATGACACATAATTGGTGAAGGGGGCGGCATGGTGCCTTGACCCTCCCCAAATTA-TTTTTTAACAACTCTCAGCAACGGA\n",
      "gi|1585245683|gb|MK587620.1| Paphiopedilum coccineum voucher Sample38-ITS-Forward internal transcribed spacer 1, partial sequence; 5.8S ribosomal RNA gene and internal transcribed spacer 2, complete sequence; and large subunit ribosomal RNA gene, partial sequence\n",
      "GTTGAGATCACATAATAATTGATCGAGTTAATCTGGAGGATCAGTTTACTTTGGTCACCCATGGGCATTTGCTATTGCAGTGACCGAGATTTGCCATCGAGCCTCCTTGGGAGCTTTCTTGCTGGCGATCTAAACCCTAGCCCGGCGCAGTTTTGCGCCAAGTCATATGACACATAATTGGTGAAGGGGGCGGCATGGTGCCTTGACCCTCCCCAAATTA-TTTTTTAACAACTCTCAGCAACGGA\n",
      "gi|402502927|gb|JQ660874.1| Paphiopedilum insigne 18S ribosomal RNA gene, partial sequence; and internal transcribed spacer 1, 5.8S ribosomal RNA gene, and internal transcribed spacer 2, complete sequence\n",
      "GTTGAGATCACATAATAATTGATCGAGTTAATCTGGAGGATCAGTTTACTTTGGTCACCCATGGGCATTTGCTATTGCAGTGACCGAGATTTGCCATCGAGCCTCCTTGGGAGCTTTCTTGCTGGCGATCTAAACCCTAACCCGGCGCAGTTTTGCGCCAAGTCATATGACACATAATTGGCGAAGGGGGCGGCATGGTGCCTTGACCCTCCCCAAATTA-TTTTTTAACAACTCTCAGCAACGGA\n",
      "gi|442590961|gb|JQ929310.1| Paphiopedilum charlesworthii internal transcribed spacer 1, partial sequence; 5.8S ribosomal RNA gene, complete sequence; and internal transcribed spacer 2, partial sequence\n",
      "GTTGAGATCACATAATAATTGATCGAGTTAATCTGGAGGATCAGTTTACTTTGGTCACCCATGGGCATTTGCTATTGCAGTGACCGAGATTTGCCATCGAGCCTCCTTGGGAGCTTTCTTGCTGGCGATCTAAACCCTAGCCCGGCGCAGTTTTGCGCCAAGTCATATGACACATAATTGGTGAAGGGGGCGGCATGGTGCCTTGACCCTCCCCAAATTA-TTTTTTAACAACTCTCAGCAACGGA\n",
      "gi|406869372|gb|JX088552.1| Paphiopedilum charlesworthii internal transcribed spacer 1, partial sequence; 5.8S ribosomal RNA gene, complete sequence; and internal transcribed spacer 2, partial sequence\n",
      "GTTGAGATCACATAATAATTGATCGAGTTAATCTGGAGGATCAGTTTACTTTGGTCACCCATGGGCATTTGCTATTGCAGTGACCGAGATTTGCCATCGAGCCTCCTTGGGAGCTTTCTTGCTGGCGATCTAAACCCTAGCCCGGCGCAGTTTTGCGCCAAGTCATATGACACATAATTGGTGAAGGGGGCGGCATGGTGCCTTGACCCTCCCCAAATTA-TTTTTTAACAACTCTCAGCAACGGA\n",
      "gi|224812678|gb|FJ712267.1| Paphiopedilum tranlienianum clone vnTL internal transcribed spacer 1, partial sequence; 5.8S ribosomal RNA gene, complete sequence; and internal transcribed spacer 2, partial sequence\n",
      "TTGAGATCACATAATAATTGATCGAGTTAATCTGGAGGATCAGTTTACTTTGGTCACCCATGGGCATTTGCTATTGCAGTGACCGAGATTTGCCATCGAGCCTCCTTGGGAGCTTTCTTGCTGGCGATCTAAACCCTAGCCCGGCGCAGTTTTGCGCCAAGTCATATGACACATAATTGGTGAAGGGGGCGGCATGGTGCCTTGACCCTCCCCAAATTA-TTTTTTAACAACTCTCAGCAACGGA\n",
      "gi|149940133|gb|EF156159.1| Paphiopedilum villosum voucher KDAIS Pap-36 internal transcribed spacer 1, 5.8S ribosomal RNA gene, and internal transcribed spacer 2, complete sequence\n",
      "TTGAGATCACATAATAATTGATCGAGTTAATCTGGAGGATCAGTTTACTTTGGTCACCCATGGGCATTTGCTATTGCAGTGACCGAGATTTGCCATCGAGCCTCCTTGGGAGCTTTCTTGCTGGCGATCTAAACCCTAGCCCGGCGCAGTTTTGCGCCAAGTCATATGACACATAATTGGTGAAGGGGGCGGCATGGTGCCTTGACCCTCCCCAAATTA-TTTTTTAACAACTCTCAGCAACGGA\n",
      "gi|149940125|gb|EF156151.1| Paphiopedilum tranlienianum voucher KDAIS Pap-42 internal transcribed spacer 1, 5.8S ribosomal RNA gene, and internal transcribed spacer 2, complete sequence\n",
      "TTGAGATCACATAATAATTGATCGAGTTAATCTGGAGGATCAGTTTACTTTGGTCACCCATGGGCATTTGCTATTGCAGTGACCGAGATTTGCCATCGAGCCTCCTTGGGAGCTTTCTTGCTGGCGATCTAAACCCTAGCCCGGCGCAGTTTTGCGCCAAGTCATATGACACATAATTGGTGAAGGGGGCGGCATGGTGCCTTGACCCTCCCCAAATTA-TTTTTTAACAACTCTCAGCAACGGA\n",
      "gi|149940065|gb|EF156091.1| Paphiopedilum charlesworthii voucher KDAIS Pap-90 internal transcribed spacer 1, 5.8S ribosomal RNA gene, and internal transcribed spacer 2, complete sequence\n",
      "TTGAGATCACATAATAATTGATCGAGTTAATCTGGAGGATCAGTTTACTTTGGTCACCCATGGGCATTTGCTATTGCAGTGACCGAGATTTGCCATCGAGCCTCCTTGGGAGCTTTCTTGCTGGCGATCTAAACCCTAGCCCGGCGCAGTTTTGCGCCAAGTCATATGACACATAATTGGTGAAGGGGGCGGCATGGTGCCTTGACCCTCCCCAAATTA-TTTTTTAACAACTCTCAGCAACGGA\n",
      "gi|406869376|gb|JX088556.1| Paphiopedilum tranlienianum internal transcribed spacer 1, partial sequence; 5.8S ribosomal RNA gene, complete sequence; and internal transcribed spacer 2, partial sequence\n",
      "GTTGAGATCACATAATAATTGATCGAGTTAATCTGGAGGATCAGTTTACTTTGGTCACCCATGGGCATTTGCTATTGCAGTGACCGAGATTTGCCATCGAGCCTCCTTGGGAGCTTTCTTGCTGGCGATCTAAACCCTAGCCCGGCGCAGTTTTGCGCCAAGTCATATGACACATAATTGGTGAAGGGTGCGGCATGGTGCCTTGACCCTCCCCAAATTA-TTTTTTAACAACTCTCAGCAACGGA\n",
      "gi|406869371|gb|JX088551.1| Paphiopedilum henryanum internal transcribed spacer 1, partial sequence; 5.8S ribosomal RNA gene, complete sequence; and internal transcribed spacer 2, partial sequence\n",
      "GTTGAGATCACATAATAATTGATCGAGTTAATCTGGAGGATCAGTTTACTTTGGTCACCCATGGGCATTTGCTATTGCAGTGACCGAGATTTGCCATCGAGCCTCCTTGGGAGCTTTCTTGCTGGCGATCTAAACCCTAGCCCGGCGCAGTTTTGCGCCAAGTCATATGACACATAATTGGTGAAGGGTGCGGCATGGTGCCTTGACCCTCCCCAAATTA-TTTTTTAACAACTCTCAGCAACGGA\n",
      "gi|55274461|gb|AY643443.1| Paphiopedilum fairrieanum voucher Pp10-2 (USBG) internal transcribed spacer 1, partial sequence; 5.8S ribosomal RNA gene, complete sequence; and internal transcribed spacer 2, partial sequence\n",
      "GTTGAGATCACATAATAATTGATCGAGTTAATCTGGAGGATCAGTTTACTTTGGTCACCCATGGGCATTTGCTATTGCAGTGACCGAGATTTGCCATCGAGCCTCCTTGGGAGCTTTCTTGCTGGCGATCTAAACCCTAGCCCGGCGCAGTTTTGCGCCAAGTCATATGACACATAATTGGTGAAGGGTGCGGCATGGTGCCTTGACCCTCCCCAAATTA-TTTTTTAACAACTCTCAGCAACGGA\n",
      "gi|149940087|gb|EF156113.1| Paphiopedilum x herrmannii voucher KDAIS Pap-115 internal transcribed spacer 1, 5.8S ribosomal RNA gene, and internal transcribed spacer 2, complete sequence\n",
      "TTGAGATCACATAATAATTGATCGAGTTAATCTGGAGGATCAGTTTACTTTGGTCACCCATGGGCATTTGCTATTGCAGTGACCGAGATTTGCCATCGAGCCTCCTTGGGAGCTTTCTTGCTGGCGATCTAAACCCTAGCCCGGCGCAGTTTTGCGCCAAGTCATATGACACATAATTGGTGAAGGGTGCGGCATGGTGCCTTGACCCTCCCCAAATTA-TTTTTTAACAACTCTCAGCAACGGA\n",
      "gi|1635255643|gb|MK895546.1| Paphiopedilum sp. XHL-2019 voucher Liao F002 small subunit ribosomal RNA gene, partial sequence; internal transcribed spacer 1, 5.8S ribosomal RNA gene, and internal transcribed spacer 2, complete sequence; and large subunit ribosomal RNA gene, partial sequence\n",
      "GTTGAGATCACATAATAATTGATCGAGTTAATCTGGAGGATCAGTTTACTTTGGTCACCCATGGGCATTTGCTATTGCAGTGACCGAGATTTGCCATCGAGCCTCCTTGGGAGCTTTCTTGCTGGCGATCTAAACCCTAGCCCGGCGCAGTTTTGCGCCAAGTCATATGACACATAATTGGTGAAGGGTGCGGCATGGTGCCTTGACCCTCCCCAAATTA-TTTCTTAACAACTCTCAGCAACGGA\n",
      "gi|1152053800|gb|KX931033.1| Paphiopedilum tranlienianum voucher Szlachetko 112/07/P small subunit ribosomal RNA gene, partial sequence; internal transcribed spacer 1, 5.8S ribosomal RNA gene, and internal transcribed spacer 2, complete sequence; and large subunit ribosomal RNA gene, partial sequence\n",
      "GTTGAGATCACATAATAATTGATCGAGTTAATCTGGAGGATCAGTTTACTTTGGTCACCCATGGGCATTTGCTATTGCAGTGACCGAGATTTGCCATCGAGCCTCCTTGGGAGCTTTCTTGCTGGCGATCTAAACCCTAGCCCGGCGCAGTTTTGCGCCAAGTCATATGACACATAATTGGTGAAGGGTGCGGCATGGTGCCTTGACCCTCCCCAAATTA-TTTCTTAACAACTCTCAGCAACGGA\n",
      "gi|1177221693|gb|KY662379.1| Paphiopedilum notatisepalum voucher Z.J.Liu 9349 18S ribosomal RNA gene, partial sequence; internal transcribed spacer 1, 5.8S ribosomal RNA gene, and internal transcribed spacer 2, complete sequence; and 28S ribosomal RNA gene, partial sequence\n",
      "GTTGAGATCACATAATAATTGATCGAGTTAATCTGGAGGATCAGTTTACTTTGGTCACCCATGGGCATTTGCTATTGCAGTGACCGAGATTTGCCATCGAGCCTCCTTGGGAGCTTTCTTGCTGGCGATCTAAACCCTAGCCCGGCGCAGTTTTGCGCCAAGTCATATGACACATAATTGGTGAAGGGTGCGGCATGGTGCCTTGACCCTCCCCAAATTA-TTTCTTAACAACTCTCAGCAACGGA\n",
      "gi|442591002|gb|JQ929351.1| Paphiopedilum tigrinum internal transcribed spacer 1, partial sequence; 5.8S ribosomal RNA gene, complete sequence; and internal transcribed spacer 2, partial sequence\n",
      "GTTGAGATCACGCAATAATTGATCGAGTTAATCTGGAGGATCAGTTTACTTTGGTCACCCATGGGCATTTGCTATTGCAGTGACCGAGATTTGCCATCGAGCCTCCTTGGGAGCTTTCTTGCTGGCGATCTAAACCCTAGCCCGGCGCAGTTTTGCGCCAAGTCATATGACACATAATTGGTGAAGGGGGCGGCATGGTGCCTTGACCCTCCCCAAATTA-TTTTTTAACAACTCTCAGCAACGGA\n",
      "gi|47776119|emb|AJ564364.1| Paphiopedilum purpuratum ITS1, 5.8S rRNA gene and ITS2, clone pPappt11\n",
      "GTTGAGATCACATAATAATTGATCGAGTTAATCTGGAGGATCAGTTTACTTTGGTCACTCATGGGCATTTGCTATTGCAGTGACCGAGATTTGCCATCGAGCCTCCTTGGGAGCTTTCTTGCTGGCGATCTAAACCCTAGCCCGGCGCAGTTTTGCGCCAAGTCATATGACACATAATTGGTGAAGGGGGCGGCATGCTGCCTTGACCCTCCCCAAATTA-TTTTTTAACAACTCTCAGCAACGGA\n",
      "gi|2765608|emb|Z78483.1| P.villosum 5.8S rRNA gene and ITS1 and ITS2 DNA\n",
      "GTTGAGATCACATAATAATTGATCGAGTTAATCTGGAGGATCAGTTTACTTTGGTCACCCATGGGCATTTGCTATTGCAGTGACCGAGATTTGCCATCGAGCCTCCTTGGGAGCTTTCTTGCTGGCGATCTAAACCCTAGCCCGGCGCAGTTTTGCGCCAAGTCATATGACACATAATTGGTGAAGGGGGCGGCATGCTGCCTTGACCCTCCCCCAAATTA-TTTTTTAACAACTCTCAGCAACGGAA\n",
      "gi|1373448077|gb|KY966637.1| Paphiopedilum henryanum voucher KFBG3192 internal transcribed spacer 1, partial sequence; 5.8S ribosomal RNA gene, complete sequence; and internal transcribed spacer 2, partial sequence\n",
      "TTGAGATCACATAATAATTGATCGAGTTAATCTGGAGGATCAGTTTACTTTGGTCACCCATGGGCATTTGCTATTGCAGTGACCGAGATTTGCCATCGAGCCTCCTTGGGAGCTTTCTTGCTGGCGATCTAAACCCTAGCCCGGCGCAGTTTTGCGCCAAGTCATATGACACATAATTGGTGAAGGGTGCGGCATGGTGCCTTGACCCTCCCCAAATTA-TTTCTTAACAACTCTCAGCAACGGA\n",
      "gi|290578926|gb|GU461602.1| Paphiopedilum tranlienianum internal transcribed spacer 1, partial sequence; 5.8S ribosomal RNA gene, complete sequence; and internal transcribed spacer 2, partial sequence\n",
      "TTGAGATCACATAATAATTGATCGAGTTAATCTGGAGGATCAGTTTACTTTGGTCACTCATGGGCATTTGCTATTGCAGTGACCGAGATTTGCCATCGAGCCTCCTTGGGAGCTTTCTTGCTGGCGATCTAAACCCTAGCCCGGCGCAGTTTTGCGCCAAGTCATATGACACATAATTGGTGAAGGGGGCGGCATGCTGCCTTGACCCTCCCCAAATTA-TTTTTTAACAACTCTCAGCAACGGA\n",
      "gi|149940085|gb|EF156111.1| Paphiopedilum helenae voucher KDAIS Pap-53 internal transcribed spacer 1, 5.8S ribosomal RNA gene, and internal transcribed spacer 2, complete sequence\n",
      "TTGAGATCACATAATAATTGATCGAGTTAATCTGGAGGATCAGTTTACTTTGGTCACCCATGGGCATTTGCTATTGCAGTGACCGAGATTTGCCATCGAGCCTCCTTGGGAGCTTTCTTGCTGGCGATCTAAACCCTAGCCCGGCGCAGTTTTGCGCCAAGTCATATGACACATAATTGGTGAAGGGTGCGGCATGGTGCCTTGACCCTCCCCAAATTA-TTTCTTAACAACTCTCAGCAACGGA\n",
      "gi|149940075|gb|EF156101.1| Paphiopedilum exul voucher KDAIS Pap-83 internal transcribed spacer 1, 5.8S ribosomal RNA gene, and internal transcribed spacer 2, complete sequence\n",
      "TTGAGATCACATAATAATTGATCGAGTTAATCTGGAGGATCAGTTTACTTTGGTCACTCATGGGCATTTGCTATTGCAGTGACCGAGATTTGCCATCGAGCCTCCTTGGGAGCTTTCTTGCTGGCGATCTAAACCCTAGCCCGGCGCAGTTTTGCGCCAAGTCATATGACACATAATTGGTGAAGGGGGCGGCATGCTGCCTTGACCCTCCCCAAATTA-TTTTTTAACAACTCTCAGCAACGGA\n",
      "gi|1578895773|gb|MK161267.1| Paphiopedilum villosum isolate 1525 internal transcribed spacer 1, partial sequence; 5.8S ribosomal RNA subunit gene, complete sequence; and internal transcribed spacer 2, partial sequence\n",
      "GTTGAGA-CACATAGTAATTGATCGAGTTAATCTGGAGGATCAGTTTACTTTGGTCACCCATGGGCATTTGCTATTGCAGTGACCGAAATTTGCCATCGAGCCTCCTTGGGAGCTTTCTTGCTGGCGATCTAAACCCTAGCCCGGCGCAGTTTTGCGCCAAGTCATATGACACATAATTGGCGAAGGGGGCGGCATGGTGCCTTGACCCTCCCCAAATTA-TTTTTTAACAACTCTCAGCAACGGA\n",
      "gi|149940086|gb|EF156112.1| Paphiopedilum henryanum voucher KDAIS Pap-58 internal transcribed spacer 1, 5.8S ribosomal RNA gene, and internal transcribed spacer 2, complete sequence\n",
      "TTGAGATCACATAATAATTGATGCGAGTTAATCTGGAGGATCAGTTTACTTTGGTCACCCATGGGCATTTGCTATTGCAGTGACCGAGATTTGCCATCGAGCCTCCTTGGGAGCTTTCTTGCTGGCGATCTAAACCCTAGCCCGGCGCAGTTTTGCGCCAAGTCATATGACACATAATTGGTGAAGGGTGCGGCATGGTGCCTTGACCCTCCCCAAATTA-TTTTTTAACAACTCTCAGCAACGGA\n"
     ]
    }
   ],
   "source": [
    "def significant_matches(query,e_value_thresh):\n",
    "    try:\n",
    "        result_handle = NCBIWWW.qblast(\"blastn\", \"nt\", query)\n",
    "    except:\n",
    "        print('BLAST run failed!')\n",
    "        return None\n",
    "    blast_record = NCBIXML.read(result_handle)\n",
    "    for hit in blast_record.alignments:\n",
    "        for hsp in hit.hsps:\n",
    "            if hsp.expect < e_value_thresh:\n",
    "                print(hit.title)\n",
    "                print(hsp.sbjct)\n",
    "                \n",
    "significant_matches(seq, 10**-100)                "
   ]
  },
  {
   "cell_type": "markdown",
   "id": "a0da075f",
   "metadata": {},
   "source": [
    "## Practice!"
   ]
  },
  {
   "cell_type": "markdown",
   "id": "056ed9f3",
   "metadata": {},
   "source": [
    "Write a function that receives a sequences, runs a standard BLAST search and returns the name of the longest hit (use the `.length` and `.title` commands) "
   ]
  },
  {
   "cell_type": "code",
   "execution_count": 39,
   "id": "084c8e74",
   "metadata": {
    "collapsed": false,
    "jupyter": {
     "outputs_hidden": false
    }
   },
   "outputs": [],
   "source": [
    "from Bio.Seq import Seq\n",
    "from Bio.Blast import NCBIWWW, NCBIXML\n",
    "def longest_blast_hit(seq):\n",
    "    ##############################\n",
    "    #                            #\n",
    "    #     YOUR CODE GOES HERE    #\n",
    "    #                            #\n",
    "    ##############################\n",
    "    return None\n",
    "#     result_handle = NCBIWWW.qblast(\"blastn\", \"nt\", seq)\n",
    "#     blast_record = NCBIXML.read(result_handle)\n",
    "#     longest = 0\n",
    "#     for hit in blast_record.alignments:\n",
    "#         if hit.length > longest:\n",
    "#             longest = hit.length\n",
    "#             name = hit.title\n",
    "#     return name\n",
    "\n",
    "# assert longest_blast_hit(seq).split('|')[1] == '47776119'"
   ]
  },
  {
   "cell_type": "markdown",
   "id": "d84c1fb5",
   "metadata": {},
   "source": [
    "## Congrats!\n",
    "\n",
    "The notebook is available at https://github.com/Naghipourfar/molecular-biomechanics/"
   ]
  }
 ],
 "metadata": {
  "kernelspec": {
   "display_name": "Python 3 (ipykernel)",
   "language": "python",
   "name": "python3"
  },
  "language_info": {
   "codemirror_mode": {
    "name": "ipython",
    "version": 3
   },
   "file_extension": ".py",
   "mimetype": "text/x-python",
   "name": "python",
   "nbconvert_exporter": "python",
   "pygments_lexer": "ipython3",
   "version": "3.7.11"
  }
 },
 "nbformat": 4,
 "nbformat_minor": 5
}
